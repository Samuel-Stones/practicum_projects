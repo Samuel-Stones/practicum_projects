{
 "cells": [
  {
   "cell_type": "markdown",
   "id": "744d7639",
   "metadata": {
    "id": "744d7639"
   },
   "source": [
    "## Этап 1. Получение данных"
   ]
  },
  {
   "cell_type": "markdown",
   "id": "e7a14c31",
   "metadata": {
    "id": "e7a14c31"
   },
   "source": [
    "Импортируем библиотеки.\n",
    "\n",
    "Прочитаем файл с данными и сохраним его в переменной data."
   ]
  },
  {
   "cell_type": "code",
   "execution_count": 1,
   "id": "7bcf75c9",
   "metadata": {
    "id": "7bcf75c9"
   },
   "outputs": [],
   "source": [
    "import pandas as pd\n",
    "\n",
    "data = pd.read_csv('/datasets/data.csv')"
   ]
  },
  {
   "cell_type": "markdown",
   "id": "b8038fe3",
   "metadata": {
    "id": "b8038fe3"
   },
   "source": [
    "Получение первых 20 строк таблицы."
   ]
  },
  {
   "cell_type": "code",
   "execution_count": 2,
   "id": "2a7cab99",
   "metadata": {
    "id": "2a7cab99",
    "outputId": "1a8f3ef2-d323-4ec2-ddf7-89670b5944c4"
   },
   "outputs": [
    {
     "data": {
      "text/html": [
       "<div>\n",
       "<style scoped>\n",
       "    .dataframe tbody tr th:only-of-type {\n",
       "        vertical-align: middle;\n",
       "    }\n",
       "\n",
       "    .dataframe tbody tr th {\n",
       "        vertical-align: top;\n",
       "    }\n",
       "\n",
       "    .dataframe thead th {\n",
       "        text-align: right;\n",
       "    }\n",
       "</style>\n",
       "<table border=\"1\" class=\"dataframe\">\n",
       "  <thead>\n",
       "    <tr style=\"text-align: right;\">\n",
       "      <th></th>\n",
       "      <th>children</th>\n",
       "      <th>days_employed</th>\n",
       "      <th>dob_years</th>\n",
       "      <th>education</th>\n",
       "      <th>education_id</th>\n",
       "      <th>family_status</th>\n",
       "      <th>family_status_id</th>\n",
       "      <th>gender</th>\n",
       "      <th>income_type</th>\n",
       "      <th>debt</th>\n",
       "      <th>total_income</th>\n",
       "      <th>purpose</th>\n",
       "    </tr>\n",
       "  </thead>\n",
       "  <tbody>\n",
       "    <tr>\n",
       "      <th>0</th>\n",
       "      <td>1</td>\n",
       "      <td>-8437.673028</td>\n",
       "      <td>42</td>\n",
       "      <td>высшее</td>\n",
       "      <td>0</td>\n",
       "      <td>женат / замужем</td>\n",
       "      <td>0</td>\n",
       "      <td>F</td>\n",
       "      <td>сотрудник</td>\n",
       "      <td>0</td>\n",
       "      <td>253875.639453</td>\n",
       "      <td>покупка жилья</td>\n",
       "    </tr>\n",
       "    <tr>\n",
       "      <th>1</th>\n",
       "      <td>1</td>\n",
       "      <td>-4024.803754</td>\n",
       "      <td>36</td>\n",
       "      <td>среднее</td>\n",
       "      <td>1</td>\n",
       "      <td>женат / замужем</td>\n",
       "      <td>0</td>\n",
       "      <td>F</td>\n",
       "      <td>сотрудник</td>\n",
       "      <td>0</td>\n",
       "      <td>112080.014102</td>\n",
       "      <td>приобретение автомобиля</td>\n",
       "    </tr>\n",
       "    <tr>\n",
       "      <th>2</th>\n",
       "      <td>0</td>\n",
       "      <td>-5623.422610</td>\n",
       "      <td>33</td>\n",
       "      <td>Среднее</td>\n",
       "      <td>1</td>\n",
       "      <td>женат / замужем</td>\n",
       "      <td>0</td>\n",
       "      <td>M</td>\n",
       "      <td>сотрудник</td>\n",
       "      <td>0</td>\n",
       "      <td>145885.952297</td>\n",
       "      <td>покупка жилья</td>\n",
       "    </tr>\n",
       "    <tr>\n",
       "      <th>3</th>\n",
       "      <td>3</td>\n",
       "      <td>-4124.747207</td>\n",
       "      <td>32</td>\n",
       "      <td>среднее</td>\n",
       "      <td>1</td>\n",
       "      <td>женат / замужем</td>\n",
       "      <td>0</td>\n",
       "      <td>M</td>\n",
       "      <td>сотрудник</td>\n",
       "      <td>0</td>\n",
       "      <td>267628.550329</td>\n",
       "      <td>дополнительное образование</td>\n",
       "    </tr>\n",
       "    <tr>\n",
       "      <th>4</th>\n",
       "      <td>0</td>\n",
       "      <td>340266.072047</td>\n",
       "      <td>53</td>\n",
       "      <td>среднее</td>\n",
       "      <td>1</td>\n",
       "      <td>гражданский брак</td>\n",
       "      <td>1</td>\n",
       "      <td>F</td>\n",
       "      <td>пенсионер</td>\n",
       "      <td>0</td>\n",
       "      <td>158616.077870</td>\n",
       "      <td>сыграть свадьбу</td>\n",
       "    </tr>\n",
       "    <tr>\n",
       "      <th>5</th>\n",
       "      <td>0</td>\n",
       "      <td>-926.185831</td>\n",
       "      <td>27</td>\n",
       "      <td>высшее</td>\n",
       "      <td>0</td>\n",
       "      <td>гражданский брак</td>\n",
       "      <td>1</td>\n",
       "      <td>M</td>\n",
       "      <td>компаньон</td>\n",
       "      <td>0</td>\n",
       "      <td>255763.565419</td>\n",
       "      <td>покупка жилья</td>\n",
       "    </tr>\n",
       "    <tr>\n",
       "      <th>6</th>\n",
       "      <td>0</td>\n",
       "      <td>-2879.202052</td>\n",
       "      <td>43</td>\n",
       "      <td>высшее</td>\n",
       "      <td>0</td>\n",
       "      <td>женат / замужем</td>\n",
       "      <td>0</td>\n",
       "      <td>F</td>\n",
       "      <td>компаньон</td>\n",
       "      <td>0</td>\n",
       "      <td>240525.971920</td>\n",
       "      <td>операции с жильем</td>\n",
       "    </tr>\n",
       "    <tr>\n",
       "      <th>7</th>\n",
       "      <td>0</td>\n",
       "      <td>-152.779569</td>\n",
       "      <td>50</td>\n",
       "      <td>СРЕДНЕЕ</td>\n",
       "      <td>1</td>\n",
       "      <td>женат / замужем</td>\n",
       "      <td>0</td>\n",
       "      <td>M</td>\n",
       "      <td>сотрудник</td>\n",
       "      <td>0</td>\n",
       "      <td>135823.934197</td>\n",
       "      <td>образование</td>\n",
       "    </tr>\n",
       "    <tr>\n",
       "      <th>8</th>\n",
       "      <td>2</td>\n",
       "      <td>-6929.865299</td>\n",
       "      <td>35</td>\n",
       "      <td>ВЫСШЕЕ</td>\n",
       "      <td>0</td>\n",
       "      <td>гражданский брак</td>\n",
       "      <td>1</td>\n",
       "      <td>F</td>\n",
       "      <td>сотрудник</td>\n",
       "      <td>0</td>\n",
       "      <td>95856.832424</td>\n",
       "      <td>на проведение свадьбы</td>\n",
       "    </tr>\n",
       "    <tr>\n",
       "      <th>9</th>\n",
       "      <td>0</td>\n",
       "      <td>-2188.756445</td>\n",
       "      <td>41</td>\n",
       "      <td>среднее</td>\n",
       "      <td>1</td>\n",
       "      <td>женат / замужем</td>\n",
       "      <td>0</td>\n",
       "      <td>M</td>\n",
       "      <td>сотрудник</td>\n",
       "      <td>0</td>\n",
       "      <td>144425.938277</td>\n",
       "      <td>покупка жилья для семьи</td>\n",
       "    </tr>\n",
       "    <tr>\n",
       "      <th>10</th>\n",
       "      <td>2</td>\n",
       "      <td>-4171.483647</td>\n",
       "      <td>36</td>\n",
       "      <td>высшее</td>\n",
       "      <td>0</td>\n",
       "      <td>женат / замужем</td>\n",
       "      <td>0</td>\n",
       "      <td>M</td>\n",
       "      <td>компаньон</td>\n",
       "      <td>0</td>\n",
       "      <td>113943.491460</td>\n",
       "      <td>покупка недвижимости</td>\n",
       "    </tr>\n",
       "    <tr>\n",
       "      <th>11</th>\n",
       "      <td>0</td>\n",
       "      <td>-792.701887</td>\n",
       "      <td>40</td>\n",
       "      <td>среднее</td>\n",
       "      <td>1</td>\n",
       "      <td>женат / замужем</td>\n",
       "      <td>0</td>\n",
       "      <td>F</td>\n",
       "      <td>сотрудник</td>\n",
       "      <td>0</td>\n",
       "      <td>77069.234271</td>\n",
       "      <td>покупка коммерческой недвижимости</td>\n",
       "    </tr>\n",
       "    <tr>\n",
       "      <th>12</th>\n",
       "      <td>0</td>\n",
       "      <td>NaN</td>\n",
       "      <td>65</td>\n",
       "      <td>среднее</td>\n",
       "      <td>1</td>\n",
       "      <td>гражданский брак</td>\n",
       "      <td>1</td>\n",
       "      <td>M</td>\n",
       "      <td>пенсионер</td>\n",
       "      <td>0</td>\n",
       "      <td>NaN</td>\n",
       "      <td>сыграть свадьбу</td>\n",
       "    </tr>\n",
       "    <tr>\n",
       "      <th>13</th>\n",
       "      <td>0</td>\n",
       "      <td>-1846.641941</td>\n",
       "      <td>54</td>\n",
       "      <td>неоконченное высшее</td>\n",
       "      <td>2</td>\n",
       "      <td>женат / замужем</td>\n",
       "      <td>0</td>\n",
       "      <td>F</td>\n",
       "      <td>сотрудник</td>\n",
       "      <td>0</td>\n",
       "      <td>130458.228857</td>\n",
       "      <td>приобретение автомобиля</td>\n",
       "    </tr>\n",
       "    <tr>\n",
       "      <th>14</th>\n",
       "      <td>0</td>\n",
       "      <td>-1844.956182</td>\n",
       "      <td>56</td>\n",
       "      <td>высшее</td>\n",
       "      <td>0</td>\n",
       "      <td>гражданский брак</td>\n",
       "      <td>1</td>\n",
       "      <td>F</td>\n",
       "      <td>компаньон</td>\n",
       "      <td>1</td>\n",
       "      <td>165127.911772</td>\n",
       "      <td>покупка жилой недвижимости</td>\n",
       "    </tr>\n",
       "    <tr>\n",
       "      <th>15</th>\n",
       "      <td>1</td>\n",
       "      <td>-972.364419</td>\n",
       "      <td>26</td>\n",
       "      <td>среднее</td>\n",
       "      <td>1</td>\n",
       "      <td>женат / замужем</td>\n",
       "      <td>0</td>\n",
       "      <td>F</td>\n",
       "      <td>сотрудник</td>\n",
       "      <td>0</td>\n",
       "      <td>116820.904450</td>\n",
       "      <td>строительство собственной недвижимости</td>\n",
       "    </tr>\n",
       "    <tr>\n",
       "      <th>16</th>\n",
       "      <td>0</td>\n",
       "      <td>-1719.934226</td>\n",
       "      <td>35</td>\n",
       "      <td>среднее</td>\n",
       "      <td>1</td>\n",
       "      <td>женат / замужем</td>\n",
       "      <td>0</td>\n",
       "      <td>F</td>\n",
       "      <td>сотрудник</td>\n",
       "      <td>0</td>\n",
       "      <td>289202.704229</td>\n",
       "      <td>недвижимость</td>\n",
       "    </tr>\n",
       "    <tr>\n",
       "      <th>17</th>\n",
       "      <td>0</td>\n",
       "      <td>-2369.999720</td>\n",
       "      <td>33</td>\n",
       "      <td>высшее</td>\n",
       "      <td>0</td>\n",
       "      <td>гражданский брак</td>\n",
       "      <td>1</td>\n",
       "      <td>M</td>\n",
       "      <td>сотрудник</td>\n",
       "      <td>0</td>\n",
       "      <td>90410.586745</td>\n",
       "      <td>строительство недвижимости</td>\n",
       "    </tr>\n",
       "    <tr>\n",
       "      <th>18</th>\n",
       "      <td>0</td>\n",
       "      <td>400281.136913</td>\n",
       "      <td>53</td>\n",
       "      <td>среднее</td>\n",
       "      <td>1</td>\n",
       "      <td>вдовец / вдова</td>\n",
       "      <td>2</td>\n",
       "      <td>F</td>\n",
       "      <td>пенсионер</td>\n",
       "      <td>0</td>\n",
       "      <td>56823.777243</td>\n",
       "      <td>на покупку подержанного автомобиля</td>\n",
       "    </tr>\n",
       "    <tr>\n",
       "      <th>19</th>\n",
       "      <td>0</td>\n",
       "      <td>-10038.818549</td>\n",
       "      <td>48</td>\n",
       "      <td>СРЕДНЕЕ</td>\n",
       "      <td>1</td>\n",
       "      <td>в разводе</td>\n",
       "      <td>3</td>\n",
       "      <td>F</td>\n",
       "      <td>сотрудник</td>\n",
       "      <td>0</td>\n",
       "      <td>242831.107982</td>\n",
       "      <td>на покупку своего автомобиля</td>\n",
       "    </tr>\n",
       "  </tbody>\n",
       "</table>\n",
       "</div>"
      ],
      "text/plain": [
       "    children  days_employed  dob_years            education  education_id  \\\n",
       "0          1   -8437.673028         42               высшее             0   \n",
       "1          1   -4024.803754         36              среднее             1   \n",
       "2          0   -5623.422610         33              Среднее             1   \n",
       "3          3   -4124.747207         32              среднее             1   \n",
       "4          0  340266.072047         53              среднее             1   \n",
       "5          0    -926.185831         27               высшее             0   \n",
       "6          0   -2879.202052         43               высшее             0   \n",
       "7          0    -152.779569         50              СРЕДНЕЕ             1   \n",
       "8          2   -6929.865299         35               ВЫСШЕЕ             0   \n",
       "9          0   -2188.756445         41              среднее             1   \n",
       "10         2   -4171.483647         36               высшее             0   \n",
       "11         0    -792.701887         40              среднее             1   \n",
       "12         0            NaN         65              среднее             1   \n",
       "13         0   -1846.641941         54  неоконченное высшее             2   \n",
       "14         0   -1844.956182         56               высшее             0   \n",
       "15         1    -972.364419         26              среднее             1   \n",
       "16         0   -1719.934226         35              среднее             1   \n",
       "17         0   -2369.999720         33               высшее             0   \n",
       "18         0  400281.136913         53              среднее             1   \n",
       "19         0  -10038.818549         48              СРЕДНЕЕ             1   \n",
       "\n",
       "       family_status  family_status_id gender income_type  debt  \\\n",
       "0    женат / замужем                 0      F   сотрудник     0   \n",
       "1    женат / замужем                 0      F   сотрудник     0   \n",
       "2    женат / замужем                 0      M   сотрудник     0   \n",
       "3    женат / замужем                 0      M   сотрудник     0   \n",
       "4   гражданский брак                 1      F   пенсионер     0   \n",
       "5   гражданский брак                 1      M   компаньон     0   \n",
       "6    женат / замужем                 0      F   компаньон     0   \n",
       "7    женат / замужем                 0      M   сотрудник     0   \n",
       "8   гражданский брак                 1      F   сотрудник     0   \n",
       "9    женат / замужем                 0      M   сотрудник     0   \n",
       "10   женат / замужем                 0      M   компаньон     0   \n",
       "11   женат / замужем                 0      F   сотрудник     0   \n",
       "12  гражданский брак                 1      M   пенсионер     0   \n",
       "13   женат / замужем                 0      F   сотрудник     0   \n",
       "14  гражданский брак                 1      F   компаньон     1   \n",
       "15   женат / замужем                 0      F   сотрудник     0   \n",
       "16   женат / замужем                 0      F   сотрудник     0   \n",
       "17  гражданский брак                 1      M   сотрудник     0   \n",
       "18    вдовец / вдова                 2      F   пенсионер     0   \n",
       "19         в разводе                 3      F   сотрудник     0   \n",
       "\n",
       "     total_income                                 purpose  \n",
       "0   253875.639453                           покупка жилья  \n",
       "1   112080.014102                 приобретение автомобиля  \n",
       "2   145885.952297                           покупка жилья  \n",
       "3   267628.550329              дополнительное образование  \n",
       "4   158616.077870                         сыграть свадьбу  \n",
       "5   255763.565419                           покупка жилья  \n",
       "6   240525.971920                       операции с жильем  \n",
       "7   135823.934197                             образование  \n",
       "8    95856.832424                   на проведение свадьбы  \n",
       "9   144425.938277                 покупка жилья для семьи  \n",
       "10  113943.491460                    покупка недвижимости  \n",
       "11   77069.234271       покупка коммерческой недвижимости  \n",
       "12            NaN                         сыграть свадьбу  \n",
       "13  130458.228857                 приобретение автомобиля  \n",
       "14  165127.911772              покупка жилой недвижимости  \n",
       "15  116820.904450  строительство собственной недвижимости  \n",
       "16  289202.704229                            недвижимость  \n",
       "17   90410.586745              строительство недвижимости  \n",
       "18   56823.777243      на покупку подержанного автомобиля  \n",
       "19  242831.107982            на покупку своего автомобиля  "
      ]
     },
     "execution_count": 2,
     "metadata": {},
     "output_type": "execute_result"
    }
   ],
   "source": [
    "data.head(20)"
   ]
  },
  {
   "cell_type": "markdown",
   "id": "1c12e233",
   "metadata": {
    "id": "1c12e233"
   },
   "source": [
    "Общая информация о данных таблицы."
   ]
  },
  {
   "cell_type": "code",
   "execution_count": 3,
   "id": "2b757bca",
   "metadata": {
    "id": "2b757bca",
    "outputId": "15376089-8dad-46c9-b520-c05248d43158"
   },
   "outputs": [
    {
     "name": "stdout",
     "output_type": "stream",
     "text": [
      "<class 'pandas.core.frame.DataFrame'>\n",
      "RangeIndex: 21525 entries, 0 to 21524\n",
      "Data columns (total 12 columns):\n",
      " #   Column            Non-Null Count  Dtype  \n",
      "---  ------            --------------  -----  \n",
      " 0   children          21525 non-null  int64  \n",
      " 1   days_employed     19351 non-null  float64\n",
      " 2   dob_years         21525 non-null  int64  \n",
      " 3   education         21525 non-null  object \n",
      " 4   education_id      21525 non-null  int64  \n",
      " 5   family_status     21525 non-null  object \n",
      " 6   family_status_id  21525 non-null  int64  \n",
      " 7   gender            21525 non-null  object \n",
      " 8   income_type       21525 non-null  object \n",
      " 9   debt              21525 non-null  int64  \n",
      " 10  total_income      19351 non-null  float64\n",
      " 11  purpose           21525 non-null  object \n",
      "dtypes: float64(2), int64(5), object(5)\n",
      "memory usage: 2.0+ MB\n"
     ]
    }
   ],
   "source": [
    "data.info()"
   ]
  },
  {
   "cell_type": "markdown",
   "id": "333ec665",
   "metadata": {
    "id": "333ec665"
   },
   "source": [
    "## Этап 2. Предобработка данных"
   ]
  },
  {
   "cell_type": "markdown",
   "id": "02d92d53",
   "metadata": {
    "id": "02d92d53"
   },
   "source": [
    "### Удаление пропусков"
   ]
  },
  {
   "cell_type": "markdown",
   "id": "cd84967c",
   "metadata": {
    "id": "cd84967c"
   },
   "source": [
    "Проверим данные на наличие пропусков вызовом набора методов для суммирования пропущенных значений."
   ]
  },
  {
   "cell_type": "code",
   "execution_count": 4,
   "id": "7f9b2309",
   "metadata": {
    "id": "7f9b2309",
    "outputId": "81f4d817-781c-465c-ed15-91ce4446810d"
   },
   "outputs": [
    {
     "data": {
      "text/plain": [
       "children               0\n",
       "days_employed       2174\n",
       "dob_years              0\n",
       "education              0\n",
       "education_id           0\n",
       "family_status          0\n",
       "family_status_id       0\n",
       "gender                 0\n",
       "income_type            0\n",
       "debt                   0\n",
       "total_income        2174\n",
       "purpose                0\n",
       "dtype: int64"
      ]
     },
     "execution_count": 4,
     "metadata": {},
     "output_type": "execute_result"
    }
   ],
   "source": [
    "data.isna().sum()"
   ]
  },
  {
   "cell_type": "markdown",
   "id": "db86e27b",
   "metadata": {
    "id": "db86e27b"
   },
   "source": [
    "В двух столбцах есть пропущенные значения. Один из них — `days_employed`. Пропуски в этом столбце обработаем на следующем этапе. Другой столбец с пропущенными значениями — `total_income` — хранит данные о доходах. На сумму дохода сильнее всего влияет тип занятости, поэтому заполним пропуски в этом столбце медианным значением по каждому типу из столбца `income_type`. Например, у человека с типом занятости `сотрудник` пропуск в столбце `total_income` заполним медианным доходом среди всех записей с тем же типом."
   ]
  },
  {
   "cell_type": "code",
   "execution_count": 5,
   "id": "42006a93",
   "metadata": {
    "id": "42006a93"
   },
   "outputs": [],
   "source": [
    "for t in data['income_type'].unique():\n",
    "    data.loc[(data['income_type'] == t) & (data['total_income'].isna()), 'total_income'] = \\\n",
    "    data.loc[(data['income_type'] == t), 'total_income'].median()"
   ]
  },
  {
   "cell_type": "markdown",
   "id": "89da5ece",
   "metadata": {
    "id": "89da5ece"
   },
   "source": [
    "### Обработка аномальных значений"
   ]
  },
  {
   "cell_type": "markdown",
   "id": "57964554",
   "metadata": {
    "id": "57964554"
   },
   "source": [
    "Заменим все отрицательные значения количество дней трудового стажа в столбце `days_employed` положительными с помощью метода `abs()`."
   ]
  },
  {
   "cell_type": "code",
   "execution_count": 6,
   "id": "f6f055bf",
   "metadata": {
    "id": "f6f055bf"
   },
   "outputs": [],
   "source": [
    "data['days_employed'] = data['days_employed'].abs()"
   ]
  },
  {
   "cell_type": "markdown",
   "id": "6107dd2f",
   "metadata": {
    "id": "6107dd2f"
   },
   "source": [
    "Найдём медианное значение трудового стажа `days_employed` в днях."
   ]
  },
  {
   "cell_type": "code",
   "execution_count": 7,
   "id": "85a5faf6",
   "metadata": {
    "id": "85a5faf6",
    "outputId": "801ef80e-522b-4668-f34e-565af7432bcf"
   },
   "outputs": [
    {
     "data": {
      "text/plain": [
       "income_type\n",
       "безработный        366413.652744\n",
       "в декрете            3296.759962\n",
       "госслужащий          2689.368353\n",
       "компаньон            1547.382223\n",
       "пенсионер          365213.306266\n",
       "предприниматель       520.848083\n",
       "сотрудник            1574.202821\n",
       "студент               578.751554\n",
       "Name: days_employed, dtype: float64"
      ]
     },
     "execution_count": 7,
     "metadata": {},
     "output_type": "execute_result"
    }
   ],
   "source": [
    "data.groupby('income_type')['days_employed'].agg('median')"
   ]
  },
  {
   "cell_type": "markdown",
   "id": "d8a9f147",
   "metadata": {
    "id": "d8a9f147"
   },
   "source": [
    "Выведем перечень уникальных значений столбца `children`."
   ]
  },
  {
   "cell_type": "code",
   "execution_count": 8,
   "id": "ef5056eb",
   "metadata": {
    "id": "ef5056eb",
    "outputId": "6975b15c-7f95-4697-d16d-a0c79b657b03"
   },
   "outputs": [
    {
     "data": {
      "text/plain": [
       "array([ 1,  0,  3,  2, -1,  4, 20,  5])"
      ]
     },
     "execution_count": 8,
     "metadata": {},
     "output_type": "execute_result"
    }
   ],
   "source": [
    "data['children'].unique()"
   ]
  },
  {
   "cell_type": "markdown",
   "id": "40b9ebf2",
   "metadata": {
    "id": "40b9ebf2"
   },
   "source": [
    "Удалим строки, в которых встречаются аномальные значения столбца `children`."
   ]
  },
  {
   "cell_type": "code",
   "execution_count": 9,
   "id": "3ff9801d",
   "metadata": {
    "id": "3ff9801d"
   },
   "outputs": [],
   "source": [
    "data = data[(data['children'] != -1) & (data['children'] != 20)]"
   ]
  },
  {
   "cell_type": "markdown",
   "id": "bbc4d0ce",
   "metadata": {
    "id": "bbc4d0ce"
   },
   "source": [
    "Проверим столбец `children` на наличие аномальных значений."
   ]
  },
  {
   "cell_type": "code",
   "execution_count": 10,
   "id": "ad4fa8b7",
   "metadata": {
    "id": "ad4fa8b7",
    "outputId": "b2097101-d49d-44d9-901b-32a65c9463d1"
   },
   "outputs": [
    {
     "data": {
      "text/plain": [
       "array([1, 0, 3, 2, 4, 5])"
      ]
     },
     "execution_count": 10,
     "metadata": {},
     "output_type": "execute_result"
    }
   ],
   "source": [
    "data['children'].unique()"
   ]
  },
  {
   "cell_type": "markdown",
   "id": "75440b63",
   "metadata": {
    "id": "75440b63"
   },
   "source": [
    "### Удаление пропусков (продолжение)"
   ]
  },
  {
   "cell_type": "markdown",
   "id": "f4ea573f",
   "metadata": {
    "id": "f4ea573f"
   },
   "source": [
    "Заполним пропуски в столбце `days_employed` медианными значениями по каждого типа занятости `income_type`."
   ]
  },
  {
   "cell_type": "code",
   "execution_count": 11,
   "id": "af6b1a7e",
   "metadata": {
    "id": "af6b1a7e"
   },
   "outputs": [],
   "source": [
    "for t in data['income_type'].unique():\n",
    "    data.loc[(data['income_type'] == t) & (data['days_employed'].isna()), 'days_employed'] = \\\n",
    "    data.loc[(data['income_type'] == t), 'days_employed'].median()"
   ]
  },
  {
   "cell_type": "markdown",
   "id": "2753f40d",
   "metadata": {
    "id": "2753f40d"
   },
   "source": [
    "Убедимся, что все пропуски заполнены."
   ]
  },
  {
   "cell_type": "code",
   "execution_count": 12,
   "id": "55f78bc2",
   "metadata": {
    "id": "55f78bc2",
    "outputId": "8da1e4e1-358e-4e87-98c9-f261bce0a7b2"
   },
   "outputs": [
    {
     "data": {
      "text/plain": [
       "children            0\n",
       "days_employed       0\n",
       "dob_years           0\n",
       "education           0\n",
       "education_id        0\n",
       "family_status       0\n",
       "family_status_id    0\n",
       "gender              0\n",
       "income_type         0\n",
       "debt                0\n",
       "total_income        0\n",
       "purpose             0\n",
       "dtype: int64"
      ]
     },
     "execution_count": 12,
     "metadata": {},
     "output_type": "execute_result"
    }
   ],
   "source": [
    "data.isna().sum()"
   ]
  },
  {
   "cell_type": "markdown",
   "id": "ddc81e43",
   "metadata": {
    "id": "ddc81e43"
   },
   "source": [
    "### Изменение типов данных"
   ]
  },
  {
   "cell_type": "markdown",
   "id": "42d19d24",
   "metadata": {
    "id": "42d19d24"
   },
   "source": [
    "Заменим тип данных в столбце `total_income` на целочисленный с помощью метода `astype()`."
   ]
  },
  {
   "cell_type": "code",
   "execution_count": 13,
   "id": "920b65ad",
   "metadata": {
    "id": "920b65ad"
   },
   "outputs": [],
   "source": [
    "data['total_income'] = data['total_income'].astype(int)"
   ]
  },
  {
   "cell_type": "markdown",
   "id": "80c420ba",
   "metadata": {
    "id": "80c420ba"
   },
   "source": [
    "### Обработка дубликатов"
   ]
  },
  {
   "cell_type": "markdown",
   "id": "b7eb215a",
   "metadata": {},
   "source": [
    "Обработаем неявные дубликаты в столбце `education`."
   ]
  },
  {
   "cell_type": "code",
   "execution_count": 14,
   "id": "2c470ebd",
   "metadata": {},
   "outputs": [],
   "source": [
    "data['education'] = data['education'].str.lower()"
   ]
  },
  {
   "cell_type": "markdown",
   "id": "dc587695",
   "metadata": {
    "id": "dc587695"
   },
   "source": [
    "Выведем на экран количество строк-дубликатов в данных, удалим их."
   ]
  },
  {
   "cell_type": "code",
   "execution_count": 15,
   "id": "3ee445e4",
   "metadata": {
    "id": "3ee445e4",
    "outputId": "9684deba-1934-42d1-99e1-cda61740f822"
   },
   "outputs": [
    {
     "data": {
      "text/plain": [
       "71"
      ]
     },
     "execution_count": 15,
     "metadata": {},
     "output_type": "execute_result"
    }
   ],
   "source": [
    "data.duplicated().sum()"
   ]
  },
  {
   "cell_type": "code",
   "execution_count": 16,
   "id": "8575fe05",
   "metadata": {
    "id": "8575fe05"
   },
   "outputs": [],
   "source": [
    "data = data.drop_duplicates()"
   ]
  },
  {
   "cell_type": "markdown",
   "id": "9904cf55",
   "metadata": {
    "id": "9904cf55"
   },
   "source": [
    "### Категоризация данных"
   ]
  },
  {
   "cell_type": "markdown",
   "id": "72fcc8a2",
   "metadata": {
    "id": "72fcc8a2"
   },
   "source": [
    "Добавим столбец `total_income_category` с категориями:\n",
    "\n",
    "- 0–30000 — `'E'`;\n",
    "- 30001–50000 — `'D'`;\n",
    "- 50001–200000 — `'C'`;\n",
    "- 200001–1000000 — `'B'`;\n",
    "- 1000001 и выше — `'A'`."
   ]
  },
  {
   "cell_type": "code",
   "execution_count": 17,
   "id": "e1771346",
   "metadata": {
    "id": "e1771346"
   },
   "outputs": [],
   "source": [
    "def categorize_income(income):\n",
    "    try:\n",
    "        if 0 <= income <= 30000:\n",
    "            return 'E'\n",
    "        elif 30001 <= income <= 50000:\n",
    "            return 'D'\n",
    "        elif 50001 <= income <= 200000:\n",
    "            return 'C'\n",
    "        elif 200001 <= income <= 1000000:\n",
    "            return 'B'\n",
    "        elif income >= 1000001:\n",
    "            return 'A'\n",
    "    except:\n",
    "        pass"
   ]
  },
  {
   "cell_type": "code",
   "execution_count": 18,
   "id": "d5f3586d",
   "metadata": {
    "id": "d5f3586d"
   },
   "outputs": [],
   "source": [
    "data['total_income_category'] = data['total_income'].apply(categorize_income)"
   ]
  },
  {
   "cell_type": "markdown",
   "id": "dde49b5c",
   "metadata": {
    "id": "dde49b5c"
   },
   "source": [
    "Выведем на экран перечень уникальных целей взятия кредита."
   ]
  },
  {
   "cell_type": "code",
   "execution_count": 19,
   "id": "f67ce9b3",
   "metadata": {
    "id": "f67ce9b3",
    "outputId": "673c12d9-7d7e-4ae0-9812-c622c89dd244"
   },
   "outputs": [
    {
     "data": {
      "text/plain": [
       "array(['покупка жилья', 'приобретение автомобиля',\n",
       "       'дополнительное образование', 'сыграть свадьбу',\n",
       "       'операции с жильем', 'образование', 'на проведение свадьбы',\n",
       "       'покупка жилья для семьи', 'покупка недвижимости',\n",
       "       'покупка коммерческой недвижимости', 'покупка жилой недвижимости',\n",
       "       'строительство собственной недвижимости', 'недвижимость',\n",
       "       'строительство недвижимости', 'на покупку подержанного автомобиля',\n",
       "       'на покупку своего автомобиля',\n",
       "       'операции с коммерческой недвижимостью',\n",
       "       'строительство жилой недвижимости', 'жилье',\n",
       "       'операции со своей недвижимостью', 'автомобили',\n",
       "       'заняться образованием', 'сделка с подержанным автомобилем',\n",
       "       'получение образования', 'автомобиль', 'свадьба',\n",
       "       'получение дополнительного образования', 'покупка своего жилья',\n",
       "       'операции с недвижимостью', 'получение высшего образования',\n",
       "       'свой автомобиль', 'сделка с автомобилем',\n",
       "       'профильное образование', 'высшее образование',\n",
       "       'покупка жилья для сдачи', 'на покупку автомобиля', 'ремонт жилью',\n",
       "       'заняться высшим образованием'], dtype=object)"
      ]
     },
     "execution_count": 19,
     "metadata": {},
     "output_type": "execute_result"
    }
   ],
   "source": [
    "data['purpose'].unique()"
   ]
  },
  {
   "cell_type": "markdown",
   "id": "85d0aef0",
   "metadata": {
    "id": "85d0aef0"
   },
   "source": [
    "Создадим функцию, которая на основании данных из столбца `purpose` присвоит записи одну из категорий:\n",
    "\n",
    "- `'операции с автомобилем'`,\n",
    "- `'операции с недвижимостью'`,\n",
    "- `'проведение свадьбы'`,\n",
    "- `'получение образования'`."
   ]
  },
  {
   "cell_type": "code",
   "execution_count": 20,
   "id": "e149fab4",
   "metadata": {
    "id": "e149fab4"
   },
   "outputs": [],
   "source": [
    "def categorize_purpose(row):\n",
    "    try:\n",
    "        if 'автом' in row:\n",
    "            return 'операции с автомобилем'\n",
    "        elif 'жил' in row or 'недвиж' in row:\n",
    "            return 'операции с недвижимостью'\n",
    "        elif 'свад' in row:\n",
    "            return 'проведение свадьбы'\n",
    "        elif 'образов' in row:\n",
    "            return 'получение образования'\n",
    "    except:\n",
    "        return 'нет категории'"
   ]
  },
  {
   "cell_type": "code",
   "execution_count": 21,
   "id": "bf36e69b",
   "metadata": {
    "id": "bf36e69b"
   },
   "outputs": [],
   "source": [
    "data['purpose_category'] = data['purpose'].apply(categorize_purpose)"
   ]
  },
  {
   "cell_type": "markdown",
   "id": "09b242bf",
   "metadata": {
    "id": "09b242bf"
   },
   "source": [
    "## Этап 3. Исследование данных"
   ]
  },
  {
   "cell_type": "markdown",
   "id": "c5d66278",
   "metadata": {
    "id": "c5d66278"
   },
   "source": [
    "Выведем на экран долю должников в зависимости от количества детей в семье."
   ]
  },
  {
   "cell_type": "code",
   "execution_count": 22,
   "id": "2cacfc4a",
   "metadata": {
    "id": "2cacfc4a"
   },
   "outputs": [
    {
     "name": "stdout",
     "output_type": "stream",
     "text": [
      "Доля должников среди семей с количеством детей 0 - 7.54% при количестве наблюдений 14091\n",
      "Доля должников среди семей с количеством детей 1 - 9.23% при количестве наблюдений 4808\n",
      "Доля должников среди семей с количеством детей 2 - 9.45% при количестве наблюдений 2052\n",
      "Доля должников среди семей с количеством детей 3 - 8.18% при количестве наблюдений 330\n",
      "Доля должников среди семей с количеством детей 4 - 9.76% при количестве наблюдений 41\n",
      "Доля должников среди семей с количеством детей 5 - 0.00% при количестве наблюдений 9\n"
     ]
    }
   ],
   "source": [
    "children_debt = data[['children', 'debt']] # выбрали нужные столбцы\n",
    "children_value_counts = children_debt['children'].value_counts() # узнали количсетво наблюдений для каждого размера семьи\n",
    "children_debt_grouped = children_debt.groupby('children').sum() # узнали количество задолжностей для каждого размера семьи\n",
    "children_debt_ratio = children_debt_grouped['debt'] / children_value_counts # посчитали процент должников для каждого размера семьи\n",
    "\n",
    "for i in range(len(children_debt_ratio)):\n",
    "    print(f'Доля должников среди семей с количеством детей {i} - {children_debt_ratio[i]:.2%} при количестве наблюдений {children_value_counts[i]}')"
   ]
  },
  {
   "cell_type": "markdown",
   "id": "46e66513",
   "metadata": {},
   "source": [
    "Количетво наблюдений для семей с 3-мя и более детьми может быть признано недостаточным для достоверной оценки. Для семей с 0-2 детьми наблюдается прямая корреляция между колчиеством детей и вероятностью просрочить кредит."
   ]
  },
  {
   "cell_type": "markdown",
   "id": "97be82ca",
   "metadata": {
    "id": "97be82ca"
   },
   "source": [
    "Напишем функцию, которая выведет на экран долю должников в зависимости от семейного положения."
   ]
  },
  {
   "cell_type": "code",
   "execution_count": 46,
   "id": "4b1f83e4",
   "metadata": {},
   "outputs": [],
   "source": [
    "def dependency_search(parameter):\n",
    "    data_pivot = data.pivot_table(index=parameter, values='debt', aggfunc=['sum', 'count']) # собрали сводную таблицу\n",
    "    data_pivot['debtors'] = data_pivot['sum'] / data_pivot['count'] # нашли процент должников\n",
    "    data_pivot.rename(columns = {'debt' : '', 'sum' : 'Количество должников', 'count' : 'Всего клиентов', 'debtors' : 'Доля должников'}, inplace=True) # навели красоту\n",
    "    return data_pivot"
   ]
  },
  {
   "cell_type": "code",
   "execution_count": 47,
   "id": "c10e4a53",
   "metadata": {},
   "outputs": [
    {
     "data": {
      "text/html": [
       "<div>\n",
       "<style scoped>\n",
       "    .dataframe tbody tr th:only-of-type {\n",
       "        vertical-align: middle;\n",
       "    }\n",
       "\n",
       "    .dataframe tbody tr th {\n",
       "        vertical-align: top;\n",
       "    }\n",
       "\n",
       "    .dataframe thead tr th {\n",
       "        text-align: left;\n",
       "    }\n",
       "\n",
       "    .dataframe thead tr:last-of-type th {\n",
       "        text-align: right;\n",
       "    }\n",
       "</style>\n",
       "<table border=\"1\" class=\"dataframe\">\n",
       "  <thead>\n",
       "    <tr>\n",
       "      <th></th>\n",
       "      <th>Количество должников</th>\n",
       "      <th>Всего клиентов</th>\n",
       "      <th>Доля должников</th>\n",
       "    </tr>\n",
       "    <tr>\n",
       "      <th></th>\n",
       "      <th></th>\n",
       "      <th></th>\n",
       "      <th></th>\n",
       "    </tr>\n",
       "    <tr>\n",
       "      <th>family_status</th>\n",
       "      <th></th>\n",
       "      <th></th>\n",
       "      <th></th>\n",
       "    </tr>\n",
       "  </thead>\n",
       "  <tbody>\n",
       "    <tr>\n",
       "      <th>Не женат / не замужем</th>\n",
       "      <td>273</td>\n",
       "      <td>2796</td>\n",
       "      <td>0.097639</td>\n",
       "    </tr>\n",
       "    <tr>\n",
       "      <th>в разводе</th>\n",
       "      <td>84</td>\n",
       "      <td>1189</td>\n",
       "      <td>0.070648</td>\n",
       "    </tr>\n",
       "    <tr>\n",
       "      <th>вдовец / вдова</th>\n",
       "      <td>63</td>\n",
       "      <td>951</td>\n",
       "      <td>0.066246</td>\n",
       "    </tr>\n",
       "    <tr>\n",
       "      <th>гражданский брак</th>\n",
       "      <td>385</td>\n",
       "      <td>4134</td>\n",
       "      <td>0.093130</td>\n",
       "    </tr>\n",
       "    <tr>\n",
       "      <th>женат / замужем</th>\n",
       "      <td>927</td>\n",
       "      <td>12261</td>\n",
       "      <td>0.075606</td>\n",
       "    </tr>\n",
       "  </tbody>\n",
       "</table>\n",
       "</div>"
      ],
      "text/plain": [
       "                      Количество должников Всего клиентов Доля должников\n",
       "                                                                        \n",
       "family_status                                                           \n",
       "Не женат / не замужем                  273           2796       0.097639\n",
       "в разводе                               84           1189       0.070648\n",
       "вдовец / вдова                          63            951       0.066246\n",
       "гражданский брак                       385           4134       0.093130\n",
       "женат / замужем                        927          12261       0.075606"
      ]
     },
     "execution_count": 47,
     "metadata": {},
     "output_type": "execute_result"
    }
   ],
   "source": [
    "dependency_search('family_status')"
   ]
  },
  {
   "cell_type": "markdown",
   "id": "21ed9df0",
   "metadata": {},
   "source": [
    "Судя по результатам, лица, которые никогда официально не регистрировали свои отношения, с большей вероятностью просрочат кредит."
   ]
  },
  {
   "cell_type": "markdown",
   "id": "1e8b2fca",
   "metadata": {
    "id": "1e8b2fca"
   },
   "source": [
    "Выведем на экран долю должников в зависимости от уровня дохода."
   ]
  },
  {
   "cell_type": "code",
   "execution_count": 45,
   "id": "4f38d7b5",
   "metadata": {},
   "outputs": [
    {
     "data": {
      "text/html": [
       "<div>\n",
       "<style scoped>\n",
       "    .dataframe tbody tr th:only-of-type {\n",
       "        vertical-align: middle;\n",
       "    }\n",
       "\n",
       "    .dataframe tbody tr th {\n",
       "        vertical-align: top;\n",
       "    }\n",
       "\n",
       "    .dataframe thead tr th {\n",
       "        text-align: left;\n",
       "    }\n",
       "\n",
       "    .dataframe thead tr:last-of-type th {\n",
       "        text-align: right;\n",
       "    }\n",
       "</style>\n",
       "<table border=\"1\" class=\"dataframe\">\n",
       "  <thead>\n",
       "    <tr>\n",
       "      <th></th>\n",
       "      <th>Количество должников</th>\n",
       "      <th>Всего клиентов</th>\n",
       "      <th>Доля должников</th>\n",
       "    </tr>\n",
       "    <tr>\n",
       "      <th></th>\n",
       "      <th></th>\n",
       "      <th></th>\n",
       "      <th></th>\n",
       "    </tr>\n",
       "    <tr>\n",
       "      <th>total_income_category</th>\n",
       "      <th></th>\n",
       "      <th></th>\n",
       "      <th></th>\n",
       "    </tr>\n",
       "  </thead>\n",
       "  <tbody>\n",
       "    <tr>\n",
       "      <th>A</th>\n",
       "      <td>2</td>\n",
       "      <td>25</td>\n",
       "      <td>0.080000</td>\n",
       "    </tr>\n",
       "    <tr>\n",
       "      <th>B</th>\n",
       "      <td>354</td>\n",
       "      <td>5014</td>\n",
       "      <td>0.070602</td>\n",
       "    </tr>\n",
       "    <tr>\n",
       "      <th>C</th>\n",
       "      <td>1353</td>\n",
       "      <td>15921</td>\n",
       "      <td>0.084982</td>\n",
       "    </tr>\n",
       "    <tr>\n",
       "      <th>D</th>\n",
       "      <td>21</td>\n",
       "      <td>349</td>\n",
       "      <td>0.060172</td>\n",
       "    </tr>\n",
       "    <tr>\n",
       "      <th>E</th>\n",
       "      <td>2</td>\n",
       "      <td>22</td>\n",
       "      <td>0.090909</td>\n",
       "    </tr>\n",
       "  </tbody>\n",
       "</table>\n",
       "</div>"
      ],
      "text/plain": [
       "                      Количество должников Всего клиентов Доля должников\n",
       "                                                                        \n",
       "total_income_category                                                   \n",
       "A                                        2             25       0.080000\n",
       "B                                      354           5014       0.070602\n",
       "C                                     1353          15921       0.084982\n",
       "D                                       21            349       0.060172\n",
       "E                                        2             22       0.090909"
      ]
     },
     "execution_count": 45,
     "metadata": {},
     "output_type": "execute_result"
    }
   ],
   "source": [
    "dependency_search('total_income_category')"
   ]
  },
  {
   "cell_type": "markdown",
   "id": "6a5a61fa",
   "metadata": {},
   "source": [
    "Если учитывать категории с выборкой меньше 1000 наблюдений, зависимость между уровнем дохода и возвратом кредита в срок не наблюдается. В противном случае данные говорят о том, что группы с меньшим доходом с большей вероятностью просрочат кредит."
   ]
  },
  {
   "cell_type": "markdown",
   "id": "99ecbd1f",
   "metadata": {
    "id": "99ecbd1f"
   },
   "source": [
    "Выведем на экран долю должников в зависимости от цели кредита."
   ]
  },
  {
   "cell_type": "code",
   "execution_count": 44,
   "id": "c62b1681",
   "metadata": {},
   "outputs": [
    {
     "data": {
      "text/html": [
       "<div>\n",
       "<style scoped>\n",
       "    .dataframe tbody tr th:only-of-type {\n",
       "        vertical-align: middle;\n",
       "    }\n",
       "\n",
       "    .dataframe tbody tr th {\n",
       "        vertical-align: top;\n",
       "    }\n",
       "\n",
       "    .dataframe thead tr th {\n",
       "        text-align: left;\n",
       "    }\n",
       "\n",
       "    .dataframe thead tr:last-of-type th {\n",
       "        text-align: right;\n",
       "    }\n",
       "</style>\n",
       "<table border=\"1\" class=\"dataframe\">\n",
       "  <thead>\n",
       "    <tr>\n",
       "      <th></th>\n",
       "      <th>Количество должников</th>\n",
       "      <th>Всего клиентов</th>\n",
       "      <th>Доля должников</th>\n",
       "    </tr>\n",
       "    <tr>\n",
       "      <th></th>\n",
       "      <th></th>\n",
       "      <th></th>\n",
       "      <th></th>\n",
       "    </tr>\n",
       "    <tr>\n",
       "      <th>purpose_category</th>\n",
       "      <th></th>\n",
       "      <th></th>\n",
       "      <th></th>\n",
       "    </tr>\n",
       "  </thead>\n",
       "  <tbody>\n",
       "    <tr>\n",
       "      <th>операции с автомобилем</th>\n",
       "      <td>400</td>\n",
       "      <td>4279</td>\n",
       "      <td>0.093480</td>\n",
       "    </tr>\n",
       "    <tr>\n",
       "      <th>операции с недвижимостью</th>\n",
       "      <td>780</td>\n",
       "      <td>10751</td>\n",
       "      <td>0.072551</td>\n",
       "    </tr>\n",
       "    <tr>\n",
       "      <th>получение образования</th>\n",
       "      <td>369</td>\n",
       "      <td>3988</td>\n",
       "      <td>0.092528</td>\n",
       "    </tr>\n",
       "    <tr>\n",
       "      <th>проведение свадьбы</th>\n",
       "      <td>183</td>\n",
       "      <td>2313</td>\n",
       "      <td>0.079118</td>\n",
       "    </tr>\n",
       "  </tbody>\n",
       "</table>\n",
       "</div>"
      ],
      "text/plain": [
       "                         Количество должников Всего клиентов Доля должников\n",
       "                                                                           \n",
       "purpose_category                                                           \n",
       "операции с автомобилем                    400           4279       0.093480\n",
       "операции с недвижимостью                  780          10751       0.072551\n",
       "получение образования                     369           3988       0.092528\n",
       "проведение свадьбы                        183           2313       0.079118"
      ]
     },
     "execution_count": 44,
     "metadata": {},
     "output_type": "execute_result"
    }
   ],
   "source": [
    "dependency_search('purpose_category')"
   ]
  },
  {
   "cell_type": "markdown",
   "id": "8ef79fe1",
   "metadata": {},
   "source": [
    "Выдавать кредит на операции с недвижимостью и проведение свадьбы безопаснее, чем на операции с автомобилем и получение образования."
   ]
  },
  {
   "cell_type": "markdown",
   "id": "6db5255a",
   "metadata": {
    "id": "6db5255a"
   },
   "source": [
    "### Этап 4. Результаты исследования"
   ]
  },
  {
   "cell_type": "markdown",
   "id": "9e46d744",
   "metadata": {},
   "source": [
    "Поставленная задача: Нужно разобраться, влияет ли семейное положение и количество детей клиента на факт погашения кредита в срок.\n",
    "\n",
    "Вывод: Семейное положение и количество детей клиента влияет на факт погашения кредита в срок - клиенты, официально состоящие/состоявшие в отношениях и без детей, с меньшей вероятностью просрочат кредит. Также можно учитывать уровень дохода и цель кредита, клиенты с высоким доходом и собирающиеся производить операции с недвижимостью наиболее надёжные."
   ]
  }
 ],
 "metadata": {
  "ExecuteTimeLog": [
   {
    "duration": 669,
    "start_time": "2022-08-09T07:43:49.060Z"
   },
   {
    "duration": 25,
    "start_time": "2022-08-09T07:43:51.208Z"
   },
   {
    "duration": 15,
    "start_time": "2022-08-09T07:43:54.281Z"
   },
   {
    "duration": 9,
    "start_time": "2022-08-09T07:43:56.945Z"
   },
   {
    "duration": 30,
    "start_time": "2022-08-09T07:43:58.945Z"
   },
   {
    "duration": 3,
    "start_time": "2022-08-09T07:44:00.778Z"
   },
   {
    "duration": 10,
    "start_time": "2022-08-09T07:44:02.545Z"
   },
   {
    "duration": 5,
    "start_time": "2022-08-09T07:44:04.626Z"
   },
   {
    "duration": 8,
    "start_time": "2022-08-09T07:44:06.018Z"
   },
   {
    "duration": 7,
    "start_time": "2022-08-09T07:44:07.433Z"
   },
   {
    "duration": 32,
    "start_time": "2022-08-09T07:44:10.017Z"
   },
   {
    "duration": 9,
    "start_time": "2022-08-09T07:44:11.593Z"
   },
   {
    "duration": 3,
    "start_time": "2022-08-09T07:44:13.257Z"
   },
   {
    "duration": 11,
    "start_time": "2022-08-09T07:44:14.907Z"
   },
   {
    "duration": 19,
    "start_time": "2022-08-09T07:44:16.561Z"
   },
   {
    "duration": 18,
    "start_time": "2022-08-09T07:44:17.897Z"
   },
   {
    "duration": 4,
    "start_time": "2022-08-09T07:44:21.609Z"
   },
   {
    "duration": 11,
    "start_time": "2022-08-09T07:44:23.193Z"
   },
   {
    "duration": 5,
    "start_time": "2022-08-09T07:44:24.338Z"
   },
   {
    "duration": 4,
    "start_time": "2022-08-09T07:44:27.385Z"
   },
   {
    "duration": 8,
    "start_time": "2022-08-09T07:44:29.241Z"
   },
   {
    "duration": 16,
    "start_time": "2022-08-09T07:45:00.593Z"
   },
   {
    "duration": 8,
    "start_time": "2022-08-09T08:02:14.154Z"
   },
   {
    "duration": 6,
    "start_time": "2022-08-09T08:03:03.291Z"
   },
   {
    "duration": 4,
    "start_time": "2022-08-09T08:04:26.124Z"
   },
   {
    "duration": 5,
    "start_time": "2022-08-09T08:04:38.820Z"
   },
   {
    "duration": 6,
    "start_time": "2022-08-09T08:04:45.711Z"
   },
   {
    "duration": 9,
    "start_time": "2022-08-09T08:05:19.885Z"
   },
   {
    "duration": 2673,
    "start_time": "2022-08-09T08:08:38.294Z"
   },
   {
    "duration": 76,
    "start_time": "2022-08-09T08:09:11.391Z"
   },
   {
    "duration": 1398,
    "start_time": "2022-08-09T08:09:38.663Z"
   },
   {
    "duration": 48,
    "start_time": "2022-08-09T08:10:59.257Z"
   },
   {
    "duration": 127,
    "start_time": "2022-08-09T08:11:20.121Z"
   },
   {
    "duration": 8,
    "start_time": "2022-08-09T08:13:31.793Z"
   },
   {
    "duration": 8,
    "start_time": "2022-08-09T08:13:38.985Z"
   },
   {
    "duration": 8,
    "start_time": "2022-08-09T08:13:43.641Z"
   },
   {
    "duration": 6,
    "start_time": "2022-08-09T08:13:56.338Z"
   },
   {
    "duration": 7,
    "start_time": "2022-08-09T08:14:09.313Z"
   },
   {
    "duration": 7,
    "start_time": "2022-08-09T08:14:19.369Z"
   },
   {
    "duration": 6,
    "start_time": "2022-08-09T08:14:28.154Z"
   },
   {
    "duration": 7,
    "start_time": "2022-08-09T08:14:33.129Z"
   },
   {
    "duration": 6,
    "start_time": "2022-08-09T08:14:37.113Z"
   },
   {
    "duration": 9,
    "start_time": "2022-08-09T08:14:43.986Z"
   },
   {
    "duration": 8,
    "start_time": "2022-08-09T08:15:04.498Z"
   },
   {
    "duration": 7,
    "start_time": "2022-08-09T08:15:13.930Z"
   },
   {
    "duration": 9,
    "start_time": "2022-08-09T08:15:52.970Z"
   },
   {
    "duration": 9,
    "start_time": "2022-08-09T08:19:24.332Z"
   },
   {
    "duration": 10,
    "start_time": "2022-08-09T08:19:44.301Z"
   },
   {
    "duration": 14,
    "start_time": "2022-08-09T08:20:17.165Z"
   },
   {
    "duration": 13,
    "start_time": "2022-08-09T08:20:43.565Z"
   },
   {
    "duration": 11,
    "start_time": "2022-08-09T08:20:50.478Z"
   },
   {
    "duration": 11,
    "start_time": "2022-08-09T08:22:00.157Z"
   },
   {
    "duration": 6,
    "start_time": "2022-08-09T08:22:55.535Z"
   },
   {
    "duration": 10,
    "start_time": "2022-08-09T08:23:04.799Z"
   },
   {
    "duration": 6,
    "start_time": "2022-08-09T08:23:22.225Z"
   },
   {
    "duration": 6,
    "start_time": "2022-08-09T08:23:32.739Z"
   },
   {
    "duration": 70,
    "start_time": "2022-08-09T08:23:38.324Z"
   },
   {
    "duration": 7,
    "start_time": "2022-08-09T08:23:41.190Z"
   },
   {
    "duration": 6,
    "start_time": "2022-08-09T08:23:46.494Z"
   },
   {
    "duration": 12,
    "start_time": "2022-08-09T08:23:56.798Z"
   },
   {
    "duration": 4,
    "start_time": "2022-08-09T08:25:24.559Z"
   },
   {
    "duration": 10,
    "start_time": "2022-08-09T08:25:29.726Z"
   },
   {
    "duration": 9,
    "start_time": "2022-08-09T08:25:38.479Z"
   },
   {
    "duration": 9,
    "start_time": "2022-08-09T08:26:29.625Z"
   },
   {
    "duration": 13,
    "start_time": "2022-08-09T08:26:56.736Z"
   },
   {
    "duration": 9,
    "start_time": "2022-08-09T08:27:04.961Z"
   },
   {
    "duration": 11,
    "start_time": "2022-08-09T08:27:14.920Z"
   },
   {
    "duration": 11,
    "start_time": "2022-08-09T08:27:24.305Z"
   },
   {
    "duration": 1360,
    "start_time": "2022-08-09T08:30:18.773Z"
   },
   {
    "duration": 8,
    "start_time": "2022-08-09T08:30:32.825Z"
   },
   {
    "duration": 11,
    "start_time": "2022-08-09T08:30:52.423Z"
   },
   {
    "duration": 8,
    "start_time": "2022-08-09T08:30:59.029Z"
   },
   {
    "duration": 11,
    "start_time": "2022-08-09T08:36:51.750Z"
   },
   {
    "duration": 12,
    "start_time": "2022-08-09T08:38:05.623Z"
   },
   {
    "duration": 12,
    "start_time": "2022-08-09T08:39:45.168Z"
   },
   {
    "duration": 14,
    "start_time": "2022-08-09T08:41:50.843Z"
   },
   {
    "duration": 14,
    "start_time": "2022-08-09T08:42:23.921Z"
   },
   {
    "duration": 50,
    "start_time": "2022-08-09T08:45:40.918Z"
   },
   {
    "duration": 9,
    "start_time": "2022-08-09T08:46:18.408Z"
   },
   {
    "duration": 10,
    "start_time": "2022-08-09T08:46:30.613Z"
   },
   {
    "duration": 8,
    "start_time": "2022-08-09T08:46:35.187Z"
   },
   {
    "duration": 11,
    "start_time": "2022-08-09T08:46:42.517Z"
   },
   {
    "duration": 59,
    "start_time": "2022-08-09T08:47:20.347Z"
   },
   {
    "duration": 9,
    "start_time": "2022-08-09T08:48:03.724Z"
   },
   {
    "duration": 9,
    "start_time": "2022-08-09T08:48:34.572Z"
   },
   {
    "duration": 9,
    "start_time": "2022-08-09T08:48:57.693Z"
   },
   {
    "duration": 11,
    "start_time": "2022-08-09T08:49:10.156Z"
   },
   {
    "duration": 13,
    "start_time": "2022-08-09T08:50:57.326Z"
   },
   {
    "duration": 11,
    "start_time": "2022-08-09T08:51:55.757Z"
   },
   {
    "duration": 9,
    "start_time": "2022-08-09T08:56:53.977Z"
   },
   {
    "duration": 9,
    "start_time": "2022-08-09T08:57:36.929Z"
   },
   {
    "duration": 9,
    "start_time": "2022-08-09T08:58:01.178Z"
   },
   {
    "duration": 10,
    "start_time": "2022-08-09T08:58:53.145Z"
   },
   {
    "duration": 9,
    "start_time": "2022-08-09T08:58:57.089Z"
   },
   {
    "duration": 6,
    "start_time": "2022-08-09T12:26:36.087Z"
   },
   {
    "duration": 9,
    "start_time": "2022-08-09T12:27:39.457Z"
   },
   {
    "duration": 13,
    "start_time": "2022-08-09T12:29:06.832Z"
   },
   {
    "duration": 1041,
    "start_time": "2022-08-09T12:30:24.146Z"
   },
   {
    "duration": 11,
    "start_time": "2022-08-09T12:30:53.258Z"
   },
   {
    "duration": 15,
    "start_time": "2022-08-09T12:31:13.467Z"
   },
   {
    "duration": 16,
    "start_time": "2022-08-09T12:33:42.643Z"
   },
   {
    "duration": 12,
    "start_time": "2022-08-09T12:34:30.276Z"
   },
   {
    "duration": 13,
    "start_time": "2022-08-09T12:35:45.822Z"
   },
   {
    "duration": 4,
    "start_time": "2022-08-09T12:36:33.830Z"
   },
   {
    "duration": 18,
    "start_time": "2022-08-09T12:36:37.941Z"
   },
   {
    "duration": 17,
    "start_time": "2022-08-09T12:37:30.382Z"
   },
   {
    "duration": 16,
    "start_time": "2022-08-09T12:39:23.071Z"
   },
   {
    "duration": 16,
    "start_time": "2022-08-09T12:39:53.335Z"
   },
   {
    "duration": 15,
    "start_time": "2022-08-09T12:40:08.448Z"
   },
   {
    "duration": 17,
    "start_time": "2022-08-09T12:40:25.415Z"
   },
   {
    "duration": 15,
    "start_time": "2022-08-09T12:40:34.344Z"
   },
   {
    "duration": 17,
    "start_time": "2022-08-09T12:42:01.112Z"
   },
   {
    "duration": 63,
    "start_time": "2022-08-09T12:42:35.856Z"
   },
   {
    "duration": 16,
    "start_time": "2022-08-09T12:48:44.460Z"
   },
   {
    "duration": 16,
    "start_time": "2022-08-09T12:49:45.388Z"
   },
   {
    "duration": 14,
    "start_time": "2022-08-09T12:49:55.149Z"
   },
   {
    "duration": 16,
    "start_time": "2022-08-09T12:51:51.389Z"
   },
   {
    "duration": 14,
    "start_time": "2022-08-09T12:51:59.285Z"
   },
   {
    "duration": 17,
    "start_time": "2022-08-09T12:52:08.198Z"
   },
   {
    "duration": 15,
    "start_time": "2022-08-09T12:52:24.134Z"
   },
   {
    "duration": 15,
    "start_time": "2022-08-09T12:53:28.165Z"
   },
   {
    "duration": 15,
    "start_time": "2022-08-09T12:56:06.480Z"
   },
   {
    "duration": 1044,
    "start_time": "2022-08-09T12:56:46.072Z"
   },
   {
    "duration": 59,
    "start_time": "2022-08-09T12:57:18.665Z"
   },
   {
    "duration": 55,
    "start_time": "2022-08-09T12:58:05.842Z"
   },
   {
    "duration": 55,
    "start_time": "2022-08-09T12:58:36.809Z"
   },
   {
    "duration": 1031,
    "start_time": "2022-08-09T12:59:02.385Z"
   },
   {
    "duration": 833,
    "start_time": "2022-08-09T12:59:41.338Z"
   },
   {
    "duration": 13,
    "start_time": "2022-08-09T13:00:09.058Z"
   },
   {
    "duration": 13,
    "start_time": "2022-08-09T13:00:54.026Z"
   },
   {
    "duration": 12,
    "start_time": "2022-08-09T13:01:29.035Z"
   },
   {
    "duration": 66,
    "start_time": "2022-08-09T13:02:14.516Z"
   },
   {
    "duration": 15,
    "start_time": "2022-08-09T13:02:23.866Z"
   },
   {
    "duration": 15,
    "start_time": "2022-08-09T13:02:54.197Z"
   },
   {
    "duration": 14,
    "start_time": "2022-08-09T13:03:08.012Z"
   },
   {
    "duration": 13,
    "start_time": "2022-08-09T13:03:16.715Z"
   },
   {
    "duration": 16,
    "start_time": "2022-08-09T14:18:48.964Z"
   },
   {
    "duration": 15,
    "start_time": "2022-08-09T14:18:58.676Z"
   },
   {
    "duration": 15,
    "start_time": "2022-08-09T14:19:05.906Z"
   },
   {
    "duration": 689,
    "start_time": "2022-08-09T20:00:33.542Z"
   },
   {
    "duration": 24,
    "start_time": "2022-08-09T20:00:34.662Z"
   },
   {
    "duration": 16,
    "start_time": "2022-08-09T20:00:37.053Z"
   },
   {
    "duration": 11,
    "start_time": "2022-08-09T20:00:39.478Z"
   },
   {
    "duration": 33,
    "start_time": "2022-08-09T20:00:41.374Z"
   },
   {
    "duration": 5,
    "start_time": "2022-08-09T20:00:42.725Z"
   },
   {
    "duration": 10,
    "start_time": "2022-08-09T20:00:43.654Z"
   },
   {
    "duration": 6,
    "start_time": "2022-08-09T20:00:45.549Z"
   },
   {
    "duration": 8,
    "start_time": "2022-08-09T20:00:48.334Z"
   },
   {
    "duration": 6,
    "start_time": "2022-08-09T20:00:49.469Z"
   },
   {
    "duration": 41,
    "start_time": "2022-08-09T20:00:53.813Z"
   },
   {
    "duration": 10,
    "start_time": "2022-08-09T20:00:55.605Z"
   },
   {
    "duration": 4,
    "start_time": "2022-08-09T20:00:57.182Z"
   },
   {
    "duration": 11,
    "start_time": "2022-08-09T20:00:58.270Z"
   },
   {
    "duration": 19,
    "start_time": "2022-08-09T20:00:59.758Z"
   },
   {
    "duration": 17,
    "start_time": "2022-08-09T20:01:00.765Z"
   },
   {
    "duration": 4,
    "start_time": "2022-08-09T20:01:02.837Z"
   },
   {
    "duration": 11,
    "start_time": "2022-08-09T20:01:04.453Z"
   },
   {
    "duration": 6,
    "start_time": "2022-08-09T20:01:05.558Z"
   },
   {
    "duration": 3,
    "start_time": "2022-08-09T20:01:07.902Z"
   },
   {
    "duration": 9,
    "start_time": "2022-08-09T20:01:08.957Z"
   },
   {
    "duration": 12,
    "start_time": "2022-08-09T20:01:13.495Z"
   },
   {
    "duration": 17,
    "start_time": "2022-08-09T20:01:15.966Z"
   },
   {
    "duration": 7,
    "start_time": "2022-08-09T20:27:09.699Z"
   },
   {
    "duration": 8,
    "start_time": "2022-08-09T20:27:28.089Z"
   },
   {
    "duration": 48,
    "start_time": "2022-08-09T20:28:31.836Z"
   },
   {
    "duration": 12,
    "start_time": "2022-08-09T20:28:43.803Z"
   },
   {
    "duration": 14,
    "start_time": "2022-08-09T20:29:15.812Z"
   },
   {
    "duration": 12,
    "start_time": "2022-08-09T20:29:51.270Z"
   },
   {
    "duration": 13,
    "start_time": "2022-08-09T20:31:58.358Z"
   },
   {
    "duration": 11,
    "start_time": "2022-08-09T20:32:23.883Z"
   },
   {
    "duration": 11,
    "start_time": "2022-08-09T20:33:12.966Z"
   },
   {
    "duration": 11,
    "start_time": "2022-08-09T20:33:27.847Z"
   },
   {
    "duration": 10,
    "start_time": "2022-08-09T20:35:56.352Z"
   },
   {
    "duration": 11,
    "start_time": "2022-08-09T20:37:25.377Z"
   },
   {
    "duration": 9,
    "start_time": "2022-08-09T20:37:36.567Z"
   },
   {
    "duration": 14,
    "start_time": "2022-08-09T21:21:52.201Z"
   },
   {
    "duration": 14,
    "start_time": "2022-08-09T21:21:57.922Z"
   },
   {
    "duration": 75,
    "start_time": "2022-08-09T21:37:11.660Z"
   },
   {
    "duration": 12,
    "start_time": "2022-08-09T21:37:45.070Z"
   },
   {
    "duration": 15,
    "start_time": "2022-08-09T21:49:03.949Z"
   },
   {
    "duration": 13,
    "start_time": "2022-08-09T21:49:26.299Z"
   },
   {
    "duration": 15,
    "start_time": "2022-08-09T21:49:55.059Z"
   },
   {
    "duration": 16,
    "start_time": "2022-08-09T21:50:07.121Z"
   },
   {
    "duration": 15,
    "start_time": "2022-08-09T21:50:56.718Z"
   },
   {
    "duration": 17,
    "start_time": "2022-08-09T21:51:10.421Z"
   },
   {
    "duration": 15,
    "start_time": "2022-08-09T21:51:32.412Z"
   },
   {
    "duration": 15,
    "start_time": "2022-08-09T21:52:44.630Z"
   },
   {
    "duration": 13,
    "start_time": "2022-08-09T21:53:33.023Z"
   },
   {
    "duration": 14,
    "start_time": "2022-08-09T21:53:49.390Z"
   },
   {
    "duration": 16,
    "start_time": "2022-08-09T21:56:55.689Z"
   },
   {
    "duration": 14,
    "start_time": "2022-08-09T21:57:04.345Z"
   },
   {
    "duration": 14,
    "start_time": "2022-08-09T21:58:18.034Z"
   },
   {
    "duration": 14,
    "start_time": "2022-08-09T21:58:47.018Z"
   },
   {
    "duration": 13,
    "start_time": "2022-08-09T22:02:41.989Z"
   },
   {
    "duration": 13,
    "start_time": "2022-08-09T22:02:56.469Z"
   },
   {
    "duration": 19,
    "start_time": "2022-08-09T22:33:32.213Z"
   },
   {
    "duration": 16,
    "start_time": "2022-08-09T22:33:51.753Z"
   },
   {
    "duration": 741,
    "start_time": "2022-08-10T03:25:45.690Z"
   },
   {
    "duration": 28,
    "start_time": "2022-08-10T03:25:46.433Z"
   },
   {
    "duration": 18,
    "start_time": "2022-08-10T03:25:46.463Z"
   },
   {
    "duration": 20,
    "start_time": "2022-08-10T03:25:46.483Z"
   },
   {
    "duration": 31,
    "start_time": "2022-08-10T03:25:46.505Z"
   },
   {
    "duration": 4,
    "start_time": "2022-08-10T03:25:46.537Z"
   },
   {
    "duration": 10,
    "start_time": "2022-08-10T03:25:46.542Z"
   },
   {
    "duration": 5,
    "start_time": "2022-08-10T03:25:46.554Z"
   },
   {
    "duration": 12,
    "start_time": "2022-08-10T03:25:46.561Z"
   },
   {
    "duration": 15,
    "start_time": "2022-08-10T03:25:46.574Z"
   },
   {
    "duration": 41,
    "start_time": "2022-08-10T03:25:46.591Z"
   },
   {
    "duration": 10,
    "start_time": "2022-08-10T03:25:46.634Z"
   },
   {
    "duration": 5,
    "start_time": "2022-08-10T03:25:46.646Z"
   },
   {
    "duration": 35,
    "start_time": "2022-08-10T03:25:46.654Z"
   },
   {
    "duration": 49,
    "start_time": "2022-08-10T03:25:46.691Z"
   },
   {
    "duration": 16,
    "start_time": "2022-08-10T03:25:46.741Z"
   },
   {
    "duration": 3,
    "start_time": "2022-08-10T03:25:46.758Z"
   },
   {
    "duration": 11,
    "start_time": "2022-08-10T03:25:46.763Z"
   },
   {
    "duration": 7,
    "start_time": "2022-08-10T03:25:46.775Z"
   },
   {
    "duration": 4,
    "start_time": "2022-08-10T03:25:46.784Z"
   },
   {
    "duration": 14,
    "start_time": "2022-08-10T03:25:46.790Z"
   },
   {
    "duration": 14,
    "start_time": "2022-08-10T03:25:46.805Z"
   },
   {
    "duration": 12,
    "start_time": "2022-08-10T03:25:46.820Z"
   },
   {
    "duration": 11,
    "start_time": "2022-08-10T03:25:46.834Z"
   },
   {
    "duration": 15,
    "start_time": "2022-08-10T03:25:46.846Z"
   },
   {
    "duration": 740,
    "start_time": "2022-08-13T23:49:44.678Z"
   },
   {
    "duration": 21,
    "start_time": "2022-08-13T23:49:46.780Z"
   },
   {
    "duration": 15,
    "start_time": "2022-08-13T23:49:48.867Z"
   },
   {
    "duration": 10,
    "start_time": "2022-08-13T23:49:50.603Z"
   },
   {
    "duration": 31,
    "start_time": "2022-08-13T23:49:52.619Z"
   },
   {
    "duration": 4,
    "start_time": "2022-08-13T23:49:54.292Z"
   },
   {
    "duration": 7,
    "start_time": "2022-08-13T23:49:55.163Z"
   },
   {
    "duration": 5,
    "start_time": "2022-08-13T23:49:56.723Z"
   },
   {
    "duration": 6,
    "start_time": "2022-08-13T23:49:58.140Z"
   },
   {
    "duration": 5,
    "start_time": "2022-08-13T23:49:59.027Z"
   },
   {
    "duration": 29,
    "start_time": "2022-08-13T23:50:00.540Z"
   },
   {
    "duration": 9,
    "start_time": "2022-08-13T23:50:01.987Z"
   },
   {
    "duration": 4,
    "start_time": "2022-08-13T23:50:03.387Z"
   },
   {
    "duration": 10,
    "start_time": "2022-08-13T23:50:04.283Z"
   },
   {
    "duration": 18,
    "start_time": "2022-08-13T23:50:05.668Z"
   },
   {
    "duration": 17,
    "start_time": "2022-08-13T23:50:06.523Z"
   },
   {
    "duration": 3,
    "start_time": "2022-08-13T23:50:08.683Z"
   },
   {
    "duration": 12,
    "start_time": "2022-08-13T23:50:11.003Z"
   },
   {
    "duration": 5,
    "start_time": "2022-08-13T23:50:12.155Z"
   },
   {
    "duration": 3,
    "start_time": "2022-08-13T23:50:14.355Z"
   },
   {
    "duration": 8,
    "start_time": "2022-08-13T23:50:15.891Z"
   },
   {
    "duration": 18,
    "start_time": "2022-08-13T23:57:14.134Z"
   },
   {
    "duration": 63,
    "start_time": "2022-08-14T00:01:39.407Z"
   },
   {
    "duration": 67,
    "start_time": "2022-08-14T00:01:46.376Z"
   },
   {
    "duration": 21,
    "start_time": "2022-08-14T00:03:26.793Z"
   },
   {
    "duration": 18,
    "start_time": "2022-08-14T00:03:39.929Z"
   },
   {
    "duration": 23,
    "start_time": "2022-08-14T00:03:57.649Z"
   },
   {
    "duration": 22,
    "start_time": "2022-08-14T00:04:15.882Z"
   },
   {
    "duration": 17,
    "start_time": "2022-08-14T00:08:40.140Z"
   },
   {
    "duration": 20,
    "start_time": "2022-08-14T00:09:00.725Z"
   },
   {
    "duration": 19,
    "start_time": "2022-08-14T00:09:26.756Z"
   },
   {
    "duration": 19,
    "start_time": "2022-08-14T00:22:59.826Z"
   },
   {
    "duration": 20,
    "start_time": "2022-08-14T00:23:13.339Z"
   },
   {
    "duration": 743,
    "start_time": "2022-08-14T11:16:49.675Z"
   },
   {
    "duration": 31,
    "start_time": "2022-08-14T11:16:51.516Z"
   },
   {
    "duration": 18,
    "start_time": "2022-08-14T11:16:53.855Z"
   },
   {
    "duration": 10,
    "start_time": "2022-08-14T11:16:55.872Z"
   },
   {
    "duration": 32,
    "start_time": "2022-08-14T11:16:57.871Z"
   },
   {
    "duration": 4,
    "start_time": "2022-08-14T11:16:59.112Z"
   },
   {
    "duration": 10,
    "start_time": "2022-08-14T11:16:59.992Z"
   },
   {
    "duration": 5,
    "start_time": "2022-08-14T11:17:02.471Z"
   },
   {
    "duration": 7,
    "start_time": "2022-08-14T11:17:03.481Z"
   },
   {
    "duration": 5,
    "start_time": "2022-08-14T11:17:04.463Z"
   },
   {
    "duration": 34,
    "start_time": "2022-08-14T11:17:07.559Z"
   },
   {
    "duration": 11,
    "start_time": "2022-08-14T11:17:08.601Z"
   },
   {
    "duration": 4,
    "start_time": "2022-08-14T11:17:10.231Z"
   },
   {
    "duration": 10,
    "start_time": "2022-08-14T11:17:11.385Z"
   },
   {
    "duration": 19,
    "start_time": "2022-08-14T11:17:12.904Z"
   },
   {
    "duration": 17,
    "start_time": "2022-08-14T11:17:13.745Z"
   },
   {
    "duration": 3,
    "start_time": "2022-08-14T11:17:15.240Z"
   },
   {
    "duration": 10,
    "start_time": "2022-08-14T11:17:16.689Z"
   },
   {
    "duration": 6,
    "start_time": "2022-08-14T11:17:17.640Z"
   },
   {
    "duration": 5,
    "start_time": "2022-08-14T11:17:25.121Z"
   },
   {
    "duration": 8,
    "start_time": "2022-08-14T11:17:38.562Z"
   },
   {
    "duration": 17,
    "start_time": "2022-08-14T11:17:42.465Z"
   },
   {
    "duration": 3,
    "start_time": "2022-08-14T11:22:08.036Z"
   },
   {
    "duration": 24,
    "start_time": "2022-08-14T11:22:11.578Z"
   },
   {
    "duration": 27,
    "start_time": "2022-08-14T11:22:33.450Z"
   },
   {
    "duration": 24,
    "start_time": "2022-08-14T11:22:38.493Z"
   },
   {
    "duration": 23,
    "start_time": "2022-08-14T11:26:34.727Z"
   },
   {
    "duration": 23,
    "start_time": "2022-08-14T11:26:51.647Z"
   },
   {
    "duration": 24,
    "start_time": "2022-08-14T11:27:12.454Z"
   },
   {
    "duration": 1037,
    "start_time": "2022-08-14T11:27:34.335Z"
   },
   {
    "duration": 782,
    "start_time": "2022-08-14T11:27:43.776Z"
   },
   {
    "duration": 878,
    "start_time": "2022-08-14T11:27:48.463Z"
   },
   {
    "duration": 822,
    "start_time": "2022-08-14T11:27:57.847Z"
   },
   {
    "duration": 24,
    "start_time": "2022-08-14T11:28:14.984Z"
   },
   {
    "duration": 26,
    "start_time": "2022-08-14T11:28:56.519Z"
   },
   {
    "duration": 25,
    "start_time": "2022-08-14T11:30:11.169Z"
   },
   {
    "duration": 38,
    "start_time": "2022-08-14T11:31:52.602Z"
   },
   {
    "duration": 28,
    "start_time": "2022-08-14T11:35:49.349Z"
   },
   {
    "duration": 28,
    "start_time": "2022-08-14T11:38:18.863Z"
   },
   {
    "duration": 38,
    "start_time": "2022-08-14T11:39:15.375Z"
   },
   {
    "duration": 34,
    "start_time": "2022-08-14T11:39:48.032Z"
   },
   {
    "duration": 4,
    "start_time": "2022-08-14T11:43:32.153Z"
   },
   {
    "duration": 31,
    "start_time": "2022-08-14T11:48:36.612Z"
   },
   {
    "duration": 32,
    "start_time": "2022-08-14T11:55:07.967Z"
   },
   {
    "duration": 34,
    "start_time": "2022-08-14T11:55:17.048Z"
   },
   {
    "duration": 5,
    "start_time": "2022-08-14T11:57:56.037Z"
   },
   {
    "duration": 37,
    "start_time": "2022-08-14T11:58:05.215Z"
   }
  ],
  "colab": {
   "name": "dpp_template_part2.ipynb",
   "provenance": []
  },
  "kernelspec": {
   "display_name": "Python 3 (ipykernel)",
   "language": "python",
   "name": "python3"
  },
  "language_info": {
   "codemirror_mode": {
    "name": "ipython",
    "version": 3
   },
   "file_extension": ".py",
   "mimetype": "text/x-python",
   "name": "python",
   "nbconvert_exporter": "python",
   "pygments_lexer": "ipython3",
   "version": "3.9.13"
  },
  "toc": {
   "base_numbering": 1,
   "nav_menu": {},
   "number_sections": true,
   "sideBar": true,
   "skip_h1_title": true,
   "title_cell": "Table of Contents",
   "title_sidebar": "Contents",
   "toc_cell": true,
   "toc_position": {},
   "toc_section_display": true,
   "toc_window_display": true
  }
 },
 "nbformat": 4,
 "nbformat_minor": 5
}
