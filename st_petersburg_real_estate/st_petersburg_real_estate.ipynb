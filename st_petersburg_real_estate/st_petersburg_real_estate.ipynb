{
 "cells": [
  {
   "cell_type": "markdown",
   "metadata": {},
   "source": [
    "# Исследование объявлений о продаже квартир\n",
    "\n",
    "В вашем распоряжении данные сервиса Яндекс.Недвижимость — архив объявлений о продаже квартир в Санкт-Петербурге и соседних населённых пунктов за несколько лет. Нужно научиться определять рыночную стоимость объектов недвижимости. Ваша задача — установить параметры. Это позволит построить автоматизированную систему: она отследит аномалии и мошенническую деятельность. \n",
    "\n",
    "По каждой квартире на продажу доступны два вида данных. Первые вписаны пользователем, вторые — получены автоматически на основе картографических данных. Например, расстояние до центра, аэропорта, ближайшего парка и водоёма. "
   ]
  },
  {
   "cell_type": "markdown",
   "metadata": {},
   "source": [
    "### Этап 1. Получение данных"
   ]
  },
  {
   "cell_type": "markdown",
   "metadata": {},
   "source": [
    "Импорт библиотек"
   ]
  },
  {
   "cell_type": "code",
   "execution_count": 1,
   "metadata": {},
   "outputs": [],
   "source": [
    "import pandas as pd\n",
    "import numpy as np\n",
    "import matplotlib.pyplot as plt"
   ]
  },
  {
   "cell_type": "markdown",
   "metadata": {},
   "source": [
    "Прочитаем файл real_estate_data.csv и сохраним его в переменной data."
   ]
  },
  {
   "cell_type": "code",
   "execution_count": 2,
   "metadata": {},
   "outputs": [],
   "source": [
    "data = pd.read_csv('/datasets/real_estate_data.csv', sep='\\t', decimal='.')"
   ]
  },
  {
   "cell_type": "code",
   "execution_count": 3,
   "metadata": {},
   "outputs": [],
   "source": [
    "pd.set_option('display.max_columns', 50)"
   ]
  },
  {
   "cell_type": "markdown",
   "metadata": {},
   "source": [
    "Получение первых 5 строк таблицы."
   ]
  },
  {
   "cell_type": "code",
   "execution_count": 4,
   "metadata": {},
   "outputs": [
    {
     "name": "stdout",
     "output_type": "stream",
     "text": [
      "   total_images  last_price  total_area first_day_exposition  rooms  \\\n",
      "0            20  13000000.0       108.0  2019-03-07T00:00:00      3   \n",
      "1             7   3350000.0        40.4  2018-12-04T00:00:00      1   \n",
      "2            10   5196000.0        56.0  2015-08-20T00:00:00      2   \n",
      "3             0  64900000.0       159.0  2015-07-24T00:00:00      3   \n",
      "4             2  10000000.0       100.0  2018-06-19T00:00:00      2   \n",
      "\n",
      "   ceiling_height  floors_total  living_area  floor is_apartment  studio  \\\n",
      "0            2.70          16.0         51.0      8          NaN   False   \n",
      "1             NaN          11.0         18.6      1          NaN   False   \n",
      "2             NaN           5.0         34.3      4          NaN   False   \n",
      "3             NaN          14.0          NaN      9          NaN   False   \n",
      "4            3.03          14.0         32.0     13          NaN   False   \n",
      "\n",
      "   open_plan  kitchen_area  balcony    locality_name  airports_nearest  \\\n",
      "0      False          25.0      NaN  Санкт-Петербург           18863.0   \n",
      "1      False          11.0      2.0   посёлок Шушары           12817.0   \n",
      "2      False           8.3      0.0  Санкт-Петербург           21741.0   \n",
      "3      False           NaN      0.0  Санкт-Петербург           28098.0   \n",
      "4      False          41.0      NaN  Санкт-Петербург           31856.0   \n",
      "\n",
      "   cityCenters_nearest  parks_around3000  parks_nearest  ponds_around3000  \\\n",
      "0              16028.0               1.0          482.0               2.0   \n",
      "1              18603.0               0.0            NaN               0.0   \n",
      "2              13933.0               1.0           90.0               2.0   \n",
      "3               6800.0               2.0           84.0               3.0   \n",
      "4               8098.0               2.0          112.0               1.0   \n",
      "\n",
      "   ponds_nearest  days_exposition  \n",
      "0          755.0              NaN  \n",
      "1            NaN             81.0  \n",
      "2          574.0            558.0  \n",
      "3          234.0            424.0  \n",
      "4           48.0            121.0  \n"
     ]
    }
   ],
   "source": [
    "print(data.head(5))"
   ]
  },
  {
   "cell_type": "markdown",
   "metadata": {},
   "source": [
    "Общая информация о данных таблицы."
   ]
  },
  {
   "cell_type": "code",
   "execution_count": 5,
   "metadata": {},
   "outputs": [
    {
     "name": "stdout",
     "output_type": "stream",
     "text": [
      "<class 'pandas.core.frame.DataFrame'>\n",
      "RangeIndex: 23699 entries, 0 to 23698\n",
      "Data columns (total 22 columns):\n",
      " #   Column                Non-Null Count  Dtype  \n",
      "---  ------                --------------  -----  \n",
      " 0   total_images          23699 non-null  int64  \n",
      " 1   last_price            23699 non-null  float64\n",
      " 2   total_area            23699 non-null  float64\n",
      " 3   first_day_exposition  23699 non-null  object \n",
      " 4   rooms                 23699 non-null  int64  \n",
      " 5   ceiling_height        14504 non-null  float64\n",
      " 6   floors_total          23613 non-null  float64\n",
      " 7   living_area           21796 non-null  float64\n",
      " 8   floor                 23699 non-null  int64  \n",
      " 9   is_apartment          2775 non-null   object \n",
      " 10  studio                23699 non-null  bool   \n",
      " 11  open_plan             23699 non-null  bool   \n",
      " 12  kitchen_area          21421 non-null  float64\n",
      " 13  balcony               12180 non-null  float64\n",
      " 14  locality_name         23650 non-null  object \n",
      " 15  airports_nearest      18157 non-null  float64\n",
      " 16  cityCenters_nearest   18180 non-null  float64\n",
      " 17  parks_around3000      18181 non-null  float64\n",
      " 18  parks_nearest         8079 non-null   float64\n",
      " 19  ponds_around3000      18181 non-null  float64\n",
      " 20  ponds_nearest         9110 non-null   float64\n",
      " 21  days_exposition       20518 non-null  float64\n",
      "dtypes: bool(2), float64(14), int64(3), object(3)\n",
      "memory usage: 3.7+ MB\n"
     ]
    }
   ],
   "source": [
    "data.info()"
   ]
  },
  {
   "cell_type": "markdown",
   "metadata": {},
   "source": [
    "Всего у нас 23699 строк, но в столбцах `ceiling_height`, `floors_total`, `living_area`, `is_apartment`, `kitchen_area`, `balcony`, `locality_name`, `airports_nearest`, `cityCenters_nearest`, `parks_around3000`, `parks_nearest`, `ponds_around3000`, `ponds_nearest`, `days_exposition` значений меньше, значит присутствуют пропуски.\n",
    "\n",
    "У большинства переменных тип `float`, хотя многим, например балконам, это не свойственно.\n",
    "\n",
    "У столбца 'is_apartment' тип `object`, хотя должен быть `bool`."
   ]
  },
  {
   "cell_type": "markdown",
   "metadata": {},
   "source": [
    "Посмотрим статистики:"
   ]
  },
  {
   "cell_type": "code",
   "execution_count": 7,
   "metadata": {},
   "outputs": [
    {
     "data": {
      "text/html": [
       "<div>\n",
       "<style scoped>\n",
       "    .dataframe tbody tr th:only-of-type {\n",
       "        vertical-align: middle;\n",
       "    }\n",
       "\n",
       "    .dataframe tbody tr th {\n",
       "        vertical-align: top;\n",
       "    }\n",
       "\n",
       "    .dataframe thead th {\n",
       "        text-align: right;\n",
       "    }\n",
       "</style>\n",
       "<table border=\"1\" class=\"dataframe\">\n",
       "  <thead>\n",
       "    <tr style=\"text-align: right;\">\n",
       "      <th></th>\n",
       "      <th>total_images</th>\n",
       "      <th>last_price</th>\n",
       "      <th>total_area</th>\n",
       "      <th>rooms</th>\n",
       "      <th>ceiling_height</th>\n",
       "      <th>floors_total</th>\n",
       "      <th>living_area</th>\n",
       "      <th>floor</th>\n",
       "      <th>kitchen_area</th>\n",
       "      <th>balcony</th>\n",
       "      <th>airports_nearest</th>\n",
       "      <th>cityCenters_nearest</th>\n",
       "      <th>parks_around3000</th>\n",
       "      <th>parks_nearest</th>\n",
       "      <th>ponds_around3000</th>\n",
       "      <th>ponds_nearest</th>\n",
       "      <th>days_exposition</th>\n",
       "    </tr>\n",
       "  </thead>\n",
       "  <tbody>\n",
       "    <tr>\n",
       "      <th>count</th>\n",
       "      <td>23699.00</td>\n",
       "      <td>2.37e+04</td>\n",
       "      <td>23699.00</td>\n",
       "      <td>23699.00</td>\n",
       "      <td>14504.00</td>\n",
       "      <td>23613.00</td>\n",
       "      <td>21796.00</td>\n",
       "      <td>23699.00</td>\n",
       "      <td>21421.00</td>\n",
       "      <td>12180.00</td>\n",
       "      <td>18157.00</td>\n",
       "      <td>18180.00</td>\n",
       "      <td>18181.00</td>\n",
       "      <td>8079.00</td>\n",
       "      <td>18181.00</td>\n",
       "      <td>9110.00</td>\n",
       "      <td>20518.00</td>\n",
       "    </tr>\n",
       "    <tr>\n",
       "      <th>mean</th>\n",
       "      <td>9.86</td>\n",
       "      <td>6.54e+06</td>\n",
       "      <td>60.35</td>\n",
       "      <td>2.07</td>\n",
       "      <td>2.77</td>\n",
       "      <td>10.67</td>\n",
       "      <td>34.46</td>\n",
       "      <td>5.89</td>\n",
       "      <td>10.57</td>\n",
       "      <td>1.15</td>\n",
       "      <td>28793.67</td>\n",
       "      <td>14191.28</td>\n",
       "      <td>0.61</td>\n",
       "      <td>490.80</td>\n",
       "      <td>0.77</td>\n",
       "      <td>517.98</td>\n",
       "      <td>180.89</td>\n",
       "    </tr>\n",
       "    <tr>\n",
       "      <th>std</th>\n",
       "      <td>5.68</td>\n",
       "      <td>1.09e+07</td>\n",
       "      <td>35.65</td>\n",
       "      <td>1.08</td>\n",
       "      <td>1.26</td>\n",
       "      <td>6.60</td>\n",
       "      <td>22.03</td>\n",
       "      <td>4.89</td>\n",
       "      <td>5.91</td>\n",
       "      <td>1.07</td>\n",
       "      <td>12630.88</td>\n",
       "      <td>8608.39</td>\n",
       "      <td>0.80</td>\n",
       "      <td>342.32</td>\n",
       "      <td>0.94</td>\n",
       "      <td>277.72</td>\n",
       "      <td>219.73</td>\n",
       "    </tr>\n",
       "    <tr>\n",
       "      <th>min</th>\n",
       "      <td>0.00</td>\n",
       "      <td>1.22e+04</td>\n",
       "      <td>12.00</td>\n",
       "      <td>0.00</td>\n",
       "      <td>1.00</td>\n",
       "      <td>1.00</td>\n",
       "      <td>2.00</td>\n",
       "      <td>1.00</td>\n",
       "      <td>1.30</td>\n",
       "      <td>0.00</td>\n",
       "      <td>0.00</td>\n",
       "      <td>181.00</td>\n",
       "      <td>0.00</td>\n",
       "      <td>1.00</td>\n",
       "      <td>0.00</td>\n",
       "      <td>13.00</td>\n",
       "      <td>1.00</td>\n",
       "    </tr>\n",
       "    <tr>\n",
       "      <th>25%</th>\n",
       "      <td>6.00</td>\n",
       "      <td>3.40e+06</td>\n",
       "      <td>40.00</td>\n",
       "      <td>1.00</td>\n",
       "      <td>2.52</td>\n",
       "      <td>5.00</td>\n",
       "      <td>18.60</td>\n",
       "      <td>2.00</td>\n",
       "      <td>7.00</td>\n",
       "      <td>0.00</td>\n",
       "      <td>18585.00</td>\n",
       "      <td>9238.00</td>\n",
       "      <td>0.00</td>\n",
       "      <td>288.00</td>\n",
       "      <td>0.00</td>\n",
       "      <td>294.00</td>\n",
       "      <td>45.00</td>\n",
       "    </tr>\n",
       "    <tr>\n",
       "      <th>50%</th>\n",
       "      <td>9.00</td>\n",
       "      <td>4.65e+06</td>\n",
       "      <td>52.00</td>\n",
       "      <td>2.00</td>\n",
       "      <td>2.65</td>\n",
       "      <td>9.00</td>\n",
       "      <td>30.00</td>\n",
       "      <td>4.00</td>\n",
       "      <td>9.10</td>\n",
       "      <td>1.00</td>\n",
       "      <td>26726.00</td>\n",
       "      <td>13098.50</td>\n",
       "      <td>0.00</td>\n",
       "      <td>455.00</td>\n",
       "      <td>1.00</td>\n",
       "      <td>502.00</td>\n",
       "      <td>95.00</td>\n",
       "    </tr>\n",
       "    <tr>\n",
       "      <th>75%</th>\n",
       "      <td>14.00</td>\n",
       "      <td>6.80e+06</td>\n",
       "      <td>69.90</td>\n",
       "      <td>3.00</td>\n",
       "      <td>2.80</td>\n",
       "      <td>16.00</td>\n",
       "      <td>42.30</td>\n",
       "      <td>8.00</td>\n",
       "      <td>12.00</td>\n",
       "      <td>2.00</td>\n",
       "      <td>37273.00</td>\n",
       "      <td>16293.00</td>\n",
       "      <td>1.00</td>\n",
       "      <td>612.00</td>\n",
       "      <td>1.00</td>\n",
       "      <td>729.00</td>\n",
       "      <td>232.00</td>\n",
       "    </tr>\n",
       "    <tr>\n",
       "      <th>max</th>\n",
       "      <td>50.00</td>\n",
       "      <td>7.63e+08</td>\n",
       "      <td>900.00</td>\n",
       "      <td>19.00</td>\n",
       "      <td>100.00</td>\n",
       "      <td>60.00</td>\n",
       "      <td>409.70</td>\n",
       "      <td>33.00</td>\n",
       "      <td>112.00</td>\n",
       "      <td>5.00</td>\n",
       "      <td>84869.00</td>\n",
       "      <td>65968.00</td>\n",
       "      <td>3.00</td>\n",
       "      <td>3190.00</td>\n",
       "      <td>3.00</td>\n",
       "      <td>1344.00</td>\n",
       "      <td>1580.00</td>\n",
       "    </tr>\n",
       "  </tbody>\n",
       "</table>\n",
       "</div>"
      ],
      "text/plain": [
       "       total_images  last_price  total_area     rooms  ceiling_height  \\\n",
       "count      23699.00    2.37e+04    23699.00  23699.00        14504.00   \n",
       "mean           9.86    6.54e+06       60.35      2.07            2.77   \n",
       "std            5.68    1.09e+07       35.65      1.08            1.26   \n",
       "min            0.00    1.22e+04       12.00      0.00            1.00   \n",
       "25%            6.00    3.40e+06       40.00      1.00            2.52   \n",
       "50%            9.00    4.65e+06       52.00      2.00            2.65   \n",
       "75%           14.00    6.80e+06       69.90      3.00            2.80   \n",
       "max           50.00    7.63e+08      900.00     19.00          100.00   \n",
       "\n",
       "       floors_total  living_area     floor  kitchen_area   balcony  \\\n",
       "count      23613.00     21796.00  23699.00      21421.00  12180.00   \n",
       "mean          10.67        34.46      5.89         10.57      1.15   \n",
       "std            6.60        22.03      4.89          5.91      1.07   \n",
       "min            1.00         2.00      1.00          1.30      0.00   \n",
       "25%            5.00        18.60      2.00          7.00      0.00   \n",
       "50%            9.00        30.00      4.00          9.10      1.00   \n",
       "75%           16.00        42.30      8.00         12.00      2.00   \n",
       "max           60.00       409.70     33.00        112.00      5.00   \n",
       "\n",
       "       airports_nearest  cityCenters_nearest  parks_around3000  parks_nearest  \\\n",
       "count          18157.00             18180.00          18181.00        8079.00   \n",
       "mean           28793.67             14191.28              0.61         490.80   \n",
       "std            12630.88              8608.39              0.80         342.32   \n",
       "min                0.00               181.00              0.00           1.00   \n",
       "25%            18585.00              9238.00              0.00         288.00   \n",
       "50%            26726.00             13098.50              0.00         455.00   \n",
       "75%            37273.00             16293.00              1.00         612.00   \n",
       "max            84869.00             65968.00              3.00        3190.00   \n",
       "\n",
       "       ponds_around3000  ponds_nearest  days_exposition  \n",
       "count          18181.00        9110.00         20518.00  \n",
       "mean               0.77         517.98           180.89  \n",
       "std                0.94         277.72           219.73  \n",
       "min                0.00          13.00             1.00  \n",
       "25%                0.00         294.00            45.00  \n",
       "50%                1.00         502.00            95.00  \n",
       "75%                1.00         729.00           232.00  \n",
       "max                3.00        1344.00          1580.00  "
      ]
     },
     "execution_count": 7,
     "metadata": {},
     "output_type": "execute_result"
    }
   ],
   "source": [
    "pd.set_option('precision', 2)\n",
    "data.describe()"
   ]
  },
  {
   "cell_type": "markdown",
   "metadata": {},
   "source": [
    "Видим аномальные значения: квартира площадью 900 метров, при среднем 60; потолки высотой 100 метров; кухня площадью 1 метр; расстояние от квартиры до аэропорта 0 метров и т.д.\n",
    "\n",
    "Визуализируем их:"
   ]
  },
  {
   "cell_type": "code",
   "execution_count": 8,
   "metadata": {
    "scrolled": true
   },
   "outputs": [
    {
     "data": {
      "image/png": "[encoded data removed]",
      "text/plain": [
       "<Figure size 1080x1440 with 20 Axes>"
      ]
     },
     "metadata": {
      "needs_background": "light"
     },
     "output_type": "display_data"
    }
   ],
   "source": [
    "data.hist(figsize=(15, 20))\n",
    "None"
   ]
  },
  {
   "cell_type": "markdown",
   "metadata": {},
   "source": [
    "Наблюдаем гистограммы, на которых присутствует 1-2 столбца, что также подтверждает наличие множества аномальных значений в данных. Например для 'last_price' все \"видимые\" наблюдения утрамбовались в столбец 0 - 100 000 000, однако график говорит, что в данных присутствуют объекты стоимостью под 800 000 000."
   ]
  },
  {
   "cell_type": "markdown",
   "metadata": {},
   "source": [
    "### Этап 2. Предобработка данных"
   ]
  },
  {
   "cell_type": "markdown",
   "metadata": {},
   "source": [
    "Проверим данные на наличие пропусков вызовом набора методов для суммирования пропущенных значений."
   ]
  },
  {
   "cell_type": "code",
   "execution_count": 10,
   "metadata": {
    "scrolled": true
   },
   "outputs": [
    {
     "name": "stdout",
     "output_type": "stream",
     "text": [
      "total_images                0\n",
      "last_price                  0\n",
      "total_area                  0\n",
      "first_day_exposition        0\n",
      "rooms                       0\n",
      "ceiling_height           9195\n",
      "floors_total               86\n",
      "living_area              1903\n",
      "floor                       0\n",
      "is_apartment            20924\n",
      "studio                      0\n",
      "open_plan                   0\n",
      "kitchen_area             2278\n",
      "balcony                 11519\n",
      "locality_name              49\n",
      "airports_nearest         5542\n",
      "cityCenters_nearest      5519\n",
      "parks_around3000         5518\n",
      "parks_nearest           15620\n",
      "ponds_around3000         5518\n",
      "ponds_nearest           14589\n",
      "days_exposition          3181\n",
      "dtype: int64\n"
     ]
    }
   ],
   "source": [
    "print(data.isna().sum())"
   ]
  },
  {
   "cell_type": "markdown",
   "metadata": {},
   "source": [
    "Обдумаем пропуски:\n",
    "- `ceiling_height` - высота потолков. Пропусков много. Можем предположить, что в домах одинаковой высоты одинаковая высота потолков. Заполним медианной высотой по зданиям одинаковой этажности;\n",
    "- `floors_total` - количество этажей в доме. Пропусков незначительное количество, угадать высоту дома уже сложнее, плюс мы собираемся использовать этот параметр. Спокойно удаляем;\n",
    "- `living_area` - жилая площадь. Пропусков много. Однако у нас нет пропусков в общей площади и количестве комнат. Так как жилая площадь учитывает как раз комнаты, можем предположить что в квартирах с одинаковым количеством комнат примерно одинаковый процент жилой и нежилой площади;\n",
    "- `is_apartment` - объект является аппартаментами. 90% значений пропущено, не думаю, что этот столбец стоит использовать при анализе;\n",
    "- `kitchen_area` - площадь кухни. Пропусков много. Поступим так же, как с жилой площадью;\n",
    "- `balcony` - количество балконов. Предположим, что все пропущенные значения это нули;\n",
    "- `locality_name` - название населённого пункта. Пропусков незначительное количество, угадать слишком сложно, спокойно удаляем.\n"
   ]
  },
  {
   "cell_type": "code",
   "execution_count": 11,
   "metadata": {},
   "outputs": [
    {
     "name": "stdout",
     "output_type": "stream",
     "text": [
      "total_images                0\n",
      "last_price                  0\n",
      "total_area                  0\n",
      "first_day_exposition        0\n",
      "rooms                       0\n",
      "ceiling_height           9084\n",
      "floors_total                0\n",
      "living_area              1865\n",
      "floor                       0\n",
      "is_apartment            20805\n",
      "studio                      0\n",
      "open_plan                   0\n",
      "kitchen_area             2222\n",
      "balcony                     0\n",
      "locality_name               0\n",
      "airports_nearest         5524\n",
      "cityCenters_nearest      5501\n",
      "parks_around3000         5500\n",
      "parks_nearest           15535\n",
      "ponds_around3000         5500\n",
      "ponds_nearest           14529\n",
      "days_exposition          3171\n",
      "dtype: int64\n"
     ]
    }
   ],
   "source": [
    "#удаляем то, что решили удалить\n",
    "data.dropna(subset=['floors_total'], inplace=True) \n",
    "data.dropna(subset=['locality_name'], inplace=True)\n",
    "data = data.reset_index(drop=True)\n",
    "data['balcony'] = data['balcony'].fillna(0)\n",
    "\n",
    "print(data.isna().sum())"
   ]
  },
  {
   "cell_type": "markdown",
   "metadata": {},
   "source": [
    "Предполагаем ошибку при заполнении высоты потолков и делим указаенное число на 10, если при этом получается приемлемая высота потолка."
   ]
  },
  {
   "cell_type": "code",
   "execution_count": 12,
   "metadata": {},
   "outputs": [
    {
     "name": "stdout",
     "output_type": "stream",
     "text": [
      "total_images                0\n",
      "last_price                  0\n",
      "total_area                  0\n",
      "first_day_exposition        0\n",
      "rooms                       0\n",
      "ceiling_height           9084\n",
      "floors_total                0\n",
      "living_area              1865\n",
      "floor                       0\n",
      "is_apartment            20805\n",
      "studio                      0\n",
      "open_plan                   0\n",
      "kitchen_area             2222\n",
      "balcony                     0\n",
      "locality_name               0\n",
      "airports_nearest         5524\n",
      "cityCenters_nearest      5501\n",
      "parks_around3000         5500\n",
      "parks_nearest           15535\n",
      "ponds_around3000         5500\n",
      "ponds_nearest           14529\n",
      "days_exposition          3171\n",
      "dtype: int64\n"
     ]
    }
   ],
   "source": [
    "for i in range(len(data['ceiling_height'])): \n",
    "    if 14 < data.loc[i, 'ceiling_height'] < 100:\n",
    "        data.loc[i, 'ceiling_height'] /= 10\n",
    "        \n",
    "print(data.isna().sum())        "
   ]
  },
  {
   "cell_type": "markdown",
   "metadata": {},
   "source": [
    "Заполним пропуски высоты потолков медианными значениями."
   ]
  },
  {
   "cell_type": "code",
   "execution_count": 13,
   "metadata": {},
   "outputs": [
    {
     "name": "stdout",
     "output_type": "stream",
     "text": [
      "total_images                0\n",
      "last_price                  0\n",
      "total_area                  0\n",
      "first_day_exposition        0\n",
      "rooms                       0\n",
      "ceiling_height              1\n",
      "floors_total                0\n",
      "living_area              1865\n",
      "floor                       0\n",
      "is_apartment            20805\n",
      "studio                      0\n",
      "open_plan                   0\n",
      "kitchen_area             2222\n",
      "balcony                     0\n",
      "locality_name               0\n",
      "airports_nearest         5524\n",
      "cityCenters_nearest      5501\n",
      "parks_around3000         5500\n",
      "parks_nearest           15535\n",
      "ponds_around3000         5500\n",
      "ponds_nearest           14529\n",
      "days_exposition          3171\n",
      "dtype: int64\n"
     ]
    },
    {
     "name": "stderr",
     "output_type": "stream",
     "text": [
      "/opt/conda/lib/python3.9/site-packages/numpy/lib/nanfunctions.py:1117: RuntimeWarning: Mean of empty slice\n",
      "  return np.nanmean(a, axis, out=out, keepdims=keepdims)\n"
     ]
    }
   ],
   "source": [
    "#заполняем высоту потолка\n",
    "for current_floor in data['floors_total'].unique(): \n",
    "    data.loc[(data['floors_total'] == current_floor) & (data['ceiling_height'].isna()), 'ceiling_height'] = \\\n",
    "    data.loc[data['floors_total'] == current_floor, 'ceiling_height'].median()\n",
    "    \n",
    "print(data.isna().sum())    "
   ]
  },
  {
   "cell_type": "code",
   "execution_count": 14,
   "metadata": {},
   "outputs": [
    {
     "name": "stdout",
     "output_type": "stream",
     "text": [
      "total_images                0\n",
      "last_price                  0\n",
      "total_area                  0\n",
      "first_day_exposition        0\n",
      "rooms                       0\n",
      "ceiling_height              1\n",
      "floors_total                0\n",
      "living_area              1427\n",
      "floor                       0\n",
      "is_apartment            20805\n",
      "studio                      0\n",
      "open_plan                   0\n",
      "kitchen_area             2222\n",
      "balcony                     0\n",
      "locality_name               0\n",
      "airports_nearest         5524\n",
      "cityCenters_nearest      5501\n",
      "parks_around3000         5500\n",
      "parks_nearest           15535\n",
      "ponds_around3000         5500\n",
      "ponds_nearest           14529\n",
      "days_exposition          3171\n",
      "dtype: int64\n"
     ]
    }
   ],
   "source": [
    "#заполняем жилую площадь\n",
    "data.loc[data['living_area'].isna(), 'living_area'] = data.loc[data['living_area'].isna(), 'total_area'] - data.loc[data['living_area'].isna(), 'kitchen_area']\n",
    "\n",
    "print(data.isna().sum())"
   ]
  },
  {
   "cell_type": "code",
   "execution_count": 15,
   "metadata": {},
   "outputs": [
    {
     "name": "stdout",
     "output_type": "stream",
     "text": [
      "total_images                0\n",
      "last_price                  0\n",
      "total_area                  0\n",
      "first_day_exposition        0\n",
      "rooms                       0\n",
      "ceiling_height              1\n",
      "floors_total                0\n",
      "living_area              1427\n",
      "floor                       0\n",
      "is_apartment            20805\n",
      "studio                      0\n",
      "open_plan                   0\n",
      "kitchen_area             1427\n",
      "balcony                     0\n",
      "locality_name               0\n",
      "airports_nearest         5524\n",
      "cityCenters_nearest      5501\n",
      "parks_around3000         5500\n",
      "parks_nearest           15535\n",
      "ponds_around3000         5500\n",
      "ponds_nearest           14529\n",
      "days_exposition          3171\n",
      "dtype: int64\n"
     ]
    }
   ],
   "source": [
    "#заполняем площадь кухни\n",
    "data.loc[data['kitchen_area'].isna(), 'kitchen_area'] = data.loc[data['kitchen_area'].isna(), 'total_area'] - data.loc[data['kitchen_area'].isna(), 'living_area']\n",
    "\n",
    "print(data.isna().sum())"
   ]
  },
  {
   "cell_type": "markdown",
   "metadata": {},
   "source": [
    "Проверим результат."
   ]
  },
  {
   "cell_type": "code",
   "execution_count": 16,
   "metadata": {},
   "outputs": [
    {
     "name": "stdout",
     "output_type": "stream",
     "text": [
      "total_images                0\n",
      "last_price                  0\n",
      "total_area                  0\n",
      "first_day_exposition        0\n",
      "rooms                       0\n",
      "ceiling_height              1\n",
      "floors_total                0\n",
      "living_area              1427\n",
      "floor                       0\n",
      "is_apartment            20805\n",
      "studio                      0\n",
      "open_plan                   0\n",
      "kitchen_area             1427\n",
      "balcony                     0\n",
      "locality_name               0\n",
      "airports_nearest         5524\n",
      "cityCenters_nearest      5501\n",
      "parks_around3000         5500\n",
      "parks_nearest           15535\n",
      "ponds_around3000         5500\n",
      "ponds_nearest           14529\n",
      "days_exposition          3171\n",
      "dtype: int64\n"
     ]
    }
   ],
   "source": [
    "print(data.isna().sum())"
   ]
  },
  {
   "cell_type": "markdown",
   "metadata": {},
   "source": [
    "В `kitchen_area` остались пропуски из-за нулевого количества комнат в квартирах-студиях. Заполним эти пропуски нулями, так как в подобных квартирах не всегда можно отделить кухню от остальной квартиры.\n",
    "\n",
    "Один пропуск остался в `ceiling_height` из-за дому уникальной высоты, удалим его.\n",
    "\n",
    "Поменяем тип данных на целочисленный для количества балконов, этажей и т.д., как планировалось ранее."
   ]
  },
  {
   "cell_type": "code",
   "execution_count": 17,
   "metadata": {},
   "outputs": [],
   "source": [
    "data['kitchen_area'] = data['kitchen_area'].fillna(0)\n",
    "data['living_area'] = data['living_area'].fillna(0)\n",
    "data.dropna(subset=['ceiling_height'], inplace=True)\n",
    "data = data.reset_index(drop=True)\n",
    "\n",
    "data['floors_total'] = data['floors_total'].astype(int)\n",
    "data['is_apartment'] = data['is_apartment'].astype(bool) \n",
    "data['balcony'] = data['balcony'].astype(int)"
   ]
  },
  {
   "cell_type": "markdown",
   "metadata": {},
   "source": [
    "Проверим наличие неявных дубликатов, очистим от них таблицу."
   ]
  },
  {
   "cell_type": "code",
   "execution_count": 18,
   "metadata": {},
   "outputs": [],
   "source": [
    "data['locality_name'] = data['locality_name'].str.replace('ё', 'е')\n",
    "data['locality_name'] = data['locality_name'].str.replace('поселок городского типа', 'поселок')\n",
    "data['locality_name'] = data['locality_name'].str.replace('городской поселок', 'поселок')\n",
    "data['locality_name'] = data['locality_name'].str.replace('поселок при железнодорожной станции', 'поселок')\n",
    "data['locality_name'] = data['locality_name'].str.replace('коттеджный поселок', 'поселок')\n",
    "data['locality_name'] = data['locality_name'].str.replace('поселок станции', 'поселок')\n",
    "data['locality_name'] = data['locality_name'].str.replace('садоводческое некоммерческое товарищество', 'СНТ')\n",
    "data['locality_name'] = data['locality_name'].str.replace('садовое товарищество', 'СНТ')"
   ]
  },
  {
   "cell_type": "markdown",
   "metadata": {},
   "source": [
    "Устраним аномальные значения."
   ]
  },
  {
   "cell_type": "code",
   "execution_count": 19,
   "metadata": {},
   "outputs": [],
   "source": [
    "data = data.query('300000 < last_price < 30000000')\n",
    "data = data.query('total_area < 200')\n",
    "data = data.query('rooms < 10')\n",
    "data = data.query('2.40 <= ceiling_height <= 4')\n",
    "data = data.query('living_area <= 120')\n",
    "data = data.query('kitchen_area <= 40')\n",
    "data = data.query('airports_nearest > 0 or airports_nearest.isna()')\n",
    "data = data.query('10 <= parks_nearest <= 2500 or parks_nearest.isna()')\n",
    "data = data.query('ponds_nearest >= 50 or ponds_nearest.isna()')\n",
    "data = data.query('cityCenters_nearest <= 60000 or cityCenters_nearest.isna()')\n",
    "data = data.query('airports_nearest <= 80000 or airports_nearest.isna()')"
   ]
  },
  {
   "cell_type": "markdown",
   "metadata": {},
   "source": [
    "Проверим, что не удалили слишком много данных, и что оставшиеся данные выглядят адекватно."
   ]
  },
  {
   "cell_type": "code",
   "execution_count": 21,
   "metadata": {},
   "outputs": [
    {
     "name": "stdout",
     "output_type": "stream",
     "text": [
      "22765\n",
      "count    22765.00\n",
      "mean         9.83\n",
      "std          5.64\n",
      "min          0.00\n",
      "25%          6.00\n",
      "50%          9.00\n",
      "75%         14.00\n",
      "max         50.00\n",
      "Name: total_images, dtype: float64\n",
      "\n",
      "0    1020\n",
      "1     823\n",
      "2     603\n",
      "3     731\n",
      "4     931\n",
      "5    1252\n",
      "6    1428\n",
      "7    1475\n",
      "8    1538\n",
      "9    1685\n",
      "Name: total_images, dtype: int64\n",
      "28    4\n",
      "29    3\n",
      "30    2\n",
      "31    2\n",
      "32    4\n",
      "35    2\n",
      "37    1\n",
      "39    1\n",
      "42    1\n",
      "50    3\n",
      "Name: total_images, dtype: int64\n",
      "\n",
      "---------------------------------------------------------------------------------------------------\n",
      "\n",
      "count    2.28e+04\n",
      "mean     5.56e+06\n",
      "std      3.72e+06\n",
      "min      4.30e+05\n",
      "25%      3.40e+06\n",
      "50%      4.55e+06\n",
      "75%      6.50e+06\n",
      "max      3.00e+07\n",
      "Name: last_price, dtype: float64\n",
      "\n",
      "430000.0    2\n",
      "440000.0    1\n",
      "450000.0    4\n",
      "470000.0    3\n",
      "480000.0    1\n",
      "490000.0    2\n",
      "500000.0    4\n",
      "520000.0    1\n",
      "530000.0    1\n",
      "550000.0    5\n",
      "Name: last_price, dtype: int64\n",
      "2.90e+07    5\n",
      "2.92e+07    1\n",
      "2.94e+07    1\n",
      "2.94e+07    1\n",
      "2.95e+07    3\n",
      "2.98e+07    1\n",
      "2.98e+07    1\n",
      "2.99e+07    2\n",
      "3.00e+07    2\n",
      "3.00e+07    3\n",
      "Name: last_price, dtype: int64\n",
      "\n",
      "---------------------------------------------------------------------------------------------------\n",
      "\n",
      "count    22765.00\n",
      "mean        56.75\n",
      "std         24.12\n",
      "min         13.00\n",
      "25%         40.00\n",
      "50%         51.00\n",
      "75%         67.30\n",
      "max        199.20\n",
      "Name: total_area, dtype: float64\n",
      "\n",
      "13.00    2\n",
      "13.20    1\n",
      "14.00    1\n",
      "15.00    2\n",
      "15.50    1\n",
      "16.00    1\n",
      "17.00    2\n",
      "17.20    1\n",
      "17.60    1\n",
      "17.78    1\n",
      "Name: total_area, dtype: int64\n",
      "190.0    4\n",
      "191.2    1\n",
      "192.0    1\n",
      "192.1    1\n",
      "193.2    1\n",
      "196.0    2\n",
      "197.0    2\n",
      "198.0    1\n",
      "198.1    1\n",
      "199.2    1\n",
      "Name: total_area, dtype: int64\n",
      "\n",
      "---------------------------------------------------------------------------------------------------\n",
      "\n",
      "count                   22765\n",
      "unique                   1484\n",
      "top       2018-02-01T00:00:00\n",
      "freq                      358\n",
      "Name: first_day_exposition, dtype: object\n",
      "\n",
      "2014-11-27T00:00:00    18\n",
      "2014-11-29T00:00:00     1\n",
      "2014-12-04T00:00:00     2\n",
      "2014-12-05T00:00:00     1\n",
      "2014-12-08T00:00:00     8\n",
      "2014-12-09T00:00:00    26\n",
      "2014-12-10T00:00:00    22\n",
      "2014-12-11T00:00:00    10\n",
      "2014-12-12T00:00:00     3\n",
      "2014-12-13T00:00:00     1\n",
      "Name: first_day_exposition, dtype: int64\n",
      "2019-04-24T00:00:00    32\n",
      "2019-04-25T00:00:00    28\n",
      "2019-04-26T00:00:00    37\n",
      "2019-04-27T00:00:00    14\n",
      "2019-04-28T00:00:00    17\n",
      "2019-04-29T00:00:00    36\n",
      "2019-04-30T00:00:00    26\n",
      "2019-05-01T00:00:00    28\n",
      "2019-05-02T00:00:00     9\n",
      "2019-05-03T00:00:00    20\n",
      "Name: first_day_exposition, dtype: int64\n",
      "\n",
      "---------------------------------------------------------------------------------------------------\n",
      "\n",
      "count    22765.00\n",
      "mean         2.01\n",
      "std          0.97\n",
      "min          0.00\n",
      "25%          1.00\n",
      "50%          2.00\n",
      "75%          3.00\n",
      "max          8.00\n",
      "Name: rooms, dtype: float64\n",
      "\n",
      "0     192\n",
      "1    7941\n",
      "2    7768\n",
      "3    5553\n",
      "4    1041\n",
      "5     215\n",
      "6      42\n",
      "7      11\n",
      "8       2\n",
      "Name: rooms, dtype: int64\n",
      "0     192\n",
      "1    7941\n",
      "2    7768\n",
      "3    5553\n",
      "4    1041\n",
      "5     215\n",
      "6      42\n",
      "7      11\n",
      "8       2\n",
      "Name: rooms, dtype: int64\n",
      "\n",
      "---------------------------------------------------------------------------------------------------\n",
      "\n",
      "count    22765.00\n",
      "mean         2.70\n",
      "std          0.21\n",
      "min          2.40\n",
      "25%          2.55\n",
      "50%          2.65\n",
      "75%          2.75\n",
      "max          4.00\n",
      "Name: ceiling_height, dtype: float64\n",
      "\n",
      "2.40      24\n",
      "2.45      15\n",
      "2.46       2\n",
      "2.47       3\n",
      "2.48       8\n",
      "2.49       1\n",
      "2.50    3502\n",
      "2.51      34\n",
      "2.52      79\n",
      "2.53      66\n",
      "Name: ceiling_height, dtype: int64\n",
      "3.80    17\n",
      "3.83     1\n",
      "3.84     1\n",
      "3.85     1\n",
      "3.88     1\n",
      "3.90     9\n",
      "3.93     1\n",
      "3.95     7\n",
      "3.98     1\n",
      "4.00    28\n",
      "Name: ceiling_height, dtype: int64\n",
      "\n",
      "---------------------------------------------------------------------------------------------------\n",
      "\n",
      "count    22765.00\n",
      "mean        10.76\n",
      "std          6.62\n",
      "min          1.00\n",
      "25%          5.00\n",
      "50%          9.00\n",
      "75%         16.00\n",
      "max         60.00\n",
      "Name: floors_total, dtype: float64\n",
      "\n",
      "1       24\n",
      "2      368\n",
      "3      624\n",
      "4     1105\n",
      "5     5602\n",
      "6      797\n",
      "7      529\n",
      "8      319\n",
      "9     3714\n",
      "10    1149\n",
      "Name: floors_total, dtype: int64\n",
      "25    1069\n",
      "26     123\n",
      "27     163\n",
      "28      21\n",
      "29       1\n",
      "34       1\n",
      "35      24\n",
      "36       3\n",
      "52       1\n",
      "60       1\n",
      "Name: floors_total, dtype: int64\n",
      "\n",
      "---------------------------------------------------------------------------------------------------\n",
      "\n",
      "count    22765.00\n",
      "mean        30.82\n",
      "std         17.64\n",
      "min          0.00\n",
      "25%         18.00\n",
      "50%         29.10\n",
      "75%         41.00\n",
      "max        120.00\n",
      "Name: living_area, dtype: float64\n",
      "\n",
      "0.0    1376\n",
      "2.0       2\n",
      "3.0       1\n",
      "5.0       1\n",
      "5.4       1\n",
      "6.0       1\n",
      "6.5       1\n",
      "8.0       2\n",
      "8.3       1\n",
      "8.5       1\n",
      "Name: living_area, dtype: int64\n",
      "117.1    1\n",
      "117.4    2\n",
      "118.4    1\n",
      "118.5    1\n",
      "118.9    1\n",
      "119.0    1\n",
      "119.3    1\n",
      "119.5    1\n",
      "119.9    1\n",
      "120.0    2\n",
      "Name: living_area, dtype: int64\n",
      "\n",
      "---------------------------------------------------------------------------------------------------\n",
      "\n",
      "count    22765.00\n",
      "mean         5.90\n",
      "std          4.89\n",
      "min          1.00\n",
      "25%          2.00\n",
      "50%          4.00\n",
      "75%          8.00\n",
      "max         33.00\n",
      "Name: floor, dtype: float64\n",
      "\n",
      "1     2850\n",
      "2     3224\n",
      "3     2936\n",
      "4     2656\n",
      "5     2512\n",
      "6     1241\n",
      "7     1160\n",
      "8     1045\n",
      "9     1025\n",
      "10     668\n",
      "Name: floor, dtype: int64\n",
      "23    97\n",
      "24    60\n",
      "25    44\n",
      "26    23\n",
      "27    10\n",
      "28     1\n",
      "29     1\n",
      "30     1\n",
      "31     1\n",
      "33     1\n",
      "Name: floor, dtype: int64\n",
      "\n",
      "---------------------------------------------------------------------------------------------------\n",
      "\n",
      "count     22765\n",
      "unique        2\n",
      "top        True\n",
      "freq      20144\n",
      "Name: is_apartment, dtype: object\n",
      "\n",
      "False     2621\n",
      "True     20144\n",
      "Name: is_apartment, dtype: int64\n",
      "False     2621\n",
      "True     20144\n",
      "Name: is_apartment, dtype: int64\n",
      "\n",
      "---------------------------------------------------------------------------------------------------\n",
      "\n",
      "count     22765\n",
      "unique        2\n",
      "top       False\n",
      "freq      22620\n",
      "Name: studio, dtype: object\n",
      "\n",
      "False    22620\n",
      "True       145\n",
      "Name: studio, dtype: int64\n",
      "False    22620\n",
      "True       145\n",
      "Name: studio, dtype: int64\n",
      "\n",
      "---------------------------------------------------------------------------------------------------\n",
      "\n",
      "count     22765\n",
      "unique        2\n",
      "top       False\n",
      "freq      22700\n",
      "Name: open_plan, dtype: object\n",
      "\n",
      "False    22700\n",
      "True        65\n",
      "Name: open_plan, dtype: int64\n",
      "False    22700\n",
      "True        65\n",
      "Name: open_plan, dtype: int64\n",
      "\n",
      "---------------------------------------------------------------------------------------------------\n",
      "\n",
      "count    22765.00\n",
      "mean         9.67\n",
      "std          5.27\n",
      "min          0.00\n",
      "25%          6.80\n",
      "50%          9.00\n",
      "75%         11.50\n",
      "max         40.00\n",
      "Name: kitchen_area, dtype: float64\n",
      "\n",
      "0.00    1378\n",
      "0.27       1\n",
      "1.30       1\n",
      "1.70       1\n",
      "1.80       1\n",
      "1.89       1\n",
      "2.00      10\n",
      "2.30       1\n",
      "2.36       1\n",
      "2.40       1\n",
      "Name: kitchen_area, dtype: int64\n",
      "38.00     1\n",
      "38.40     1\n",
      "38.60     1\n",
      "38.86     1\n",
      "39.00     5\n",
      "39.70     1\n",
      "39.73     1\n",
      "39.90     1\n",
      "39.96     1\n",
      "40.00    14\n",
      "Name: kitchen_area, dtype: int64\n",
      "\n",
      "---------------------------------------------------------------------------------------------------\n",
      "\n",
      "count    22765.00\n",
      "mean         0.60\n",
      "std          0.96\n",
      "min          0.00\n",
      "25%          0.00\n",
      "50%          0.00\n",
      "75%          1.00\n",
      "max          5.00\n",
      "Name: balcony, dtype: float64\n",
      "\n",
      "0    14581\n",
      "1     4049\n",
      "2     3603\n",
      "3       74\n",
      "4      167\n",
      "5      291\n",
      "Name: balcony, dtype: int64\n",
      "0    14581\n",
      "1     4049\n",
      "2     3603\n",
      "3       74\n",
      "4      167\n",
      "5      291\n",
      "Name: balcony, dtype: int64\n",
      "\n",
      "---------------------------------------------------------------------------------------------------\n",
      "\n",
      "count               22765\n",
      "unique                316\n",
      "top       Санкт-Петербург\n",
      "freq                14918\n",
      "Name: locality_name, dtype: object\n",
      "\n",
      "Бокситогорск     15\n",
      "Волосово         36\n",
      "Волхов          111\n",
      "Всеволожск      394\n",
      "Выборг          234\n",
      "Высоцк            3\n",
      "Гатчина         307\n",
      "Зеленогорск      21\n",
      "Ивангород        28\n",
      "Каменногорск     13\n",
      "Name: locality_name, dtype: int64\n",
      "поселок имени Свердлова    36\n",
      "село Копорье                4\n",
      "село Никольское             1\n",
      "село Павлово                7\n",
      "село Паша                   2\n",
      "село Путилово               2\n",
      "село Рождествено            3\n",
      "село Русско-Высоцкое        9\n",
      "село Старая Ладога          2\n",
      "село Шум                    1\n",
      "Name: locality_name, dtype: int64\n",
      "\n",
      "---------------------------------------------------------------------------------------------------\n",
      "\n",
      "count    17280.00\n",
      "mean     28883.71\n",
      "std      12738.59\n",
      "min       6450.00\n",
      "25%      18420.00\n",
      "50%      26960.00\n",
      "75%      37434.00\n",
      "max      78527.00\n",
      "Name: airports_nearest, dtype: float64\n",
      "\n",
      "6450.0     2\n",
      "6914.0     1\n",
      "6949.0     1\n",
      "6989.0     6\n",
      "6992.0     1\n",
      "6995.0     2\n",
      "7002.0     1\n",
      "7016.0     4\n",
      "7019.0     3\n",
      "7026.0    14\n",
      "Name: airports_nearest, dtype: int64\n",
      "72078.0    1\n",
      "72280.0    1\n",
      "72284.0    1\n",
      "72469.0    2\n",
      "72713.0    1\n",
      "73115.0    1\n",
      "73547.0    1\n",
      "73827.0    1\n",
      "75646.0    1\n",
      "78527.0    1\n",
      "Name: airports_nearest, dtype: int64\n",
      "\n",
      "---------------------------------------------------------------------------------------------------\n",
      "\n",
      "count    17300.00\n",
      "mean     14441.55\n",
      "std       8500.55\n",
      "min        208.00\n",
      "25%       9760.00\n",
      "50%      13245.00\n",
      "75%      16387.50\n",
      "max      59626.00\n",
      "Name: cityCenters_nearest, dtype: float64\n",
      "\n",
      "208.0    1\n",
      "215.0    1\n",
      "287.0    1\n",
      "329.0    1\n",
      "376.0    1\n",
      "387.0    1\n",
      "399.0    1\n",
      "423.0    1\n",
      "467.0    1\n",
      "472.0    1\n",
      "Name: cityCenters_nearest, dtype: int64\n",
      "53294.0    1\n",
      "53379.0    1\n",
      "53383.0    1\n",
      "53568.0    2\n",
      "54214.0    1\n",
      "54646.0    1\n",
      "54926.0    1\n",
      "56745.0    1\n",
      "59052.0    1\n",
      "59626.0    1\n",
      "Name: cityCenters_nearest, dtype: int64\n",
      "\n",
      "---------------------------------------------------------------------------------------------------\n",
      "\n",
      "count    17301.00\n",
      "mean         0.59\n",
      "std          0.78\n",
      "min          0.00\n",
      "25%          0.00\n",
      "50%          0.00\n",
      "75%          1.00\n",
      "max          3.00\n",
      "Name: parks_around3000, dtype: float64\n",
      "\n",
      "0.0    9799\n",
      "1.0    5386\n",
      "2.0    1584\n",
      "3.0     532\n",
      "Name: parks_around3000, dtype: int64\n",
      "0.0    9799\n",
      "1.0    5386\n",
      "2.0    1584\n",
      "3.0     532\n",
      "Name: parks_around3000, dtype: int64\n",
      "\n",
      "---------------------------------------------------------------------------------------------------\n",
      "\n",
      "count    7502.00\n",
      "mean      488.14\n",
      "std       324.11\n",
      "min        10.00\n",
      "25%       289.00\n",
      "50%       456.00\n",
      "75%       612.00\n",
      "max      2489.00\n",
      "Name: parks_nearest, dtype: float64\n",
      "\n",
      "10.0    7\n",
      "11.0    5\n",
      "12.0    1\n",
      "13.0    5\n",
      "15.0    5\n",
      "16.0    5\n",
      "17.0    5\n",
      "18.0    8\n",
      "19.0    8\n",
      "20.0    9\n",
      "Name: parks_nearest, dtype: int64\n",
      "2218.0     3\n",
      "2245.0     9\n",
      "2276.0     8\n",
      "2295.0    13\n",
      "2348.0     1\n",
      "2409.0     5\n",
      "2416.0     3\n",
      "2427.0     1\n",
      "2467.0     7\n",
      "2489.0     1\n",
      "Name: parks_nearest, dtype: int64\n",
      "\n",
      "---------------------------------------------------------------------------------------------------\n",
      "\n",
      "count    17301.00\n",
      "mean         0.74\n",
      "std          0.92\n",
      "min          0.00\n",
      "25%          0.00\n",
      "50%          0.00\n",
      "75%          1.00\n",
      "max          3.00\n",
      "Name: ponds_around3000, dtype: float64\n",
      "\n",
      "0.0    8843\n",
      "1.0    5436\n",
      "2.0    1737\n",
      "3.0    1285\n",
      "Name: ponds_around3000, dtype: int64\n",
      "0.0    8843\n",
      "1.0    5436\n",
      "2.0    1737\n",
      "3.0    1285\n",
      "Name: ponds_around3000, dtype: int64\n",
      "\n",
      "---------------------------------------------------------------------------------------------------\n",
      "\n",
      "count    8458.00\n",
      "mean      531.61\n",
      "std       273.38\n",
      "min        50.00\n",
      "25%       315.00\n",
      "50%       516.00\n",
      "75%       739.00\n",
      "max      1344.00\n",
      "Name: ponds_nearest, dtype: float64\n",
      "\n",
      "50.0     8\n",
      "51.0     3\n",
      "52.0     2\n",
      "53.0     8\n",
      "54.0     9\n",
      "55.0    12\n",
      "56.0     8\n",
      "57.0     3\n",
      "58.0     9\n",
      "59.0     1\n",
      "Name: ponds_nearest, dtype: int64\n",
      "1270.0    1\n",
      "1271.0    3\n",
      "1275.0    1\n",
      "1278.0    2\n",
      "1293.0    1\n",
      "1299.0    1\n",
      "1313.0    1\n",
      "1337.0    1\n",
      "1341.0    2\n",
      "1344.0    1\n",
      "Name: ponds_nearest, dtype: int64\n",
      "\n",
      "---------------------------------------------------------------------------------------------------\n",
      "\n",
      "count    19782.00\n",
      "mean       177.22\n",
      "std        215.12\n",
      "min          1.00\n",
      "25%         44.00\n",
      "50%         93.50\n",
      "75%        226.00\n",
      "max       1580.00\n",
      "Name: days_exposition, dtype: float64\n",
      "\n",
      "1.0       1\n",
      "2.0       3\n",
      "3.0     155\n",
      "4.0     170\n",
      "5.0     145\n",
      "6.0     122\n",
      "7.0     231\n",
      "8.0     133\n",
      "9.0     135\n",
      "10.0    127\n",
      "Name: days_exposition, dtype: int64\n",
      "1458.0    1\n",
      "1477.0    1\n",
      "1484.0    1\n",
      "1485.0    1\n",
      "1489.0    1\n",
      "1497.0    1\n",
      "1512.0    1\n",
      "1513.0    1\n",
      "1553.0    1\n",
      "1580.0    1\n",
      "Name: days_exposition, dtype: int64\n",
      "\n",
      "---------------------------------------------------------------------------------------------------\n",
      "\n"
     ]
    }
   ],
   "source": [
    "print(len(data))\n",
    "\n",
    "for column in data.columns:\n",
    "    print(data[column].describe())\n",
    "    print()\n",
    "    print(data[column].value_counts().sort_index().head(10))\n",
    "    print(data[column].value_counts().sort_index().tail(10))\n",
    "    print()\n",
    "    print('---------------------------------------------------------------------------------------------------')\n",
    "    print()"
   ]
  },
  {
   "cell_type": "markdown",
   "metadata": {},
   "source": [
    "В результате предобработки были заполнены пропуски, отфильтрованы аномальные значения, из-за чего выборка сократилась на 4%, с 23699 наблюдений до 22765 наблюдений."
   ]
  },
  {
   "cell_type": "markdown",
   "metadata": {},
   "source": [
    "### Этап 3. Исследование данных\n",
    "\n",
    "Добавим необходимые далее столбцы - с датами, ценой за метр квадратный, расстоянием до центра."
   ]
  },
  {
   "cell_type": "code",
   "execution_count": 22,
   "metadata": {},
   "outputs": [
    {
     "name": "stdout",
     "output_type": "stream",
     "text": [
      "Оценка потерь: до выполнения этого блока у нас было 22 765 наблюдений, после выполнения стало: 22642\n"
     ]
    }
   ],
   "source": [
    "data['price_per_square_meter'] = data['last_price'] / data['total_area'] #добавили стоимость квадратного метра\n",
    "data = data.query('18000 <= price_per_square_meter <= 600000') #на всякий случай отфильтровали по цене квадратного метра\n",
    "\n",
    "#добавляем столбцы с датами\n",
    "data['first_day_exposition'] = pd.to_datetime(data['first_day_exposition'], format='%Y-%m-%dT%H:%M:%S')\n",
    "data['weekday'] = data['first_day_exposition'].dt.weekday\n",
    "data['month'] = data['first_day_exposition'].dt.month\n",
    "data['year'] = data['first_day_exposition'].dt.year\n",
    "\n",
    "#функция для определения типа этажа\n",
    "def floor_type(floor, floors_total):\n",
    "    if floor == floors_total:\n",
    "        return 'последний'\n",
    "    elif floor == 1:\n",
    "        return 'первый'\n",
    "    else:\n",
    "        return 'другой'\n",
    "\n",
    "data['floor_type'] = data.apply(lambda x: floor_type(x['floor'], x['floors_total']), axis=1)\n",
    "\n",
    "#стобец с расстоянием до центра в км\n",
    "data['cityCenters_nearest_km'] = data['cityCenters_nearest'] / 1000\n",
    "data['cityCenters_nearest_km'] = data['cityCenters_nearest_km'].round()\n",
    "\n",
    "print('Оценка потерь: до выполнения этого блока у нас было 22 765 наблюдений, после выполнения стало:', len(data))"
   ]
  },
  {
   "cell_type": "markdown",
   "metadata": {},
   "source": [
    "Визуализируем каждый из параметров квартиры отдельно."
   ]
  },
  {
   "cell_type": "markdown",
   "metadata": {},
   "source": [
    "_______________________________________________________________________________________________________________________________\n",
    "**Общая площадь**\n",
    "\n",
    "_______________________________________________________________________________________________________________________________"
   ]
  },
  {
   "cell_type": "code",
   "execution_count": 26,
   "metadata": {},
   "outputs": [
    {
     "data": {
      "text/plain": [
       "<AxesSubplot:>"
      ]
     },
     "execution_count": 26,
     "metadata": {},
     "output_type": "execute_result"
    },
    {
     "data": {
      "image/png": "[encoded data removed]",
      "text/plain": [
       "<Figure size 432x288 with 1 Axes>"
      ]
     },
     "metadata": {
      "needs_background": "light"
     },
     "output_type": "display_data"
    }
   ],
   "source": [
    "data['total_area'].hist(bins=100, range=(0, 175))"
   ]
  },
  {
   "cell_type": "code",
   "execution_count": 27,
   "metadata": {},
   "outputs": [
    {
     "data": {
      "text/plain": [
       "<AxesSubplot:>"
      ]
     },
     "execution_count": 27,
     "metadata": {},
     "output_type": "execute_result"
    },
    {
     "data": {
      "image/png": "[encoded data removed]",
      "text/plain": [
       "<Figure size 432x288 with 1 Axes>"
      ]
     },
     "metadata": {
      "needs_background": "light"
     },
     "output_type": "display_data"
    }
   ],
   "source": [
    "plt.ylim(0, 150)\n",
    "data.boxplot(column='total_area')"
   ]
  },
  {
   "cell_type": "markdown",
   "metadata": {},
   "source": [
    "Подавляющее большинство квартир имеют площадь менее 70 метров. Близость среднего и медианы, а так же отсутствие на `boxplot` отдельных точек говорит о приемлимом качестве очистки данных от выбросов.\n",
    "\n",
    "Наблюдаем два пика, около 40 и около 60 метров. Можно предположить, что студии и однушки имеют площадь чуть меньше 50 метров, в то время как двухкомнатные квартиры - чуть больше 50, при этом трёшки вполне могут очнь близки по размерам к двушкам, из-за чего на 50 наблюдаем провал."
   ]
  },
  {
   "cell_type": "markdown",
   "metadata": {},
   "source": [
    "_______________________________________________________________________________________________________________________________\n",
    "**Жилая площадь**\n",
    "\n",
    "_______________________________________________________________________________________________________________________________"
   ]
  },
  {
   "cell_type": "code",
   "execution_count": 28,
   "metadata": {},
   "outputs": [
    {
     "name": "stdout",
     "output_type": "stream",
     "text": [
      "count    22642.00\n",
      "mean        30.84\n",
      "std         17.64\n",
      "min          0.00\n",
      "25%         18.00\n",
      "50%         29.10\n",
      "75%         41.00\n",
      "max        120.00\n",
      "Name: living_area, dtype: float64\n"
     ]
    },
    {
     "data": {
      "image/png": "[encoded data removed]",
      "text/plain": [
       "<Figure size 432x288 with 1 Axes>"
      ]
     },
     "metadata": {
      "needs_background": "light"
     },
     "output_type": "display_data"
    }
   ],
   "source": [
    "data['living_area'].hist(bins=100)\n",
    "print(data['living_area'].describe())"
   ]
  },
  {
   "cell_type": "code",
   "execution_count": 29,
   "metadata": {},
   "outputs": [
    {
     "data": {
      "text/plain": [
       "<AxesSubplot:>"
      ]
     },
     "execution_count": 29,
     "metadata": {},
     "output_type": "execute_result"
    },
    {
     "data": {
      "image/png": "[encoded data removed]",
      "text/plain": [
       "<Figure size 432x288 with 1 Axes>"
      ]
     },
     "metadata": {
      "needs_background": "light"
     },
     "output_type": "display_data"
    }
   ],
   "source": [
    "data.boxplot(column='living_area')"
   ]
  },
  {
   "cell_type": "markdown",
   "metadata": {},
   "source": [
    "Близость среднего и медианы, а так же отсутствие на `boxplot` отдельных точек говорит о приемлимом качестве очистки данных от выбросов.\n",
    "\n",
    "Так же наблюдаем два пика, аналогичной природы."
   ]
  },
  {
   "cell_type": "markdown",
   "metadata": {},
   "source": [
    "_______________________________________________________________________________________________________________________________\n",
    "**Площадь кухни**\n",
    "\n",
    "_______________________________________________________________________________________________________________________________"
   ]
  },
  {
   "cell_type": "code",
   "execution_count": 30,
   "metadata": {},
   "outputs": [
    {
     "name": "stdout",
     "output_type": "stream",
     "text": [
      "count    22642.00\n",
      "mean         9.68\n",
      "std          5.28\n",
      "min          0.00\n",
      "25%          6.80\n",
      "50%          9.00\n",
      "75%         11.50\n",
      "max         40.00\n",
      "Name: kitchen_area, dtype: float64\n"
     ]
    },
    {
     "data": {
      "image/png": "[encoded data removed]",
      "text/plain": [
       "<Figure size 432x288 with 1 Axes>"
      ]
     },
     "metadata": {
      "needs_background": "light"
     },
     "output_type": "display_data"
    }
   ],
   "source": [
    "data['kitchen_area'].hist(bins=50)\n",
    "print(data['kitchen_area'].describe())"
   ]
  },
  {
   "cell_type": "code",
   "execution_count": 31,
   "metadata": {},
   "outputs": [
    {
     "data": {
      "text/plain": [
       "<AxesSubplot:>"
      ]
     },
     "execution_count": 31,
     "metadata": {},
     "output_type": "execute_result"
    },
    {
     "data": {
      "image/png": "[encoded data removed]",
      "text/plain": [
       "<Figure size 432x288 with 1 Axes>"
      ]
     },
     "metadata": {
      "needs_background": "light"
     },
     "output_type": "display_data"
    }
   ],
   "source": [
    "data.boxplot(column='kitchen_area')"
   ]
  },
  {
   "cell_type": "markdown",
   "metadata": {},
   "source": [
    "Близость среднего и медианы, а так же отсутствие на `boxplot` отдельных точек говорит о приемлимом качестве очистки данных от выбросов.\n",
    "\n",
    "Наблюдаем явные пики, можем предположить ступенчатое увеличение площади кухны в зависимости от количество комнат."
   ]
  },
  {
   "cell_type": "markdown",
   "metadata": {},
   "source": [
    "_______________________________________________________________________________________________________________________________\n",
    "**Цена объекта**\n",
    "\n",
    "_______________________________________________________________________________________________________________________________"
   ]
  },
  {
   "cell_type": "code",
   "execution_count": 32,
   "metadata": {},
   "outputs": [
    {
     "name": "stdout",
     "output_type": "stream",
     "text": [
      "count    2.26e+04\n",
      "mean     5.58e+06\n",
      "std      3.71e+06\n",
      "min      5.50e+05\n",
      "25%      3.40e+06\n",
      "50%      4.59e+06\n",
      "75%      6.50e+06\n",
      "max      3.00e+07\n",
      "Name: last_price, dtype: float64\n"
     ]
    },
    {
     "data": {
      "image/png": "[encoded data removed]",
      "text/plain": [
       "<Figure size 432x288 with 1 Axes>"
      ]
     },
     "metadata": {
      "needs_background": "light"
     },
     "output_type": "display_data"
    }
   ],
   "source": [
    "pd.set_option('precision', 2)\n",
    "data['last_price'].hist(bins=100)\n",
    "print(data['last_price'].describe())"
   ]
  },
  {
   "cell_type": "code",
   "execution_count": 33,
   "metadata": {},
   "outputs": [
    {
     "data": {
      "text/plain": [
       "<AxesSubplot:>"
      ]
     },
     "execution_count": 33,
     "metadata": {},
     "output_type": "execute_result"
    },
    {
     "data": {
      "image/png": "[encoded data removed]",
      "text/plain": [
       "<Figure size 432x288 with 1 Axes>"
      ]
     },
     "metadata": {
      "needs_background": "light"
     },
     "output_type": "display_data"
    }
   ],
   "source": [
    "data.boxplot(column='last_price')"
   ]
  },
  {
   "cell_type": "markdown",
   "metadata": {},
   "source": [
    "Для покупки квартиры придётся припасти несколько миллионов."
   ]
  },
  {
   "cell_type": "markdown",
   "metadata": {},
   "source": [
    "_______________________________________________________________________________________________________________________________\n",
    "**Количество комнат**\n",
    "\n",
    "_______________________________________________________________________________________________________________________________"
   ]
  },
  {
   "cell_type": "code",
   "execution_count": 34,
   "metadata": {},
   "outputs": [
    {
     "name": "stdout",
     "output_type": "stream",
     "text": [
      "count    22642.00\n",
      "mean         2.01\n",
      "std          0.97\n",
      "min          0.00\n",
      "25%          1.00\n",
      "50%          2.00\n",
      "75%          3.00\n",
      "max          8.00\n",
      "Name: rooms, dtype: float64\n"
     ]
    },
    {
     "data": {
      "image/png": "[encoded data removed]",
      "text/plain": [
       "<Figure size 432x288 with 1 Axes>"
      ]
     },
     "metadata": {
      "needs_background": "light"
     },
     "output_type": "display_data"
    }
   ],
   "source": [
    "data['rooms'].hist(bins=9)\n",
    "print(data['rooms'].describe())"
   ]
  },
  {
   "cell_type": "code",
   "execution_count": 35,
   "metadata": {},
   "outputs": [
    {
     "data": {
      "text/plain": [
       "<AxesSubplot:>"
      ]
     },
     "execution_count": 35,
     "metadata": {},
     "output_type": "execute_result"
    },
    {
     "data": {
      "image/png": "[encoded data removed]",
      "text/plain": [
       "<Figure size 432x288 with 1 Axes>"
      ]
     },
     "metadata": {
      "needs_background": "light"
     },
     "output_type": "display_data"
    }
   ],
   "source": [
    "data.boxplot(column='rooms')"
   ]
  },
  {
   "cell_type": "markdown",
   "metadata": {},
   "source": [
    "Пять и более комнат в квартирах встречаются крайне редко."
   ]
  },
  {
   "cell_type": "markdown",
   "metadata": {},
   "source": [
    "_______________________________________________________________________________________________________________________________\n",
    "**Высота потолков**\n",
    "\n",
    "_______________________________________________________________________________________________________________________________"
   ]
  },
  {
   "cell_type": "code",
   "execution_count": 36,
   "metadata": {},
   "outputs": [
    {
     "name": "stdout",
     "output_type": "stream",
     "text": [
      "count    22642.00\n",
      "mean         2.70\n",
      "std          0.21\n",
      "min          2.40\n",
      "25%          2.55\n",
      "50%          2.65\n",
      "75%          2.75\n",
      "max          4.00\n",
      "Name: ceiling_height, dtype: float64\n"
     ]
    },
    {
     "data": {
      "image/png": "[encoded data removed]",
      "text/plain": [
       "<Figure size 432x288 with 1 Axes>"
      ]
     },
     "metadata": {
      "needs_background": "light"
     },
     "output_type": "display_data"
    }
   ],
   "source": [
    "data['ceiling_height'].hist()\n",
    "print(data['ceiling_height'].describe())"
   ]
  },
  {
   "cell_type": "code",
   "execution_count": 37,
   "metadata": {},
   "outputs": [
    {
     "data": {
      "text/plain": [
       "<AxesSubplot:>"
      ]
     },
     "execution_count": 37,
     "metadata": {},
     "output_type": "execute_result"
    },
    {
     "data": {
      "image/png": "[encoded data removed]",
      "text/plain": [
       "<Figure size 432x288 with 1 Axes>"
      ]
     },
     "metadata": {
      "needs_background": "light"
     },
     "output_type": "display_data"
    }
   ],
   "source": [
    "data.boxplot(column='ceiling_height')"
   ]
  },
  {
   "cell_type": "markdown",
   "metadata": {},
   "source": [
    "Даже в Питере потолки выше 3 метров встречаются не часто."
   ]
  },
  {
   "cell_type": "markdown",
   "metadata": {},
   "source": [
    "_______________________________________________________________________________________________________________________________\n",
    "**Этаж квартиры**\n",
    "\n",
    "_______________________________________________________________________________________________________________________________"
   ]
  },
  {
   "cell_type": "code",
   "execution_count": 38,
   "metadata": {},
   "outputs": [
    {
     "name": "stdout",
     "output_type": "stream",
     "text": [
      "count    22642.00\n",
      "mean         5.92\n",
      "std          4.90\n",
      "min          1.00\n",
      "25%          2.00\n",
      "50%          4.00\n",
      "75%          8.00\n",
      "max         33.00\n",
      "Name: floor, dtype: float64\n"
     ]
    },
    {
     "data": {
      "image/png": "[encoded data removed]",
      "text/plain": [
       "<Figure size 432x288 with 1 Axes>"
      ]
     },
     "metadata": {
      "needs_background": "light"
     },
     "output_type": "display_data"
    }
   ],
   "source": [
    "data['floor'].hist()\n",
    "print(data['floor'].describe())"
   ]
  },
  {
   "cell_type": "code",
   "execution_count": 39,
   "metadata": {},
   "outputs": [
    {
     "data": {
      "text/plain": [
       "<AxesSubplot:>"
      ]
     },
     "execution_count": 39,
     "metadata": {},
     "output_type": "execute_result"
    },
    {
     "data": {
      "image/png": "[encoded data removed]",
      "text/plain": [
       "<Figure size 432x288 with 1 Axes>"
      ]
     },
     "metadata": {
      "needs_background": "light"
     },
     "output_type": "display_data"
    }
   ],
   "source": [
    "data.boxplot(column='floor')"
   ]
  },
  {
   "cell_type": "markdown",
   "metadata": {},
   "source": [
    "Судя во всему в Питере и его окрестностях 30-ти этажные здания пока что редкость."
   ]
  },
  {
   "cell_type": "markdown",
   "metadata": {},
   "source": [
    "_______________________________________________________________________________________________________________________________\n",
    "**Тип этажа квартиры**\n",
    "\n",
    "_______________________________________________________________________________________________________________________________"
   ]
  },
  {
   "cell_type": "code",
   "execution_count": 40,
   "metadata": {},
   "outputs": [
    {
     "name": "stdout",
     "output_type": "stream",
     "text": [
      "count      22642\n",
      "unique         3\n",
      "top       другой\n",
      "freq       16704\n",
      "Name: floor_type, dtype: object\n"
     ]
    },
    {
     "data": {
      "image/png": "[encoded data removed]",
      "text/plain": [
       "<Figure size 432x288 with 1 Axes>"
      ]
     },
     "metadata": {
      "needs_background": "light"
     },
     "output_type": "display_data"
    }
   ],
   "source": [
    "data['floor_type'].hist()\n",
    "print(data['floor_type'].describe())"
   ]
  },
  {
   "cell_type": "markdown",
   "metadata": {},
   "source": [
    "Около 10% первых и 10% последних, выглядит правдоподобно."
   ]
  },
  {
   "cell_type": "markdown",
   "metadata": {},
   "source": [
    "_______________________________________________________________________________________________________________________________\n",
    "**Общее количество этажей в доме**\n",
    "\n",
    "_______________________________________________________________________________________________________________________________"
   ]
  },
  {
   "cell_type": "code",
   "execution_count": 41,
   "metadata": {},
   "outputs": [
    {
     "name": "stdout",
     "output_type": "stream",
     "text": [
      "count    22642.00\n",
      "mean        10.80\n",
      "std          6.62\n",
      "min          1.00\n",
      "25%          5.00\n",
      "50%          9.00\n",
      "75%         16.00\n",
      "max         60.00\n",
      "Name: floors_total, dtype: float64\n"
     ]
    },
    {
     "data": {
      "image/png": "[encoded data removed]",
      "text/plain": [
       "<Figure size 432x288 with 1 Axes>"
      ]
     },
     "metadata": {
      "needs_background": "light"
     },
     "output_type": "display_data"
    }
   ],
   "source": [
    "data['floors_total'].hist(bins=60)\n",
    "print(data['floors_total'].describe())"
   ]
  },
  {
   "cell_type": "code",
   "execution_count": 42,
   "metadata": {},
   "outputs": [
    {
     "data": {
      "text/plain": [
       "<AxesSubplot:>"
      ]
     },
     "execution_count": 42,
     "metadata": {},
     "output_type": "execute_result"
    },
    {
     "data": {
      "image/png": "[encoded data removed]",
      "text/plain": [
       "<Figure size 432x288 with 1 Axes>"
      ]
     },
     "metadata": {
      "needs_background": "light"
     },
     "output_type": "display_data"
    }
   ],
   "source": [
    "data.boxplot(column='floors_total')"
   ]
  },
  {
   "cell_type": "markdown",
   "metadata": {},
   "source": [
    "Предыдущие выводы подтверждаются - забраться выше 30 этажа будет непросто."
   ]
  },
  {
   "cell_type": "markdown",
   "metadata": {},
   "source": [
    "_______________________________________________________________________________________________________________________________\n",
    "**Расстояние до центра города в метрах**\n",
    "\n",
    "_______________________________________________________________________________________________________________________________"
   ]
  },
  {
   "cell_type": "code",
   "execution_count": 43,
   "metadata": {},
   "outputs": [
    {
     "name": "stdout",
     "output_type": "stream",
     "text": [
      "count    17295.00\n",
      "mean     14444.60\n",
      "std       8499.86\n",
      "min        208.00\n",
      "25%       9761.50\n",
      "50%      13251.00\n",
      "75%      16394.00\n",
      "max      59626.00\n",
      "Name: cityCenters_nearest, dtype: float64\n"
     ]
    },
    {
     "data": {
      "image/png": "[encoded data removed]",
      "text/plain": [
       "<Figure size 432x288 with 1 Axes>"
      ]
     },
     "metadata": {
      "needs_background": "light"
     },
     "output_type": "display_data"
    }
   ],
   "source": [
    "data['cityCenters_nearest'].hist(bins=40)\n",
    "print(data['cityCenters_nearest'].describe())"
   ]
  },
  {
   "cell_type": "code",
   "execution_count": 44,
   "metadata": {},
   "outputs": [
    {
     "data": {
      "text/plain": [
       "<AxesSubplot:>"
      ]
     },
     "execution_count": 44,
     "metadata": {},
     "output_type": "execute_result"
    },
    {
     "data": {
      "image/png": "[encoded data removed]",
      "text/plain": [
       "<Figure size 432x288 with 1 Axes>"
      ]
     },
     "metadata": {
      "needs_background": "light"
     },
     "output_type": "display_data"
    }
   ],
   "source": [
    "data.boxplot(column='cityCenters_nearest')"
   ]
  },
  {
   "cell_type": "markdown",
   "metadata": {},
   "source": [
    "Судя по карте, границы города примерно в 15 км от центра, а после 30-35 км значительно снижается плотность наслённых пунктов. После 60 км их становится совсем мало. Плюс примерно в 40 километрах от центра города Ладыжское озеро. Это сопадает с полученными результатами - большая часть объявлений в пределах 15 км, потом сильная просадка после 35 км, и пустота на 60 км."
   ]
  },
  {
   "cell_type": "markdown",
   "metadata": {},
   "source": [
    "_______________________________________________________________________________________________________________________________\n",
    "**Расстояние до ближайшего аэропорта**\n",
    "\n",
    "_______________________________________________________________________________________________________________________________"
   ]
  },
  {
   "cell_type": "code",
   "execution_count": 45,
   "metadata": {},
   "outputs": [
    {
     "name": "stdout",
     "output_type": "stream",
     "text": [
      "count    17275.00\n",
      "mean     28885.31\n",
      "std      12740.06\n",
      "min       6450.00\n",
      "25%      18420.00\n",
      "50%      26971.00\n",
      "75%      37434.00\n",
      "max      78527.00\n",
      "Name: airports_nearest, dtype: float64\n"
     ]
    },
    {
     "data": {
      "image/png": "[encoded data removed]",
      "text/plain": [
       "<Figure size 432x288 with 1 Axes>"
      ]
     },
     "metadata": {
      "needs_background": "light"
     },
     "output_type": "display_data"
    }
   ],
   "source": [
    "data['airports_nearest'].hist(bins=50)\n",
    "print(data['airports_nearest'].describe())"
   ]
  },
  {
   "cell_type": "code",
   "execution_count": 46,
   "metadata": {},
   "outputs": [
    {
     "data": {
      "text/plain": [
       "<AxesSubplot:>"
      ]
     },
     "execution_count": 46,
     "metadata": {},
     "output_type": "execute_result"
    },
    {
     "data": {
      "image/png": "[encoded data removed]",
      "text/plain": [
       "<Figure size 432x288 with 1 Axes>"
      ]
     },
     "metadata": {
      "needs_background": "light"
     },
     "output_type": "display_data"
    }
   ],
   "source": [
    "data.boxplot(column='airports_nearest')"
   ]
  },
  {
   "cell_type": "markdown",
   "metadata": {},
   "source": [
    "Близость среднего и медианы, а так же отсутствие на boxplot отдельных точек говорит о приемлимом качестве очистки данных от выбросов."
   ]
  },
  {
   "cell_type": "markdown",
   "metadata": {},
   "source": [
    "_______________________________________________________________________________________________________________________________\n",
    "**Расстояние до ближайшего парка**\n",
    "\n",
    "_______________________________________________________________________________________________________________________________"
   ]
  },
  {
   "cell_type": "code",
   "execution_count": 47,
   "metadata": {},
   "outputs": [
    {
     "name": "stdout",
     "output_type": "stream",
     "text": [
      "count    7499.00\n",
      "mean      488.12\n",
      "std       324.12\n",
      "min        10.00\n",
      "25%       289.00\n",
      "50%       456.00\n",
      "75%       612.00\n",
      "max      2489.00\n",
      "Name: parks_nearest, dtype: float64\n"
     ]
    },
    {
     "data": {
      "image/png": "[encoded data removed]",
      "text/plain": [
       "<Figure size 432x288 with 1 Axes>"
      ]
     },
     "metadata": {
      "needs_background": "light"
     },
     "output_type": "display_data"
    }
   ],
   "source": [
    "data['parks_nearest'].hist(bins=50)\n",
    "print(data['parks_nearest'].describe())"
   ]
  },
  {
   "cell_type": "code",
   "execution_count": 48,
   "metadata": {},
   "outputs": [
    {
     "data": {
      "text/plain": [
       "<AxesSubplot:>"
      ]
     },
     "execution_count": 48,
     "metadata": {},
     "output_type": "execute_result"
    },
    {
     "data": {
      "image/png": "[encoded data removed]",
      "text/plain": [
       "<Figure size 432x288 with 1 Axes>"
      ]
     },
     "metadata": {
      "needs_background": "light"
     },
     "output_type": "display_data"
    }
   ],
   "source": [
    "data.boxplot(column='parks_nearest')"
   ]
  },
  {
   "cell_type": "markdown",
   "metadata": {},
   "source": [
    "Судя по всему, будет сложно найти место, чтобы в радиусе 1 км не было парка."
   ]
  },
  {
   "cell_type": "markdown",
   "metadata": {},
   "source": [
    "_______________________________________________________________________________________________________________________________\n",
    "**День публикации объявления**\n",
    "\n",
    "_______________________________________________________________________________________________________________________________"
   ]
  },
  {
   "cell_type": "code",
   "execution_count": 49,
   "metadata": {},
   "outputs": [
    {
     "name": "stdout",
     "output_type": "stream",
     "text": [
      "count    22642.00\n",
      "mean         2.57\n",
      "std          1.79\n",
      "min          0.00\n",
      "25%          1.00\n",
      "50%          3.00\n",
      "75%          4.00\n",
      "max          6.00\n",
      "Name: weekday, dtype: float64\n"
     ]
    },
    {
     "data": {
      "image/png": "[encoded data removed]",
      "text/plain": [
       "<Figure size 432x288 with 1 Axes>"
      ]
     },
     "metadata": {
      "needs_background": "light"
     },
     "output_type": "display_data"
    }
   ],
   "source": [
    "data['weekday'].hist(bins=7)\n",
    "print(data['weekday'].describe())"
   ]
  },
  {
   "cell_type": "markdown",
   "metadata": {},
   "source": [
    "Похоже люди предпочитают заниматься объявлениями о продаже квартир по будням. Вероятно это их работа."
   ]
  },
  {
   "cell_type": "markdown",
   "metadata": {},
   "source": [
    "_______________________________________________________________________________________________________________________________\n",
    "**Месяц публикации объявления**\n",
    "\n",
    "_______________________________________________________________________________________________________________________________"
   ]
  },
  {
   "cell_type": "code",
   "execution_count": 50,
   "metadata": {},
   "outputs": [
    {
     "name": "stdout",
     "output_type": "stream",
     "text": [
      "count    22642.00\n",
      "mean         6.40\n",
      "std          3.49\n",
      "min          1.00\n",
      "25%          3.00\n",
      "50%          6.00\n",
      "75%         10.00\n",
      "max         12.00\n",
      "Name: month, dtype: float64\n"
     ]
    },
    {
     "data": {
      "image/png": "[encoded data removed]",
      "text/plain": [
       "<Figure size 432x288 with 1 Axes>"
      ]
     },
     "metadata": {
      "needs_background": "light"
     },
     "output_type": "display_data"
    }
   ],
   "source": [
    "data['month'].hist(bins=12)\n",
    "print(data['month'].describe())"
   ]
  },
  {
   "cell_type": "markdown",
   "metadata": {},
   "source": [
    "Зимой и летом объявлений меньше, чем весной и осенью. Особенно мало в январе и мае. Вероятно это связано с отпусками и праздниками."
   ]
  },
  {
   "cell_type": "markdown",
   "metadata": {},
   "source": [
    "_______________________________________________________________________________________________________________________________\n",
    "**Как быстро продавались квартиры**\n",
    "\n",
    "_______________________________________________________________________________________________________________________________"
   ]
  },
  {
   "cell_type": "code",
   "execution_count": 51,
   "metadata": {},
   "outputs": [
    {
     "name": "stdout",
     "output_type": "stream",
     "text": [
      "count    19685.00\n",
      "mean       177.42\n",
      "std        215.33\n",
      "min          1.00\n",
      "25%         44.00\n",
      "50%         94.00\n",
      "75%        226.00\n",
      "max       1580.00\n",
      "Name: days_exposition, dtype: float64\n",
      "0.1     17.0\n",
      "0.9    449.0\n",
      "Name: days_exposition, dtype: float64\n"
     ]
    },
    {
     "data": {
      "image/png": "[encoded data removed]",
      "text/plain": [
       "<Figure size 432x288 with 1 Axes>"
      ]
     },
     "metadata": {
      "needs_background": "light"
     },
     "output_type": "display_data"
    }
   ],
   "source": [
    "data['days_exposition'].hist(bins=100)\n",
    "print(data['days_exposition'].describe())\n",
    "print(data['days_exposition'].quantile([.1, .9]))"
   ]
  },
  {
   "cell_type": "code",
   "execution_count": 52,
   "metadata": {
    "scrolled": true
   },
   "outputs": [
    {
     "data": {
      "text/plain": [
       "<AxesSubplot:>"
      ]
     },
     "execution_count": 52,
     "metadata": {},
     "output_type": "execute_result"
    },
    {
     "data": {
      "image/png": "[encoded data removed]",
      "text/plain": [
       "<Figure size 432x288 with 1 Axes>"
      ]
     },
     "metadata": {
      "needs_background": "light"
     },
     "output_type": "display_data"
    }
   ],
   "source": [
    "data.boxplot(column='days_exposition')"
   ]
  },
  {
   "cell_type": "markdown",
   "metadata": {},
   "source": [
    "Ранее этот столбец был отфильтрован по отметке в три года. Согласно полученным данным большинству продавцов удастся заключить сделку в течении 3 месяцев. Это бьётся с доступной в интернете информацией - разные источники указывают средний срок продажи квартиры в Санкт-Петербурге от 62 до 122 дней.\n",
    "\n",
    "Вопрос о быстрых и долгих продажах не так однозначен. Допустим мы возмём по 10% с каждой стороны. Тогда быстрыми будут продажи в течении 2.5 недель, долгими - затянувшиеся более чем на 14 месяцев."
   ]
  },
  {
   "cell_type": "markdown",
   "metadata": {},
   "source": [
    "Оценив корреляции определим, какие факторы больше всего влияют на общую (полную) стоимость квартиры."
   ]
  },
  {
   "cell_type": "code",
   "execution_count": 53,
   "metadata": {
    "scrolled": true
   },
   "outputs": [
    {
     "data": {
      "text/html": [
       "<div>\n",
       "<style scoped>\n",
       "    .dataframe tbody tr th:only-of-type {\n",
       "        vertical-align: middle;\n",
       "    }\n",
       "\n",
       "    .dataframe tbody tr th {\n",
       "        vertical-align: top;\n",
       "    }\n",
       "\n",
       "    .dataframe thead th {\n",
       "        text-align: right;\n",
       "    }\n",
       "</style>\n",
       "<table border=\"1\" class=\"dataframe\">\n",
       "  <thead>\n",
       "    <tr style=\"text-align: right;\">\n",
       "      <th></th>\n",
       "      <th>last_price</th>\n",
       "      <th>total_area</th>\n",
       "      <th>living_area</th>\n",
       "      <th>kitchen_area</th>\n",
       "      <th>rooms</th>\n",
       "      <th>weekday</th>\n",
       "      <th>month</th>\n",
       "      <th>year</th>\n",
       "    </tr>\n",
       "  </thead>\n",
       "  <tbody>\n",
       "    <tr>\n",
       "      <th>last_price</th>\n",
       "      <td>1.00e+00</td>\n",
       "      <td>0.78</td>\n",
       "      <td>5.73e-01</td>\n",
       "      <td>0.47</td>\n",
       "      <td>4.91e-01</td>\n",
       "      <td>-2.05e-02</td>\n",
       "      <td>8.59e-03</td>\n",
       "      <td>-2.62e-02</td>\n",
       "    </tr>\n",
       "    <tr>\n",
       "      <th>total_area</th>\n",
       "      <td>7.83e-01</td>\n",
       "      <td>1.00</td>\n",
       "      <td>7.95e-01</td>\n",
       "      <td>0.43</td>\n",
       "      <td>7.94e-01</td>\n",
       "      <td>-1.71e-02</td>\n",
       "      <td>1.15e-02</td>\n",
       "      <td>-7.30e-02</td>\n",
       "    </tr>\n",
       "    <tr>\n",
       "      <th>living_area</th>\n",
       "      <td>5.73e-01</td>\n",
       "      <td>0.79</td>\n",
       "      <td>1.00e+00</td>\n",
       "      <td>0.43</td>\n",
       "      <td>7.56e-01</td>\n",
       "      <td>-2.65e-02</td>\n",
       "      <td>8.25e-03</td>\n",
       "      <td>-6.72e-02</td>\n",
       "    </tr>\n",
       "    <tr>\n",
       "      <th>kitchen_area</th>\n",
       "      <td>4.65e-01</td>\n",
       "      <td>0.43</td>\n",
       "      <td>4.27e-01</td>\n",
       "      <td>1.00</td>\n",
       "      <td>1.39e-01</td>\n",
       "      <td>-2.87e-02</td>\n",
       "      <td>1.21e-02</td>\n",
       "      <td>-5.87e-02</td>\n",
       "    </tr>\n",
       "    <tr>\n",
       "      <th>rooms</th>\n",
       "      <td>4.91e-01</td>\n",
       "      <td>0.79</td>\n",
       "      <td>7.56e-01</td>\n",
       "      <td>0.14</td>\n",
       "      <td>1.00e+00</td>\n",
       "      <td>-5.85e-03</td>\n",
       "      <td>-1.62e-03</td>\n",
       "      <td>-4.22e-02</td>\n",
       "    </tr>\n",
       "    <tr>\n",
       "      <th>weekday</th>\n",
       "      <td>-2.05e-02</td>\n",
       "      <td>-0.02</td>\n",
       "      <td>-2.65e-02</td>\n",
       "      <td>-0.03</td>\n",
       "      <td>-5.85e-03</td>\n",
       "      <td>1.00e+00</td>\n",
       "      <td>1.11e-02</td>\n",
       "      <td>-2.56e-03</td>\n",
       "    </tr>\n",
       "    <tr>\n",
       "      <th>month</th>\n",
       "      <td>8.59e-03</td>\n",
       "      <td>0.01</td>\n",
       "      <td>8.25e-03</td>\n",
       "      <td>0.01</td>\n",
       "      <td>-1.62e-03</td>\n",
       "      <td>1.11e-02</td>\n",
       "      <td>1.00e+00</td>\n",
       "      <td>-2.75e-01</td>\n",
       "    </tr>\n",
       "    <tr>\n",
       "      <th>year</th>\n",
       "      <td>-2.62e-02</td>\n",
       "      <td>-0.07</td>\n",
       "      <td>-6.72e-02</td>\n",
       "      <td>-0.06</td>\n",
       "      <td>-4.22e-02</td>\n",
       "      <td>-2.56e-03</td>\n",
       "      <td>-2.75e-01</td>\n",
       "      <td>1.00e+00</td>\n",
       "    </tr>\n",
       "  </tbody>\n",
       "</table>\n",
       "</div>"
      ],
      "text/plain": [
       "              last_price  total_area  living_area  kitchen_area     rooms  \\\n",
       "last_price      1.00e+00        0.78     5.73e-01          0.47  4.91e-01   \n",
       "total_area      7.83e-01        1.00     7.95e-01          0.43  7.94e-01   \n",
       "living_area     5.73e-01        0.79     1.00e+00          0.43  7.56e-01   \n",
       "kitchen_area    4.65e-01        0.43     4.27e-01          1.00  1.39e-01   \n",
       "rooms           4.91e-01        0.79     7.56e-01          0.14  1.00e+00   \n",
       "weekday        -2.05e-02       -0.02    -2.65e-02         -0.03 -5.85e-03   \n",
       "month           8.59e-03        0.01     8.25e-03          0.01 -1.62e-03   \n",
       "year           -2.62e-02       -0.07    -6.72e-02         -0.06 -4.22e-02   \n",
       "\n",
       "               weekday     month      year  \n",
       "last_price   -2.05e-02  8.59e-03 -2.62e-02  \n",
       "total_area   -1.71e-02  1.15e-02 -7.30e-02  \n",
       "living_area  -2.65e-02  8.25e-03 -6.72e-02  \n",
       "kitchen_area -2.87e-02  1.21e-02 -5.87e-02  \n",
       "rooms        -5.85e-03 -1.62e-03 -4.22e-02  \n",
       "weekday       1.00e+00  1.11e-02 -2.56e-03  \n",
       "month         1.11e-02  1.00e+00 -2.75e-01  \n",
       "year         -2.56e-03 -2.75e-01  1.00e+00  "
      ]
     },
     "execution_count": 53,
     "metadata": {},
     "output_type": "execute_result"
    }
   ],
   "source": [
    "corr_data = data[['last_price', 'total_area', 'living_area', 'kitchen_area', 'rooms', 'floor_type', 'weekday', 'month', 'year']]\n",
    "corr_data.corr()"
   ]
  },
  {
   "cell_type": "markdown",
   "metadata": {},
   "source": [
    "Смотрим первый столбец. Общая площадь, жилая площадь, площадь кухни и количество комнат имеют положительную корреляцию с ценой квартиры (0,8, 0,6, 0,5 и 0,5 соответственно). В целом все эти показатели отражают одну характеристику - размер жилья, поэтому было бы странным, если бы они слабо или по разному коррелировали с ценой, так как размер покупаемой квартиры должен быть ключевым фактором.\n",
    "\n",
    "День недели и месяц года не имеют влияния на цену квартиры, что логично. Год, в свою очередь, по идее должен влиять, как минимум из-за инфляции. Проверим даты."
   ]
  },
  {
   "cell_type": "code",
   "execution_count": 54,
   "metadata": {},
   "outputs": [
    {
     "name": "stdout",
     "output_type": "stream",
     "text": [
      "2014-11-27 00:00:00\n",
      "2019-05-03 00:00:00\n"
     ]
    }
   ],
   "source": [
    "print(data['first_day_exposition'].min())\n",
    "print(data['first_day_exposition'].max())"
   ]
  },
  {
   "cell_type": "markdown",
   "metadata": {},
   "source": [
    "Данные представлены за 4 полных года, 2015-2018 включительно, плюс начало 2019-го. Согласно источникам в это время цены на жильё в Санкт-Петербурге были стабильны, держались около 100-110 тысяч за квадратный метр, начав расти только в 2019-ом. Это объясняет отсутствие взаимосвязи цены и года."
   ]
  },
  {
   "cell_type": "markdown",
   "metadata": {},
   "source": [
    "**Визуализируем взаимосвязи.**"
   ]
  },
  {
   "cell_type": "code",
   "execution_count": 55,
   "metadata": {
    "scrolled": true
   },
   "outputs": [
    {
     "data": {
      "text/plain": [
       "<AxesSubplot:xlabel='total_area', ylabel='last_price'>"
      ]
     },
     "execution_count": 55,
     "metadata": {},
     "output_type": "execute_result"
    },
    {
     "data": {
      "image/png": "[encoded data removed]",
      "text/plain": [
       "<Figure size 432x288 with 1 Axes>"
      ]
     },
     "metadata": {
      "needs_background": "light"
     },
     "output_type": "display_data"
    }
   ],
   "source": [
    "corr_data.plot(x='total_area', y='last_price', kind='scatter', alpha=0.5) "
   ]
  },
  {
   "cell_type": "markdown",
   "metadata": {},
   "source": [
    "Видим, как точки скопились на диагонали от левого нижнего к правому верхенму углу, что говорит о положительной взаимосвязи."
   ]
  },
  {
   "cell_type": "code",
   "execution_count": 56,
   "metadata": {},
   "outputs": [
    {
     "data": {
      "text/plain": [
       "<AxesSubplot:xlabel='living_area', ylabel='last_price'>"
      ]
     },
     "execution_count": 56,
     "metadata": {},
     "output_type": "execute_result"
    },
    {
     "data": {
      "image/png": "[encoded data removed]",
      "text/plain": [
       "<Figure size 432x288 with 1 Axes>"
      ]
     },
     "metadata": {
      "needs_background": "light"
     },
     "output_type": "display_data"
    }
   ],
   "source": [
    "corr_data.plot(x='living_area', y='last_price', kind='scatter', alpha=0.5) "
   ]
  },
  {
   "cell_type": "markdown",
   "metadata": {},
   "source": [
    "Видим, как точки скопились на диагонали от левого нижнего к правому верхенму углу, что говорит о положительной взаимосвязи."
   ]
  },
  {
   "cell_type": "code",
   "execution_count": 57,
   "metadata": {},
   "outputs": [
    {
     "data": {
      "text/plain": [
       "<AxesSubplot:xlabel='kitchen_area', ylabel='last_price'>"
      ]
     },
     "execution_count": 57,
     "metadata": {},
     "output_type": "execute_result"
    },
    {
     "data": {
      "image/png": "[encoded data removed]",
      "text/plain": [
       "<Figure size 432x288 with 1 Axes>"
      ]
     },
     "metadata": {
      "needs_background": "light"
     },
     "output_type": "display_data"
    }
   ],
   "source": [
    "corr_data.plot(x='kitchen_area', y='last_price', kind='scatter', alpha=0.5) "
   ]
  },
  {
   "cell_type": "markdown",
   "metadata": {},
   "source": [
    "Уже не так хорошо, но видим, как точки скопились на диагонали от левого нижнего к правому верхенму углу, что говорит о положительной взаимосвязи."
   ]
  },
  {
   "cell_type": "code",
   "execution_count": 58,
   "metadata": {},
   "outputs": [
    {
     "data": {
      "text/plain": [
       "<AxesSubplot:xlabel='rooms', ylabel='last_price'>"
      ]
     },
     "execution_count": 58,
     "metadata": {},
     "output_type": "execute_result"
    },
    {
     "data": {
      "image/png": "[encoded data removed]",
      "text/plain": [
       "<Figure size 432x288 with 1 Axes>"
      ]
     },
     "metadata": {
      "needs_background": "light"
     },
     "output_type": "display_data"
    }
   ],
   "source": [
    "corr_data.plot(x='rooms', y='last_price', kind='scatter', alpha=0.5) "
   ]
  },
  {
   "cell_type": "markdown",
   "metadata": {},
   "source": [
    "Уже не так хорошо, но видим, как точки скопились на диагонали от левого нижнего к правому верхенму углу, что говорит о положительной взаимосвязи."
   ]
  },
  {
   "cell_type": "code",
   "execution_count": 59,
   "metadata": {},
   "outputs": [
    {
     "data": {
      "text/plain": [
       "<AxesSubplot:xlabel='floor_type'>"
      ]
     },
     "execution_count": 59,
     "metadata": {},
     "output_type": "execute_result"
    },
    {
     "data": {
      "image/png": "[encoded data removed]",
      "text/plain": [
       "<Figure size 432x288 with 1 Axes>"
      ]
     },
     "metadata": {
      "needs_background": "light"
     },
     "output_type": "display_data"
    }
   ],
   "source": [
    "data.pivot_table(index='floor_type', values='last_price', aggfunc='median').plot.bar(rot=0)\n"
   ]
  },
  {
   "cell_type": "code",
   "execution_count": 60,
   "metadata": {},
   "outputs": [
    {
     "data": {
      "image/png": "[encoded data removed]",
      "text/plain": [
       "<Figure size 432x288 with 1 Axes>"
      ]
     },
     "metadata": {
      "needs_background": "light"
     },
     "output_type": "display_data"
    }
   ],
   "source": [
    "data.pivot_table(index='weekday', values='last_price', aggfunc='median').plot.bar(rot=0)\n",
    "plt.ylim(4000000, 5000000)\n",
    "None"
   ]
  },
  {
   "cell_type": "markdown",
   "metadata": {},
   "source": [
    "Видим, что колебания медианной цены в зависимости от дня недели минимальны."
   ]
  },
  {
   "cell_type": "code",
   "execution_count": 61,
   "metadata": {},
   "outputs": [
    {
     "data": {
      "image/png": "[encoded data removed]",
      "text/plain": [
       "<Figure size 432x288 with 1 Axes>"
      ]
     },
     "metadata": {
      "needs_background": "light"
     },
     "output_type": "display_data"
    }
   ],
   "source": [
    "data.pivot_table(index='month', values='last_price', aggfunc='median').plot.bar(rot=0)\n",
    "plt.ylim(4000000, 5000000)\n",
    "None"
   ]
  },
  {
   "cell_type": "markdown",
   "metadata": {},
   "source": [
    "Видим, что колебания медианной цены в зависимости от месяца года минимальны, за исключением 6-го месяца."
   ]
  },
  {
   "cell_type": "code",
   "execution_count": 62,
   "metadata": {},
   "outputs": [
    {
     "data": {
      "image/png": "[encoded data removed]",
      "text/plain": [
       "<Figure size 432x288 with 1 Axes>"
      ]
     },
     "metadata": {
      "needs_background": "light"
     },
     "output_type": "display_data"
    }
   ],
   "source": [
    "data.pivot_table(index='year', values='last_price', aggfunc='median').plot.bar(rot=0)\n",
    "plt.ylim(4000000, 8000000)\n",
    "None"
   ]
  },
  {
   "cell_type": "markdown",
   "metadata": {},
   "source": [
    "Видим, что колебания медианной цены в 2016-2018 годах минимальны. Ранее было озвучено:\n",
    ">Согласно источникам в это время цены на жильё в Санкт-Петербурге были стабильны, держались около 100-110 тысяч за квадратный метр, начав расти только в 2019-ом.\n",
    "\n",
    "Это мы и наблюдаем на графике. Пик 2014-2015 года предположительно можно объйснить следующим образом: на очень дорогие квартиры не очень высокий спрос, поэтому при завышенной или справедливой, но всё-равно высокой цене, квартира будет продаваться долго, из-за этого медианная цена 2014 года такая высокая - это квартиры которые не могут найти своего покупатяеля более 5 лет, а это вряд ли из-за того, что они очень дешёвые."
   ]
  },
  {
   "cell_type": "markdown",
   "metadata": {},
   "source": [
    "_______________________________________________________________________________________________________________________________\n",
    "**Определим среднюю цену одного квадратного метра в населённых пунктах с наибольшим числом объявлений.**\n",
    "\n",
    "_______________________________________________________________________________________________________________________________"
   ]
  },
  {
   "cell_type": "code",
   "execution_count": 63,
   "metadata": {
    "scrolled": true
   },
   "outputs": [
    {
     "name": "stdout",
     "output_type": "stream",
     "text": [
      "                        mean  count\n",
      "locality_name                      \n",
      "Санкт-Петербург    104026.85  14913\n",
      "поселок Мурино      86042.64    551\n",
      "поселок Шушары      76876.17    438\n",
      "Всеволожск          65789.47    393\n",
      "Пушкин              99865.71    358\n",
      "Колпино             74723.75    334\n",
      "поселок Парголово   91780.22    326\n",
      "Гатчина             67924.53    305\n",
      "деревня Кудрово     91860.47    299\n",
      "Выборг              58233.01    234\n"
     ]
    }
   ],
   "source": [
    "price_pivot = data.pivot_table(index='locality_name', values='price_per_square_meter', aggfunc=['median', 'count'])\n",
    "price_pivot.columns=('mean', 'count')\n",
    "top_10 = price_pivot.sort_values(by='count', ascending=False).head(10)\n",
    "print(top_10)"
   ]
  },
  {
   "cell_type": "code",
   "execution_count": 64,
   "metadata": {},
   "outputs": [
    {
     "data": {
      "image/png": "[encoded data removed]",
      "text/plain": [
       "<Figure size 432x288 with 1 Axes>"
      ]
     },
     "metadata": {
      "needs_background": "light"
     },
     "output_type": "display_data"
    }
   ],
   "source": [
    "data_top_10 = data.query('locality_name in @top_10.index')\n",
    "data_top_10.boxplot(column='price_per_square_meter', by='locality_name')\n",
    "plt.ylim(0, 200000)\n",
    "plt.xticks(rotation=30)\n",
    "None"
   ]
  },
  {
   "cell_type": "markdown",
   "metadata": {},
   "source": [
    "**Определим населённые пункты с самой высокой и низкой стоимостью квадратного метра.**"
   ]
  },
  {
   "cell_type": "code",
   "execution_count": 66,
   "metadata": {},
   "outputs": [
    {
     "name": "stdout",
     "output_type": "stream",
     "text": [
      "                   mean  count\n",
      "locality_name                 \n",
      "Сланцы         20731.71     57\n",
      "                      mean  count\n",
      "locality_name                    \n",
      "Санкт-Петербург  104026.85  14913\n"
     ]
    }
   ],
   "source": [
    "price_pivot = price_pivot.query('count >= 20')\n",
    "print(price_pivot.sort_values(by='mean').head(1))\n",
    "print(price_pivot.sort_values(by='mean').tail(1))"
   ]
  },
  {
   "cell_type": "markdown",
   "metadata": {},
   "source": [
    "_______________________________________________________________________________________________________________________________\n",
    "**Вычислите среднюю цену каждого километра.**\n",
    "\n",
    "_______________________________________________________________________________________________________________________________"
   ]
  },
  {
   "cell_type": "code",
   "execution_count": 67,
   "metadata": {
    "scrolled": true
   },
   "outputs": [
    {
     "name": "stdout",
     "output_type": "stream",
     "text": [
      "                             mean     median      count\n",
      "                       last_price last_price last_price\n",
      "cityCenters_nearest_km                                 \n",
      "0                       9,788,000  8,395,000         10\n",
      "1                      10,529,919  9,200,000        124\n",
      "2                      10,281,115  9,000,000        244\n",
      "3                       9,383,260  8,000,000        316\n",
      "4                      10,021,148  8,725,246        619\n",
      "5                      10,385,905  8,765,000        815\n",
      "6                       9,239,430  7,946,910        518\n",
      "7                       9,144,699  6,990,000        361\n",
      "8                       8,629,427  7,200,000        570\n",
      "9                       6,652,353  5,200,000        573\n",
      "10                      6,277,459  5,000,000        699\n",
      "11                      5,967,435  4,999,000       1153\n",
      "12                      5,770,280  4,950,000       1580\n",
      "13                      6,002,000  5,200,000       1436\n",
      "14                      5,521,386  4,850,000       1263\n",
      "15                      5,678,430  4,900,000       1538\n",
      "16                      5,309,298  4,750,000       1253\n",
      "17                      5,104,537  4,515,000        830\n",
      "18                      4,794,890  4,295,000        250\n",
      "19                      5,051,410  4,500,000        156\n",
      "20                      5,906,846  5,550,000         47\n",
      "21                      5,493,469  5,289,476        117\n",
      "22                      5,352,390  4,900,000        200\n",
      "23                      4,661,671  4,385,000         82\n",
      "24                      3,855,407  3,350,000         25\n",
      "25                      4,052,840  3,794,881         26\n",
      "26                      4,014,287  3,355,000         43\n",
      "27                      8,300,000  8,300,000          2\n",
      "28                      4,814,167  4,531,000          6\n",
      "29                      4,236,667  4,535,000          6\n"
     ]
    },
    {
     "data": {
      "text/plain": [
       "<AxesSubplot:xlabel='cityCenters_nearest_km'>"
      ]
     },
     "execution_count": 67,
     "metadata": {},
     "output_type": "execute_result"
    },
    {
     "data": {
      "image/png": "[encoded data removed]",
      "text/plain": [
       "<Figure size 432x288 with 1 Axes>"
      ]
     },
     "metadata": {
      "needs_background": "light"
     },
     "output_type": "display_data"
    }
   ],
   "source": [
    "pd.options.display.float_format ='{:,.0f}'.format\n",
    "spb_data = data.query('locality_name == \"Санкт-Петербург\"').pivot_table(index='cityCenters_nearest_km', values='last_price', aggfunc=['mean', 'median', 'count'])\n",
    "print(spb_data)\n",
    "spb_data.plot(y=['mean', 'median'], kind='line', style='-o', xlim=(-0.5, 25.5), grid=True)"
   ]
  },
  {
   "cell_type": "markdown",
   "metadata": {},
   "source": [
    "Видим предсказуемую зависимость - цена жилья снижается по мере удаления от центра города. Можно обозначить радиус в 0-5км как \"центр\" с наиболее дорогими вариантами, 6-8км что-то среднее, 9-13км \"окраина\" с самыми дешёвыми квартирами внутри города."
   ]
  },
  {
   "cell_type": "markdown",
   "metadata": {},
   "source": [
    "### Этап 4. Результаты исследования"
   ]
  },
  {
   "cell_type": "markdown",
   "metadata": {},
   "source": [
    "_______________________________________________________________________________________________________________________________\n",
    "Цена на жильё в Питере около 200 000 за квадратный метр, чем дальше от центра города и самого города, тем дешевле. Жильё на первых и последних этажах продаётся с дисконтом из-за своих особенностей. Квартиры больше 120 метров - редкость, здания больше 30 этажей - тоже. Продать квартиру скорее всего удастся в течении трёх месяцев. Далеко от парка поселится не получится, в 10 минутах ходьбы какой-нибудь точно найдётся. Квартира скорее всего будет в 5-ти этажке со стандартными потолками 2.4-2.8 метра, несмотря на стереотип о высоких потолках в Питере. В праздничные сезоны найти квартиру будет немного сложнее, однако на цену это не повлияет.\n",
    "_______________________________________________________________________________________________________________________________"
   ]
  }
 ],
 "metadata": {
  "ExecuteTimeLog": [
   {
    "duration": 437,
    "start_time": "2022-08-21T18:06:49.329Z"
   },
   {
    "duration": 290,
    "start_time": "2022-08-21T18:06:56.929Z"
   },
   {
    "duration": 57,
    "start_time": "2022-08-21T18:07:42.020Z"
   },
   {
    "duration": 96,
    "start_time": "2022-08-21T18:32:11.270Z"
   },
   {
    "duration": 124,
    "start_time": "2022-08-21T18:32:17.028Z"
   },
   {
    "duration": 94,
    "start_time": "2022-08-21T18:32:54.158Z"
   },
   {
    "duration": 90,
    "start_time": "2022-08-21T18:33:21.766Z"
   },
   {
    "duration": 106,
    "start_time": "2022-08-21T18:34:01.230Z"
   },
   {
    "duration": 108,
    "start_time": "2022-08-21T18:34:25.294Z"
   },
   {
    "duration": 131,
    "start_time": "2022-08-21T18:34:31.999Z"
   },
   {
    "duration": 121,
    "start_time": "2022-08-21T18:35:04.238Z"
   },
   {
    "duration": 118,
    "start_time": "2022-08-21T18:35:21.383Z"
   },
   {
    "duration": 114,
    "start_time": "2022-08-21T18:35:29.359Z"
   },
   {
    "duration": 17,
    "start_time": "2022-08-21T18:40:14.553Z"
   },
   {
    "duration": 1605,
    "start_time": "2022-08-21T18:41:39.740Z"
   },
   {
    "duration": 1905,
    "start_time": "2022-08-21T18:41:57.978Z"
   },
   {
    "duration": 1908,
    "start_time": "2022-08-21T18:45:22.972Z"
   },
   {
    "duration": 13,
    "start_time": "2022-08-21T18:48:56.927Z"
   },
   {
    "duration": 7,
    "start_time": "2022-08-21T18:49:03.431Z"
   },
   {
    "duration": 1842,
    "start_time": "2022-08-21T21:02:04.128Z"
   },
   {
    "duration": 82,
    "start_time": "2022-08-21T21:02:22.872Z"
   },
   {
    "duration": 78,
    "start_time": "2022-08-21T21:05:17.042Z"
   },
   {
    "duration": 93,
    "start_time": "2022-08-21T21:06:29.859Z"
   },
   {
    "duration": 94,
    "start_time": "2022-08-21T21:07:22.059Z"
   },
   {
    "duration": 95,
    "start_time": "2022-08-21T21:10:58.821Z"
   },
   {
    "duration": 91,
    "start_time": "2022-08-21T21:11:29.229Z"
   },
   {
    "duration": 96,
    "start_time": "2022-08-21T21:12:02.909Z"
   },
   {
    "duration": 95,
    "start_time": "2022-08-21T21:12:07.693Z"
   },
   {
    "duration": 121,
    "start_time": "2022-08-21T21:12:26.518Z"
   },
   {
    "duration": 120,
    "start_time": "2022-08-21T21:12:34.630Z"
   },
   {
    "duration": 86,
    "start_time": "2022-08-21T21:15:02.831Z"
   },
   {
    "duration": 86,
    "start_time": "2022-08-21T21:15:13.191Z"
   },
   {
    "duration": 101,
    "start_time": "2022-08-21T21:15:24.456Z"
   },
   {
    "duration": 24,
    "start_time": "2022-08-21T22:07:37.794Z"
   },
   {
    "duration": 0,
    "start_time": "2022-08-21T22:08:29.205Z"
   },
   {
    "duration": 362,
    "start_time": "2022-08-21T22:08:40.158Z"
   },
   {
    "duration": 107,
    "start_time": "2022-08-21T22:22:41.442Z"
   },
   {
    "duration": 113,
    "start_time": "2022-08-21T22:22:50.218Z"
   },
   {
    "duration": 99,
    "start_time": "2022-08-21T22:23:30.417Z"
   },
   {
    "duration": 173,
    "start_time": "2022-08-21T22:25:37.204Z"
   },
   {
    "duration": 168,
    "start_time": "2022-08-21T22:25:51.659Z"
   },
   {
    "duration": 134,
    "start_time": "2022-08-21T22:26:16.540Z"
   },
   {
    "duration": 105,
    "start_time": "2022-08-21T22:27:09.268Z"
   },
   {
    "duration": 108,
    "start_time": "2022-08-21T22:27:27.328Z"
   },
   {
    "duration": 104,
    "start_time": "2022-08-21T22:27:37.725Z"
   },
   {
    "duration": 2577,
    "start_time": "2022-08-21T22:28:30.357Z"
   },
   {
    "duration": 3116,
    "start_time": "2022-08-21T22:35:32.561Z"
   },
   {
    "duration": 260,
    "start_time": "2022-08-21T22:36:59.121Z"
   },
   {
    "duration": 14169,
    "start_time": "2022-08-21T22:37:31.918Z"
   },
   {
    "duration": 265,
    "start_time": "2022-08-21T22:41:06.963Z"
   },
   {
    "duration": 88,
    "start_time": "2022-08-21T22:41:55.482Z"
   },
   {
    "duration": 251,
    "start_time": "2022-08-21T22:42:11.738Z"
   },
   {
    "duration": 250,
    "start_time": "2022-08-21T22:42:24.746Z"
   },
   {
    "duration": 266,
    "start_time": "2022-08-21T22:42:46.355Z"
   },
   {
    "duration": 247,
    "start_time": "2022-08-21T22:43:18.628Z"
   },
   {
    "duration": 262,
    "start_time": "2022-08-21T22:45:04.340Z"
   },
   {
    "duration": 247,
    "start_time": "2022-08-21T22:50:35.026Z"
   },
   {
    "duration": 256,
    "start_time": "2022-08-21T22:50:48.727Z"
   },
   {
    "duration": 248,
    "start_time": "2022-08-21T22:52:15.311Z"
   },
   {
    "duration": 254,
    "start_time": "2022-08-21T22:52:28.815Z"
   },
   {
    "duration": 258,
    "start_time": "2022-08-21T22:52:43.583Z"
   },
   {
    "duration": 345,
    "start_time": "2022-08-21T23:00:19.324Z"
   },
   {
    "duration": 862,
    "start_time": "2022-08-22T11:58:47.127Z"
   },
   {
    "duration": 1516,
    "start_time": "2022-08-22T11:59:22.326Z"
   },
   {
    "duration": 2441,
    "start_time": "2022-08-22T12:15:00.278Z"
   },
   {
    "duration": 185,
    "start_time": "2022-08-22T12:16:46.358Z"
   },
   {
    "duration": 168,
    "start_time": "2022-08-22T12:17:33.158Z"
   },
   {
    "duration": 166,
    "start_time": "2022-08-22T12:18:13.143Z"
   },
   {
    "duration": 153,
    "start_time": "2022-08-22T12:18:47.343Z"
   },
   {
    "duration": 155,
    "start_time": "2022-08-22T12:18:56.671Z"
   },
   {
    "duration": 1710,
    "start_time": "2022-08-22T12:21:17.720Z"
   },
   {
    "duration": 303,
    "start_time": "2022-08-22T12:21:29.035Z"
   },
   {
    "duration": 126,
    "start_time": "2022-08-22T12:21:58.632Z"
   },
   {
    "duration": 1734,
    "start_time": "2022-08-22T12:22:05.889Z"
   },
   {
    "duration": 342,
    "start_time": "2022-08-22T12:29:44.775Z"
   },
   {
    "duration": 135,
    "start_time": "2022-08-22T12:30:18.446Z"
   },
   {
    "duration": 430,
    "start_time": "2022-08-22T12:30:51.685Z"
   },
   {
    "duration": 145,
    "start_time": "2022-08-22T12:37:31.192Z"
   },
   {
    "duration": 337,
    "start_time": "2022-08-22T12:38:31.266Z"
   },
   {
    "duration": 307,
    "start_time": "2022-08-22T12:44:25.124Z"
   },
   {
    "duration": 377,
    "start_time": "2022-08-22T12:50:44.384Z"
   },
   {
    "duration": 3857,
    "start_time": "2022-08-22T13:24:53.437Z"
   },
   {
    "duration": 368,
    "start_time": "2022-08-22T13:25:14.063Z"
   },
   {
    "duration": 1730,
    "start_time": "2022-08-22T13:30:05.129Z"
   },
   {
    "duration": 412,
    "start_time": "2022-08-22T13:30:28.850Z"
   },
   {
    "duration": 361,
    "start_time": "2022-08-22T13:31:30.915Z"
   },
   {
    "duration": 391,
    "start_time": "2022-08-22T13:31:45.404Z"
   },
   {
    "duration": 377,
    "start_time": "2022-08-22T13:33:00.755Z"
   },
   {
    "duration": 376,
    "start_time": "2022-08-22T13:33:09.347Z"
   },
   {
    "duration": 363,
    "start_time": "2022-08-22T13:33:53.060Z"
   },
   {
    "duration": 893,
    "start_time": "2022-08-22T17:29:31.437Z"
   },
   {
    "duration": 303,
    "start_time": "2022-08-22T17:29:40.171Z"
   },
   {
    "duration": 5,
    "start_time": "2022-08-22T17:51:32.528Z"
   },
   {
    "duration": 18,
    "start_time": "2022-08-22T17:58:29.213Z"
   },
   {
    "duration": 62,
    "start_time": "2022-08-22T18:23:38.173Z"
   },
   {
    "duration": 4,
    "start_time": "2022-08-22T18:23:48.581Z"
   },
   {
    "duration": 16,
    "start_time": "2022-08-22T18:27:51.134Z"
   },
   {
    "duration": 473,
    "start_time": "2022-08-22T18:30:44.191Z"
   },
   {
    "duration": 15,
    "start_time": "2022-08-22T18:32:06.856Z"
   },
   {
    "duration": 509,
    "start_time": "2022-08-22T18:32:33.614Z"
   },
   {
    "duration": 19,
    "start_time": "2022-08-22T18:32:53.025Z"
   },
   {
    "duration": 19,
    "start_time": "2022-08-22T18:33:14.521Z"
   },
   {
    "duration": 17,
    "start_time": "2022-08-22T18:38:22.996Z"
   },
   {
    "duration": 19,
    "start_time": "2022-08-22T18:40:44.557Z"
   },
   {
    "duration": 28,
    "start_time": "2022-08-22T18:40:55.397Z"
   },
   {
    "duration": 29,
    "start_time": "2022-08-22T18:42:45.039Z"
   },
   {
    "duration": 2615,
    "start_time": "2022-08-22T18:49:21.049Z"
   },
   {
    "duration": 849,
    "start_time": "2022-08-22T18:49:47.115Z"
   },
   {
    "duration": 2893,
    "start_time": "2022-08-22T18:49:54.209Z"
   },
   {
    "duration": 8,
    "start_time": "2022-08-22T18:50:51.323Z"
   },
   {
    "duration": 7,
    "start_time": "2022-08-22T18:53:26.140Z"
   },
   {
    "duration": 9,
    "start_time": "2022-08-22T18:54:07.284Z"
   },
   {
    "duration": 8,
    "start_time": "2022-08-22T18:57:19.414Z"
   },
   {
    "duration": 435,
    "start_time": "2022-08-22T18:57:24.877Z"
   },
   {
    "duration": 307,
    "start_time": "2022-08-22T19:02:22.559Z"
   },
   {
    "duration": 415,
    "start_time": "2022-08-22T19:02:39.168Z"
   },
   {
    "duration": 419,
    "start_time": "2022-08-22T19:02:48.928Z"
   },
   {
    "duration": 4029,
    "start_time": "2022-08-22T19:04:06.081Z"
   },
   {
    "duration": 3806,
    "start_time": "2022-08-22T19:05:05.001Z"
   },
   {
    "duration": 3798,
    "start_time": "2022-08-22T19:05:48.226Z"
   },
   {
    "duration": 4197,
    "start_time": "2022-08-22T19:06:23.507Z"
   },
   {
    "duration": 4401,
    "start_time": "2022-08-22T19:06:47.914Z"
   },
   {
    "duration": 4387,
    "start_time": "2022-08-22T19:08:27.163Z"
   },
   {
    "duration": 4388,
    "start_time": "2022-08-22T19:10:46.133Z"
   },
   {
    "duration": 8622,
    "start_time": "2022-08-22T21:00:48.829Z"
   },
   {
    "duration": 83,
    "start_time": "2022-08-22T21:03:02.454Z"
   },
   {
    "duration": 25,
    "start_time": "2022-08-22T21:03:14.054Z"
   },
   {
    "duration": 5,
    "start_time": "2022-08-22T21:03:45.575Z"
   },
   {
    "duration": 100,
    "start_time": "2022-08-22T21:04:26.134Z"
   },
   {
    "duration": 16,
    "start_time": "2022-08-22T21:04:31.520Z"
   },
   {
    "duration": 24,
    "start_time": "2022-08-22T21:04:42.799Z"
   },
   {
    "duration": 8126,
    "start_time": "2022-08-22T21:08:10.063Z"
   },
   {
    "duration": 8547,
    "start_time": "2022-08-22T21:09:20.865Z"
   },
   {
    "duration": 8757,
    "start_time": "2022-08-22T21:11:06.258Z"
   },
   {
    "duration": 25,
    "start_time": "2022-08-22T21:11:48.924Z"
   },
   {
    "duration": 14,
    "start_time": "2022-08-22T21:13:58.916Z"
   },
   {
    "duration": 19,
    "start_time": "2022-08-22T21:14:08.676Z"
   },
   {
    "duration": 20,
    "start_time": "2022-08-22T21:14:24.608Z"
   },
   {
    "duration": 3,
    "start_time": "2022-08-22T21:15:24.293Z"
   },
   {
    "duration": 5,
    "start_time": "2022-08-22T21:15:33.452Z"
   },
   {
    "duration": 8530,
    "start_time": "2022-08-22T21:16:11.646Z"
   },
   {
    "duration": 5,
    "start_time": "2022-08-22T21:26:17.369Z"
   },
   {
    "duration": 8,
    "start_time": "2022-08-22T21:29:11.268Z"
   },
   {
    "duration": 8,
    "start_time": "2022-08-22T21:29:31.779Z"
   },
   {
    "duration": 6,
    "start_time": "2022-08-22T21:29:42.860Z"
   },
   {
    "duration": 5,
    "start_time": "2022-08-22T21:32:54.509Z"
   },
   {
    "duration": 12,
    "start_time": "2022-08-22T21:35:04.742Z"
   },
   {
    "duration": 11,
    "start_time": "2022-08-22T21:35:14.822Z"
   },
   {
    "duration": 25,
    "start_time": "2022-08-22T21:36:08.023Z"
   },
   {
    "duration": 36,
    "start_time": "2022-08-22T21:36:36.694Z"
   },
   {
    "duration": 43,
    "start_time": "2022-08-22T21:38:11.867Z"
   },
   {
    "duration": 51,
    "start_time": "2022-08-22T21:42:37.290Z"
   },
   {
    "duration": 66,
    "start_time": "2022-08-22T21:45:50.964Z"
   },
   {
    "duration": 97,
    "start_time": "2022-08-22T21:50:38.910Z"
   },
   {
    "duration": 82,
    "start_time": "2022-08-22T21:52:19.919Z"
   },
   {
    "duration": 58,
    "start_time": "2022-08-22T21:59:10.322Z"
   },
   {
    "duration": 88,
    "start_time": "2022-08-22T21:59:16.109Z"
   },
   {
    "duration": 8829,
    "start_time": "2022-08-22T22:05:17.512Z"
   },
   {
    "duration": 8867,
    "start_time": "2022-08-23T17:59:34.334Z"
   },
   {
    "duration": 8181,
    "start_time": "2022-08-23T17:59:59.300Z"
   },
   {
    "duration": 7,
    "start_time": "2022-08-23T19:00:12.691Z"
   },
   {
    "duration": 13,
    "start_time": "2022-08-23T19:00:36.894Z"
   },
   {
    "duration": 8351,
    "start_time": "2022-08-23T19:04:01.435Z"
   },
   {
    "duration": 18,
    "start_time": "2022-08-23T19:04:21.561Z"
   },
   {
    "duration": 1105,
    "start_time": "2022-08-23T19:13:07.384Z"
   },
   {
    "duration": 23,
    "start_time": "2022-08-23T19:13:25.872Z"
   },
   {
    "duration": 19,
    "start_time": "2022-08-23T19:14:51.640Z"
   },
   {
    "duration": 18,
    "start_time": "2022-08-23T20:23:04.398Z"
   },
   {
    "duration": 17,
    "start_time": "2022-08-23T20:23:29.914Z"
   },
   {
    "duration": 9,
    "start_time": "2022-08-23T20:44:50.844Z"
   },
   {
    "duration": 9,
    "start_time": "2022-08-23T20:46:10.333Z"
   },
   {
    "duration": 7,
    "start_time": "2022-08-23T20:46:30.654Z"
   },
   {
    "duration": 16,
    "start_time": "2022-08-23T20:46:59.149Z"
   },
   {
    "duration": 13,
    "start_time": "2022-08-23T20:48:17.119Z"
   },
   {
    "duration": 14,
    "start_time": "2022-08-23T20:48:46.818Z"
   },
   {
    "duration": 2491,
    "start_time": "2022-08-23T20:49:24.967Z"
   },
   {
    "duration": 2832,
    "start_time": "2022-08-23T20:50:12.515Z"
   },
   {
    "duration": 1118,
    "start_time": "2022-08-23T20:51:31.321Z"
   },
   {
    "duration": 3,
    "start_time": "2022-08-23T21:24:56.319Z"
   },
   {
    "duration": 15,
    "start_time": "2022-08-23T21:25:09.516Z"
   },
   {
    "duration": 111,
    "start_time": "2022-08-23T21:28:07.739Z"
   },
   {
    "duration": 259,
    "start_time": "2022-08-23T21:30:05.406Z"
   },
   {
    "duration": 8437,
    "start_time": "2022-08-23T21:31:42.236Z"
   },
   {
    "duration": 8343,
    "start_time": "2022-08-23T21:32:05.087Z"
   },
   {
    "duration": 14,
    "start_time": "2022-08-23T21:32:17.549Z"
   },
   {
    "duration": 4,
    "start_time": "2022-08-23T21:34:02.725Z"
   },
   {
    "duration": 3,
    "start_time": "2022-08-23T21:35:04.235Z"
   },
   {
    "duration": 15,
    "start_time": "2022-08-23T21:35:06.166Z"
   },
   {
    "duration": 10256,
    "start_time": "2022-08-24T16:03:32.481Z"
   },
   {
    "duration": 10,
    "start_time": "2022-08-24T16:13:49.974Z"
   },
   {
    "duration": 97,
    "start_time": "2022-08-24T16:14:12.285Z"
   },
   {
    "duration": 62,
    "start_time": "2022-08-24T16:18:17.927Z"
   },
   {
    "duration": 86,
    "start_time": "2022-08-24T16:18:39.775Z"
   },
   {
    "duration": 4,
    "start_time": "2022-08-24T16:18:46.903Z"
   },
   {
    "duration": 6,
    "start_time": "2022-08-24T16:19:18.249Z"
   },
   {
    "duration": 37,
    "start_time": "2022-08-24T16:19:27.351Z"
   },
   {
    "duration": 123,
    "start_time": "2022-08-24T16:19:37.055Z"
   },
   {
    "duration": 125,
    "start_time": "2022-08-24T16:19:45.071Z"
   },
   {
    "duration": 13,
    "start_time": "2022-08-24T16:22:11.898Z"
   },
   {
    "duration": 130,
    "start_time": "2022-08-24T16:22:40.570Z"
   },
   {
    "duration": 1416,
    "start_time": "2022-08-24T16:22:46.977Z"
   },
   {
    "duration": 239,
    "start_time": "2022-08-24T16:24:27.426Z"
   },
   {
    "duration": 121,
    "start_time": "2022-08-24T16:25:56.660Z"
   },
   {
    "duration": 6,
    "start_time": "2022-08-24T16:26:09.084Z"
   },
   {
    "duration": 136,
    "start_time": "2022-08-24T16:26:17.371Z"
   },
   {
    "duration": 122,
    "start_time": "2022-08-24T16:27:15.900Z"
   },
   {
    "duration": 529,
    "start_time": "2022-08-24T16:29:19.884Z"
   },
   {
    "duration": 176,
    "start_time": "2022-08-24T16:30:15.637Z"
   },
   {
    "duration": 140,
    "start_time": "2022-08-24T16:30:23.241Z"
   },
   {
    "duration": 110,
    "start_time": "2022-08-24T16:32:34.326Z"
   },
   {
    "duration": 137,
    "start_time": "2022-08-24T16:32:36.821Z"
   },
   {
    "duration": 214,
    "start_time": "2022-08-24T16:32:38.679Z"
   },
   {
    "duration": 148,
    "start_time": "2022-08-24T16:32:40.358Z"
   },
   {
    "duration": 115,
    "start_time": "2022-08-24T16:32:42.046Z"
   },
   {
    "duration": 117,
    "start_time": "2022-08-24T16:32:43.566Z"
   },
   {
    "duration": 114,
    "start_time": "2022-08-24T16:32:45.214Z"
   },
   {
    "duration": 111,
    "start_time": "2022-08-24T16:32:46.622Z"
   },
   {
    "duration": 155,
    "start_time": "2022-08-24T16:32:48.158Z"
   },
   {
    "duration": 115,
    "start_time": "2022-08-24T16:32:49.974Z"
   },
   {
    "duration": 127,
    "start_time": "2022-08-24T16:32:51.502Z"
   },
   {
    "duration": 126,
    "start_time": "2022-08-24T16:32:53.206Z"
   },
   {
    "duration": 120,
    "start_time": "2022-08-24T16:32:54.710Z"
   },
   {
    "duration": 118,
    "start_time": "2022-08-24T16:35:16.217Z"
   },
   {
    "duration": 118,
    "start_time": "2022-08-24T16:35:34.240Z"
   },
   {
    "duration": 194,
    "start_time": "2022-08-24T16:36:03.568Z"
   },
   {
    "duration": 113,
    "start_time": "2022-08-24T16:36:12.560Z"
   },
   {
    "duration": 129,
    "start_time": "2022-08-24T16:36:46.841Z"
   },
   {
    "duration": 149,
    "start_time": "2022-08-24T16:36:58.800Z"
   },
   {
    "duration": 176,
    "start_time": "2022-08-24T16:37:10.112Z"
   },
   {
    "duration": 172,
    "start_time": "2022-08-24T16:37:35.793Z"
   },
   {
    "duration": 161,
    "start_time": "2022-08-24T16:39:04.729Z"
   },
   {
    "duration": 156,
    "start_time": "2022-08-24T16:39:19.377Z"
   },
   {
    "duration": 149,
    "start_time": "2022-08-24T16:46:36.310Z"
   },
   {
    "duration": 167,
    "start_time": "2022-08-24T16:47:07.494Z"
   },
   {
    "duration": 157,
    "start_time": "2022-08-24T16:47:29.358Z"
   },
   {
    "duration": 143,
    "start_time": "2022-08-24T16:47:59.518Z"
   },
   {
    "duration": 233,
    "start_time": "2022-08-24T16:48:39.839Z"
   },
   {
    "duration": 175,
    "start_time": "2022-08-24T16:49:07.919Z"
   },
   {
    "duration": 157,
    "start_time": "2022-08-24T16:49:13.223Z"
   },
   {
    "duration": 176,
    "start_time": "2022-08-24T16:49:18.367Z"
   },
   {
    "duration": 237,
    "start_time": "2022-08-24T16:49:21.320Z"
   },
   {
    "duration": 146,
    "start_time": "2022-08-24T16:49:40.831Z"
   },
   {
    "duration": 157,
    "start_time": "2022-08-24T16:49:52.190Z"
   },
   {
    "duration": 184,
    "start_time": "2022-08-24T16:50:09.736Z"
   },
   {
    "duration": 186,
    "start_time": "2022-08-24T16:50:18.462Z"
   },
   {
    "duration": 192,
    "start_time": "2022-08-24T16:50:27.727Z"
   },
   {
    "duration": 170,
    "start_time": "2022-08-24T16:50:45.622Z"
   },
   {
    "duration": 354,
    "start_time": "2022-08-24T16:51:12.591Z"
   },
   {
    "duration": 11307,
    "start_time": "2022-08-24T16:51:23.599Z"
   },
   {
    "duration": 2003,
    "start_time": "2022-08-24T16:51:40.208Z"
   },
   {
    "duration": 1296,
    "start_time": "2022-08-24T16:52:06.872Z"
   },
   {
    "duration": 2176,
    "start_time": "2022-08-24T16:52:42.089Z"
   },
   {
    "duration": 1338,
    "start_time": "2022-08-24T16:52:56.177Z"
   },
   {
    "duration": 1320,
    "start_time": "2022-08-24T16:53:03.720Z"
   },
   {
    "duration": 2229,
    "start_time": "2022-08-24T16:53:10.897Z"
   },
   {
    "duration": 1303,
    "start_time": "2022-08-24T16:54:09.290Z"
   },
   {
    "duration": 2084,
    "start_time": "2022-08-24T16:54:25.802Z"
   },
   {
    "duration": 1310,
    "start_time": "2022-08-24T16:54:47.337Z"
   },
   {
    "duration": 1245,
    "start_time": "2022-08-24T16:54:53.402Z"
   },
   {
    "duration": 2795,
    "start_time": "2022-08-24T16:54:56.705Z"
   },
   {
    "duration": 1386,
    "start_time": "2022-08-24T16:55:06.001Z"
   },
   {
    "duration": 1381,
    "start_time": "2022-08-24T16:55:13.217Z"
   },
   {
    "duration": 1462,
    "start_time": "2022-08-24T16:55:31.569Z"
   },
   {
    "duration": 1487,
    "start_time": "2022-08-24T16:55:36.841Z"
   },
   {
    "duration": 1398,
    "start_time": "2022-08-24T16:55:40.384Z"
   },
   {
    "duration": 1371,
    "start_time": "2022-08-24T16:55:43.505Z"
   },
   {
    "duration": 1391,
    "start_time": "2022-08-24T16:56:24.363Z"
   },
   {
    "duration": 1411,
    "start_time": "2022-08-24T16:56:41.522Z"
   },
   {
    "duration": 1385,
    "start_time": "2022-08-24T16:56:56.610Z"
   },
   {
    "duration": 1342,
    "start_time": "2022-08-24T16:57:08.874Z"
   },
   {
    "duration": 1450,
    "start_time": "2022-08-24T16:57:22.569Z"
   },
   {
    "duration": 4,
    "start_time": "2022-08-24T20:08:31.968Z"
   },
   {
    "duration": 6,
    "start_time": "2022-08-24T20:08:35.271Z"
   },
   {
    "duration": 5,
    "start_time": "2022-08-24T20:08:52.087Z"
   },
   {
    "duration": 8,
    "start_time": "2022-08-24T20:10:56.049Z"
   },
   {
    "duration": 5,
    "start_time": "2022-08-24T20:11:03.936Z"
   },
   {
    "duration": 5,
    "start_time": "2022-08-24T20:11:34.434Z"
   },
   {
    "duration": 192,
    "start_time": "2022-08-24T20:12:31.507Z"
   },
   {
    "duration": 31,
    "start_time": "2022-08-24T20:14:13.625Z"
   },
   {
    "duration": 4,
    "start_time": "2022-08-24T20:15:13.732Z"
   },
   {
    "duration": 5,
    "start_time": "2022-08-24T20:15:39.084Z"
   },
   {
    "duration": 5,
    "start_time": "2022-08-24T20:15:56.130Z"
   },
   {
    "duration": 79,
    "start_time": "2022-08-24T20:17:02.347Z"
   },
   {
    "duration": 6,
    "start_time": "2022-08-24T20:17:06.068Z"
   },
   {
    "duration": 5,
    "start_time": "2022-08-24T20:17:19.052Z"
   },
   {
    "duration": 466,
    "start_time": "2022-08-24T20:18:08.017Z"
   },
   {
    "duration": 1265,
    "start_time": "2022-08-24T20:43:39.241Z"
   },
   {
    "duration": 135,
    "start_time": "2022-08-24T20:44:14.779Z"
   },
   {
    "duration": 132,
    "start_time": "2022-08-24T20:44:25.909Z"
   },
   {
    "duration": 1314,
    "start_time": "2022-08-24T20:44:45.594Z"
   },
   {
    "duration": 1477,
    "start_time": "2022-08-24T20:45:57.955Z"
   },
   {
    "duration": 1410,
    "start_time": "2022-08-24T20:46:19.251Z"
   },
   {
    "duration": 3,
    "start_time": "2022-08-24T20:48:56.540Z"
   },
   {
    "duration": 4,
    "start_time": "2022-08-24T20:49:19.333Z"
   },
   {
    "duration": 1503,
    "start_time": "2022-08-24T20:50:28.493Z"
   },
   {
    "duration": 1297,
    "start_time": "2022-08-24T20:51:24.383Z"
   },
   {
    "duration": 1595,
    "start_time": "2022-08-24T20:52:28.990Z"
   },
   {
    "duration": 1587,
    "start_time": "2022-08-24T20:52:37.542Z"
   },
   {
    "duration": 1349,
    "start_time": "2022-08-24T20:55:00.413Z"
   },
   {
    "duration": 1744,
    "start_time": "2022-08-24T20:58:47.754Z"
   },
   {
    "duration": 231,
    "start_time": "2022-08-24T20:59:11.481Z"
   },
   {
    "duration": 234,
    "start_time": "2022-08-24T21:00:42.911Z"
   },
   {
    "duration": 1717,
    "start_time": "2022-08-24T21:02:04.386Z"
   },
   {
    "duration": 1320,
    "start_time": "2022-08-24T21:02:13.419Z"
   },
   {
    "duration": 1254,
    "start_time": "2022-08-24T21:02:25.009Z"
   },
   {
    "duration": 1778,
    "start_time": "2022-08-24T21:02:50.571Z"
   },
   {
    "duration": 1234,
    "start_time": "2022-08-24T21:03:44.555Z"
   },
   {
    "duration": 1280,
    "start_time": "2022-08-24T21:07:05.306Z"
   },
   {
    "duration": 56,
    "start_time": "2022-08-24T21:07:23.268Z"
   },
   {
    "duration": 107,
    "start_time": "2022-08-24T21:07:43.400Z"
   },
   {
    "duration": 95,
    "start_time": "2022-08-24T21:08:36.429Z"
   },
   {
    "duration": 62,
    "start_time": "2022-08-24T21:08:58.549Z"
   },
   {
    "duration": 10521,
    "start_time": "2022-08-24T21:11:51.325Z"
   },
   {
    "duration": 93,
    "start_time": "2022-08-24T21:12:08.350Z"
   },
   {
    "duration": 25,
    "start_time": "2022-08-24T21:17:06.937Z"
   },
   {
    "duration": 23,
    "start_time": "2022-08-24T21:18:01.025Z"
   },
   {
    "duration": 9998,
    "start_time": "2022-08-24T21:19:43.805Z"
   },
   {
    "duration": 80,
    "start_time": "2022-08-24T21:20:17.771Z"
   },
   {
    "duration": 9880,
    "start_time": "2022-08-24T21:47:48.072Z"
   },
   {
    "duration": 68,
    "start_time": "2022-08-24T21:53:10.658Z"
   },
   {
    "duration": 78,
    "start_time": "2022-08-24T21:54:21.859Z"
   },
   {
    "duration": 9839,
    "start_time": "2022-08-24T21:56:50.180Z"
   },
   {
    "duration": 72,
    "start_time": "2022-08-24T21:57:12.661Z"
   },
   {
    "duration": 1385,
    "start_time": "2022-08-24T22:01:00.686Z"
   },
   {
    "duration": 1336,
    "start_time": "2022-08-24T22:01:25.510Z"
   },
   {
    "duration": 713,
    "start_time": "2022-08-24T22:01:38.966Z"
   },
   {
    "duration": 453,
    "start_time": "2022-08-24T22:01:44.926Z"
   },
   {
    "duration": 981,
    "start_time": "2022-08-24T22:01:55.398Z"
   },
   {
    "duration": 257,
    "start_time": "2022-08-24T22:02:00.239Z"
   },
   {
    "duration": 253,
    "start_time": "2022-08-24T22:02:05.342Z"
   },
   {
    "duration": 241,
    "start_time": "2022-08-24T22:02:09.615Z"
   },
   {
    "duration": 258,
    "start_time": "2022-08-24T22:02:15.198Z"
   },
   {
    "duration": 235,
    "start_time": "2022-08-24T22:02:24.270Z"
   },
   {
    "duration": 236,
    "start_time": "2022-08-24T22:02:40.335Z"
   },
   {
    "duration": 1239,
    "start_time": "2022-08-24T22:03:21.655Z"
   },
   {
    "duration": 1265,
    "start_time": "2022-08-24T22:03:39.823Z"
   },
   {
    "duration": 1312,
    "start_time": "2022-08-24T22:03:46.120Z"
   },
   {
    "duration": 1095,
    "start_time": "2022-08-24T22:03:58.135Z"
   },
   {
    "duration": 240,
    "start_time": "2022-08-24T22:04:18.808Z"
   },
   {
    "duration": 238,
    "start_time": "2022-08-24T22:04:52.831Z"
   },
   {
    "duration": 252,
    "start_time": "2022-08-24T22:08:52.713Z"
   },
   {
    "duration": 250,
    "start_time": "2022-08-24T22:09:06.610Z"
   },
   {
    "duration": 245,
    "start_time": "2022-08-24T22:09:18.482Z"
   },
   {
    "duration": 242,
    "start_time": "2022-08-24T22:09:47.027Z"
   },
   {
    "duration": 63,
    "start_time": "2022-08-24T23:05:38.667Z"
   },
   {
    "duration": 239,
    "start_time": "2022-08-24T23:18:28.824Z"
   },
   {
    "duration": 236,
    "start_time": "2022-08-24T23:19:42.242Z"
   },
   {
    "duration": 239,
    "start_time": "2022-08-24T23:20:08.258Z"
   },
   {
    "duration": 196,
    "start_time": "2022-08-24T23:20:24.522Z"
   },
   {
    "duration": 222,
    "start_time": "2022-08-24T23:20:29.434Z"
   },
   {
    "duration": 235,
    "start_time": "2022-08-24T23:20:33.458Z"
   },
   {
    "duration": 239,
    "start_time": "2022-08-24T23:21:08.689Z"
   },
   {
    "duration": 213,
    "start_time": "2022-08-24T23:21:42.707Z"
   },
   {
    "duration": 254,
    "start_time": "2022-08-24T23:22:03.298Z"
   },
   {
    "duration": 146,
    "start_time": "2022-08-24T23:22:12.419Z"
   },
   {
    "duration": 156,
    "start_time": "2022-08-24T23:22:25.322Z"
   },
   {
    "duration": 142,
    "start_time": "2022-08-24T23:22:37.106Z"
   },
   {
    "duration": 147,
    "start_time": "2022-08-24T23:22:42.715Z"
   },
   {
    "duration": 143,
    "start_time": "2022-08-24T23:22:48.467Z"
   },
   {
    "duration": 124,
    "start_time": "2022-08-24T23:24:22.324Z"
   },
   {
    "duration": 119,
    "start_time": "2022-08-24T23:24:30.220Z"
   },
   {
    "duration": 126,
    "start_time": "2022-08-24T23:25:16.116Z"
   },
   {
    "duration": 141,
    "start_time": "2022-08-24T23:25:24.156Z"
   },
   {
    "duration": 130,
    "start_time": "2022-08-24T23:25:31.936Z"
   },
   {
    "duration": 150,
    "start_time": "2022-08-24T23:25:36.612Z"
   },
   {
    "duration": 242,
    "start_time": "2022-08-24T23:26:26.838Z"
   },
   {
    "duration": 192,
    "start_time": "2022-08-24T23:27:19.933Z"
   },
   {
    "duration": 134,
    "start_time": "2022-08-24T23:27:23.725Z"
   },
   {
    "duration": 15,
    "start_time": "2022-08-24T23:27:29.085Z"
   },
   {
    "duration": 7,
    "start_time": "2022-08-24T23:27:33.557Z"
   },
   {
    "duration": 155,
    "start_time": "2022-08-24T23:27:36.533Z"
   },
   {
    "duration": 182,
    "start_time": "2022-08-24T23:27:41.548Z"
   },
   {
    "duration": 236,
    "start_time": "2022-08-24T23:28:22.133Z"
   },
   {
    "duration": 105,
    "start_time": "2022-08-24T23:28:40.822Z"
   },
   {
    "duration": 239,
    "start_time": "2022-08-24T23:29:12.582Z"
   },
   {
    "duration": 194,
    "start_time": "2022-08-24T23:30:59.774Z"
   },
   {
    "duration": 176,
    "start_time": "2022-08-24T23:31:24.367Z"
   },
   {
    "duration": 170,
    "start_time": "2022-08-24T23:32:08.215Z"
   },
   {
    "duration": 139,
    "start_time": "2022-08-24T23:32:13.463Z"
   },
   {
    "duration": 185,
    "start_time": "2022-08-24T23:32:30.430Z"
   },
   {
    "duration": 141,
    "start_time": "2022-08-24T23:32:34.823Z"
   },
   {
    "duration": 135,
    "start_time": "2022-08-24T23:32:43.543Z"
   },
   {
    "duration": 123,
    "start_time": "2022-08-24T23:34:34.537Z"
   },
   {
    "duration": 128,
    "start_time": "2022-08-24T23:35:53.240Z"
   },
   {
    "duration": 108,
    "start_time": "2022-08-24T23:38:52.547Z"
   },
   {
    "duration": 119,
    "start_time": "2022-08-24T23:38:59.042Z"
   },
   {
    "duration": 113,
    "start_time": "2022-08-24T23:39:24.435Z"
   },
   {
    "duration": 120,
    "start_time": "2022-08-24T23:39:33.379Z"
   },
   {
    "duration": 111,
    "start_time": "2022-08-24T23:39:40.930Z"
   },
   {
    "duration": 101,
    "start_time": "2022-08-24T23:39:49.932Z"
   },
   {
    "duration": 102,
    "start_time": "2022-08-24T23:40:57.164Z"
   },
   {
    "duration": 9546,
    "start_time": "2022-08-24T23:49:23.952Z"
   },
   {
    "duration": 253,
    "start_time": "2022-08-24T23:49:41.942Z"
   },
   {
    "duration": 101,
    "start_time": "2022-08-24T23:49:45.840Z"
   },
   {
    "duration": 231,
    "start_time": "2022-08-24T23:49:49.280Z"
   },
   {
    "duration": 118,
    "start_time": "2022-08-24T23:49:51.712Z"
   },
   {
    "duration": 246,
    "start_time": "2022-08-24T23:49:54.472Z"
   },
   {
    "duration": 109,
    "start_time": "2022-08-24T23:49:56.720Z"
   },
   {
    "duration": 251,
    "start_time": "2022-08-24T23:49:59.943Z"
   },
   {
    "duration": 146,
    "start_time": "2022-08-24T23:50:02.111Z"
   },
   {
    "duration": 245,
    "start_time": "2022-08-24T23:50:06.264Z"
   },
   {
    "duration": 118,
    "start_time": "2022-08-24T23:50:07.841Z"
   },
   {
    "duration": 137,
    "start_time": "2022-08-24T23:50:09.856Z"
   },
   {
    "duration": 112,
    "start_time": "2022-08-24T23:50:12.617Z"
   },
   {
    "duration": 129,
    "start_time": "2022-08-24T23:50:13.792Z"
   },
   {
    "duration": 138,
    "start_time": "2022-08-24T23:50:15.024Z"
   },
   {
    "duration": 120,
    "start_time": "2022-08-24T23:50:16.791Z"
   },
   {
    "duration": 195,
    "start_time": "2022-08-24T23:50:18.135Z"
   },
   {
    "duration": 113,
    "start_time": "2022-08-24T23:50:24.968Z"
   },
   {
    "duration": 188,
    "start_time": "2022-08-24T23:50:31.554Z"
   },
   {
    "duration": 117,
    "start_time": "2022-08-24T23:50:34.448Z"
   },
   {
    "duration": 163,
    "start_time": "2022-08-24T23:50:36.009Z"
   },
   {
    "duration": 1277,
    "start_time": "2022-08-24T23:50:37.216Z"
   },
   {
    "duration": 130,
    "start_time": "2022-08-24T23:50:38.703Z"
   },
   {
    "duration": 133,
    "start_time": "2022-08-24T23:50:40.424Z"
   },
   {
    "duration": 19,
    "start_time": "2022-08-24T23:54:52.459Z"
   },
   {
    "duration": 159,
    "start_time": "2022-08-25T00:02:02.958Z"
   },
   {
    "duration": 163,
    "start_time": "2022-08-25T00:02:24.388Z"
   },
   {
    "duration": 162,
    "start_time": "2022-08-25T00:02:35.694Z"
   },
   {
    "duration": 175,
    "start_time": "2022-08-25T00:03:27.079Z"
   },
   {
    "duration": 163,
    "start_time": "2022-08-25T00:03:30.135Z"
   },
   {
    "duration": 172,
    "start_time": "2022-08-25T00:03:32.198Z"
   },
   {
    "duration": 167,
    "start_time": "2022-08-25T00:03:35.983Z"
   },
   {
    "duration": 150,
    "start_time": "2022-08-25T00:03:39.390Z"
   },
   {
    "duration": 176,
    "start_time": "2022-08-25T00:03:56.303Z"
   },
   {
    "duration": 171,
    "start_time": "2022-08-25T00:04:07.175Z"
   },
   {
    "duration": 184,
    "start_time": "2022-08-25T00:04:12.191Z"
   },
   {
    "duration": 170,
    "start_time": "2022-08-25T00:04:15.383Z"
   },
   {
    "duration": 148,
    "start_time": "2022-08-25T00:04:19.630Z"
   },
   {
    "duration": 163,
    "start_time": "2022-08-25T00:04:26.334Z"
   },
   {
    "duration": 164,
    "start_time": "2022-08-25T00:04:29.711Z"
   },
   {
    "duration": 157,
    "start_time": "2022-08-25T00:04:32.879Z"
   },
   {
    "duration": 13,
    "start_time": "2022-08-25T00:18:45.798Z"
   },
   {
    "duration": 12,
    "start_time": "2022-08-25T00:19:05.295Z"
   },
   {
    "duration": 8,
    "start_time": "2022-08-25T00:19:08.053Z"
   },
   {
    "duration": 7,
    "start_time": "2022-08-25T00:19:11.277Z"
   },
   {
    "duration": 7,
    "start_time": "2022-08-25T00:19:13.726Z"
   },
   {
    "duration": 7,
    "start_time": "2022-08-25T00:19:15.942Z"
   },
   {
    "duration": 7,
    "start_time": "2022-08-25T00:19:22.014Z"
   },
   {
    "duration": 9,
    "start_time": "2022-08-25T00:19:25.342Z"
   },
   {
    "duration": 7,
    "start_time": "2022-08-25T00:19:34.182Z"
   },
   {
    "duration": 7,
    "start_time": "2022-08-25T00:19:36.935Z"
   },
   {
    "duration": 7,
    "start_time": "2022-08-25T00:19:39.925Z"
   },
   {
    "duration": 7,
    "start_time": "2022-08-25T00:19:42.382Z"
   },
   {
    "duration": 12,
    "start_time": "2022-08-25T00:19:45.790Z"
   },
   {
    "duration": 8,
    "start_time": "2022-08-25T00:19:54.766Z"
   },
   {
    "duration": 9497,
    "start_time": "2022-08-25T00:25:36.313Z"
   },
   {
    "duration": 9577,
    "start_time": "2022-08-25T00:26:01.586Z"
   },
   {
    "duration": 224,
    "start_time": "2022-08-25T00:26:15.514Z"
   },
   {
    "duration": 16,
    "start_time": "2022-08-25T00:28:48.370Z"
   },
   {
    "duration": 17,
    "start_time": "2022-08-25T00:29:27.315Z"
   },
   {
    "duration": 16,
    "start_time": "2022-08-25T00:29:36.594Z"
   },
   {
    "duration": 7,
    "start_time": "2022-08-25T00:30:14.716Z"
   },
   {
    "duration": 18,
    "start_time": "2022-08-25T00:30:26.027Z"
   },
   {
    "duration": 26,
    "start_time": "2022-08-25T00:32:11.164Z"
   },
   {
    "duration": 27,
    "start_time": "2022-08-25T00:37:14.166Z"
   },
   {
    "duration": 25,
    "start_time": "2022-08-25T00:37:38.750Z"
   },
   {
    "duration": 1254,
    "start_time": "2022-08-25T00:41:39.489Z"
   },
   {
    "duration": 148,
    "start_time": "2022-08-25T00:42:15.265Z"
   },
   {
    "duration": 165,
    "start_time": "2022-08-25T00:42:23.545Z"
   },
   {
    "duration": 184,
    "start_time": "2022-08-25T00:43:33.265Z"
   },
   {
    "duration": 174,
    "start_time": "2022-08-25T00:44:06.945Z"
   },
   {
    "duration": 181,
    "start_time": "2022-08-25T00:44:18.074Z"
   },
   {
    "duration": 178,
    "start_time": "2022-08-25T00:44:26.617Z"
   },
   {
    "duration": 14,
    "start_time": "2022-08-25T00:59:45.739Z"
   },
   {
    "duration": 8,
    "start_time": "2022-08-25T01:00:13.747Z"
   },
   {
    "duration": 21,
    "start_time": "2022-08-25T01:00:25.651Z"
   },
   {
    "duration": 24,
    "start_time": "2022-08-25T01:01:39.147Z"
   },
   {
    "duration": 22,
    "start_time": "2022-08-25T01:01:53.420Z"
   },
   {
    "duration": 21,
    "start_time": "2022-08-25T01:06:00.142Z"
   },
   {
    "duration": 21,
    "start_time": "2022-08-25T01:06:06.101Z"
   },
   {
    "duration": 22,
    "start_time": "2022-08-25T01:06:18.213Z"
   },
   {
    "duration": 22,
    "start_time": "2022-08-25T01:06:24.054Z"
   },
   {
    "duration": 21,
    "start_time": "2022-08-25T01:06:32.182Z"
   },
   {
    "duration": 25,
    "start_time": "2022-08-25T01:07:26.015Z"
   },
   {
    "duration": 25,
    "start_time": "2022-08-25T01:08:29.782Z"
   },
   {
    "duration": 23,
    "start_time": "2022-08-25T01:08:51.239Z"
   },
   {
    "duration": 32,
    "start_time": "2022-08-25T01:10:01.216Z"
   },
   {
    "duration": 721,
    "start_time": "2022-08-25T12:16:58.502Z"
   },
   {
    "duration": 21,
    "start_time": "2022-08-25T12:17:09.571Z"
   },
   {
    "duration": 14,
    "start_time": "2022-08-25T12:17:44.747Z"
   },
   {
    "duration": 2365,
    "start_time": "2022-08-25T12:19:07.884Z"
   },
   {
    "duration": 1891,
    "start_time": "2022-08-25T12:19:40.254Z"
   },
   {
    "duration": 71,
    "start_time": "2022-08-25T12:19:44.861Z"
   },
   {
    "duration": 66,
    "start_time": "2022-08-25T12:21:09.678Z"
   },
   {
    "duration": 15,
    "start_time": "2022-08-25T12:22:01.862Z"
   },
   {
    "duration": 85,
    "start_time": "2022-08-25T12:23:18.734Z"
   },
   {
    "duration": 11,
    "start_time": "2022-08-25T12:23:20.574Z"
   },
   {
    "duration": 455,
    "start_time": "2022-08-25T12:23:59.794Z"
   },
   {
    "duration": 17,
    "start_time": "2022-08-25T12:24:01.843Z"
   },
   {
    "duration": 14,
    "start_time": "2022-08-25T12:24:08.716Z"
   },
   {
    "duration": 83,
    "start_time": "2022-08-25T12:24:14.908Z"
   },
   {
    "duration": 74,
    "start_time": "2022-08-25T12:24:20.020Z"
   },
   {
    "duration": 14,
    "start_time": "2022-08-25T12:24:53.619Z"
   },
   {
    "duration": 69,
    "start_time": "2022-08-25T12:28:13.493Z"
   },
   {
    "duration": 70,
    "start_time": "2022-08-25T13:17:34.502Z"
   },
   {
    "duration": 7,
    "start_time": "2022-08-25T13:43:09.834Z"
   },
   {
    "duration": 6,
    "start_time": "2022-08-25T15:40:03.580Z"
   },
   {
    "duration": 79,
    "start_time": "2022-08-25T17:04:27.198Z"
   },
   {
    "duration": 51,
    "start_time": "2022-08-25T17:04:58.251Z"
   },
   {
    "duration": 911,
    "start_time": "2022-08-25T17:40:24.709Z"
   },
   {
    "duration": 16,
    "start_time": "2022-08-25T17:40:27.742Z"
   },
   {
    "duration": 15,
    "start_time": "2022-08-25T17:40:31.996Z"
   },
   {
    "duration": 78,
    "start_time": "2022-08-25T17:40:38.548Z"
   },
   {
    "duration": 80,
    "start_time": "2022-08-25T17:40:41.564Z"
   },
   {
    "duration": 2069,
    "start_time": "2022-08-25T17:40:49.252Z"
   },
   {
    "duration": 10,
    "start_time": "2022-08-25T17:40:53.972Z"
   },
   {
    "duration": 10164,
    "start_time": "2022-08-25T17:40:57.741Z"
   },
   {
    "duration": 9,
    "start_time": "2022-08-25T17:41:12.645Z"
   },
   {
    "duration": 17,
    "start_time": "2022-08-25T17:41:19.836Z"
   },
   {
    "duration": 102,
    "start_time": "2022-08-25T17:41:22.148Z"
   },
   {
    "duration": 82,
    "start_time": "2022-08-25T17:41:24.614Z"
   },
   {
    "duration": 260,
    "start_time": "2022-08-25T17:41:27.444Z"
   },
   {
    "duration": 294,
    "start_time": "2022-08-25T17:41:38.965Z"
   },
   {
    "duration": 273,
    "start_time": "2022-08-25T17:41:53.237Z"
   },
   {
    "duration": 211,
    "start_time": "2022-08-25T17:41:54.925Z"
   },
   {
    "duration": 289,
    "start_time": "2022-08-25T17:41:59.053Z"
   },
   {
    "duration": 123,
    "start_time": "2022-08-25T17:42:00.685Z"
   },
   {
    "duration": 286,
    "start_time": "2022-08-25T17:42:03.821Z"
   },
   {
    "duration": 142,
    "start_time": "2022-08-25T17:42:05.028Z"
   },
   {
    "duration": 321,
    "start_time": "2022-08-25T17:42:22.630Z"
   },
   {
    "duration": 136,
    "start_time": "2022-08-25T17:42:23.910Z"
   },
   {
    "duration": 166,
    "start_time": "2022-08-25T17:42:29.957Z"
   },
   {
    "duration": 264,
    "start_time": "2022-08-25T17:42:31.565Z"
   },
   {
    "duration": 158,
    "start_time": "2022-08-25T17:42:37.093Z"
   },
   {
    "duration": 143,
    "start_time": "2022-08-25T17:42:38.607Z"
   },
   {
    "duration": 152,
    "start_time": "2022-08-25T17:42:42.502Z"
   },
   {
    "duration": 127,
    "start_time": "2022-08-25T17:42:43.727Z"
   },
   {
    "duration": 148,
    "start_time": "2022-08-25T17:42:50.542Z"
   },
   {
    "duration": 163,
    "start_time": "2022-08-25T17:42:54.901Z"
   },
   {
    "duration": 126,
    "start_time": "2022-08-25T17:42:55.718Z"
   },
   {
    "duration": 243,
    "start_time": "2022-08-25T17:42:58.286Z"
   },
   {
    "duration": 160,
    "start_time": "2022-08-25T17:42:59.150Z"
   },
   {
    "duration": 219,
    "start_time": "2022-08-25T17:43:02.325Z"
   },
   {
    "duration": 138,
    "start_time": "2022-08-25T17:43:03.925Z"
   },
   {
    "duration": 328,
    "start_time": "2022-08-25T17:43:06.645Z"
   },
   {
    "duration": 128,
    "start_time": "2022-08-25T17:43:08.206Z"
   },
   {
    "duration": 166,
    "start_time": "2022-08-25T17:43:11.373Z"
   },
   {
    "duration": 149,
    "start_time": "2022-08-25T17:43:13.796Z"
   },
   {
    "duration": 347,
    "start_time": "2022-08-25T17:43:16.421Z"
   },
   {
    "duration": 123,
    "start_time": "2022-08-25T17:43:17.637Z"
   },
   {
    "duration": 24,
    "start_time": "2022-08-25T17:43:21.789Z"
   },
   {
    "duration": 203,
    "start_time": "2022-08-25T17:43:22.742Z"
   },
   {
    "duration": 199,
    "start_time": "2022-08-25T17:43:23.629Z"
   },
   {
    "duration": 206,
    "start_time": "2022-08-25T17:43:24.565Z"
   },
   {
    "duration": 194,
    "start_time": "2022-08-25T17:43:25.438Z"
   },
   {
    "duration": 181,
    "start_time": "2022-08-25T17:43:27.195Z"
   },
   {
    "duration": 212,
    "start_time": "2022-08-25T17:43:28.512Z"
   },
   {
    "duration": 284,
    "start_time": "2022-08-25T17:43:29.638Z"
   },
   {
    "duration": 209,
    "start_time": "2022-08-25T17:43:30.574Z"
   },
   {
    "duration": 34,
    "start_time": "2022-08-25T17:43:34.406Z"
   },
   {
    "duration": 244,
    "start_time": "2022-08-25T17:43:39.054Z"
   },
   {
    "duration": 186,
    "start_time": "2022-08-25T19:15:04.838Z"
   },
   {
    "duration": 260,
    "start_time": "2022-08-25T19:21:29.730Z"
   },
   {
    "duration": 181,
    "start_time": "2022-08-25T19:22:14.032Z"
   },
   {
    "duration": 158,
    "start_time": "2022-08-25T19:22:22.185Z"
   },
   {
    "duration": 177,
    "start_time": "2022-08-25T20:12:46.248Z"
   },
   {
    "duration": 131,
    "start_time": "2022-08-25T20:20:28.252Z"
   },
   {
    "duration": 17,
    "start_time": "2022-08-25T20:36:14.363Z"
   },
   {
    "duration": 17,
    "start_time": "2022-08-25T20:36:42.421Z"
   },
   {
    "duration": 16,
    "start_time": "2022-08-25T20:36:46.019Z"
   },
   {
    "duration": 15,
    "start_time": "2022-08-25T20:36:49.788Z"
   },
   {
    "duration": 17,
    "start_time": "2022-08-25T20:36:51.451Z"
   },
   {
    "duration": 809,
    "start_time": "2022-08-25T20:38:38.192Z"
   },
   {
    "duration": 9672,
    "start_time": "2022-08-25T20:38:54.554Z"
   },
   {
    "duration": 21,
    "start_time": "2022-08-25T20:39:08.208Z"
   },
   {
    "duration": 110,
    "start_time": "2022-08-25T20:39:11.288Z"
   },
   {
    "duration": 72,
    "start_time": "2022-08-25T20:39:13.407Z"
   },
   {
    "duration": 253,
    "start_time": "2022-08-25T20:39:18.841Z"
   },
   {
    "duration": 24,
    "start_time": "2022-08-25T20:39:33.672Z"
   },
   {
    "duration": 27,
    "start_time": "2022-08-25T20:39:45.472Z"
   },
   {
    "duration": 21,
    "start_time": "2022-08-25T20:39:57.025Z"
   },
   {
    "duration": 21,
    "start_time": "2022-08-25T20:40:00.403Z"
   },
   {
    "duration": 781,
    "start_time": "2022-08-25T20:40:14.616Z"
   },
   {
    "duration": 9442,
    "start_time": "2022-08-25T20:40:22.545Z"
   },
   {
    "duration": 21,
    "start_time": "2022-08-25T20:40:35.528Z"
   },
   {
    "duration": 88,
    "start_time": "2022-08-25T20:40:36.888Z"
   },
   {
    "duration": 68,
    "start_time": "2022-08-25T20:40:38.440Z"
   },
   {
    "duration": 266,
    "start_time": "2022-08-25T20:40:41.097Z"
   },
   {
    "duration": 27,
    "start_time": "2022-08-25T20:40:59.354Z"
   },
   {
    "duration": 9,
    "start_time": "2022-08-25T20:52:46.126Z"
   },
   {
    "duration": 14,
    "start_time": "2022-08-25T20:52:55.688Z"
   },
   {
    "duration": 5,
    "start_time": "2022-08-25T20:53:26.144Z"
   },
   {
    "duration": 21,
    "start_time": "2022-08-25T21:08:42.583Z"
   },
   {
    "duration": 8,
    "start_time": "2022-08-25T21:13:00.009Z"
   },
   {
    "duration": 9,
    "start_time": "2022-08-25T21:14:19.626Z"
   },
   {
    "duration": 204,
    "start_time": "2022-08-25T21:21:42.926Z"
   },
   {
    "duration": 251,
    "start_time": "2022-08-25T21:24:25.550Z"
   },
   {
    "duration": 189,
    "start_time": "2022-08-25T21:38:12.085Z"
   },
   {
    "duration": 158,
    "start_time": "2022-08-25T21:38:16.827Z"
   },
   {
    "duration": 209,
    "start_time": "2022-08-25T21:38:29.340Z"
   },
   {
    "duration": 936,
    "start_time": "2022-08-25T22:42:23.586Z"
   },
   {
    "duration": 14,
    "start_time": "2022-08-25T22:42:24.524Z"
   },
   {
    "duration": 14,
    "start_time": "2022-08-25T22:42:24.540Z"
   },
   {
    "duration": 70,
    "start_time": "2022-08-25T22:42:24.556Z"
   },
   {
    "duration": 62,
    "start_time": "2022-08-25T22:42:24.628Z"
   },
   {
    "duration": 1739,
    "start_time": "2022-08-25T22:42:24.692Z"
   },
   {
    "duration": 1678,
    "start_time": "2022-08-25T22:42:26.433Z"
   },
   {
    "duration": 8,
    "start_time": "2022-08-25T22:42:28.112Z"
   },
   {
    "duration": 9181,
    "start_time": "2022-08-25T22:42:28.122Z"
   },
   {
    "duration": 8,
    "start_time": "2022-08-25T22:42:37.305Z"
   },
   {
    "duration": 14,
    "start_time": "2022-08-25T22:42:37.315Z"
   },
   {
    "duration": 98,
    "start_time": "2022-08-25T22:42:37.331Z"
   },
   {
    "duration": 68,
    "start_time": "2022-08-25T22:42:37.432Z"
   },
   {
    "duration": 176,
    "start_time": "2022-08-25T22:42:37.510Z"
   },
   {
    "duration": 259,
    "start_time": "2022-08-25T22:42:37.688Z"
   },
   {
    "duration": 202,
    "start_time": "2022-08-25T22:42:37.948Z"
   },
   {
    "duration": 114,
    "start_time": "2022-08-25T22:42:38.151Z"
   },
   {
    "duration": 207,
    "start_time": "2022-08-25T22:42:38.266Z"
   },
   {
    "duration": 194,
    "start_time": "2022-08-25T22:42:38.475Z"
   },
   {
    "duration": 167,
    "start_time": "2022-08-25T22:42:38.671Z"
   },
   {
    "duration": 124,
    "start_time": "2022-08-25T22:42:38.840Z"
   },
   {
    "duration": 221,
    "start_time": "2022-08-25T22:42:38.965Z"
   },
   {
    "duration": 132,
    "start_time": "2022-08-25T22:42:39.188Z"
   },
   {
    "duration": 145,
    "start_time": "2022-08-25T22:42:39.321Z"
   },
   {
    "duration": 113,
    "start_time": "2022-08-25T22:42:39.468Z"
   },
   {
    "duration": 153,
    "start_time": "2022-08-25T22:42:39.583Z"
   },
   {
    "duration": 145,
    "start_time": "2022-08-25T22:42:39.738Z"
   },
   {
    "duration": 143,
    "start_time": "2022-08-25T22:42:39.911Z"
   },
   {
    "duration": 189,
    "start_time": "2022-08-25T22:42:40.055Z"
   },
   {
    "duration": 137,
    "start_time": "2022-08-25T22:42:40.246Z"
   },
   {
    "duration": 171,
    "start_time": "2022-08-25T22:42:40.385Z"
   },
   {
    "duration": 111,
    "start_time": "2022-08-25T22:42:40.558Z"
   },
   {
    "duration": 162,
    "start_time": "2022-08-25T22:42:40.671Z"
   },
   {
    "duration": 117,
    "start_time": "2022-08-25T22:42:40.835Z"
   },
   {
    "duration": 167,
    "start_time": "2022-08-25T22:42:40.954Z"
   },
   {
    "duration": 113,
    "start_time": "2022-08-25T22:42:41.122Z"
   },
   {
    "duration": 156,
    "start_time": "2022-08-25T22:42:41.236Z"
   },
   {
    "duration": 102,
    "start_time": "2022-08-25T22:42:41.393Z"
   },
   {
    "duration": 201,
    "start_time": "2022-08-25T22:42:41.496Z"
   },
   {
    "duration": 124,
    "start_time": "2022-08-25T22:42:41.698Z"
   },
   {
    "duration": 220,
    "start_time": "2022-08-25T22:42:41.823Z"
   },
   {
    "duration": 111,
    "start_time": "2022-08-25T22:42:42.044Z"
   },
   {
    "duration": 18,
    "start_time": "2022-08-25T22:42:42.157Z"
   },
   {
    "duration": 3,
    "start_time": "2022-08-25T22:42:42.177Z"
   },
   {
    "duration": 187,
    "start_time": "2022-08-25T22:42:42.182Z"
   },
   {
    "duration": 205,
    "start_time": "2022-08-25T22:42:42.371Z"
   },
   {
    "duration": 365,
    "start_time": "2022-08-25T22:42:42.578Z"
   },
   {
    "duration": 369,
    "start_time": "2022-08-25T22:42:42.944Z"
   },
   {
    "duration": 239,
    "start_time": "2022-08-25T22:42:43.315Z"
   },
   {
    "duration": 368,
    "start_time": "2022-08-25T22:42:43.556Z"
   },
   {
    "duration": 314,
    "start_time": "2022-08-25T22:42:43.926Z"
   },
   {
    "duration": 404,
    "start_time": "2022-08-25T22:42:44.243Z"
   },
   {
    "duration": 20,
    "start_time": "2022-08-25T22:42:44.648Z"
   },
   {
    "duration": 7,
    "start_time": "2022-08-25T22:42:44.669Z"
   },
   {
    "duration": 38,
    "start_time": "2022-08-25T22:42:44.678Z"
   },
   {
    "duration": 214,
    "start_time": "2022-08-25T22:42:44.719Z"
   },
   {
    "duration": 675,
    "start_time": "2022-09-05T09:03:12.208Z"
   },
   {
    "duration": 151,
    "start_time": "2022-09-05T09:03:14.526Z"
   },
   {
    "duration": 3,
    "start_time": "2022-09-05T09:03:15.854Z"
   },
   {
    "duration": 18,
    "start_time": "2022-09-05T09:03:17.806Z"
   },
   {
    "duration": 1791,
    "start_time": "2022-09-05T09:04:46.574Z"
   },
   {
    "duration": 2,
    "start_time": "2022-09-05T09:05:35.952Z"
   },
   {
    "duration": 3,
    "start_time": "2022-09-05T09:14:29.134Z"
   },
   {
    "duration": 7838,
    "start_time": "2022-09-05T09:15:25.952Z"
   },
   {
    "duration": 8,
    "start_time": "2022-09-05T09:15:38.693Z"
   },
   {
    "duration": 14,
    "start_time": "2022-09-05T09:15:55.433Z"
   },
   {
    "duration": 83,
    "start_time": "2022-09-05T09:16:04.009Z"
   },
   {
    "duration": 3,
    "start_time": "2022-09-05T09:16:06.037Z"
   },
   {
    "duration": 86,
    "start_time": "2022-09-05T09:46:04.738Z"
   },
   {
    "duration": 54,
    "start_time": "2022-09-05T09:56:24.304Z"
   },
   {
    "duration": 2,
    "start_time": "2022-09-05T10:04:37.252Z"
   },
   {
    "duration": 85,
    "start_time": "2022-09-05T10:04:38.571Z"
   },
   {
    "duration": 3,
    "start_time": "2022-09-05T10:04:39.962Z"
   },
   {
    "duration": 11,
    "start_time": "2022-09-05T10:04:42.027Z"
   },
   {
    "duration": 13,
    "start_time": "2022-09-05T10:04:43.971Z"
   },
   {
    "duration": 15,
    "start_time": "2022-09-05T10:04:55.075Z"
   },
   {
    "duration": 8109,
    "start_time": "2022-09-05T10:05:18.102Z"
   },
   {
    "duration": 7,
    "start_time": "2022-09-05T10:05:31.132Z"
   },
   {
    "duration": 14,
    "start_time": "2022-09-05T10:05:34.212Z"
   },
   {
    "duration": 78,
    "start_time": "2022-09-05T10:05:37.712Z"
   },
   {
    "duration": 58,
    "start_time": "2022-09-05T10:05:39.995Z"
   },
   {
    "duration": 177,
    "start_time": "2022-09-05T10:05:42.987Z"
   },
   {
    "duration": 216,
    "start_time": "2022-09-05T10:24:22.693Z"
   },
   {
    "duration": 221,
    "start_time": "2022-09-05T10:25:04.558Z"
   },
   {
    "duration": 104,
    "start_time": "2022-09-05T10:25:26.166Z"
   },
   {
    "duration": 187,
    "start_time": "2022-09-05T10:25:44.030Z"
   },
   {
    "duration": 218,
    "start_time": "2022-09-05T10:27:35.903Z"
   },
   {
    "duration": 205,
    "start_time": "2022-09-05T10:28:05.590Z"
   },
   {
    "duration": 64,
    "start_time": "2022-09-05T13:28:38.395Z"
   },
   {
    "duration": 207,
    "start_time": "2022-09-05T13:29:02.016Z"
   },
   {
    "duration": 264,
    "start_time": "2022-09-05T13:29:11.381Z"
   },
   {
    "duration": 18,
    "start_time": "2022-09-05T13:29:43.460Z"
   },
   {
    "duration": 157,
    "start_time": "2022-09-05T13:29:58.198Z"
   },
   {
    "duration": 191,
    "start_time": "2022-09-05T13:30:04.421Z"
   },
   {
    "duration": 9,
    "start_time": "2022-09-05T13:35:22.343Z"
   },
   {
    "duration": 20,
    "start_time": "2022-09-05T13:35:48.889Z"
   },
   {
    "duration": 8,
    "start_time": "2022-09-05T13:35:56.767Z"
   },
   {
    "duration": 10,
    "start_time": "2022-09-05T13:36:10.759Z"
   },
   {
    "duration": 9,
    "start_time": "2022-09-05T13:37:02.551Z"
   },
   {
    "duration": 13,
    "start_time": "2022-09-05T13:37:42.015Z"
   },
   {
    "duration": 8,
    "start_time": "2022-09-05T13:37:54.257Z"
   },
   {
    "duration": 9,
    "start_time": "2022-09-05T13:38:12.328Z"
   },
   {
    "duration": 13,
    "start_time": "2022-09-05T13:38:40.248Z"
   },
   {
    "duration": 11,
    "start_time": "2022-09-05T13:38:54.200Z"
   },
   {
    "duration": 22,
    "start_time": "2022-09-05T13:39:46.368Z"
   },
   {
    "duration": 11,
    "start_time": "2022-09-05T13:41:17.529Z"
   },
   {
    "duration": 72,
    "start_time": "2022-09-05T13:43:11.979Z"
   },
   {
    "duration": 7,
    "start_time": "2022-09-05T13:45:41.794Z"
   },
   {
    "duration": 19,
    "start_time": "2022-09-05T13:47:28.403Z"
   },
   {
    "duration": 304,
    "start_time": "2022-09-05T13:47:37.681Z"
   },
   {
    "duration": 17,
    "start_time": "2022-09-05T13:47:58.602Z"
   },
   {
    "duration": 14,
    "start_time": "2022-09-05T13:48:10.235Z"
   },
   {
    "duration": 13,
    "start_time": "2022-09-05T13:48:21.051Z"
   },
   {
    "duration": 13,
    "start_time": "2022-09-05T13:48:25.862Z"
   },
   {
    "duration": 1294,
    "start_time": "2022-09-05T13:49:07.948Z"
   },
   {
    "duration": 1299,
    "start_time": "2022-09-05T13:49:22.299Z"
   },
   {
    "duration": 20,
    "start_time": "2022-09-05T13:49:32.883Z"
   },
   {
    "duration": 5,
    "start_time": "2022-09-05T13:49:52.420Z"
   },
   {
    "duration": 4,
    "start_time": "2022-09-05T13:50:15.191Z"
   },
   {
    "duration": 4,
    "start_time": "2022-09-05T13:50:29.524Z"
   },
   {
    "duration": 12,
    "start_time": "2022-09-05T13:50:41.014Z"
   },
   {
    "duration": 13,
    "start_time": "2022-09-05T13:51:03.819Z"
   },
   {
    "duration": 4,
    "start_time": "2022-09-05T13:51:30.219Z"
   },
   {
    "duration": 19,
    "start_time": "2022-09-05T13:51:40.060Z"
   },
   {
    "duration": 120,
    "start_time": "2022-09-05T13:52:02.035Z"
   },
   {
    "duration": 13,
    "start_time": "2022-09-05T13:52:35.456Z"
   },
   {
    "duration": 119,
    "start_time": "2022-09-05T13:52:47.868Z"
   },
   {
    "duration": 13,
    "start_time": "2022-09-05T13:53:05.813Z"
   },
   {
    "duration": 185,
    "start_time": "2022-09-05T14:22:33.277Z"
   },
   {
    "duration": 183,
    "start_time": "2022-09-05T14:22:46.781Z"
   },
   {
    "duration": 192,
    "start_time": "2022-09-05T14:24:14.974Z"
   },
   {
    "duration": 6,
    "start_time": "2022-09-05T14:28:51.504Z"
   },
   {
    "duration": 4,
    "start_time": "2022-09-05T14:29:02.464Z"
   },
   {
    "duration": 18,
    "start_time": "2022-09-05T14:30:43.840Z"
   },
   {
    "duration": 20,
    "start_time": "2022-09-05T14:30:49.152Z"
   },
   {
    "duration": 4,
    "start_time": "2022-09-05T14:31:12.480Z"
   },
   {
    "duration": 22,
    "start_time": "2022-09-05T14:34:57.930Z"
   },
   {
    "duration": 22,
    "start_time": "2022-09-05T14:35:39.109Z"
   },
   {
    "duration": 27,
    "start_time": "2022-09-05T14:36:05.105Z"
   },
   {
    "duration": 5,
    "start_time": "2022-09-05T14:36:33.746Z"
   },
   {
    "duration": 4,
    "start_time": "2022-09-05T14:36:40.004Z"
   },
   {
    "duration": 27,
    "start_time": "2022-09-05T14:36:52.602Z"
   },
   {
    "duration": 24,
    "start_time": "2022-09-05T14:37:03.690Z"
   },
   {
    "duration": 102,
    "start_time": "2022-09-05T14:37:52.786Z"
   },
   {
    "duration": 102,
    "start_time": "2022-09-05T14:38:19.314Z"
   },
   {
    "duration": 119,
    "start_time": "2022-09-05T14:38:27.226Z"
   },
   {
    "duration": 100,
    "start_time": "2022-09-05T14:42:31.371Z"
   },
   {
    "duration": 114,
    "start_time": "2022-09-05T14:43:36.757Z"
   },
   {
    "duration": 205,
    "start_time": "2022-09-05T15:15:59.215Z"
   },
   {
    "duration": 147,
    "start_time": "2022-09-05T15:16:11.321Z"
   },
   {
    "duration": 12,
    "start_time": "2022-09-05T15:22:42.173Z"
   },
   {
    "duration": 11,
    "start_time": "2022-09-05T15:23:33.633Z"
   },
   {
    "duration": 99,
    "start_time": "2022-09-05T15:23:44.106Z"
   },
   {
    "duration": 106,
    "start_time": "2022-09-05T15:23:53.450Z"
   },
   {
    "duration": 98,
    "start_time": "2022-09-05T15:24:16.267Z"
   },
   {
    "duration": 123,
    "start_time": "2022-09-05T15:35:59.543Z"
   },
   {
    "duration": 201,
    "start_time": "2022-09-05T15:37:03.695Z"
   },
   {
    "duration": 126,
    "start_time": "2022-09-05T15:37:25.089Z"
   },
   {
    "duration": 117,
    "start_time": "2022-09-05T15:37:28.248Z"
   },
   {
    "duration": 115,
    "start_time": "2022-09-05T15:37:37.982Z"
   },
   {
    "duration": 123,
    "start_time": "2022-09-05T15:37:42.695Z"
   },
   {
    "duration": 135,
    "start_time": "2022-09-05T15:38:03.752Z"
   },
   {
    "duration": 114,
    "start_time": "2022-09-05T15:38:16.009Z"
   },
   {
    "duration": 132,
    "start_time": "2022-09-05T15:38:38.400Z"
   },
   {
    "duration": 115,
    "start_time": "2022-09-05T15:38:53.336Z"
   },
   {
    "duration": 234,
    "start_time": "2022-09-05T15:39:00.528Z"
   },
   {
    "duration": 114,
    "start_time": "2022-09-05T15:39:05.088Z"
   },
   {
    "duration": 126,
    "start_time": "2022-09-05T15:39:08.720Z"
   },
   {
    "duration": 23,
    "start_time": "2022-09-05T15:46:58.026Z"
   },
   {
    "duration": 21,
    "start_time": "2022-09-05T15:47:29.582Z"
   },
   {
    "duration": 29,
    "start_time": "2022-09-05T15:48:16.237Z"
   },
   {
    "duration": 112,
    "start_time": "2022-09-05T15:53:04.974Z"
   },
   {
    "duration": 118,
    "start_time": "2022-09-05T15:53:10.465Z"
   },
   {
    "duration": 3240,
    "start_time": "2022-09-05T15:55:22.820Z"
   },
   {
    "duration": 20,
    "start_time": "2022-09-05T15:55:47.359Z"
   },
   {
    "duration": 124,
    "start_time": "2022-09-05T15:55:48.758Z"
   },
   {
    "duration": 44,
    "start_time": "2022-09-05T15:55:50.264Z"
   },
   {
    "duration": 1540,
    "start_time": "2022-09-05T15:55:51.900Z"
   },
   {
    "duration": 1553,
    "start_time": "2022-09-05T15:55:55.135Z"
   },
   {
    "duration": 3,
    "start_time": "2022-09-05T16:31:36.468Z"
   },
   {
    "duration": 566,
    "start_time": "2022-09-05T16:31:46.391Z"
   },
   {
    "duration": 91,
    "start_time": "2022-09-05T16:31:48.325Z"
   },
   {
    "duration": 3,
    "start_time": "2022-09-05T16:31:49.228Z"
   },
   {
    "duration": 14,
    "start_time": "2022-09-05T16:31:51.493Z"
   },
   {
    "duration": 14,
    "start_time": "2022-09-05T16:31:55.148Z"
   },
   {
    "duration": 1748,
    "start_time": "2022-09-05T16:32:01.725Z"
   },
   {
    "duration": 8,
    "start_time": "2022-09-05T16:32:09.485Z"
   },
   {
    "duration": 21,
    "start_time": "2022-09-05T16:42:55.147Z"
   },
   {
    "duration": 174,
    "start_time": "2022-09-05T16:43:27.978Z"
   },
   {
    "duration": 56,
    "start_time": "2022-09-05T16:43:50.266Z"
   },
   {
    "duration": 11,
    "start_time": "2022-09-05T16:43:57.539Z"
   },
   {
    "duration": 11,
    "start_time": "2022-09-05T16:44:08.210Z"
   },
   {
    "duration": 10,
    "start_time": "2022-09-05T16:46:37.291Z"
   },
   {
    "duration": 13,
    "start_time": "2022-09-05T16:46:43.154Z"
   },
   {
    "duration": 90,
    "start_time": "2022-09-05T16:46:46.938Z"
   },
   {
    "duration": 145,
    "start_time": "2022-09-05T16:46:53.522Z"
   },
   {
    "duration": 49,
    "start_time": "2022-09-05T16:47:12.109Z"
   },
   {
    "duration": 169,
    "start_time": "2022-09-05T16:47:17.170Z"
   },
   {
    "duration": 255,
    "start_time": "2022-09-05T16:52:00.429Z"
   },
   {
    "duration": 332,
    "start_time": "2022-09-05T16:52:44.741Z"
   },
   {
    "duration": 585,
    "start_time": "2022-09-05T16:52:59.988Z"
   },
   {
    "duration": 89,
    "start_time": "2022-09-05T16:53:01.715Z"
   },
   {
    "duration": 2,
    "start_time": "2022-09-05T16:53:02.772Z"
   },
   {
    "duration": 14,
    "start_time": "2022-09-05T16:53:04.404Z"
   },
   {
    "duration": 15,
    "start_time": "2022-09-05T16:53:06.310Z"
   },
   {
    "duration": 1785,
    "start_time": "2022-09-05T16:53:10.476Z"
   },
   {
    "duration": 7,
    "start_time": "2022-09-05T16:53:15.845Z"
   },
   {
    "duration": 26,
    "start_time": "2022-09-05T16:53:32.901Z"
   },
   {
    "duration": 155,
    "start_time": "2022-09-05T16:53:41.646Z"
   },
   {
    "duration": 58,
    "start_time": "2022-09-05T16:53:48.669Z"
   },
   {
    "duration": 12,
    "start_time": "2022-09-05T16:53:55.869Z"
   },
   {
    "duration": 9,
    "start_time": "2022-09-05T16:53:58.918Z"
   },
   {
    "duration": 8,
    "start_time": "2022-09-05T16:54:05.284Z"
   },
   {
    "duration": 12,
    "start_time": "2022-09-05T16:54:08.229Z"
   },
   {
    "duration": 79,
    "start_time": "2022-09-05T16:54:10.063Z"
   },
   {
    "duration": 48,
    "start_time": "2022-09-05T16:54:11.646Z"
   },
   {
    "duration": 157,
    "start_time": "2022-09-05T16:54:14.484Z"
   },
   {
    "duration": 285,
    "start_time": "2022-09-05T16:54:22.470Z"
   },
   {
    "duration": 156,
    "start_time": "2022-09-05T16:56:10.734Z"
   },
   {
    "duration": 95,
    "start_time": "2022-09-05T16:56:13.189Z"
   },
   {
    "duration": 270,
    "start_time": "2022-09-05T16:56:34.390Z"
   },
   {
    "duration": 18,
    "start_time": "2022-09-05T16:56:53.979Z"
   },
   {
    "duration": 73,
    "start_time": "2022-09-05T19:02:52.884Z"
   },
   {
    "duration": 734,
    "start_time": "2022-09-05T19:03:05.102Z"
   },
   {
    "duration": 108,
    "start_time": "2022-09-05T19:03:05.838Z"
   },
   {
    "duration": 4,
    "start_time": "2022-09-05T19:03:05.948Z"
   },
   {
    "duration": 32,
    "start_time": "2022-09-05T19:03:05.954Z"
   },
   {
    "duration": 41,
    "start_time": "2022-09-05T19:03:05.989Z"
   },
   {
    "duration": 80,
    "start_time": "2022-09-05T19:03:06.031Z"
   },
   {
    "duration": 86,
    "start_time": "2022-09-05T19:03:06.113Z"
   },
   {
    "duration": 3113,
    "start_time": "2022-09-05T19:03:06.201Z"
   },
   {
    "duration": 2280,
    "start_time": "2022-09-05T19:03:09.316Z"
   },
   {
    "duration": 9,
    "start_time": "2022-09-05T19:03:11.598Z"
   },
   {
    "duration": 37,
    "start_time": "2022-09-05T19:03:11.609Z"
   },
   {
    "duration": 196,
    "start_time": "2022-09-05T19:03:11.648Z"
   },
   {
    "duration": 103,
    "start_time": "2022-09-05T19:03:11.846Z"
   },
   {
    "duration": 14,
    "start_time": "2022-09-05T19:03:11.954Z"
   },
   {
    "duration": 29,
    "start_time": "2022-09-05T19:03:11.970Z"
   },
   {
    "duration": 15,
    "start_time": "2022-09-05T19:03:12.002Z"
   },
   {
    "duration": 21,
    "start_time": "2022-09-05T19:03:12.020Z"
   },
   {
    "duration": 129,
    "start_time": "2022-09-05T19:03:12.045Z"
   },
   {
    "duration": 67,
    "start_time": "2022-09-05T19:03:12.176Z"
   },
   {
    "duration": 14,
    "start_time": "2022-09-05T19:03:12.245Z"
   },
   {
    "duration": 232,
    "start_time": "2022-09-05T19:03:12.261Z"
   },
   {
    "duration": 298,
    "start_time": "2022-09-05T19:03:12.495Z"
   },
   {
    "duration": 266,
    "start_time": "2022-09-05T19:03:12.795Z"
   },
   {
    "duration": 146,
    "start_time": "2022-09-05T19:03:13.063Z"
   },
   {
    "duration": 265,
    "start_time": "2022-09-05T19:03:13.211Z"
   },
   {
    "duration": 244,
    "start_time": "2022-09-05T19:03:13.478Z"
   },
   {
    "duration": 279,
    "start_time": "2022-09-05T19:03:13.724Z"
   },
   {
    "duration": 139,
    "start_time": "2022-09-05T19:03:14.006Z"
   },
   {
    "duration": 215,
    "start_time": "2022-09-05T19:03:14.147Z"
   },
   {
    "duration": 139,
    "start_time": "2022-09-05T19:03:14.364Z"
   },
   {
    "duration": 264,
    "start_time": "2022-09-05T19:03:14.504Z"
   },
   {
    "duration": 147,
    "start_time": "2022-09-05T19:03:14.770Z"
   },
   {
    "duration": 182,
    "start_time": "2022-09-05T19:03:14.920Z"
   },
   {
    "duration": 147,
    "start_time": "2022-09-05T19:03:15.104Z"
   },
   {
    "duration": 268,
    "start_time": "2022-09-05T19:03:15.253Z"
   },
   {
    "duration": 280,
    "start_time": "2022-09-05T19:03:15.523Z"
   },
   {
    "duration": 306,
    "start_time": "2022-09-05T19:03:15.805Z"
   },
   {
    "duration": 285,
    "start_time": "2022-09-05T19:03:16.112Z"
   },
   {
    "duration": 303,
    "start_time": "2022-09-05T19:03:16.400Z"
   },
   {
    "duration": 493,
    "start_time": "2022-09-05T19:03:16.706Z"
   },
   {
    "duration": 301,
    "start_time": "2022-09-05T19:03:17.203Z"
   },
   {
    "duration": 248,
    "start_time": "2022-09-05T19:03:17.506Z"
   },
   {
    "duration": 165,
    "start_time": "2022-09-05T19:03:17.756Z"
   },
   {
    "duration": 225,
    "start_time": "2022-09-05T19:03:17.923Z"
   },
   {
    "duration": 231,
    "start_time": "2022-09-05T19:03:18.150Z"
   },
   {
    "duration": 215,
    "start_time": "2022-09-05T19:03:18.382Z"
   },
   {
    "duration": 124,
    "start_time": "2022-09-05T19:03:18.599Z"
   },
   {
    "duration": 148,
    "start_time": "2022-09-05T19:03:18.725Z"
   },
   {
    "duration": 152,
    "start_time": "2022-09-05T19:03:18.875Z"
   },
   {
    "duration": 274,
    "start_time": "2022-09-05T19:03:19.029Z"
   },
   {
    "duration": 164,
    "start_time": "2022-09-05T19:03:19.304Z"
   },
   {
    "duration": 32,
    "start_time": "2022-09-05T19:03:19.469Z"
   },
   {
    "duration": 5,
    "start_time": "2022-09-05T19:03:19.503Z"
   },
   {
    "duration": 210,
    "start_time": "2022-09-05T19:03:19.510Z"
   },
   {
    "duration": 199,
    "start_time": "2022-09-05T19:03:19.722Z"
   },
   {
    "duration": 218,
    "start_time": "2022-09-05T19:03:19.923Z"
   },
   {
    "duration": 307,
    "start_time": "2022-09-05T19:03:20.143Z"
   },
   {
    "duration": 144,
    "start_time": "2022-09-05T19:03:20.452Z"
   },
   {
    "duration": 157,
    "start_time": "2022-09-05T19:03:20.598Z"
   },
   {
    "duration": 181,
    "start_time": "2022-09-05T19:03:20.757Z"
   },
   {
    "duration": 166,
    "start_time": "2022-09-05T19:03:20.939Z"
   },
   {
    "duration": 26,
    "start_time": "2022-09-05T19:03:21.107Z"
   },
   {
    "duration": 140,
    "start_time": "2022-09-05T19:03:21.135Z"
   },
   {
    "duration": 19,
    "start_time": "2022-09-05T19:03:21.277Z"
   },
   {
    "duration": 15,
    "start_time": "2022-09-05T19:03:21.298Z"
   },
   {
    "duration": 235,
    "start_time": "2022-09-05T19:03:21.315Z"
   },
   {
    "duration": 872,
    "start_time": "2022-09-05T19:09:46.894Z"
   },
   {
    "duration": 776,
    "start_time": "2022-09-05T19:10:10.268Z"
   },
   {
    "duration": 893,
    "start_time": "2022-09-05T19:10:18.932Z"
   },
   {
    "duration": 831,
    "start_time": "2022-09-05T19:10:30.398Z"
   },
   {
    "duration": 873,
    "start_time": "2022-09-05T19:10:52.943Z"
   },
   {
    "duration": 827,
    "start_time": "2022-09-05T19:11:10.164Z"
   },
   {
    "duration": 928,
    "start_time": "2022-09-05T19:11:25.472Z"
   },
   {
    "duration": 861,
    "start_time": "2022-09-05T19:11:33.019Z"
   },
   {
    "duration": 553,
    "start_time": "2022-09-05T19:18:51.832Z"
   },
   {
    "duration": 374,
    "start_time": "2022-09-05T19:19:03.123Z"
   },
   {
    "duration": 249,
    "start_time": "2022-09-05T19:19:14.047Z"
   },
   {
    "duration": 152,
    "start_time": "2022-09-05T19:19:21.899Z"
   },
   {
    "duration": 117,
    "start_time": "2022-09-05T19:20:34.357Z"
   },
   {
    "duration": 759,
    "start_time": "2022-09-05T19:26:58.970Z"
   },
   {
    "duration": 115,
    "start_time": "2022-09-05T19:26:59.731Z"
   },
   {
    "duration": 3,
    "start_time": "2022-09-05T19:26:59.848Z"
   },
   {
    "duration": 18,
    "start_time": "2022-09-05T19:26:59.853Z"
   },
   {
    "duration": 30,
    "start_time": "2022-09-05T19:26:59.873Z"
   },
   {
    "duration": 108,
    "start_time": "2022-09-05T19:26:59.907Z"
   },
   {
    "duration": 102,
    "start_time": "2022-09-05T19:27:00.017Z"
   },
   {
    "duration": 2382,
    "start_time": "2022-09-05T19:27:00.121Z"
   },
   {
    "duration": 2193,
    "start_time": "2022-09-05T19:27:02.504Z"
   },
   {
    "duration": 13,
    "start_time": "2022-09-05T19:27:04.701Z"
   },
   {
    "duration": 24,
    "start_time": "2022-09-05T19:27:04.716Z"
   },
   {
    "duration": 207,
    "start_time": "2022-09-05T19:27:04.742Z"
   },
   {
    "duration": 76,
    "start_time": "2022-09-05T19:27:04.951Z"
   },
   {
    "duration": 13,
    "start_time": "2022-09-05T19:27:05.028Z"
   },
   {
    "duration": 19,
    "start_time": "2022-09-05T19:27:05.043Z"
   },
   {
    "duration": 28,
    "start_time": "2022-09-05T19:27:05.064Z"
   },
   {
    "duration": 20,
    "start_time": "2022-09-05T19:27:05.095Z"
   },
   {
    "duration": 125,
    "start_time": "2022-09-05T19:27:05.117Z"
   },
   {
    "duration": 83,
    "start_time": "2022-09-05T19:27:05.244Z"
   },
   {
    "duration": 14,
    "start_time": "2022-09-05T19:27:05.329Z"
   },
   {
    "duration": 225,
    "start_time": "2022-09-05T19:27:05.345Z"
   },
   {
    "duration": 352,
    "start_time": "2022-09-05T19:27:05.572Z"
   },
   {
    "duration": 311,
    "start_time": "2022-09-05T19:27:05.926Z"
   },
   {
    "duration": 141,
    "start_time": "2022-09-05T19:27:06.238Z"
   },
   {
    "duration": 1001,
    "start_time": "2022-09-05T19:27:06.380Z"
   },
   {
    "duration": 278,
    "start_time": "2022-09-05T19:27:07.383Z"
   },
   {
    "duration": 154,
    "start_time": "2022-09-05T19:27:07.663Z"
   },
   {
    "duration": 291,
    "start_time": "2022-09-05T19:27:07.822Z"
   },
   {
    "duration": 141,
    "start_time": "2022-09-05T19:27:08.115Z"
   },
   {
    "duration": 209,
    "start_time": "2022-09-05T19:27:08.258Z"
   },
   {
    "duration": 236,
    "start_time": "2022-09-05T19:27:08.469Z"
   },
   {
    "duration": 292,
    "start_time": "2022-09-05T19:27:08.707Z"
   },
   {
    "duration": 148,
    "start_time": "2022-09-05T19:27:09.001Z"
   },
   {
    "duration": 177,
    "start_time": "2022-09-05T19:27:09.151Z"
   },
   {
    "duration": 153,
    "start_time": "2022-09-05T19:27:09.330Z"
   },
   {
    "duration": 179,
    "start_time": "2022-09-05T19:27:09.492Z"
   },
   {
    "duration": 160,
    "start_time": "2022-09-05T19:27:09.673Z"
   },
   {
    "duration": 160,
    "start_time": "2022-09-05T19:27:09.835Z"
   },
   {
    "duration": 139,
    "start_time": "2022-09-05T19:27:09.998Z"
   },
   {
    "duration": 153,
    "start_time": "2022-09-05T19:27:10.139Z"
   },
   {
    "duration": 345,
    "start_time": "2022-09-05T19:27:10.294Z"
   },
   {
    "duration": 131,
    "start_time": "2022-09-05T19:27:10.640Z"
   },
   {
    "duration": 195,
    "start_time": "2022-09-05T19:27:10.773Z"
   },
   {
    "duration": 152,
    "start_time": "2022-09-05T19:27:10.970Z"
   },
   {
    "duration": 223,
    "start_time": "2022-09-05T19:27:11.123Z"
   },
   {
    "duration": 135,
    "start_time": "2022-09-05T19:27:11.348Z"
   },
   {
    "duration": 196,
    "start_time": "2022-09-05T19:27:11.495Z"
   },
   {
    "duration": 137,
    "start_time": "2022-09-05T19:27:11.693Z"
   },
   {
    "duration": 188,
    "start_time": "2022-09-05T19:27:11.833Z"
   },
   {
    "duration": 192,
    "start_time": "2022-09-05T19:27:12.023Z"
   },
   {
    "duration": 377,
    "start_time": "2022-09-05T19:27:12.217Z"
   },
   {
    "duration": 152,
    "start_time": "2022-09-05T19:27:12.596Z"
   },
   {
    "duration": 22,
    "start_time": "2022-09-05T19:27:12.750Z"
   },
   {
    "duration": 26,
    "start_time": "2022-09-05T19:27:12.774Z"
   },
   {
    "duration": 223,
    "start_time": "2022-09-05T19:27:12.802Z"
   },
   {
    "duration": 217,
    "start_time": "2022-09-05T19:27:13.027Z"
   },
   {
    "duration": 223,
    "start_time": "2022-09-05T19:27:13.246Z"
   },
   {
    "duration": 212,
    "start_time": "2022-09-05T19:27:13.471Z"
   },
   {
    "duration": 150,
    "start_time": "2022-09-05T19:27:13.684Z"
   },
   {
    "duration": 179,
    "start_time": "2022-09-05T19:27:13.836Z"
   },
   {
    "duration": 193,
    "start_time": "2022-09-05T19:27:14.017Z"
   },
   {
    "duration": 163,
    "start_time": "2022-09-05T19:27:14.212Z"
   },
   {
    "duration": 34,
    "start_time": "2022-09-05T19:27:14.377Z"
   },
   {
    "duration": 237,
    "start_time": "2022-09-05T19:27:14.413Z"
   },
   {
    "duration": 45,
    "start_time": "2022-09-05T19:27:14.652Z"
   },
   {
    "duration": 35,
    "start_time": "2022-09-05T19:27:14.699Z"
   },
   {
    "duration": 486,
    "start_time": "2022-09-05T19:27:14.736Z"
   },
   {
    "duration": 44,
    "start_time": "2022-09-05T20:38:10.519Z"
   },
   {
    "duration": 801,
    "start_time": "2022-09-05T22:40:49.109Z"
   },
   {
    "duration": 314,
    "start_time": "2022-09-05T22:40:50.557Z"
   },
   {
    "duration": 3,
    "start_time": "2022-09-05T22:40:51.960Z"
   },
   {
    "duration": 14,
    "start_time": "2022-09-05T22:40:55.550Z"
   },
   {
    "duration": 14,
    "start_time": "2022-09-05T22:40:57.194Z"
   },
   {
    "duration": 74,
    "start_time": "2022-09-05T22:40:59.696Z"
   },
   {
    "duration": 1874,
    "start_time": "2022-09-05T22:41:05.619Z"
   },
   {
    "duration": 9,
    "start_time": "2022-09-05T22:41:14.306Z"
   },
   {
    "duration": 21,
    "start_time": "2022-09-05T22:41:18.467Z"
   },
   {
    "duration": 147,
    "start_time": "2022-09-05T22:41:20.188Z"
   },
   {
    "duration": 64,
    "start_time": "2022-09-05T22:41:21.650Z"
   },
   {
    "duration": 11,
    "start_time": "2022-09-05T22:41:23.281Z"
   },
   {
    "duration": 12,
    "start_time": "2022-09-05T22:41:24.988Z"
   },
   {
    "duration": 9,
    "start_time": "2022-09-05T22:41:27.409Z"
   },
   {
    "duration": 14,
    "start_time": "2022-09-05T22:41:29.471Z"
   },
   {
    "duration": 87,
    "start_time": "2022-09-05T22:41:30.866Z"
   },
   {
    "duration": 48,
    "start_time": "2022-09-05T22:41:32.249Z"
   },
   {
    "duration": 186,
    "start_time": "2022-09-05T22:42:32.138Z"
   },
   {
    "duration": 286,
    "start_time": "2022-09-05T22:42:36.426Z"
   },
   {
    "duration": 222,
    "start_time": "2022-09-05T22:42:39.260Z"
   },
   {
    "duration": 19,
    "start_time": "2022-09-05T22:42:52.820Z"
   },
   {
    "duration": 28,
    "start_time": "2022-09-05T22:43:38.443Z"
   },
   {
    "duration": 317,
    "start_time": "2022-09-05T22:44:03.740Z"
   },
   {
    "duration": 283,
    "start_time": "2022-09-05T22:44:18.300Z"
   },
   {
    "duration": 236,
    "start_time": "2022-09-05T22:46:18.508Z"
   },
   {
    "duration": 233,
    "start_time": "2022-09-05T23:56:39.960Z"
   },
   {
    "duration": 166,
    "start_time": "2022-09-05T23:57:37.700Z"
   },
   {
    "duration": 18,
    "start_time": "2022-09-05T23:57:46.689Z"
   },
   {
    "duration": 835,
    "start_time": "2022-09-07T12:11:11.492Z"
   },
   {
    "duration": 139,
    "start_time": "2022-09-07T12:11:12.329Z"
   },
   {
    "duration": 4,
    "start_time": "2022-09-07T12:11:12.469Z"
   },
   {
    "duration": 32,
    "start_time": "2022-09-07T12:11:12.475Z"
   },
   {
    "duration": 20,
    "start_time": "2022-09-07T12:11:12.509Z"
   },
   {
    "duration": 78,
    "start_time": "2022-09-07T12:11:12.531Z"
   },
   {
    "duration": 63,
    "start_time": "2022-09-07T12:11:12.610Z"
   },
   {
    "duration": 1774,
    "start_time": "2022-09-07T12:11:12.674Z"
   },
   {
    "duration": 1774,
    "start_time": "2022-09-07T12:11:14.450Z"
   },
   {
    "duration": 10,
    "start_time": "2022-09-07T12:11:16.226Z"
   },
   {
    "duration": 30,
    "start_time": "2022-09-07T12:11:16.238Z"
   },
   {
    "duration": 164,
    "start_time": "2022-09-07T12:11:16.270Z"
   },
   {
    "duration": 59,
    "start_time": "2022-09-07T12:11:16.436Z"
   },
   {
    "duration": 9,
    "start_time": "2022-09-07T12:11:16.505Z"
   },
   {
    "duration": 10,
    "start_time": "2022-09-07T12:11:16.516Z"
   },
   {
    "duration": 6,
    "start_time": "2022-09-07T12:11:16.528Z"
   },
   {
    "duration": 14,
    "start_time": "2022-09-07T12:11:16.535Z"
   },
   {
    "duration": 109,
    "start_time": "2022-09-07T12:11:16.551Z"
   },
   {
    "duration": 54,
    "start_time": "2022-09-07T12:11:16.662Z"
   },
   {
    "duration": 12,
    "start_time": "2022-09-07T12:11:16.717Z"
   },
   {
    "duration": 166,
    "start_time": "2022-09-07T12:11:16.730Z"
   },
   {
    "duration": 268,
    "start_time": "2022-09-07T12:11:16.898Z"
   },
   {
    "duration": 213,
    "start_time": "2022-09-07T12:11:17.167Z"
   },
   {
    "duration": 110,
    "start_time": "2022-09-07T12:11:17.382Z"
   },
   {
    "duration": 747,
    "start_time": "2022-09-07T12:11:17.494Z"
   },
   {
    "duration": 232,
    "start_time": "2022-09-07T12:11:18.243Z"
   },
   {
    "duration": 109,
    "start_time": "2022-09-07T12:11:18.477Z"
   },
   {
    "duration": 232,
    "start_time": "2022-09-07T12:11:18.590Z"
   },
   {
    "duration": 116,
    "start_time": "2022-09-07T12:11:18.823Z"
   },
   {
    "duration": 162,
    "start_time": "2022-09-07T12:11:18.940Z"
   },
   {
    "duration": 168,
    "start_time": "2022-09-07T12:11:19.105Z"
   },
   {
    "duration": 228,
    "start_time": "2022-09-07T12:11:19.275Z"
   },
   {
    "duration": 117,
    "start_time": "2022-09-07T12:11:19.504Z"
   },
   {
    "duration": 163,
    "start_time": "2022-09-07T12:11:19.622Z"
   },
   {
    "duration": 120,
    "start_time": "2022-09-07T12:11:19.787Z"
   },
   {
    "duration": 145,
    "start_time": "2022-09-07T12:11:19.908Z"
   },
   {
    "duration": 120,
    "start_time": "2022-09-07T12:11:20.055Z"
   },
   {
    "duration": 119,
    "start_time": "2022-09-07T12:11:20.176Z"
   },
   {
    "duration": 102,
    "start_time": "2022-09-07T12:11:20.305Z"
   },
   {
    "duration": 115,
    "start_time": "2022-09-07T12:11:20.409Z"
   },
   {
    "duration": 246,
    "start_time": "2022-09-07T12:11:20.525Z"
   },
   {
    "duration": 107,
    "start_time": "2022-09-07T12:11:20.772Z"
   },
   {
    "duration": 144,
    "start_time": "2022-09-07T12:11:20.880Z"
   },
   {
    "duration": 116,
    "start_time": "2022-09-07T12:11:21.026Z"
   },
   {
    "duration": 184,
    "start_time": "2022-09-07T12:11:21.144Z"
   },
   {
    "duration": 117,
    "start_time": "2022-09-07T12:11:21.329Z"
   },
   {
    "duration": 172,
    "start_time": "2022-09-07T12:11:21.447Z"
   },
   {
    "duration": 100,
    "start_time": "2022-09-07T12:11:21.621Z"
   },
   {
    "duration": 147,
    "start_time": "2022-09-07T12:11:21.722Z"
   },
   {
    "duration": 120,
    "start_time": "2022-09-07T12:11:21.870Z"
   },
   {
    "duration": 312,
    "start_time": "2022-09-07T12:11:21.991Z"
   },
   {
    "duration": 118,
    "start_time": "2022-09-07T12:11:22.305Z"
   },
   {
    "duration": 18,
    "start_time": "2022-09-07T12:11:22.424Z"
   },
   {
    "duration": 3,
    "start_time": "2022-09-07T12:11:22.444Z"
   },
   {
    "duration": 173,
    "start_time": "2022-09-07T12:11:22.449Z"
   },
   {
    "duration": 168,
    "start_time": "2022-09-07T12:11:22.624Z"
   },
   {
    "duration": 176,
    "start_time": "2022-09-07T12:11:22.793Z"
   },
   {
    "duration": 166,
    "start_time": "2022-09-07T12:11:22.971Z"
   },
   {
    "duration": 112,
    "start_time": "2022-09-07T12:11:23.139Z"
   },
   {
    "duration": 121,
    "start_time": "2022-09-07T12:11:23.253Z"
   },
   {
    "duration": 146,
    "start_time": "2022-09-07T12:11:23.376Z"
   },
   {
    "duration": 133,
    "start_time": "2022-09-07T12:11:23.524Z"
   },
   {
    "duration": 20,
    "start_time": "2022-09-07T12:11:23.658Z"
   },
   {
    "duration": 324,
    "start_time": "2022-09-07T12:11:23.679Z"
   },
   {
    "duration": 7,
    "start_time": "2022-09-07T12:11:24.004Z"
   },
   {
    "duration": 10,
    "start_time": "2022-09-07T12:11:24.013Z"
   },
   {
    "duration": 188,
    "start_time": "2022-09-07T12:11:24.024Z"
   },
   {
    "duration": 13,
    "start_time": "2022-09-07T12:11:42.360Z"
   }
  ],
  "kernelspec": {
   "display_name": "Python 3 (ipykernel)",
   "language": "python",
   "name": "python3"
  },
  "language_info": {
   "codemirror_mode": {
    "name": "ipython",
    "version": 3
   },
   "file_extension": ".py",
   "mimetype": "text/x-python",
   "name": "python",
   "nbconvert_exporter": "python",
   "pygments_lexer": "ipython3",
   "version": "3.9.13"
  },
  "toc": {
   "base_numbering": 1,
   "nav_menu": {},
   "number_sections": true,
   "sideBar": true,
   "skip_h1_title": true,
   "title_cell": "Table of Contents",
   "title_sidebar": "Contents",
   "toc_cell": false,
   "toc_position": {
    "height": "calc(100% - 180px)",
    "left": "10px",
    "top": "150px",
    "width": "408.889px"
   },
   "toc_section_display": true,
   "toc_window_display": true
  }
 },
 "nbformat": 4,
 "nbformat_minor": 2
}
