{
 "cells": [
  {
   "cell_type": "markdown",
   "metadata": {},
   "source": [
    "## Этап 1. Приоритезация гипотез"
   ]
  },
  {
   "cell_type": "markdown",
   "metadata": {},
   "source": [
    "Импорт библиотек"
   ]
  },
  {
   "cell_type": "code",
   "execution_count": 42,
   "metadata": {},
   "outputs": [],
   "source": [
    "import pandas as pd\n",
    "import scipy.stats as stats\n",
    "import numpy as np\n",
    "import math as mth\n",
    "import datetime as dt\n",
    "import matplotlib.pyplot as plt"
   ]
  },
  {
   "cell_type": "markdown",
   "metadata": {},
   "source": [
    "Прочитаем файл с данными и сохраним его в переменной data."
   ]
  },
  {
   "cell_type": "code",
   "execution_count": 43,
   "metadata": {},
   "outputs": [],
   "source": [
    "data = pd.read_csv('/datasets/hypothesis.csv')"
   ]
  },
  {
   "cell_type": "code",
   "execution_count": 44,
   "metadata": {},
   "outputs": [],
   "source": [
    "pd.options.display.max_colwidth = 110"
   ]
  },
  {
   "cell_type": "markdown",
   "metadata": {},
   "source": [
    "Получение первых 10 строк таблицы."
   ]
  },
  {
   "cell_type": "code",
   "execution_count": 45,
   "metadata": {},
   "outputs": [
    {
     "data": {
      "text/html": [
       "<div>\n",
       "<style scoped>\n",
       "    .dataframe tbody tr th:only-of-type {\n",
       "        vertical-align: middle;\n",
       "    }\n",
       "\n",
       "    .dataframe tbody tr th {\n",
       "        vertical-align: top;\n",
       "    }\n",
       "\n",
       "    .dataframe thead th {\n",
       "        text-align: right;\n",
       "    }\n",
       "</style>\n",
       "<table border=\"1\" class=\"dataframe\">\n",
       "  <thead>\n",
       "    <tr style=\"text-align: right;\">\n",
       "      <th></th>\n",
       "      <th>Hypothesis</th>\n",
       "      <th>Reach</th>\n",
       "      <th>Impact</th>\n",
       "      <th>Confidence</th>\n",
       "      <th>Efforts</th>\n",
       "    </tr>\n",
       "  </thead>\n",
       "  <tbody>\n",
       "    <tr>\n",
       "      <th>0</th>\n",
       "      <td>Добавить два новых канала привлечения трафика, что позволит привлекать на 30% больше пользователей</td>\n",
       "      <td>3</td>\n",
       "      <td>10</td>\n",
       "      <td>8</td>\n",
       "      <td>6</td>\n",
       "    </tr>\n",
       "    <tr>\n",
       "      <th>1</th>\n",
       "      <td>Запустить собственную службу доставки, что сократит срок доставки заказов</td>\n",
       "      <td>2</td>\n",
       "      <td>5</td>\n",
       "      <td>4</td>\n",
       "      <td>10</td>\n",
       "    </tr>\n",
       "    <tr>\n",
       "      <th>2</th>\n",
       "      <td>Добавить блоки рекомендаций товаров на сайт интернет магазина, чтобы повысить конверсию и средний чек заказа</td>\n",
       "      <td>8</td>\n",
       "      <td>3</td>\n",
       "      <td>7</td>\n",
       "      <td>3</td>\n",
       "    </tr>\n",
       "    <tr>\n",
       "      <th>3</th>\n",
       "      <td>Изменить структура категорий, что увеличит конверсию, т.к. пользователи быстрее найдут нужный товар</td>\n",
       "      <td>8</td>\n",
       "      <td>3</td>\n",
       "      <td>3</td>\n",
       "      <td>8</td>\n",
       "    </tr>\n",
       "    <tr>\n",
       "      <th>4</th>\n",
       "      <td>Изменить цвет фона главной страницы, чтобы увеличить вовлеченность пользователей</td>\n",
       "      <td>3</td>\n",
       "      <td>1</td>\n",
       "      <td>1</td>\n",
       "      <td>1</td>\n",
       "    </tr>\n",
       "    <tr>\n",
       "      <th>5</th>\n",
       "      <td>Добавить страницу отзывов клиентов о магазине, что позволит увеличить количество заказов</td>\n",
       "      <td>3</td>\n",
       "      <td>2</td>\n",
       "      <td>2</td>\n",
       "      <td>3</td>\n",
       "    </tr>\n",
       "    <tr>\n",
       "      <th>6</th>\n",
       "      <td>Показать на главной странице баннеры с актуальными акциями и распродажами, чтобы увеличить конверсию</td>\n",
       "      <td>5</td>\n",
       "      <td>3</td>\n",
       "      <td>8</td>\n",
       "      <td>3</td>\n",
       "    </tr>\n",
       "    <tr>\n",
       "      <th>7</th>\n",
       "      <td>Добавить форму подписки на все основные страницы, чтобы собрать базу клиентов для email-рассылок</td>\n",
       "      <td>10</td>\n",
       "      <td>7</td>\n",
       "      <td>8</td>\n",
       "      <td>5</td>\n",
       "    </tr>\n",
       "    <tr>\n",
       "      <th>8</th>\n",
       "      <td>Запустить акцию, дающую скидку на товар в день рождения</td>\n",
       "      <td>1</td>\n",
       "      <td>9</td>\n",
       "      <td>9</td>\n",
       "      <td>5</td>\n",
       "    </tr>\n",
       "  </tbody>\n",
       "</table>\n",
       "</div>"
      ],
      "text/plain": [
       "                                                                                                     Hypothesis  \\\n",
       "0            Добавить два новых канала привлечения трафика, что позволит привлекать на 30% больше пользователей   \n",
       "1                                     Запустить собственную службу доставки, что сократит срок доставки заказов   \n",
       "2  Добавить блоки рекомендаций товаров на сайт интернет магазина, чтобы повысить конверсию и средний чек заказа   \n",
       "3           Изменить структура категорий, что увеличит конверсию, т.к. пользователи быстрее найдут нужный товар   \n",
       "4                              Изменить цвет фона главной страницы, чтобы увеличить вовлеченность пользователей   \n",
       "5                      Добавить страницу отзывов клиентов о магазине, что позволит увеличить количество заказов   \n",
       "6          Показать на главной странице баннеры с актуальными акциями и распродажами, чтобы увеличить конверсию   \n",
       "7              Добавить форму подписки на все основные страницы, чтобы собрать базу клиентов для email-рассылок   \n",
       "8                                                       Запустить акцию, дающую скидку на товар в день рождения   \n",
       "\n",
       "   Reach  Impact  Confidence  Efforts  \n",
       "0      3      10           8        6  \n",
       "1      2       5           4       10  \n",
       "2      8       3           7        3  \n",
       "3      8       3           3        8  \n",
       "4      3       1           1        1  \n",
       "5      3       2           2        3  \n",
       "6      5       3           8        3  \n",
       "7     10       7           8        5  \n",
       "8      1       9           9        5  "
      ]
     },
     "execution_count": 45,
     "metadata": {},
     "output_type": "execute_result"
    }
   ],
   "source": [
    "data"
   ]
  },
  {
   "cell_type": "markdown",
   "metadata": {},
   "source": [
    "Применим фреймворк ICE"
   ]
  },
  {
   "cell_type": "code",
   "execution_count": 54,
   "metadata": {},
   "outputs": [],
   "source": [
    "data['ICE'] = data['Impact'] * data['Confidence'] / data['Efforts']"
   ]
  },
  {
   "cell_type": "code",
   "execution_count": 55,
   "metadata": {},
   "outputs": [
    {
     "data": {
      "text/html": [
       "<div>\n",
       "<style scoped>\n",
       "    .dataframe tbody tr th:only-of-type {\n",
       "        vertical-align: middle;\n",
       "    }\n",
       "\n",
       "    .dataframe tbody tr th {\n",
       "        vertical-align: top;\n",
       "    }\n",
       "\n",
       "    .dataframe thead th {\n",
       "        text-align: right;\n",
       "    }\n",
       "</style>\n",
       "<table border=\"1\" class=\"dataframe\">\n",
       "  <thead>\n",
       "    <tr style=\"text-align: right;\">\n",
       "      <th></th>\n",
       "      <th>Hypothesis</th>\n",
       "      <th>Reach</th>\n",
       "      <th>Impact</th>\n",
       "      <th>Confidence</th>\n",
       "      <th>Efforts</th>\n",
       "      <th>ICE</th>\n",
       "    </tr>\n",
       "  </thead>\n",
       "  <tbody>\n",
       "    <tr>\n",
       "      <th>8</th>\n",
       "      <td>Запустить акцию, дающую скидку на товар в день рождения</td>\n",
       "      <td>1</td>\n",
       "      <td>9</td>\n",
       "      <td>9</td>\n",
       "      <td>5</td>\n",
       "      <td>16.20</td>\n",
       "    </tr>\n",
       "    <tr>\n",
       "      <th>0</th>\n",
       "      <td>Добавить два новых канала привлечения трафика, что позволит привлекать на 30% больше пользователей</td>\n",
       "      <td>3</td>\n",
       "      <td>10</td>\n",
       "      <td>8</td>\n",
       "      <td>6</td>\n",
       "      <td>13.33</td>\n",
       "    </tr>\n",
       "    <tr>\n",
       "      <th>7</th>\n",
       "      <td>Добавить форму подписки на все основные страницы, чтобы собрать базу клиентов для email-рассылок</td>\n",
       "      <td>10</td>\n",
       "      <td>7</td>\n",
       "      <td>8</td>\n",
       "      <td>5</td>\n",
       "      <td>11.20</td>\n",
       "    </tr>\n",
       "    <tr>\n",
       "      <th>6</th>\n",
       "      <td>Показать на главной странице баннеры с актуальными акциями и распродажами, чтобы увеличить конверсию</td>\n",
       "      <td>5</td>\n",
       "      <td>3</td>\n",
       "      <td>8</td>\n",
       "      <td>3</td>\n",
       "      <td>8.00</td>\n",
       "    </tr>\n",
       "    <tr>\n",
       "      <th>2</th>\n",
       "      <td>Добавить блоки рекомендаций товаров на сайт интернет магазина, чтобы повысить конверсию и средний чек заказа</td>\n",
       "      <td>8</td>\n",
       "      <td>3</td>\n",
       "      <td>7</td>\n",
       "      <td>3</td>\n",
       "      <td>7.00</td>\n",
       "    </tr>\n",
       "    <tr>\n",
       "      <th>1</th>\n",
       "      <td>Запустить собственную службу доставки, что сократит срок доставки заказов</td>\n",
       "      <td>2</td>\n",
       "      <td>5</td>\n",
       "      <td>4</td>\n",
       "      <td>10</td>\n",
       "      <td>2.00</td>\n",
       "    </tr>\n",
       "    <tr>\n",
       "      <th>5</th>\n",
       "      <td>Добавить страницу отзывов клиентов о магазине, что позволит увеличить количество заказов</td>\n",
       "      <td>3</td>\n",
       "      <td>2</td>\n",
       "      <td>2</td>\n",
       "      <td>3</td>\n",
       "      <td>1.33</td>\n",
       "    </tr>\n",
       "    <tr>\n",
       "      <th>3</th>\n",
       "      <td>Изменить структура категорий, что увеличит конверсию, т.к. пользователи быстрее найдут нужный товар</td>\n",
       "      <td>8</td>\n",
       "      <td>3</td>\n",
       "      <td>3</td>\n",
       "      <td>8</td>\n",
       "      <td>1.12</td>\n",
       "    </tr>\n",
       "    <tr>\n",
       "      <th>4</th>\n",
       "      <td>Изменить цвет фона главной страницы, чтобы увеличить вовлеченность пользователей</td>\n",
       "      <td>3</td>\n",
       "      <td>1</td>\n",
       "      <td>1</td>\n",
       "      <td>1</td>\n",
       "      <td>1.00</td>\n",
       "    </tr>\n",
       "  </tbody>\n",
       "</table>\n",
       "</div>"
      ],
      "text/plain": [
       "                                                                                                     Hypothesis  \\\n",
       "8                                                       Запустить акцию, дающую скидку на товар в день рождения   \n",
       "0            Добавить два новых канала привлечения трафика, что позволит привлекать на 30% больше пользователей   \n",
       "7              Добавить форму подписки на все основные страницы, чтобы собрать базу клиентов для email-рассылок   \n",
       "6          Показать на главной странице баннеры с актуальными акциями и распродажами, чтобы увеличить конверсию   \n",
       "2  Добавить блоки рекомендаций товаров на сайт интернет магазина, чтобы повысить конверсию и средний чек заказа   \n",
       "1                                     Запустить собственную службу доставки, что сократит срок доставки заказов   \n",
       "5                      Добавить страницу отзывов клиентов о магазине, что позволит увеличить количество заказов   \n",
       "3           Изменить структура категорий, что увеличит конверсию, т.к. пользователи быстрее найдут нужный товар   \n",
       "4                              Изменить цвет фона главной страницы, чтобы увеличить вовлеченность пользователей   \n",
       "\n",
       "   Reach  Impact  Confidence  Efforts    ICE  \n",
       "8      1       9           9        5  16.20  \n",
       "0      3      10           8        6  13.33  \n",
       "7     10       7           8        5  11.20  \n",
       "6      5       3           8        3   8.00  \n",
       "2      8       3           7        3   7.00  \n",
       "1      2       5           4       10   2.00  \n",
       "5      3       2           2        3   1.33  \n",
       "3      8       3           3        8   1.12  \n",
       "4      3       1           1        1   1.00  "
      ]
     },
     "execution_count": 55,
     "metadata": {},
     "output_type": "execute_result"
    }
   ],
   "source": [
    "data['ICE'] = data['ICE'].round(2)\n",
    "data.sort_values(by='ICE', ascending=False)"
   ]
  },
  {
   "cell_type": "markdown",
   "metadata": {},
   "source": [
    "Наибольший приоритет по рейтингу ICE имеют гипотезы под номерами 8 (Запустить акцию, дающую скидку на товар в день рождения), 0 (Добавить два новых канала привлечения трафика, что позволит привлекать на 30% больше пользователей) и 7 (Добавить форму подписки на все основные страницы, чтобы собрать базу клиентов для email-рассылок) ввиду их высокой силы, уверенности и низких затрат."
   ]
  },
  {
   "cell_type": "markdown",
   "metadata": {},
   "source": [
    "Применим фреймворк RICE"
   ]
  },
  {
   "cell_type": "code",
   "execution_count": 56,
   "metadata": {},
   "outputs": [],
   "source": [
    "data['RICE'] = data['Reach'] * data['Impact'] * data['Confidence'] / data['Efforts']"
   ]
  },
  {
   "cell_type": "code",
   "execution_count": 57,
   "metadata": {},
   "outputs": [
    {
     "data": {
      "text/html": [
       "<div>\n",
       "<style scoped>\n",
       "    .dataframe tbody tr th:only-of-type {\n",
       "        vertical-align: middle;\n",
       "    }\n",
       "\n",
       "    .dataframe tbody tr th {\n",
       "        vertical-align: top;\n",
       "    }\n",
       "\n",
       "    .dataframe thead th {\n",
       "        text-align: right;\n",
       "    }\n",
       "</style>\n",
       "<table border=\"1\" class=\"dataframe\">\n",
       "  <thead>\n",
       "    <tr style=\"text-align: right;\">\n",
       "      <th></th>\n",
       "      <th>Hypothesis</th>\n",
       "      <th>Reach</th>\n",
       "      <th>Impact</th>\n",
       "      <th>Confidence</th>\n",
       "      <th>Efforts</th>\n",
       "      <th>ICE</th>\n",
       "      <th>RICE</th>\n",
       "    </tr>\n",
       "  </thead>\n",
       "  <tbody>\n",
       "    <tr>\n",
       "      <th>7</th>\n",
       "      <td>Добавить форму подписки на все основные страницы, чтобы собрать базу клиентов для email-рассылок</td>\n",
       "      <td>10</td>\n",
       "      <td>7</td>\n",
       "      <td>8</td>\n",
       "      <td>5</td>\n",
       "      <td>11.20</td>\n",
       "      <td>112.0</td>\n",
       "    </tr>\n",
       "    <tr>\n",
       "      <th>2</th>\n",
       "      <td>Добавить блоки рекомендаций товаров на сайт интернет магазина, чтобы повысить конверсию и средний чек заказа</td>\n",
       "      <td>8</td>\n",
       "      <td>3</td>\n",
       "      <td>7</td>\n",
       "      <td>3</td>\n",
       "      <td>7.00</td>\n",
       "      <td>56.0</td>\n",
       "    </tr>\n",
       "    <tr>\n",
       "      <th>0</th>\n",
       "      <td>Добавить два новых канала привлечения трафика, что позволит привлекать на 30% больше пользователей</td>\n",
       "      <td>3</td>\n",
       "      <td>10</td>\n",
       "      <td>8</td>\n",
       "      <td>6</td>\n",
       "      <td>13.33</td>\n",
       "      <td>40.0</td>\n",
       "    </tr>\n",
       "    <tr>\n",
       "      <th>6</th>\n",
       "      <td>Показать на главной странице баннеры с актуальными акциями и распродажами, чтобы увеличить конверсию</td>\n",
       "      <td>5</td>\n",
       "      <td>3</td>\n",
       "      <td>8</td>\n",
       "      <td>3</td>\n",
       "      <td>8.00</td>\n",
       "      <td>40.0</td>\n",
       "    </tr>\n",
       "    <tr>\n",
       "      <th>8</th>\n",
       "      <td>Запустить акцию, дающую скидку на товар в день рождения</td>\n",
       "      <td>1</td>\n",
       "      <td>9</td>\n",
       "      <td>9</td>\n",
       "      <td>5</td>\n",
       "      <td>16.20</td>\n",
       "      <td>16.2</td>\n",
       "    </tr>\n",
       "    <tr>\n",
       "      <th>3</th>\n",
       "      <td>Изменить структура категорий, что увеличит конверсию, т.к. пользователи быстрее найдут нужный товар</td>\n",
       "      <td>8</td>\n",
       "      <td>3</td>\n",
       "      <td>3</td>\n",
       "      <td>8</td>\n",
       "      <td>1.12</td>\n",
       "      <td>9.0</td>\n",
       "    </tr>\n",
       "    <tr>\n",
       "      <th>1</th>\n",
       "      <td>Запустить собственную службу доставки, что сократит срок доставки заказов</td>\n",
       "      <td>2</td>\n",
       "      <td>5</td>\n",
       "      <td>4</td>\n",
       "      <td>10</td>\n",
       "      <td>2.00</td>\n",
       "      <td>4.0</td>\n",
       "    </tr>\n",
       "    <tr>\n",
       "      <th>5</th>\n",
       "      <td>Добавить страницу отзывов клиентов о магазине, что позволит увеличить количество заказов</td>\n",
       "      <td>3</td>\n",
       "      <td>2</td>\n",
       "      <td>2</td>\n",
       "      <td>3</td>\n",
       "      <td>1.33</td>\n",
       "      <td>4.0</td>\n",
       "    </tr>\n",
       "    <tr>\n",
       "      <th>4</th>\n",
       "      <td>Изменить цвет фона главной страницы, чтобы увеличить вовлеченность пользователей</td>\n",
       "      <td>3</td>\n",
       "      <td>1</td>\n",
       "      <td>1</td>\n",
       "      <td>1</td>\n",
       "      <td>1.00</td>\n",
       "      <td>3.0</td>\n",
       "    </tr>\n",
       "  </tbody>\n",
       "</table>\n",
       "</div>"
      ],
      "text/plain": [
       "                                                                                                     Hypothesis  \\\n",
       "7              Добавить форму подписки на все основные страницы, чтобы собрать базу клиентов для email-рассылок   \n",
       "2  Добавить блоки рекомендаций товаров на сайт интернет магазина, чтобы повысить конверсию и средний чек заказа   \n",
       "0            Добавить два новых канала привлечения трафика, что позволит привлекать на 30% больше пользователей   \n",
       "6          Показать на главной странице баннеры с актуальными акциями и распродажами, чтобы увеличить конверсию   \n",
       "8                                                       Запустить акцию, дающую скидку на товар в день рождения   \n",
       "3           Изменить структура категорий, что увеличит конверсию, т.к. пользователи быстрее найдут нужный товар   \n",
       "1                                     Запустить собственную службу доставки, что сократит срок доставки заказов   \n",
       "5                      Добавить страницу отзывов клиентов о магазине, что позволит увеличить количество заказов   \n",
       "4                              Изменить цвет фона главной страницы, чтобы увеличить вовлеченность пользователей   \n",
       "\n",
       "   Reach  Impact  Confidence  Efforts    ICE   RICE  \n",
       "7     10       7           8        5  11.20  112.0  \n",
       "2      8       3           7        3   7.00   56.0  \n",
       "0      3      10           8        6  13.33   40.0  \n",
       "6      5       3           8        3   8.00   40.0  \n",
       "8      1       9           9        5  16.20   16.2  \n",
       "3      8       3           3        8   1.12    9.0  \n",
       "1      2       5           4       10   2.00    4.0  \n",
       "5      3       2           2        3   1.33    4.0  \n",
       "4      3       1           1        1   1.00    3.0  "
      ]
     },
     "execution_count": 57,
     "metadata": {},
     "output_type": "execute_result"
    }
   ],
   "source": [
    "data.sort_values(by='RICE', ascending=False)"
   ]
  },
  {
   "cell_type": "markdown",
   "metadata": {},
   "source": [
    "Наибольший приоритет по рейтингу RICE имеют гипотезы под номерами 7 (Добавить форму подписки на все основные страницы, чтобы собрать базу клиентов для email-рассылок), 2 (Добавить блоки рекомендаций товаров на сайт интернет магазина, чтобы повысить конверсию и средний чек заказа) и 0 (Добавить два новых канала привлечения трафика, что позволит привлекать на 30% больше пользователей)."
   ]
  },
  {
   "cell_type": "markdown",
   "metadata": {},
   "source": [
    "Выводы"
   ]
  },
  {
   "cell_type": "markdown",
   "metadata": {},
   "source": [
    "При применении RICE гипотеза \"Добавить форму подписки на все основные страницы, чтобы собрать базу клиентов для email-рассылок\" поднялась в рейтинге на первое место, так как помимо высокой силы, уверенности и низких затрат был учтён большой размер аудитории, на которую она повлияет. В то же время гипотеза под номером 8 исчезла из тройки лидеров ввиду своего крайне маленького охвата."
   ]
  },
  {
   "cell_type": "markdown",
   "metadata": {},
   "source": [
    "## Этап 2. Анализ результатов A/B-теста"
   ]
  },
  {
   "cell_type": "markdown",
   "metadata": {},
   "source": [
    "Прочитаем файлы с данными и сохраним в переменной"
   ]
  },
  {
   "cell_type": "code",
   "execution_count": 9,
   "metadata": {},
   "outputs": [],
   "source": [
    "orders = pd.read_csv('/datasets/orders.csv')\n",
    "visitors = pd.read_csv('/datasets/visitors.csv')"
   ]
  },
  {
   "cell_type": "markdown",
   "metadata": {},
   "source": [
    "Получение первых и последних строк таблиц"
   ]
  },
  {
   "cell_type": "code",
   "execution_count": 10,
   "metadata": {},
   "outputs": [
    {
     "data": {
      "text/html": [
       "<div>\n",
       "<style scoped>\n",
       "    .dataframe tbody tr th:only-of-type {\n",
       "        vertical-align: middle;\n",
       "    }\n",
       "\n",
       "    .dataframe tbody tr th {\n",
       "        vertical-align: top;\n",
       "    }\n",
       "\n",
       "    .dataframe thead th {\n",
       "        text-align: right;\n",
       "    }\n",
       "</style>\n",
       "<table border=\"1\" class=\"dataframe\">\n",
       "  <thead>\n",
       "    <tr style=\"text-align: right;\">\n",
       "      <th></th>\n",
       "      <th>transactionId</th>\n",
       "      <th>visitorId</th>\n",
       "      <th>date</th>\n",
       "      <th>revenue</th>\n",
       "      <th>group</th>\n",
       "    </tr>\n",
       "  </thead>\n",
       "  <tbody>\n",
       "    <tr>\n",
       "      <th>0</th>\n",
       "      <td>3667963787</td>\n",
       "      <td>3312258926</td>\n",
       "      <td>2019-08-15</td>\n",
       "      <td>1650</td>\n",
       "      <td>B</td>\n",
       "    </tr>\n",
       "    <tr>\n",
       "      <th>1</th>\n",
       "      <td>2804400009</td>\n",
       "      <td>3642806036</td>\n",
       "      <td>2019-08-15</td>\n",
       "      <td>730</td>\n",
       "      <td>B</td>\n",
       "    </tr>\n",
       "    <tr>\n",
       "      <th>2</th>\n",
       "      <td>2961555356</td>\n",
       "      <td>4069496402</td>\n",
       "      <td>2019-08-15</td>\n",
       "      <td>400</td>\n",
       "      <td>A</td>\n",
       "    </tr>\n",
       "    <tr>\n",
       "      <th>3</th>\n",
       "      <td>3797467345</td>\n",
       "      <td>1196621759</td>\n",
       "      <td>2019-08-15</td>\n",
       "      <td>9759</td>\n",
       "      <td>B</td>\n",
       "    </tr>\n",
       "    <tr>\n",
       "      <th>4</th>\n",
       "      <td>2282983706</td>\n",
       "      <td>2322279887</td>\n",
       "      <td>2019-08-15</td>\n",
       "      <td>2308</td>\n",
       "      <td>B</td>\n",
       "    </tr>\n",
       "    <tr>\n",
       "      <th>...</th>\n",
       "      <td>...</td>\n",
       "      <td>...</td>\n",
       "      <td>...</td>\n",
       "      <td>...</td>\n",
       "      <td>...</td>\n",
       "    </tr>\n",
       "    <tr>\n",
       "      <th>1192</th>\n",
       "      <td>2662137336</td>\n",
       "      <td>3733762160</td>\n",
       "      <td>2019-08-14</td>\n",
       "      <td>6490</td>\n",
       "      <td>B</td>\n",
       "    </tr>\n",
       "    <tr>\n",
       "      <th>1193</th>\n",
       "      <td>2203539145</td>\n",
       "      <td>370388673</td>\n",
       "      <td>2019-08-14</td>\n",
       "      <td>3190</td>\n",
       "      <td>A</td>\n",
       "    </tr>\n",
       "    <tr>\n",
       "      <th>1194</th>\n",
       "      <td>1807773912</td>\n",
       "      <td>573423106</td>\n",
       "      <td>2019-08-14</td>\n",
       "      <td>10550</td>\n",
       "      <td>A</td>\n",
       "    </tr>\n",
       "    <tr>\n",
       "      <th>1195</th>\n",
       "      <td>1947021204</td>\n",
       "      <td>1614305549</td>\n",
       "      <td>2019-08-14</td>\n",
       "      <td>100</td>\n",
       "      <td>A</td>\n",
       "    </tr>\n",
       "    <tr>\n",
       "      <th>1196</th>\n",
       "      <td>3936777065</td>\n",
       "      <td>2108080724</td>\n",
       "      <td>2019-08-15</td>\n",
       "      <td>202740</td>\n",
       "      <td>B</td>\n",
       "    </tr>\n",
       "  </tbody>\n",
       "</table>\n",
       "<p>1197 rows × 5 columns</p>\n",
       "</div>"
      ],
      "text/plain": [
       "      transactionId   visitorId        date  revenue group\n",
       "0        3667963787  3312258926  2019-08-15     1650     B\n",
       "1        2804400009  3642806036  2019-08-15      730     B\n",
       "2        2961555356  4069496402  2019-08-15      400     A\n",
       "3        3797467345  1196621759  2019-08-15     9759     B\n",
       "4        2282983706  2322279887  2019-08-15     2308     B\n",
       "...             ...         ...         ...      ...   ...\n",
       "1192     2662137336  3733762160  2019-08-14     6490     B\n",
       "1193     2203539145   370388673  2019-08-14     3190     A\n",
       "1194     1807773912   573423106  2019-08-14    10550     A\n",
       "1195     1947021204  1614305549  2019-08-14      100     A\n",
       "1196     3936777065  2108080724  2019-08-15   202740     B\n",
       "\n",
       "[1197 rows x 5 columns]"
      ]
     },
     "execution_count": 10,
     "metadata": {},
     "output_type": "execute_result"
    }
   ],
   "source": [
    "orders"
   ]
  },
  {
   "cell_type": "code",
   "execution_count": 11,
   "metadata": {},
   "outputs": [],
   "source": [
    "orders['date'] = orders['date'].map(lambda x: dt.datetime.strptime(x, '%Y-%m-%d'))"
   ]
  },
  {
   "cell_type": "code",
   "execution_count": 12,
   "metadata": {},
   "outputs": [
    {
     "data": {
      "text/html": [
       "<div>\n",
       "<style scoped>\n",
       "    .dataframe tbody tr th:only-of-type {\n",
       "        vertical-align: middle;\n",
       "    }\n",
       "\n",
       "    .dataframe tbody tr th {\n",
       "        vertical-align: top;\n",
       "    }\n",
       "\n",
       "    .dataframe thead th {\n",
       "        text-align: right;\n",
       "    }\n",
       "</style>\n",
       "<table border=\"1\" class=\"dataframe\">\n",
       "  <thead>\n",
       "    <tr style=\"text-align: right;\">\n",
       "      <th></th>\n",
       "      <th>date</th>\n",
       "      <th>group</th>\n",
       "      <th>visitors</th>\n",
       "    </tr>\n",
       "  </thead>\n",
       "  <tbody>\n",
       "    <tr>\n",
       "      <th>0</th>\n",
       "      <td>2019-08-01</td>\n",
       "      <td>A</td>\n",
       "      <td>719</td>\n",
       "    </tr>\n",
       "    <tr>\n",
       "      <th>1</th>\n",
       "      <td>2019-08-02</td>\n",
       "      <td>A</td>\n",
       "      <td>619</td>\n",
       "    </tr>\n",
       "    <tr>\n",
       "      <th>2</th>\n",
       "      <td>2019-08-03</td>\n",
       "      <td>A</td>\n",
       "      <td>507</td>\n",
       "    </tr>\n",
       "    <tr>\n",
       "      <th>3</th>\n",
       "      <td>2019-08-04</td>\n",
       "      <td>A</td>\n",
       "      <td>717</td>\n",
       "    </tr>\n",
       "    <tr>\n",
       "      <th>4</th>\n",
       "      <td>2019-08-05</td>\n",
       "      <td>A</td>\n",
       "      <td>756</td>\n",
       "    </tr>\n",
       "    <tr>\n",
       "      <th>...</th>\n",
       "      <td>...</td>\n",
       "      <td>...</td>\n",
       "      <td>...</td>\n",
       "    </tr>\n",
       "    <tr>\n",
       "      <th>57</th>\n",
       "      <td>2019-08-27</td>\n",
       "      <td>B</td>\n",
       "      <td>720</td>\n",
       "    </tr>\n",
       "    <tr>\n",
       "      <th>58</th>\n",
       "      <td>2019-08-28</td>\n",
       "      <td>B</td>\n",
       "      <td>654</td>\n",
       "    </tr>\n",
       "    <tr>\n",
       "      <th>59</th>\n",
       "      <td>2019-08-29</td>\n",
       "      <td>B</td>\n",
       "      <td>531</td>\n",
       "    </tr>\n",
       "    <tr>\n",
       "      <th>60</th>\n",
       "      <td>2019-08-30</td>\n",
       "      <td>B</td>\n",
       "      <td>490</td>\n",
       "    </tr>\n",
       "    <tr>\n",
       "      <th>61</th>\n",
       "      <td>2019-08-31</td>\n",
       "      <td>B</td>\n",
       "      <td>718</td>\n",
       "    </tr>\n",
       "  </tbody>\n",
       "</table>\n",
       "<p>62 rows × 3 columns</p>\n",
       "</div>"
      ],
      "text/plain": [
       "          date group  visitors\n",
       "0   2019-08-01     A       719\n",
       "1   2019-08-02     A       619\n",
       "2   2019-08-03     A       507\n",
       "3   2019-08-04     A       717\n",
       "4   2019-08-05     A       756\n",
       "..         ...   ...       ...\n",
       "57  2019-08-27     B       720\n",
       "58  2019-08-28     B       654\n",
       "59  2019-08-29     B       531\n",
       "60  2019-08-30     B       490\n",
       "61  2019-08-31     B       718\n",
       "\n",
       "[62 rows x 3 columns]"
      ]
     },
     "execution_count": 12,
     "metadata": {},
     "output_type": "execute_result"
    }
   ],
   "source": [
    "visitors"
   ]
  },
  {
   "cell_type": "code",
   "execution_count": 13,
   "metadata": {},
   "outputs": [],
   "source": [
    "visitors['date'] = visitors['date'].map(lambda x: dt.datetime.strptime(x, '%Y-%m-%d'))"
   ]
  },
  {
   "cell_type": "markdown",
   "metadata": {},
   "source": [
    "Данные загружены, форматы поправлены. Далее проверим, что никто не попал в обе тестовых группы."
   ]
  },
  {
   "cell_type": "code",
   "execution_count": 14,
   "metadata": {},
   "outputs": [],
   "source": [
    "cheaters = orders.groupby('visitorId').agg({'group' : 'count'}).query('group == 2').reset_index()\n",
    "cheaters = cheaters['visitorId']"
   ]
  },
  {
   "cell_type": "code",
   "execution_count": 15,
   "metadata": {},
   "outputs": [
    {
     "data": {
      "text/html": [
       "<div>\n",
       "<style scoped>\n",
       "    .dataframe tbody tr th:only-of-type {\n",
       "        vertical-align: middle;\n",
       "    }\n",
       "\n",
       "    .dataframe tbody tr th {\n",
       "        vertical-align: top;\n",
       "    }\n",
       "\n",
       "    .dataframe thead th {\n",
       "        text-align: right;\n",
       "    }\n",
       "</style>\n",
       "<table border=\"1\" class=\"dataframe\">\n",
       "  <thead>\n",
       "    <tr style=\"text-align: right;\">\n",
       "      <th></th>\n",
       "      <th>transactionId</th>\n",
       "      <th>visitorId</th>\n",
       "      <th>date</th>\n",
       "      <th>revenue</th>\n",
       "      <th>group</th>\n",
       "    </tr>\n",
       "  </thead>\n",
       "  <tbody>\n",
       "    <tr>\n",
       "      <th>0</th>\n",
       "      <td>3667963787</td>\n",
       "      <td>3312258926</td>\n",
       "      <td>2019-08-15</td>\n",
       "      <td>1650</td>\n",
       "      <td>B</td>\n",
       "    </tr>\n",
       "    <tr>\n",
       "      <th>1</th>\n",
       "      <td>2804400009</td>\n",
       "      <td>3642806036</td>\n",
       "      <td>2019-08-15</td>\n",
       "      <td>730</td>\n",
       "      <td>B</td>\n",
       "    </tr>\n",
       "    <tr>\n",
       "      <th>2</th>\n",
       "      <td>2961555356</td>\n",
       "      <td>4069496402</td>\n",
       "      <td>2019-08-15</td>\n",
       "      <td>400</td>\n",
       "      <td>A</td>\n",
       "    </tr>\n",
       "    <tr>\n",
       "      <th>3</th>\n",
       "      <td>3797467345</td>\n",
       "      <td>1196621759</td>\n",
       "      <td>2019-08-15</td>\n",
       "      <td>9759</td>\n",
       "      <td>B</td>\n",
       "    </tr>\n",
       "    <tr>\n",
       "      <th>4</th>\n",
       "      <td>2282983706</td>\n",
       "      <td>2322279887</td>\n",
       "      <td>2019-08-15</td>\n",
       "      <td>2308</td>\n",
       "      <td>B</td>\n",
       "    </tr>\n",
       "    <tr>\n",
       "      <th>...</th>\n",
       "      <td>...</td>\n",
       "      <td>...</td>\n",
       "      <td>...</td>\n",
       "      <td>...</td>\n",
       "      <td>...</td>\n",
       "    </tr>\n",
       "    <tr>\n",
       "      <th>1192</th>\n",
       "      <td>2662137336</td>\n",
       "      <td>3733762160</td>\n",
       "      <td>2019-08-14</td>\n",
       "      <td>6490</td>\n",
       "      <td>B</td>\n",
       "    </tr>\n",
       "    <tr>\n",
       "      <th>1193</th>\n",
       "      <td>2203539145</td>\n",
       "      <td>370388673</td>\n",
       "      <td>2019-08-14</td>\n",
       "      <td>3190</td>\n",
       "      <td>A</td>\n",
       "    </tr>\n",
       "    <tr>\n",
       "      <th>1194</th>\n",
       "      <td>1807773912</td>\n",
       "      <td>573423106</td>\n",
       "      <td>2019-08-14</td>\n",
       "      <td>10550</td>\n",
       "      <td>A</td>\n",
       "    </tr>\n",
       "    <tr>\n",
       "      <th>1195</th>\n",
       "      <td>1947021204</td>\n",
       "      <td>1614305549</td>\n",
       "      <td>2019-08-14</td>\n",
       "      <td>100</td>\n",
       "      <td>A</td>\n",
       "    </tr>\n",
       "    <tr>\n",
       "      <th>1196</th>\n",
       "      <td>3936777065</td>\n",
       "      <td>2108080724</td>\n",
       "      <td>2019-08-15</td>\n",
       "      <td>202740</td>\n",
       "      <td>B</td>\n",
       "    </tr>\n",
       "  </tbody>\n",
       "</table>\n",
       "<p>1197 rows × 5 columns</p>\n",
       "</div>"
      ],
      "text/plain": [
       "      transactionId   visitorId       date  revenue group\n",
       "0        3667963787  3312258926 2019-08-15     1650     B\n",
       "1        2804400009  3642806036 2019-08-15      730     B\n",
       "2        2961555356  4069496402 2019-08-15      400     A\n",
       "3        3797467345  1196621759 2019-08-15     9759     B\n",
       "4        2282983706  2322279887 2019-08-15     2308     B\n",
       "...             ...         ...        ...      ...   ...\n",
       "1192     2662137336  3733762160 2019-08-14     6490     B\n",
       "1193     2203539145   370388673 2019-08-14     3190     A\n",
       "1194     1807773912   573423106 2019-08-14    10550     A\n",
       "1195     1947021204  1614305549 2019-08-14      100     A\n",
       "1196     3936777065  2108080724 2019-08-15   202740     B\n",
       "\n",
       "[1197 rows x 5 columns]"
      ]
     },
     "execution_count": 15,
     "metadata": {},
     "output_type": "execute_result"
    }
   ],
   "source": [
    "orders"
   ]
  },
  {
   "cell_type": "code",
   "execution_count": 16,
   "metadata": {},
   "outputs": [
    {
     "data": {
      "text/html": [
       "<div>\n",
       "<style scoped>\n",
       "    .dataframe tbody tr th:only-of-type {\n",
       "        vertical-align: middle;\n",
       "    }\n",
       "\n",
       "    .dataframe tbody tr th {\n",
       "        vertical-align: top;\n",
       "    }\n",
       "\n",
       "    .dataframe thead th {\n",
       "        text-align: right;\n",
       "    }\n",
       "</style>\n",
       "<table border=\"1\" class=\"dataframe\">\n",
       "  <thead>\n",
       "    <tr style=\"text-align: right;\">\n",
       "      <th></th>\n",
       "      <th>transactionId</th>\n",
       "      <th>visitorId</th>\n",
       "      <th>date</th>\n",
       "      <th>revenue</th>\n",
       "      <th>group</th>\n",
       "    </tr>\n",
       "  </thead>\n",
       "  <tbody>\n",
       "    <tr>\n",
       "      <th>0</th>\n",
       "      <td>3667963787</td>\n",
       "      <td>3312258926</td>\n",
       "      <td>2019-08-15</td>\n",
       "      <td>1650</td>\n",
       "      <td>B</td>\n",
       "    </tr>\n",
       "    <tr>\n",
       "      <th>1</th>\n",
       "      <td>2804400009</td>\n",
       "      <td>3642806036</td>\n",
       "      <td>2019-08-15</td>\n",
       "      <td>730</td>\n",
       "      <td>B</td>\n",
       "    </tr>\n",
       "    <tr>\n",
       "      <th>2</th>\n",
       "      <td>2961555356</td>\n",
       "      <td>4069496402</td>\n",
       "      <td>2019-08-15</td>\n",
       "      <td>400</td>\n",
       "      <td>A</td>\n",
       "    </tr>\n",
       "    <tr>\n",
       "      <th>3</th>\n",
       "      <td>3797467345</td>\n",
       "      <td>1196621759</td>\n",
       "      <td>2019-08-15</td>\n",
       "      <td>9759</td>\n",
       "      <td>B</td>\n",
       "    </tr>\n",
       "    <tr>\n",
       "      <th>4</th>\n",
       "      <td>2282983706</td>\n",
       "      <td>2322279887</td>\n",
       "      <td>2019-08-15</td>\n",
       "      <td>2308</td>\n",
       "      <td>B</td>\n",
       "    </tr>\n",
       "    <tr>\n",
       "      <th>...</th>\n",
       "      <td>...</td>\n",
       "      <td>...</td>\n",
       "      <td>...</td>\n",
       "      <td>...</td>\n",
       "      <td>...</td>\n",
       "    </tr>\n",
       "    <tr>\n",
       "      <th>1192</th>\n",
       "      <td>2662137336</td>\n",
       "      <td>3733762160</td>\n",
       "      <td>2019-08-14</td>\n",
       "      <td>6490</td>\n",
       "      <td>B</td>\n",
       "    </tr>\n",
       "    <tr>\n",
       "      <th>1193</th>\n",
       "      <td>2203539145</td>\n",
       "      <td>370388673</td>\n",
       "      <td>2019-08-14</td>\n",
       "      <td>3190</td>\n",
       "      <td>A</td>\n",
       "    </tr>\n",
       "    <tr>\n",
       "      <th>1194</th>\n",
       "      <td>1807773912</td>\n",
       "      <td>573423106</td>\n",
       "      <td>2019-08-14</td>\n",
       "      <td>10550</td>\n",
       "      <td>A</td>\n",
       "    </tr>\n",
       "    <tr>\n",
       "      <th>1195</th>\n",
       "      <td>1947021204</td>\n",
       "      <td>1614305549</td>\n",
       "      <td>2019-08-14</td>\n",
       "      <td>100</td>\n",
       "      <td>A</td>\n",
       "    </tr>\n",
       "    <tr>\n",
       "      <th>1196</th>\n",
       "      <td>3936777065</td>\n",
       "      <td>2108080724</td>\n",
       "      <td>2019-08-15</td>\n",
       "      <td>202740</td>\n",
       "      <td>B</td>\n",
       "    </tr>\n",
       "  </tbody>\n",
       "</table>\n",
       "<p>1197 rows × 5 columns</p>\n",
       "</div>"
      ],
      "text/plain": [
       "      transactionId   visitorId       date  revenue group\n",
       "0        3667963787  3312258926 2019-08-15     1650     B\n",
       "1        2804400009  3642806036 2019-08-15      730     B\n",
       "2        2961555356  4069496402 2019-08-15      400     A\n",
       "3        3797467345  1196621759 2019-08-15     9759     B\n",
       "4        2282983706  2322279887 2019-08-15     2308     B\n",
       "...             ...         ...        ...      ...   ...\n",
       "1192     2662137336  3733762160 2019-08-14     6490     B\n",
       "1193     2203539145   370388673 2019-08-14     3190     A\n",
       "1194     1807773912   573423106 2019-08-14    10550     A\n",
       "1195     1947021204  1614305549 2019-08-14      100     A\n",
       "1196     3936777065  2108080724 2019-08-15   202740     B\n",
       "\n",
       "[1197 rows x 5 columns]"
      ]
     },
     "execution_count": 16,
     "metadata": {},
     "output_type": "execute_result"
    }
   ],
   "source": [
    "#orders = orders.query('revenue < 100000') # not in @cheaters')\n",
    "orders"
   ]
  },
  {
   "cell_type": "markdown",
   "metadata": {},
   "source": [
    "64 человека были в обеих группах - удалили их."
   ]
  },
  {
   "cell_type": "markdown",
   "metadata": {},
   "source": [
    "Построим график кумулятивной выручки по группам"
   ]
  },
  {
   "cell_type": "code",
   "execution_count": 17,
   "metadata": {},
   "outputs": [
    {
     "name": "stdout",
     "output_type": "stream",
     "text": [
      "        date group  orders  buyers  revenue  visitors\n",
      "0 2019-08-01     A      24      20   148579       719\n",
      "1 2019-08-01     B      21      20   101217       713\n",
      "2 2019-08-02     A      44      38   242401      1338\n",
      "3 2019-08-02     B      45      43   266748      1294\n",
      "4 2019-08-03     A      68      62   354874      1845\n"
     ]
    }
   ],
   "source": [
    "datesGroups = orders[['date', 'group']].drop_duplicates()\n",
    "\n",
    "ordersAggregated = datesGroups.apply(\n",
    "    lambda x: orders[np.logical_and(orders['date'] <= x['date'], orders['group'] == x['group'])].agg({\n",
    "'date' : 'max',\n",
    "'group' : 'max',\n",
    "'transactionId' : pd.Series.nunique,\n",
    "'visitorId' : pd.Series.nunique,\n",
    "'revenue' : 'sum'}), axis=1).sort_values(by=['date','group']) \n",
    "\n",
    "visitorsAggregated = datesGroups.apply(\n",
    "    lambda x: visitors[np.logical_and(visitors['date'] <= x['date'], visitors['group'] == x['group'])].agg({\n",
    "'date' : 'max',\n",
    "'group' : 'max',\n",
    "'visitors' : 'sum'}), axis=1).sort_values(by=['date','group'])\n",
    "\n",
    "cumulativeData = ordersAggregated.merge(visitorsAggregated, left_on=['date', 'group'], right_on=['date', 'group'])\n",
    "cumulativeData.columns = ['date', 'group', 'orders', 'buyers', 'revenue', 'visitors']\n",
    "\n",
    "print(cumulativeData.head(5)) "
   ]
  },
  {
   "cell_type": "code",
   "execution_count": 18,
   "metadata": {},
   "outputs": [
    {
     "data": {
      "image/png": "[encoded data removed]",
      "text/plain": [
       "<Figure size 432x288 with 1 Axes>"
      ]
     },
     "metadata": {
      "needs_background": "light"
     },
     "output_type": "display_data"
    }
   ],
   "source": [
    "# датафрейм с кумулятивным количеством заказов и кумулятивной выручкой по дням в группе А\n",
    "cumulativeRevenueA = cumulativeData[cumulativeData['group']=='A'][['date','revenue', 'orders']]\n",
    "\n",
    "# датафрейм с кумулятивным количеством заказов и кумулятивной выручкой по дням в группе B\n",
    "cumulativeRevenueB = cumulativeData[cumulativeData['group']=='B'][['date','revenue', 'orders']]\n",
    "\n",
    "# Строим график выручки группы А\n",
    "plt.plot(cumulativeRevenueA['date'], cumulativeRevenueA['revenue'], label='A')\n",
    "\n",
    "# Строим график выручки группы B\n",
    "plt.plot(cumulativeRevenueB['date'], cumulativeRevenueB['revenue'], label='B')\n",
    "plt.xticks(rotation = 45)\n",
    "plt.ylabel('Выручка')\n",
    "plt.legend();"
   ]
  },
  {
   "cell_type": "markdown",
   "metadata": {},
   "source": [
    "Выручка равномерно увеличивается в течении теста. В группе В присутствует резкий скачёк, что может сигнализировать либо о всплеске числа заказов, либо о появлении очень дорогого заказа. Группа А стабильно хуже группы В."
   ]
  },
  {
   "cell_type": "markdown",
   "metadata": {},
   "source": [
    "Построим график кумулятивного среднего чека по группам"
   ]
  },
  {
   "cell_type": "code",
   "execution_count": 39,
   "metadata": {},
   "outputs": [
    {
     "data": {
      "image/png": "[encoded data removed]",
      "text/plain": [
       "<Figure size 432x288 with 1 Axes>"
      ]
     },
     "metadata": {
      "needs_background": "light"
     },
     "output_type": "display_data"
    }
   ],
   "source": [
    "plt.plot(cumulativeRevenueA['date'], cumulativeRevenueA['revenue']/cumulativeRevenueA['orders'], label='A')\n",
    "plt.plot(cumulativeRevenueB['date'], cumulativeRevenueB['revenue']/cumulativeRevenueB['orders'], label='B')\n",
    "plt.xticks(rotation = 45)\n",
    "plt.ylabel('Средний чек')\n",
    "plt.legend();"
   ]
  },
  {
   "cell_type": "markdown",
   "metadata": {},
   "source": [
    "Средний чек более менее выравнивается для группы А. В группе В наблюдается резкий скачёк в тот же момент, что и на графике кумулятивной выручки. Это косвенно доказывает наличие очень дорого заказа в выборке. Из-за этого скачка во второй половине наблюдаемого периода группа В не успевает прийти к реальному среднему чеку к концу наблюдений, требуется больше данных. Однако всё равно отметим, что согласно имеющимся данным, средний чек в группе В стабильно выше."
   ]
  },
  {
   "cell_type": "markdown",
   "metadata": {},
   "source": [
    "Построим график относительного изменения кумулятивного среднего чека"
   ]
  },
  {
   "cell_type": "code",
   "execution_count": 20,
   "metadata": {},
   "outputs": [
    {
     "data": {
      "image/png": "[encoded data removed]",
      "text/plain": [
       "<Figure size 432x288 with 1 Axes>"
      ]
     },
     "metadata": {
      "needs_background": "light"
     },
     "output_type": "display_data"
    }
   ],
   "source": [
    "# собираем данные в одном датафрейме\n",
    "mergedCumulativeRevenue = cumulativeRevenueA.merge(cumulativeRevenueB, left_on='date', right_on='date', how='left', suffixes=['A', 'B'])\n",
    "\n",
    "# cтроим отношение средних чеков\n",
    "plt.plot(mergedCumulativeRevenue['date'], (mergedCumulativeRevenue['revenueB']/mergedCumulativeRevenue['ordersB'])/(mergedCumulativeRevenue['revenueA']/mergedCumulativeRevenue['ordersA'])-1)\n",
    "\n",
    "# добавляем ось X\n",
    "plt.xticks(rotation = 45)\n",
    "plt.axhline(y=0, color='black', linestyle='--');"
   ]
  },
  {
   "cell_type": "markdown",
   "metadata": {},
   "source": [
    "График выше пунктирной линии, значит, формально, группа В лучше. Однако выбросы не позволяют утверждать этого с полной уверенностью, так как график \"задран\" тем очень дорогим заказом, который мы наблюдали на всех предыдущих графиках."
   ]
  },
  {
   "cell_type": "markdown",
   "metadata": {},
   "source": [
    "Построим график кумулятивного среднего количества заказов по группам"
   ]
  },
  {
   "cell_type": "code",
   "execution_count": 40,
   "metadata": {},
   "outputs": [
    {
     "data": {
      "image/png": "[encoded data removed]",
      "text/plain": [
       "<Figure size 432x288 with 1 Axes>"
      ]
     },
     "metadata": {
      "needs_background": "light"
     },
     "output_type": "display_data"
    }
   ],
   "source": [
    "# считаем кумулятивную конверсию\n",
    "cumulativeData['conversion'] = cumulativeData['orders']/cumulativeData['visitors']\n",
    "\n",
    "# отделяем данные по группе A\n",
    "cumulativeDataA = cumulativeData[cumulativeData['group']=='A']\n",
    "\n",
    "# отделяем данные по группе B\n",
    "cumulativeDataB = cumulativeData[cumulativeData['group']=='B']\n",
    "\n",
    "# строим графики\n",
    "plt.plot(cumulativeDataA['date'], cumulativeDataA['conversion'], label='A')\n",
    "plt.plot(cumulativeDataB['date'], cumulativeDataB['conversion'], label='B')\n",
    "plt.xticks(rotation = 45)\n",
    "plt.ylabel('Конверсия в платёж')\n",
    "plt.legend();\n",
    "\n"
   ]
  },
  {
   "cell_type": "markdown",
   "metadata": {},
   "source": [
    "Конверсия группы В стабильно выше. При этом группы более менее зафиксировались."
   ]
  },
  {
   "cell_type": "markdown",
   "metadata": {},
   "source": [
    "Построим график относительного изменения кумулятивного среднего количества заказов"
   ]
  },
  {
   "cell_type": "code",
   "execution_count": 22,
   "metadata": {},
   "outputs": [
    {
     "data": {
      "image/png": "[encoded data removed]",
      "text/plain": [
       "<Figure size 432x288 with 1 Axes>"
      ]
     },
     "metadata": {
      "needs_background": "light"
     },
     "output_type": "display_data"
    }
   ],
   "source": [
    "mergedCumulativeConversions = cumulativeDataA[['date','conversion']].merge(cumulativeDataB[['date','conversion']], left_on='date', right_on='date', how='left', suffixes=['A', 'B'])\n",
    "\n",
    "plt.plot(mergedCumulativeConversions['date'], mergedCumulativeConversions['conversionB']/mergedCumulativeConversions['conversionA']-1, label=\"Относительный прирост конверсии группы B относительно группы A\")\n",
    "plt.legend()\n",
    "plt.xticks(rotation = 45)\n",
    "plt.axhline(y=0, color='black', linestyle='--')\n",
    "plt.axhline(y=-0.1, color='grey', linestyle='--');\n"
   ]
  },
  {
   "cell_type": "markdown",
   "metadata": {},
   "source": [
    "Конверсия группы В быстро вырвалась наверх, потом сильно просела, но, под конец, снова начала расти. Может она ещё не успела выравниться, но очень сомнительно, что группе А удасться вырваться вперёд."
   ]
  },
  {
   "cell_type": "markdown",
   "metadata": {},
   "source": [
    "Построим точечный график количества заказов по пользователям"
   ]
  },
  {
   "cell_type": "code",
   "execution_count": 23,
   "metadata": {},
   "outputs": [
    {
     "data": {
      "image/png": "[encoded data removed]",
      "text/plain": [
       "<Figure size 432x288 with 1 Axes>"
      ]
     },
     "metadata": {
      "needs_background": "light"
     },
     "output_type": "display_data"
    }
   ],
   "source": [
    "ordersByUsers = orders.groupby('visitorId', as_index=False).agg({'transactionId': 'nunique'})\n",
    "\n",
    "ordersByUsers.columns = ['user_id', 'orders']\n",
    "\n",
    "x_values = pd.Series(range(0,len(ordersByUsers)))\n",
    "\n",
    "plt.scatter(x_values, ordersByUsers['orders']);\n"
   ]
  },
  {
   "cell_type": "markdown",
   "metadata": {},
   "source": [
    "Большинство покупателей заказывали только один раз. Доля пользователей с 2-3 заказами тоже значительна. 4 и более уже похожи на выбросы."
   ]
  },
  {
   "cell_type": "markdown",
   "metadata": {},
   "source": [
    "Определим 95-й и 99-й перцентили количества заказов на пользователя"
   ]
  },
  {
   "cell_type": "code",
   "execution_count": 24,
   "metadata": {},
   "outputs": [
    {
     "name": "stdout",
     "output_type": "stream",
     "text": [
      "[2. 4.]\n"
     ]
    }
   ],
   "source": [
    "print(np.percentile(ordersByUsers['orders'], [95, 99]))"
   ]
  },
  {
   "cell_type": "markdown",
   "metadata": {},
   "source": [
    "Не более 5% пользователей оформили  более 2 заказа и не более 1% заказывали больше 4 раз. Так как граница на 95-ом перцентиле отсечёт всех, кто сделал более одного заказа, выберем границей 2 заказа."
   ]
  },
  {
   "cell_type": "markdown",
   "metadata": {},
   "source": [
    "Построим точечный график стоимостей заказов"
   ]
  },
  {
   "cell_type": "code",
   "execution_count": 25,
   "metadata": {},
   "outputs": [
    {
     "data": {
      "image/png": "[encoded data removed]",
      "text/plain": [
       "<Figure size 432x288 with 1 Axes>"
      ]
     },
     "metadata": {
      "needs_background": "light"
     },
     "output_type": "display_data"
    }
   ],
   "source": [
    "x_values = pd.Series(range(0,len(orders['revenue'])))\n",
    "plt.scatter(x_values, orders['revenue']);"
   ]
  },
  {
   "cell_type": "markdown",
   "metadata": {},
   "source": [
    "Чётко видим два ОЧЕНЬ аномальных заказа - за 250 000 и за 1.3 миллиона."
   ]
  },
  {
   "cell_type": "code",
   "execution_count": 26,
   "metadata": {},
   "outputs": [
    {
     "data": {
      "image/png": "[encoded data removed]",
      "text/plain": [
       "<Figure size 432x288 with 1 Axes>"
      ]
     },
     "metadata": {
      "needs_background": "light"
     },
     "output_type": "display_data"
    }
   ],
   "source": [
    "x_values = pd.Series(range(0,len(orders['revenue'])))\n",
    "\n",
    "plt.scatter(x_values, orders['revenue'], alpha=0.5)\n",
    "plt.axis([-50, 1250, -2500, 100000]);"
   ]
  },
  {
   "cell_type": "markdown",
   "metadata": {},
   "source": [
    "Так видим, что подавляющее большинство заказов примерно на 20 000 или меньше."
   ]
  },
  {
   "cell_type": "markdown",
   "metadata": {},
   "source": [
    "Определим 95-й и 99-й перцентили стоимости заказов"
   ]
  },
  {
   "cell_type": "code",
   "execution_count": 27,
   "metadata": {},
   "outputs": [
    {
     "name": "stdout",
     "output_type": "stream",
     "text": [
      "[28000.  58233.2]\n"
     ]
    }
   ],
   "source": [
    "print(np.percentile(orders['revenue'], [95, 99]))"
   ]
  },
  {
   "cell_type": "markdown",
   "metadata": {},
   "source": [
    "Не более 5% заказов дороже 28 000 и не более 1% дороже 58 233. Так как разница между 95-ым и 99-ым перцентил более чем в 2 раза, выберем границей 28 000"
   ]
  },
  {
   "cell_type": "markdown",
   "metadata": {},
   "source": [
    "## Этап 3. Проверка гипотез на основе собранных данных"
   ]
  },
  {
   "cell_type": "markdown",
   "metadata": {},
   "source": [
    "Подготовим данные для проверки гипотез"
   ]
  },
  {
   "cell_type": "code",
   "execution_count": 28,
   "metadata": {},
   "outputs": [],
   "source": [
    "# количество пользователей по дням в группе А\n",
    "visitorsADaily = visitors[visitors['group'] == 'A'][['date', 'visitors']]\n",
    "visitorsADaily.columns = ['date', 'visitorsPerDateA']\n",
    "\n",
    "# количество пользователей по дням с накоплением в группе А\n",
    "visitorsACummulative = visitorsADaily.apply(\n",
    "    lambda x: visitorsADaily[visitorsADaily['date'] <= x['date']].agg(\n",
    "        {'date': 'max', 'visitorsPerDateA': 'sum'}\n",
    "    ),\n",
    "    axis=1,\n",
    ")\n",
    "visitorsACummulative.columns = ['date', 'visitorsCummulativeA']"
   ]
  },
  {
   "cell_type": "code",
   "execution_count": 29,
   "metadata": {},
   "outputs": [],
   "source": [
    "# количество пользователей по дням в группе В\n",
    "visitorsBDaily = visitors[visitors['group'] == 'B'][['date', 'visitors']]\n",
    "visitorsBDaily.columns = ['date', 'visitorsPerDateB']\n",
    "\n",
    "# количество пользователей по дням с накоплением в группе В\n",
    "visitorsBCummulative = visitorsBDaily.apply(\n",
    "    lambda x: visitorsBDaily[visitorsBDaily['date'] <= x['date']].agg(\n",
    "        {'date': 'max', 'visitorsPerDateB': 'sum'}\n",
    "    ),\n",
    "    axis=1,\n",
    ")\n",
    "visitorsBCummulative.columns = ['date', 'visitorsCummulativeB']"
   ]
  },
  {
   "cell_type": "code",
   "execution_count": 30,
   "metadata": {},
   "outputs": [],
   "source": [
    "# количество заказов и выручка по дням в группе А\n",
    "ordersADaily = (\n",
    "    orders[orders['group'] == 'A'][['date', 'transactionId', 'visitorId', 'revenue']]\n",
    "    .groupby('date', as_index=False)\n",
    "    .agg({'transactionId': pd.Series.nunique, 'revenue': 'sum'})\n",
    ")\n",
    "ordersADaily.columns = ['date', 'ordersPerDateA', 'revenuePerDateA']\n",
    "\n",
    "# количество заказов и выручка по дням с накоплением в группе А\n",
    "ordersACummulative = ordersADaily.apply(\n",
    "    lambda x: ordersADaily[ordersADaily['date'] <= x['date']].agg(\n",
    "        {'date': 'max', 'ordersPerDateA': 'sum', 'revenuePerDateA': 'sum'}\n",
    "    ),\n",
    "    axis=1,\n",
    ").sort_values(by=['date'])\n",
    "ordersACummulative.columns = [\n",
    "    'date',\n",
    "    'ordersCummulativeA',\n",
    "    'revenueCummulativeA',\n",
    "]"
   ]
  },
  {
   "cell_type": "code",
   "execution_count": 31,
   "metadata": {},
   "outputs": [],
   "source": [
    "# количество заказов и выручка по дням в группе В\n",
    "ordersBDaily = (\n",
    "    orders[orders['group'] == 'B'][['date', 'transactionId', 'visitorId', 'revenue']]\n",
    "    .groupby('date', as_index=False)\n",
    "    .agg({'transactionId': pd.Series.nunique, 'revenue': 'sum'})\n",
    ")\n",
    "ordersBDaily.columns = ['date', 'ordersPerDateB', 'revenuePerDateB']\n",
    "\n",
    "# количество заказов и выручка по дням с накоплением в группе В\n",
    "ordersBCummulative = ordersBDaily.apply(\n",
    "    lambda x: ordersBDaily[ordersBDaily['date'] <= x['date']].agg(\n",
    "        {'date': 'max', 'ordersPerDateB': 'sum', 'revenuePerDateB': 'sum'}\n",
    "    ),\n",
    "    axis=1,\n",
    ").sort_values(by=['date'])\n",
    "ordersBCummulative.columns = [\n",
    "    'date',\n",
    "    'ordersCummulativeB',\n",
    "    'revenueCummulativeB',\n",
    "]"
   ]
  },
  {
   "cell_type": "code",
   "execution_count": 32,
   "metadata": {},
   "outputs": [
    {
     "name": "stdout",
     "output_type": "stream",
     "text": [
      "        date  ordersPerDateA  revenuePerDateA  ordersPerDateB  \\\n",
      "0 2019-08-01              24           148579              21   \n",
      "1 2019-08-02              20            93822              24   \n",
      "2 2019-08-03              24           112473              16   \n",
      "3 2019-08-04              16            70825              17   \n",
      "4 2019-08-05              25           124218              23   \n",
      "\n",
      "   revenuePerDateB  ordersCummulativeA  revenueCummulativeA  \\\n",
      "0           101217                  24               148579   \n",
      "1           165531                  44               242401   \n",
      "2           114248                  68               354874   \n",
      "3           108571                  84               425699   \n",
      "4            92428                 109               549917   \n",
      "\n",
      "   ordersCummulativeB  revenueCummulativeB  visitorsPerDateA  \\\n",
      "0                  21               101217               719   \n",
      "1                  45               266748               619   \n",
      "2                  61               380996               507   \n",
      "3                  78               489567               717   \n",
      "4                 101               581995               756   \n",
      "\n",
      "   visitorsPerDateB  visitorsCummulativeA  visitorsCummulativeB  \n",
      "0               713                   719                   713  \n",
      "1               581                  1338                  1294  \n",
      "2               509                  1845                  1803  \n",
      "3               770                  2562                  2573  \n",
      "4               707                  3318                  3280  \n"
     ]
    }
   ],
   "source": [
    "# собираем всё вместе\n",
    "data = (\n",
    "    ordersADaily.merge(\n",
    "        ordersBDaily, left_on='date', right_on='date', how='left'\n",
    "    )\n",
    "    .merge(ordersACummulative, left_on='date', right_on='date', how='left')\n",
    "    .merge(ordersBCummulative, left_on='date', right_on='date', how='left')\n",
    "    .merge(visitorsADaily, left_on='date', right_on='date', how='left')\n",
    "    .merge(visitorsBDaily, left_on='date', right_on='date', how='left')\n",
    "    .merge(visitorsACummulative, left_on='date', right_on='date', how='left')\n",
    "    .merge(visitorsBCummulative, left_on='date', right_on='date', how='left')\n",
    ")\n",
    "\n",
    "print(data.head(5))"
   ]
  },
  {
   "cell_type": "code",
   "execution_count": 33,
   "metadata": {},
   "outputs": [],
   "source": [
    "# число заказов каждого пользователя в группе А\n",
    "ordersByUsersA = (\n",
    "    orders[orders['group'] == 'A']\n",
    "    .groupby('visitorId', as_index=False)\n",
    "    .agg({'transactionId': pd.Series.nunique})\n",
    ")\n",
    "ordersByUsersA.columns = ['user_id', 'orders']\n",
    "\n",
    "# число заказов каждого пользователя в группе В\n",
    "ordersByUsersB = (\n",
    "    orders[orders['group'] == 'B']\n",
    "    .groupby('visitorId', as_index=False)\n",
    "    .agg({'transactionId': pd.Series.nunique})\n",
    ")\n",
    "ordersByUsersB.columns = ['user_id', 'orders'] "
   ]
  },
  {
   "cell_type": "markdown",
   "metadata": {},
   "source": [
    "   \n",
    "Проверка гипотезы: Между группами нет различий в среднем количестве заказов;\n",
    "\n",
    "```\n",
    "H_0: Количество заказов в группе А = количество заказов в группе В`\n",
    "H_1: Количество заказов в группе А != количество заказов в группе В`\n",
    "alpha = 0.05\n",
    "```\n"
   ]
  },
  {
   "cell_type": "code",
   "execution_count": 34,
   "metadata": {},
   "outputs": [
    {
     "name": "stdout",
     "output_type": "stream",
     "text": [
      "p-value = 0.01679\n",
      "Относительный выигрыш группы B: 13.81%\n"
     ]
    }
   ],
   "source": [
    "sampleA = pd.concat(\n",
    "    [\n",
    "        ordersByUsersA['orders'],\n",
    "        pd.Series(\n",
    "            0,\n",
    "            index=np.arange(\n",
    "                data['visitorsPerDateA'].sum() - len(ordersByUsersA['orders'])\n",
    "            ),\n",
    "            name='orders',\n",
    "        ),\n",
    "    ],\n",
    "    axis=0,\n",
    ")\n",
    "\n",
    "sampleB = pd.concat(\n",
    "    [\n",
    "        ordersByUsersB['orders'],\n",
    "        pd.Series(\n",
    "            0,\n",
    "            index=np.arange(\n",
    "                data['visitorsPerDateB'].sum() - len(ordersByUsersB['orders'])\n",
    "            ),\n",
    "            name='orders',\n",
    "        ),\n",
    "    ],\n",
    "    axis=0,\n",
    ")\n",
    "\n",
    "print('p-value =', \"{0:.5f}\".format(stats.mannwhitneyu(sampleA, sampleB)[1]))\n",
    "\n",
    "print('Относительный выигрыш группы B:', \"{0:.2%}\".format((sampleB.mean() / sampleA.mean() - 1)))"
   ]
  },
  {
   "cell_type": "markdown",
   "metadata": {},
   "source": [
    "p-value меньше 0.05. Значит, нулевую гипотезу о том, что статистически значимых различий в среднем количестве заказов между группами нет, отвергаем.\n",
    "\n",
    "Вывод: По «сырым» данным различия в среднем количестве заказов групп A и B есть.\n",
    "\n",
    "Относительный выигрыш группы B равен 13.81%."
   ]
  },
  {
   "cell_type": "markdown",
   "metadata": {},
   "source": [
    "Проверка гипотезы: Средний чек между групами не отличается;\n",
    "\n",
    "```\n",
    "H_0: Средний чек в группе А = средний чек в группе В`\n",
    "H_1: Средний чек в группе А != средний чек в группе В`\n",
    "alpha = 0.05\n",
    "```\n"
   ]
  },
  {
   "cell_type": "code",
   "execution_count": 35,
   "metadata": {},
   "outputs": [
    {
     "name": "stdout",
     "output_type": "stream",
     "text": [
      "p-value = 0.729\n",
      "Относительный выигрыш группы B: 25.87%\n"
     ]
    }
   ],
   "source": [
    "print('p-value =', '{0:.3f}'.format(stats.mannwhitneyu(orders[orders['group']=='A']['revenue'], orders[orders['group']=='B']['revenue'])[1]))\n",
    "print('Относительный выигрыш группы B:', '{0:.2%}'.format(orders[orders['group']=='B']['revenue'].mean()/orders[orders['group']=='A']['revenue'].mean()-1))"
   ]
  },
  {
   "cell_type": "markdown",
   "metadata": {},
   "source": [
    "p-value больше 0.05. Значит, нулевую гипотезу о том, что статистически значимых различий в среднем чеке между группами нет, не отвергаем.\n",
    "\n",
    "Вывод: По «сырым» данным различий в среднем чеке заказа групп A и B нет.\n",
    "\n",
    "Относительный выигрыш группы B равен 25.87%."
   ]
  },
  {
   "cell_type": "code",
   "execution_count": 36,
   "metadata": {},
   "outputs": [
    {
     "name": "stdout",
     "output_type": "stream",
     "text": [
      "74\n"
     ]
    }
   ],
   "source": [
    "usersWithManyOrders = pd.concat(\n",
    "    [\n",
    "        ordersByUsersA[ordersByUsersA['orders'] > 2]['user_id'],\n",
    "        ordersByUsersB[ordersByUsersB['orders'] > 2]['user_id'],\n",
    "    ],\n",
    "    axis=0,\n",
    ")\n",
    "usersWithExpensiveOrders = orders[orders['revenue'] > 28000]['visitorId']\n",
    "abnormalUsers = (\n",
    "    pd.concat([usersWithManyOrders, usersWithExpensiveOrders], axis=0)\n",
    "    .drop_duplicates()\n",
    "    .sort_values()\n",
    ")\n",
    "\n",
    "print(abnormalUsers.shape[0])"
   ]
  },
  {
   "cell_type": "markdown",
   "metadata": {},
   "source": [
    "Проверка гипотезы: Нет различий между группами в среднем количестве заказов;\n",
    "\n",
    "```\n",
    "H_0: Количество заказов в группе А = количество заказов в группе В`\n",
    "H_1: Количество заказов в группе А != количество заказов в группе В`\n",
    "alpha = 0.05\n",
    "```\n"
   ]
  },
  {
   "cell_type": "code",
   "execution_count": 37,
   "metadata": {},
   "outputs": [
    {
     "name": "stdout",
     "output_type": "stream",
     "text": [
      "p-value = 0.013\n",
      "Относительный выигрыш группы B: 17.27%\n"
     ]
    }
   ],
   "source": [
    "sampleAFiltered = pd.concat(\n",
    "    [\n",
    "        ordersByUsersA[\n",
    "            np.logical_not(ordersByUsersA['user_id'].isin(abnormalUsers))\n",
    "        ]['orders'],\n",
    "        pd.Series(\n",
    "            0,\n",
    "            index=np.arange(\n",
    "                data['visitorsPerDateA'].sum() - len(ordersByUsersA['orders'])\n",
    "            ),\n",
    "            name='orders',\n",
    "        ),\n",
    "    ],\n",
    "    axis=0,\n",
    ")\n",
    "\n",
    "sampleBFiltered = pd.concat(\n",
    "    [\n",
    "        ordersByUsersB[\n",
    "            np.logical_not(ordersByUsersB['user_id'].isin(abnormalUsers))\n",
    "        ]['orders'],\n",
    "        pd.Series(\n",
    "            0,\n",
    "            index=np.arange(\n",
    "                data['visitorsPerDateB'].sum() - len(ordersByUsersB['orders'])\n",
    "            ),\n",
    "            name='orders',\n",
    "        ),\n",
    "    ],\n",
    "    axis=0,\n",
    ")\n",
    "\n",
    "print('p-value =', '{0:.3f}'.format(stats.mannwhitneyu(sampleAFiltered, sampleBFiltered)[1]))\n",
    "print('Относительный выигрыш группы B:', '{0:.2%}'.format(sampleBFiltered.mean()/sampleAFiltered.mean()-1))"
   ]
  },
  {
   "cell_type": "markdown",
   "metadata": {},
   "source": [
    "p-value меньше 0.05. Значит, нулевую гипотезу о том, что статистически значимых различий в среднем количестве заказов между группами нет, отвергаем.\n",
    "\n",
    "Вывод: По «очищенным» данным различия в среднем количестве заказов групп A и B есть.\n",
    "\n",
    "Относительный выигрыш группы B равен 17.27%.\n",
    "\n",
    "Благодаря чистке данных p-value ещё сильнее приблизился к 0, разница между сегментами увеличилась с 14% до 17%."
   ]
  },
  {
   "cell_type": "markdown",
   "metadata": {},
   "source": [
    "   \n",
    "Проверка гипотезы: Средний чек между групами не отличается;\n",
    "\n",
    "```\n",
    "H_0: Средний чек в группе А = средний чек в группе В`\n",
    "H_1: Средний чек в группе А != средний чек в группе В`\n",
    "alpha = 0.05\n",
    "```\n"
   ]
  },
  {
   "cell_type": "code",
   "execution_count": 38,
   "metadata": {},
   "outputs": [
    {
     "name": "stdout",
     "output_type": "stream",
     "text": [
      "p-value = 0.738\n",
      "Относительный проигрыш группы B: -1.96%\n"
     ]
    }
   ],
   "source": [
    "print(\n",
    "    'p-value =', '{0:.3f}'.format(\n",
    "        stats.mannwhitneyu(\n",
    "            orders[\n",
    "                np.logical_and(\n",
    "                    orders['group'] == 'A',\n",
    "                    np.logical_not(orders['visitorId'].isin(abnormalUsers)),\n",
    "                )\n",
    "            ]['revenue'],\n",
    "            orders[\n",
    "                np.logical_and(\n",
    "                    orders['group'] == 'B',\n",
    "                    np.logical_not(orders['visitorId'].isin(abnormalUsers)),\n",
    "                )\n",
    "            ]['revenue'],\n",
    "        )[1]\n",
    "    )\n",
    ")\n",
    "\n",
    "print(\n",
    "    'Относительный проигрыш группы B:', \"{0:.2%}\".format(\n",
    "        orders[\n",
    "            np.logical_and(\n",
    "                orders['group'] == 'B',\n",
    "                np.logical_not(orders['visitorId'].isin(abnormalUsers)),\n",
    "            )\n",
    "        ]['revenue'].mean()\n",
    "        / orders[\n",
    "            np.logical_and(\n",
    "                orders['group'] == 'A',\n",
    "                np.logical_not(orders['visitorId'].isin(abnormalUsers)),\n",
    "            )\n",
    "        ]['revenue'].mean()\n",
    "        - 1\n",
    "    )\n",
    ")"
   ]
  },
  {
   "cell_type": "markdown",
   "metadata": {},
   "source": [
    "p-value больше 0.05. Значит, нулевую гипотезу о том, что статистически значимых различий в среднем количестве заказов между группами нет, не отвергаем.\n",
    "\n",
    "Вывод: По «очищенным» данным различий в среднем чеке заказа групп A и B нет.\n",
    "\n",
    "Относительный проигрыш группы B равен 1.96%.\n",
    "\n",
    "Благодаря чистке данных p-value увеличился, разница между сегментами уменьшилась с 26% в пользу группы В до 2% в пользу группы А."
   ]
  },
  {
   "cell_type": "markdown",
   "metadata": {},
   "source": [
    "## Этап 4. Решение по результатам теста"
   ]
  },
  {
   "cell_type": "markdown",
   "metadata": {},
   "source": [
    "Имеющиеся факты:\n",
    "\n",
    " * Есть статистически значимое различие по среднему количеству заказов между группами; \n",
    " * Нет статистически значимого различия по среднему чеку между группами;\n",
    " * График различия конверсии между группами сообщает, что результаты группы B лучше группы A, и, несмотря на некоторое ухудшение, в последние дни наблюдается тендеция к улучшению;\n",
    " * График различия среднего чека не показателен из-за невероятно аномального заказа, ему требуется больше времени, чтобы зафиксироваться на уровне реального различия.\n",
    "\n",
    "То-есть сделав некоторое изменение (проверяемая гипотеза, к сожалению, не указана) нам удалось увеличить количество заказов (конверсию в покупку) для группы В. Однако это не повлияло на средний чек.\n",
    "\n",
    "Исходя из обнаруженных фактов,  тест следует остановить и:\n",
    " * признать его успешным, если целью было увеличить конверсию. Продолжать смысла нет, группа В сильно опережает группу А и отрывается всё дальше.\n",
    " * признать его неуспешным, если целью было увеличить средний чек. Продолжать смысла нет, группа выигрывала исключительно за счёт невероятно аномального заказа, а в целом почти на всём периоде наблюдений для неё наблюдается ухудшение."
   ]
  }
 ],
 "metadata": {
  "ExecuteTimeLog": [
   {
    "duration": 425,
    "start_time": "2022-11-18T07:41:11.079Z"
   },
   {
    "duration": 430,
    "start_time": "2022-11-18T07:42:24.518Z"
   },
   {
    "duration": 3,
    "start_time": "2022-11-18T07:43:13.877Z"
   },
   {
    "duration": 56,
    "start_time": "2022-11-18T07:45:17.878Z"
   },
   {
    "duration": 15,
    "start_time": "2022-11-18T07:45:20.872Z"
   },
   {
    "duration": 6,
    "start_time": "2022-11-18T07:48:22.794Z"
   },
   {
    "duration": 9,
    "start_time": "2022-11-18T07:48:26.208Z"
   },
   {
    "duration": 11,
    "start_time": "2022-11-18T07:48:48.769Z"
   },
   {
    "duration": 5,
    "start_time": "2022-11-18T07:50:07.297Z"
   },
   {
    "duration": 12,
    "start_time": "2022-11-18T07:50:15.849Z"
   },
   {
    "duration": 21,
    "start_time": "2022-11-18T07:57:48.148Z"
   },
   {
    "duration": 88,
    "start_time": "2022-11-18T07:57:53.181Z"
   },
   {
    "duration": 9,
    "start_time": "2022-11-18T07:58:20.051Z"
   },
   {
    "duration": 8,
    "start_time": "2022-11-18T07:58:29.157Z"
   },
   {
    "duration": 8,
    "start_time": "2022-11-18T07:58:39.013Z"
   },
   {
    "duration": 13,
    "start_time": "2022-11-18T07:58:58.269Z"
   },
   {
    "duration": 3,
    "start_time": "2022-11-18T08:01:14.006Z"
   },
   {
    "duration": 8,
    "start_time": "2022-11-18T08:01:17.078Z"
   },
   {
    "duration": 4,
    "start_time": "2022-11-18T08:01:36.542Z"
   },
   {
    "duration": 11,
    "start_time": "2022-11-18T08:01:37.238Z"
   },
   {
    "duration": 4,
    "start_time": "2022-11-18T08:01:48.102Z"
   },
   {
    "duration": 9,
    "start_time": "2022-11-18T08:01:48.622Z"
   },
   {
    "duration": 4,
    "start_time": "2022-11-18T08:01:49.173Z"
   },
   {
    "duration": 10,
    "start_time": "2022-11-18T08:01:50.086Z"
   },
   {
    "duration": 149,
    "start_time": "2022-11-18T12:17:41.074Z"
   },
   {
    "duration": 13,
    "start_time": "2022-11-18T12:17:44.082Z"
   },
   {
    "duration": 8,
    "start_time": "2022-11-18T12:17:48.714Z"
   },
   {
    "duration": 11,
    "start_time": "2022-11-18T12:17:57.466Z"
   },
   {
    "duration": 3,
    "start_time": "2022-11-18T12:28:37.672Z"
   },
   {
    "duration": 22,
    "start_time": "2022-11-18T12:29:41.777Z"
   },
   {
    "duration": 20,
    "start_time": "2022-11-18T12:30:07.984Z"
   },
   {
    "duration": 287,
    "start_time": "2022-11-18T12:30:16.489Z"
   },
   {
    "duration": 63,
    "start_time": "2022-11-18T12:30:26.936Z"
   },
   {
    "duration": 26,
    "start_time": "2022-11-18T12:30:28.134Z"
   },
   {
    "duration": 12,
    "start_time": "2022-11-18T12:30:29.431Z"
   },
   {
    "duration": 280,
    "start_time": "2022-11-18T12:30:55.592Z"
   },
   {
    "duration": 4,
    "start_time": "2022-11-18T12:31:30.962Z"
   },
   {
    "duration": 28,
    "start_time": "2022-11-18T12:33:40.643Z"
   },
   {
    "duration": 305,
    "start_time": "2022-11-18T12:34:44.908Z"
   },
   {
    "duration": 442,
    "start_time": "2022-11-18T12:47:54.024Z"
   },
   {
    "duration": 242,
    "start_time": "2022-11-18T12:48:11.774Z"
   },
   {
    "duration": 177,
    "start_time": "2022-11-18T12:49:00.034Z"
   },
   {
    "duration": 332,
    "start_time": "2022-11-18T12:49:34.794Z"
   },
   {
    "duration": 170,
    "start_time": "2022-11-18T12:54:59.486Z"
   },
   {
    "duration": 217,
    "start_time": "2022-11-18T12:58:07.934Z"
   },
   {
    "duration": 172,
    "start_time": "2022-11-18T12:58:21.767Z"
   },
   {
    "duration": 325,
    "start_time": "2022-11-18T13:00:28.102Z"
   },
   {
    "duration": 274,
    "start_time": "2022-11-18T13:00:38.345Z"
   },
   {
    "duration": 190,
    "start_time": "2022-11-18T16:17:16.300Z"
   },
   {
    "duration": 137,
    "start_time": "2022-11-18T16:19:17.277Z"
   },
   {
    "duration": 5,
    "start_time": "2022-11-18T16:20:29.757Z"
   },
   {
    "duration": 5,
    "start_time": "2022-11-18T16:20:36.925Z"
   },
   {
    "duration": 123,
    "start_time": "2022-11-18T16:21:48.645Z"
   },
   {
    "duration": 123,
    "start_time": "2022-11-18T16:21:56.173Z"
   },
   {
    "duration": 118,
    "start_time": "2022-11-18T16:24:19.959Z"
   },
   {
    "duration": 15,
    "start_time": "2022-11-18T16:27:00.032Z"
   },
   {
    "duration": 98,
    "start_time": "2022-11-18T16:27:43.121Z"
   },
   {
    "duration": 3,
    "start_time": "2022-11-18T16:28:06.642Z"
   },
   {
    "duration": 164,
    "start_time": "2022-11-18T16:47:35.186Z"
   },
   {
    "duration": 297,
    "start_time": "2022-11-18T16:47:45.817Z"
   },
   {
    "duration": 153,
    "start_time": "2022-11-18T16:47:51.314Z"
   },
   {
    "duration": 109,
    "start_time": "2022-11-18T16:48:11.506Z"
   },
   {
    "duration": 111,
    "start_time": "2022-11-18T16:48:19.298Z"
   },
   {
    "duration": 326,
    "start_time": "2022-11-18T16:48:42.899Z"
   },
   {
    "duration": 287,
    "start_time": "2022-11-18T16:48:49.098Z"
   },
   {
    "duration": 362,
    "start_time": "2022-11-18T16:48:56.811Z"
   },
   {
    "duration": 167,
    "start_time": "2022-11-18T16:49:00.867Z"
   },
   {
    "duration": 181,
    "start_time": "2022-11-18T16:49:06.035Z"
   },
   {
    "duration": 1129,
    "start_time": "2022-11-19T00:11:08.448Z"
   },
   {
    "duration": 142,
    "start_time": "2022-11-19T00:11:09.580Z"
   },
   {
    "duration": 3,
    "start_time": "2022-11-19T00:11:09.723Z"
   },
   {
    "duration": 19,
    "start_time": "2022-11-19T00:11:09.728Z"
   },
   {
    "duration": 6,
    "start_time": "2022-11-19T00:11:09.749Z"
   },
   {
    "duration": 12,
    "start_time": "2022-11-19T00:11:09.757Z"
   },
   {
    "duration": 6,
    "start_time": "2022-11-19T00:11:09.770Z"
   },
   {
    "duration": 13,
    "start_time": "2022-11-19T00:11:09.778Z"
   },
   {
    "duration": 140,
    "start_time": "2022-11-19T00:11:09.792Z"
   },
   {
    "duration": 13,
    "start_time": "2022-11-19T00:11:09.935Z"
   },
   {
    "duration": 15,
    "start_time": "2022-11-19T00:11:09.949Z"
   },
   {
    "duration": 12,
    "start_time": "2022-11-19T00:11:09.965Z"
   },
   {
    "duration": 5,
    "start_time": "2022-11-19T00:11:09.979Z"
   },
   {
    "duration": 289,
    "start_time": "2022-11-19T00:11:09.986Z"
   },
   {
    "duration": 250,
    "start_time": "2022-11-19T00:11:10.276Z"
   },
   {
    "duration": 162,
    "start_time": "2022-11-19T00:11:10.527Z"
   },
   {
    "duration": 338,
    "start_time": "2022-11-19T00:11:10.691Z"
   },
   {
    "duration": 173,
    "start_time": "2022-11-19T00:11:11.030Z"
   },
   {
    "duration": 324,
    "start_time": "2022-11-19T00:11:11.204Z"
   },
   {
    "duration": 118,
    "start_time": "2022-11-19T00:11:11.530Z"
   },
   {
    "duration": 4,
    "start_time": "2022-11-19T00:11:11.649Z"
   },
   {
    "duration": 130,
    "start_time": "2022-11-19T00:11:11.654Z"
   },
   {
    "duration": 4,
    "start_time": "2022-11-19T00:11:11.785Z"
   },
   {
    "duration": 12,
    "start_time": "2022-11-19T00:14:47.976Z"
   },
   {
    "duration": 123,
    "start_time": "2022-11-19T00:18:43.002Z"
   },
   {
    "duration": 770,
    "start_time": "2022-11-19T00:18:50.177Z"
   },
   {
    "duration": 9,
    "start_time": "2022-11-19T00:18:59.786Z"
   },
   {
    "duration": 10,
    "start_time": "2022-11-19T00:23:00.699Z"
   },
   {
    "duration": 13,
    "start_time": "2022-11-19T00:23:22.562Z"
   },
   {
    "duration": 199,
    "start_time": "2022-11-19T00:24:23.364Z"
   },
   {
    "duration": 114,
    "start_time": "2022-11-19T00:24:31.796Z"
   },
   {
    "duration": 7,
    "start_time": "2022-11-19T00:24:35.652Z"
   },
   {
    "duration": 12,
    "start_time": "2022-11-19T00:24:51.684Z"
   },
   {
    "duration": 2,
    "start_time": "2022-11-19T00:25:17.485Z"
   },
   {
    "duration": 27,
    "start_time": "2022-11-19T00:25:21.196Z"
   },
   {
    "duration": 27,
    "start_time": "2022-11-19T00:26:12.541Z"
   },
   {
    "duration": 8,
    "start_time": "2022-11-19T00:27:24.422Z"
   },
   {
    "duration": 9,
    "start_time": "2022-11-19T00:27:33.037Z"
   },
   {
    "duration": 761,
    "start_time": "2022-11-19T00:30:45.039Z"
   },
   {
    "duration": 7,
    "start_time": "2022-11-19T00:31:09.341Z"
   },
   {
    "duration": 751,
    "start_time": "2022-11-19T00:31:52.142Z"
   },
   {
    "duration": 27,
    "start_time": "2022-11-19T00:32:07.926Z"
   },
   {
    "duration": 26,
    "start_time": "2022-11-19T00:32:17.847Z"
   },
   {
    "duration": 12,
    "start_time": "2022-11-19T00:33:15.024Z"
   },
   {
    "duration": 13,
    "start_time": "2022-11-19T00:33:33.455Z"
   },
   {
    "duration": 1114,
    "start_time": "2022-11-19T18:23:48.631Z"
   },
   {
    "duration": 117,
    "start_time": "2022-11-19T18:23:49.747Z"
   },
   {
    "duration": 3,
    "start_time": "2022-11-19T18:23:49.865Z"
   },
   {
    "duration": 12,
    "start_time": "2022-11-19T18:23:49.870Z"
   },
   {
    "duration": 4,
    "start_time": "2022-11-19T18:23:49.884Z"
   },
   {
    "duration": 13,
    "start_time": "2022-11-19T18:23:49.889Z"
   },
   {
    "duration": 16,
    "start_time": "2022-11-19T18:23:49.904Z"
   },
   {
    "duration": 18,
    "start_time": "2022-11-19T18:23:49.922Z"
   },
   {
    "duration": 139,
    "start_time": "2022-11-19T18:23:49.942Z"
   },
   {
    "duration": 11,
    "start_time": "2022-11-19T18:23:50.084Z"
   },
   {
    "duration": 24,
    "start_time": "2022-11-19T18:23:50.096Z"
   },
   {
    "duration": 18,
    "start_time": "2022-11-19T18:23:50.121Z"
   },
   {
    "duration": 13,
    "start_time": "2022-11-19T18:23:50.140Z"
   },
   {
    "duration": 314,
    "start_time": "2022-11-19T18:23:50.154Z"
   },
   {
    "duration": 256,
    "start_time": "2022-11-19T18:23:50.470Z"
   },
   {
    "duration": 185,
    "start_time": "2022-11-19T18:23:50.728Z"
   },
   {
    "duration": 337,
    "start_time": "2022-11-19T18:23:50.915Z"
   },
   {
    "duration": 198,
    "start_time": "2022-11-19T18:23:51.254Z"
   },
   {
    "duration": 322,
    "start_time": "2022-11-19T18:23:51.454Z"
   },
   {
    "duration": 120,
    "start_time": "2022-11-19T18:23:51.778Z"
   },
   {
    "duration": 4,
    "start_time": "2022-11-19T18:23:51.900Z"
   },
   {
    "duration": 135,
    "start_time": "2022-11-19T18:23:51.905Z"
   },
   {
    "duration": 4,
    "start_time": "2022-11-19T18:23:52.042Z"
   },
   {
    "duration": 241,
    "start_time": "2022-11-19T18:23:52.047Z"
   },
   {
    "duration": 154,
    "start_time": "2022-11-19T18:23:52.295Z"
   },
   {
    "duration": 25,
    "start_time": "2022-11-19T18:23:52.450Z"
   },
   {
    "duration": 23,
    "start_time": "2022-11-19T18:23:52.476Z"
   },
   {
    "duration": 8,
    "start_time": "2022-11-19T18:23:52.502Z"
   },
   {
    "duration": 28,
    "start_time": "2022-11-19T18:23:52.511Z"
   },
   {
    "duration": 13,
    "start_time": "2022-11-19T18:23:52.541Z"
   },
   {
    "duration": 95,
    "start_time": "2022-11-19T18:44:40.009Z"
   },
   {
    "duration": 27,
    "start_time": "2022-11-19T18:44:44.745Z"
   },
   {
    "duration": 17,
    "start_time": "2022-11-19T18:44:50.619Z"
   },
   {
    "duration": 4,
    "start_time": "2022-11-19T18:45:45.109Z"
   },
   {
    "duration": 47,
    "start_time": "2022-11-19T18:48:21.003Z"
   },
   {
    "duration": 10,
    "start_time": "2022-11-19T18:48:31.098Z"
   },
   {
    "duration": 94,
    "start_time": "2022-11-19T18:48:41.563Z"
   },
   {
    "duration": 9,
    "start_time": "2022-11-19T18:48:52.555Z"
   },
   {
    "duration": 12,
    "start_time": "2022-11-19T18:51:09.427Z"
   },
   {
    "duration": 10,
    "start_time": "2022-11-19T18:52:24.181Z"
   },
   {
    "duration": 725,
    "start_time": "2022-11-19T18:52:40.806Z"
   },
   {
    "duration": 10,
    "start_time": "2022-11-19T18:54:25.646Z"
   },
   {
    "duration": 14,
    "start_time": "2022-11-19T18:54:30.717Z"
   },
   {
    "duration": 12,
    "start_time": "2022-11-19T18:55:14.973Z"
   },
   {
    "duration": 49,
    "start_time": "2022-11-19T18:55:50.190Z"
   },
   {
    "duration": 10,
    "start_time": "2022-11-19T18:56:36.063Z"
   },
   {
    "duration": 8,
    "start_time": "2022-11-19T18:56:38.189Z"
   },
   {
    "duration": 10,
    "start_time": "2022-11-19T18:56:42.894Z"
   },
   {
    "duration": 17,
    "start_time": "2022-11-19T18:56:57.526Z"
   },
   {
    "duration": 5,
    "start_time": "2022-11-19T18:57:56.882Z"
   },
   {
    "duration": 14,
    "start_time": "2022-11-19T18:58:00.743Z"
   },
   {
    "duration": 9,
    "start_time": "2022-11-19T18:58:20.655Z"
   },
   {
    "duration": 1031,
    "start_time": "2022-11-19T18:58:29.684Z"
   },
   {
    "duration": 83,
    "start_time": "2022-11-19T18:58:30.718Z"
   },
   {
    "duration": 3,
    "start_time": "2022-11-19T18:58:30.803Z"
   },
   {
    "duration": 18,
    "start_time": "2022-11-19T18:58:30.808Z"
   },
   {
    "duration": 20,
    "start_time": "2022-11-19T18:58:30.828Z"
   },
   {
    "duration": 21,
    "start_time": "2022-11-19T18:58:30.849Z"
   },
   {
    "duration": 29,
    "start_time": "2022-11-19T18:58:30.872Z"
   },
   {
    "duration": 16,
    "start_time": "2022-11-19T18:58:30.902Z"
   },
   {
    "duration": 62,
    "start_time": "2022-11-19T18:58:30.920Z"
   },
   {
    "duration": 13,
    "start_time": "2022-11-19T18:58:30.985Z"
   },
   {
    "duration": 22,
    "start_time": "2022-11-19T18:58:30.999Z"
   },
   {
    "duration": 18,
    "start_time": "2022-11-19T18:58:31.023Z"
   },
   {
    "duration": 16,
    "start_time": "2022-11-19T18:58:31.043Z"
   },
   {
    "duration": 17,
    "start_time": "2022-11-19T18:58:31.061Z"
   },
   {
    "duration": 15,
    "start_time": "2022-11-19T18:58:31.079Z"
   },
   {
    "duration": 25,
    "start_time": "2022-11-19T18:58:31.095Z"
   },
   {
    "duration": 301,
    "start_time": "2022-11-19T18:58:31.121Z"
   },
   {
    "duration": 263,
    "start_time": "2022-11-19T18:58:31.423Z"
   },
   {
    "duration": 188,
    "start_time": "2022-11-19T18:58:31.688Z"
   },
   {
    "duration": 278,
    "start_time": "2022-11-19T18:58:31.877Z"
   },
   {
    "duration": 199,
    "start_time": "2022-11-19T18:58:32.157Z"
   },
   {
    "duration": 339,
    "start_time": "2022-11-19T18:58:32.357Z"
   },
   {
    "duration": 116,
    "start_time": "2022-11-19T18:58:32.698Z"
   },
   {
    "duration": 4,
    "start_time": "2022-11-19T18:58:32.816Z"
   },
   {
    "duration": 129,
    "start_time": "2022-11-19T18:58:32.822Z"
   },
   {
    "duration": 4,
    "start_time": "2022-11-19T18:58:32.952Z"
   },
   {
    "duration": 222,
    "start_time": "2022-11-19T18:58:32.958Z"
   },
   {
    "duration": 146,
    "start_time": "2022-11-19T18:58:33.183Z"
   },
   {
    "duration": 26,
    "start_time": "2022-11-19T18:58:33.330Z"
   },
   {
    "duration": 11,
    "start_time": "2022-11-19T18:58:33.357Z"
   },
   {
    "duration": 30,
    "start_time": "2022-11-19T18:58:33.370Z"
   },
   {
    "duration": 26,
    "start_time": "2022-11-19T18:58:33.402Z"
   },
   {
    "duration": 14,
    "start_time": "2022-11-19T18:58:33.430Z"
   },
   {
    "duration": 50,
    "start_time": "2022-11-19T19:43:59.267Z"
   },
   {
    "duration": 94,
    "start_time": "2022-11-19T19:44:46.732Z"
   },
   {
    "duration": 128,
    "start_time": "2022-11-19T19:44:50.243Z"
   },
   {
    "duration": 120,
    "start_time": "2022-11-19T19:44:56.812Z"
   },
   {
    "duration": 181,
    "start_time": "2022-11-19T19:45:09.245Z"
   },
   {
    "duration": 9,
    "start_time": "2022-11-19T19:50:20.366Z"
   },
   {
    "duration": 10,
    "start_time": "2022-11-19T19:50:42.302Z"
   },
   {
    "duration": 7,
    "start_time": "2022-11-19T19:50:52.857Z"
   },
   {
    "duration": 995,
    "start_time": "2022-11-19T19:58:08.817Z"
   },
   {
    "duration": 79,
    "start_time": "2022-11-19T19:58:09.815Z"
   },
   {
    "duration": 5,
    "start_time": "2022-11-19T19:58:09.896Z"
   },
   {
    "duration": 22,
    "start_time": "2022-11-19T19:58:09.903Z"
   },
   {
    "duration": 7,
    "start_time": "2022-11-19T19:58:09.927Z"
   },
   {
    "duration": 17,
    "start_time": "2022-11-19T19:58:09.936Z"
   },
   {
    "duration": 9,
    "start_time": "2022-11-19T19:58:09.955Z"
   },
   {
    "duration": 15,
    "start_time": "2022-11-19T19:58:09.965Z"
   },
   {
    "duration": 63,
    "start_time": "2022-11-19T19:58:09.982Z"
   },
   {
    "duration": 16,
    "start_time": "2022-11-19T19:58:10.049Z"
   },
   {
    "duration": 16,
    "start_time": "2022-11-19T19:58:10.067Z"
   },
   {
    "duration": 16,
    "start_time": "2022-11-19T19:58:10.085Z"
   },
   {
    "duration": 15,
    "start_time": "2022-11-19T19:58:10.102Z"
   },
   {
    "duration": 14,
    "start_time": "2022-11-19T19:58:10.118Z"
   },
   {
    "duration": 13,
    "start_time": "2022-11-19T19:58:10.133Z"
   },
   {
    "duration": 14,
    "start_time": "2022-11-19T19:58:10.148Z"
   },
   {
    "duration": 334,
    "start_time": "2022-11-19T19:58:10.164Z"
   },
   {
    "duration": 257,
    "start_time": "2022-11-19T19:58:10.500Z"
   },
   {
    "duration": 186,
    "start_time": "2022-11-19T19:58:10.759Z"
   },
   {
    "duration": 350,
    "start_time": "2022-11-19T19:58:10.946Z"
   },
   {
    "duration": 203,
    "start_time": "2022-11-19T19:58:11.299Z"
   },
   {
    "duration": 322,
    "start_time": "2022-11-19T19:58:11.504Z"
   },
   {
    "duration": 125,
    "start_time": "2022-11-19T19:58:11.827Z"
   },
   {
    "duration": 5,
    "start_time": "2022-11-19T19:58:11.954Z"
   },
   {
    "duration": 157,
    "start_time": "2022-11-19T19:58:11.961Z"
   },
   {
    "duration": 7,
    "start_time": "2022-11-19T19:58:12.123Z"
   },
   {
    "duration": 245,
    "start_time": "2022-11-19T19:58:12.132Z"
   },
   {
    "duration": 159,
    "start_time": "2022-11-19T19:58:12.380Z"
   },
   {
    "duration": 28,
    "start_time": "2022-11-19T19:58:12.540Z"
   },
   {
    "duration": 34,
    "start_time": "2022-11-19T19:58:12.570Z"
   },
   {
    "duration": 8,
    "start_time": "2022-11-19T19:58:12.606Z"
   },
   {
    "duration": 43,
    "start_time": "2022-11-19T19:58:12.615Z"
   },
   {
    "duration": 42,
    "start_time": "2022-11-19T19:58:12.661Z"
   },
   {
    "duration": 138,
    "start_time": "2022-11-19T19:59:17.796Z"
   },
   {
    "duration": 122,
    "start_time": "2022-11-19T20:00:04.667Z"
   },
   {
    "duration": 10,
    "start_time": "2022-11-19T20:02:06.804Z"
   },
   {
    "duration": 8,
    "start_time": "2022-11-19T20:02:53.272Z"
   },
   {
    "duration": 9,
    "start_time": "2022-11-19T20:04:59.933Z"
   },
   {
    "duration": 119,
    "start_time": "2022-11-19T20:08:50.507Z"
   },
   {
    "duration": 1082,
    "start_time": "2022-11-19T20:08:55.174Z"
   },
   {
    "duration": 80,
    "start_time": "2022-11-19T20:08:56.258Z"
   },
   {
    "duration": 3,
    "start_time": "2022-11-19T20:08:56.340Z"
   },
   {
    "duration": 13,
    "start_time": "2022-11-19T20:08:56.345Z"
   },
   {
    "duration": 5,
    "start_time": "2022-11-19T20:08:56.359Z"
   },
   {
    "duration": 11,
    "start_time": "2022-11-19T20:08:56.366Z"
   },
   {
    "duration": 20,
    "start_time": "2022-11-19T20:08:56.379Z"
   },
   {
    "duration": 14,
    "start_time": "2022-11-19T20:08:56.401Z"
   },
   {
    "duration": 51,
    "start_time": "2022-11-19T20:08:56.417Z"
   },
   {
    "duration": 11,
    "start_time": "2022-11-19T20:08:56.472Z"
   },
   {
    "duration": 13,
    "start_time": "2022-11-19T20:08:56.485Z"
   },
   {
    "duration": 12,
    "start_time": "2022-11-19T20:08:56.500Z"
   },
   {
    "duration": 5,
    "start_time": "2022-11-19T20:08:56.514Z"
   },
   {
    "duration": 16,
    "start_time": "2022-11-19T20:08:56.521Z"
   },
   {
    "duration": 11,
    "start_time": "2022-11-19T20:08:56.539Z"
   },
   {
    "duration": 13,
    "start_time": "2022-11-19T20:08:56.551Z"
   },
   {
    "duration": 308,
    "start_time": "2022-11-19T20:08:56.565Z"
   },
   {
    "duration": 249,
    "start_time": "2022-11-19T20:08:56.875Z"
   },
   {
    "duration": 184,
    "start_time": "2022-11-19T20:08:57.125Z"
   },
   {
    "duration": 260,
    "start_time": "2022-11-19T20:08:57.311Z"
   },
   {
    "duration": 200,
    "start_time": "2022-11-19T20:08:57.572Z"
   },
   {
    "duration": 336,
    "start_time": "2022-11-19T20:08:57.774Z"
   },
   {
    "duration": 129,
    "start_time": "2022-11-19T20:08:58.111Z"
   },
   {
    "duration": 5,
    "start_time": "2022-11-19T20:08:58.242Z"
   },
   {
    "duration": 133,
    "start_time": "2022-11-19T20:08:58.248Z"
   },
   {
    "duration": 130,
    "start_time": "2022-11-19T20:08:58.382Z"
   },
   {
    "duration": 5,
    "start_time": "2022-11-19T20:08:58.513Z"
   },
   {
    "duration": 47,
    "start_time": "2022-11-19T20:08:58.521Z"
   },
   {
    "duration": 67,
    "start_time": "2022-11-19T20:08:58.570Z"
   },
   {
    "duration": 61,
    "start_time": "2022-11-19T20:08:58.638Z"
   },
   {
    "duration": 57,
    "start_time": "2022-11-19T20:08:58.700Z"
   },
   {
    "duration": 43,
    "start_time": "2022-11-19T20:08:58.759Z"
   },
   {
    "duration": 137,
    "start_time": "2022-11-19T20:08:58.803Z"
   },
   {
    "duration": 24,
    "start_time": "2022-11-19T20:08:58.942Z"
   },
   {
    "duration": 28,
    "start_time": "2022-11-19T20:08:58.968Z"
   },
   {
    "duration": 8,
    "start_time": "2022-11-19T20:08:58.998Z"
   },
   {
    "duration": 26,
    "start_time": "2022-11-19T20:08:59.008Z"
   },
   {
    "duration": 14,
    "start_time": "2022-11-19T20:08:59.035Z"
   },
   {
    "duration": 8,
    "start_time": "2022-11-19T20:14:46.276Z"
   },
   {
    "duration": 1010,
    "start_time": "2022-11-19T20:17:34.090Z"
   },
   {
    "duration": 92,
    "start_time": "2022-11-19T20:17:35.102Z"
   },
   {
    "duration": 4,
    "start_time": "2022-11-19T20:17:35.196Z"
   },
   {
    "duration": 21,
    "start_time": "2022-11-19T20:17:35.201Z"
   },
   {
    "duration": 5,
    "start_time": "2022-11-19T20:17:35.224Z"
   },
   {
    "duration": 14,
    "start_time": "2022-11-19T20:17:35.230Z"
   },
   {
    "duration": 5,
    "start_time": "2022-11-19T20:17:35.245Z"
   },
   {
    "duration": 13,
    "start_time": "2022-11-19T20:17:35.252Z"
   },
   {
    "duration": 53,
    "start_time": "2022-11-19T20:17:35.267Z"
   },
   {
    "duration": 12,
    "start_time": "2022-11-19T20:17:35.321Z"
   },
   {
    "duration": 18,
    "start_time": "2022-11-19T20:17:35.335Z"
   },
   {
    "duration": 12,
    "start_time": "2022-11-19T20:17:35.355Z"
   },
   {
    "duration": 8,
    "start_time": "2022-11-19T20:17:35.368Z"
   },
   {
    "duration": 10,
    "start_time": "2022-11-19T20:17:35.380Z"
   },
   {
    "duration": 11,
    "start_time": "2022-11-19T20:17:35.392Z"
   },
   {
    "duration": 11,
    "start_time": "2022-11-19T20:17:35.405Z"
   },
   {
    "duration": 303,
    "start_time": "2022-11-19T20:17:35.418Z"
   },
   {
    "duration": 286,
    "start_time": "2022-11-19T20:17:35.723Z"
   },
   {
    "duration": 187,
    "start_time": "2022-11-19T20:17:36.011Z"
   },
   {
    "duration": 266,
    "start_time": "2022-11-19T20:17:36.200Z"
   },
   {
    "duration": 200,
    "start_time": "2022-11-19T20:17:36.467Z"
   },
   {
    "duration": 314,
    "start_time": "2022-11-19T20:17:36.668Z"
   },
   {
    "duration": 114,
    "start_time": "2022-11-19T20:17:36.984Z"
   },
   {
    "duration": 4,
    "start_time": "2022-11-19T20:17:37.099Z"
   },
   {
    "duration": 132,
    "start_time": "2022-11-19T20:17:37.105Z"
   },
   {
    "duration": 128,
    "start_time": "2022-11-19T20:17:37.239Z"
   },
   {
    "duration": 4,
    "start_time": "2022-11-19T20:17:37.369Z"
   },
   {
    "duration": 55,
    "start_time": "2022-11-19T20:17:37.375Z"
   },
   {
    "duration": 47,
    "start_time": "2022-11-19T20:17:37.432Z"
   },
   {
    "duration": 62,
    "start_time": "2022-11-19T20:17:37.480Z"
   },
   {
    "duration": 63,
    "start_time": "2022-11-19T20:17:37.544Z"
   },
   {
    "duration": 21,
    "start_time": "2022-11-19T20:17:37.609Z"
   },
   {
    "duration": 136,
    "start_time": "2022-11-19T20:17:37.632Z"
   },
   {
    "duration": 32,
    "start_time": "2022-11-19T20:17:37.770Z"
   },
   {
    "duration": 9,
    "start_time": "2022-11-19T20:17:37.803Z"
   },
   {
    "duration": 7,
    "start_time": "2022-11-19T20:17:37.814Z"
   },
   {
    "duration": 25,
    "start_time": "2022-11-19T20:17:37.823Z"
   },
   {
    "duration": 12,
    "start_time": "2022-11-19T20:17:37.850Z"
   },
   {
    "duration": 21,
    "start_time": "2022-11-19T20:20:19.541Z"
   },
   {
    "duration": 24,
    "start_time": "2022-11-19T20:20:45.478Z"
   },
   {
    "duration": 115,
    "start_time": "2022-11-19T20:20:54.872Z"
   },
   {
    "duration": 28,
    "start_time": "2022-11-19T20:20:58.576Z"
   },
   {
    "duration": 24,
    "start_time": "2022-11-19T20:21:02.806Z"
   },
   {
    "duration": 53,
    "start_time": "2022-11-19T20:21:15.621Z"
   },
   {
    "duration": 23,
    "start_time": "2022-11-19T20:22:47.579Z"
   },
   {
    "duration": 23,
    "start_time": "2022-11-19T20:22:51.768Z"
   },
   {
    "duration": 24,
    "start_time": "2022-11-19T20:22:58.177Z"
   },
   {
    "duration": 10,
    "start_time": "2022-11-19T20:23:05.406Z"
   },
   {
    "duration": 15,
    "start_time": "2022-11-19T20:23:26.703Z"
   },
   {
    "duration": 25,
    "start_time": "2022-11-19T20:23:34.671Z"
   },
   {
    "duration": 24,
    "start_time": "2022-11-19T20:24:45.568Z"
   },
   {
    "duration": 14,
    "start_time": "2022-11-19T20:24:58.880Z"
   },
   {
    "duration": 1031,
    "start_time": "2022-11-19T20:25:19.157Z"
   },
   {
    "duration": 83,
    "start_time": "2022-11-19T20:25:20.190Z"
   },
   {
    "duration": 3,
    "start_time": "2022-11-19T20:25:20.275Z"
   },
   {
    "duration": 15,
    "start_time": "2022-11-19T20:25:20.280Z"
   },
   {
    "duration": 8,
    "start_time": "2022-11-19T20:25:20.297Z"
   },
   {
    "duration": 14,
    "start_time": "2022-11-19T20:25:20.307Z"
   },
   {
    "duration": 14,
    "start_time": "2022-11-19T20:25:20.322Z"
   },
   {
    "duration": 15,
    "start_time": "2022-11-19T20:25:20.338Z"
   },
   {
    "duration": 56,
    "start_time": "2022-11-19T20:25:20.354Z"
   },
   {
    "duration": 11,
    "start_time": "2022-11-19T20:25:20.413Z"
   },
   {
    "duration": 14,
    "start_time": "2022-11-19T20:25:20.426Z"
   },
   {
    "duration": 12,
    "start_time": "2022-11-19T20:25:20.442Z"
   },
   {
    "duration": 7,
    "start_time": "2022-11-19T20:25:20.456Z"
   },
   {
    "duration": 12,
    "start_time": "2022-11-19T20:25:20.464Z"
   },
   {
    "duration": 25,
    "start_time": "2022-11-19T20:25:20.477Z"
   },
   {
    "duration": 12,
    "start_time": "2022-11-19T20:25:20.503Z"
   },
   {
    "duration": 302,
    "start_time": "2022-11-19T20:25:20.516Z"
   },
   {
    "duration": 258,
    "start_time": "2022-11-19T20:25:20.820Z"
   },
   {
    "duration": 183,
    "start_time": "2022-11-19T20:25:21.079Z"
   },
   {
    "duration": 299,
    "start_time": "2022-11-19T20:25:21.263Z"
   },
   {
    "duration": 207,
    "start_time": "2022-11-19T20:25:21.563Z"
   },
   {
    "duration": 330,
    "start_time": "2022-11-19T20:25:21.771Z"
   },
   {
    "duration": 125,
    "start_time": "2022-11-19T20:25:22.103Z"
   },
   {
    "duration": 4,
    "start_time": "2022-11-19T20:25:22.230Z"
   },
   {
    "duration": 144,
    "start_time": "2022-11-19T20:25:22.236Z"
   },
   {
    "duration": 123,
    "start_time": "2022-11-19T20:25:22.382Z"
   },
   {
    "duration": 4,
    "start_time": "2022-11-19T20:25:22.506Z"
   },
   {
    "duration": 46,
    "start_time": "2022-11-19T20:25:22.513Z"
   },
   {
    "duration": 73,
    "start_time": "2022-11-19T20:25:22.561Z"
   },
   {
    "duration": 69,
    "start_time": "2022-11-19T20:25:22.635Z"
   },
   {
    "duration": 57,
    "start_time": "2022-11-19T20:25:22.705Z"
   },
   {
    "duration": 44,
    "start_time": "2022-11-19T20:25:22.764Z"
   },
   {
    "duration": 146,
    "start_time": "2022-11-19T20:25:22.810Z"
   },
   {
    "duration": 24,
    "start_time": "2022-11-19T20:25:22.958Z"
   },
   {
    "duration": 21,
    "start_time": "2022-11-19T20:25:22.984Z"
   },
   {
    "duration": 9,
    "start_time": "2022-11-19T20:25:23.006Z"
   },
   {
    "duration": 27,
    "start_time": "2022-11-19T20:25:23.017Z"
   },
   {
    "duration": 13,
    "start_time": "2022-11-19T20:25:23.046Z"
   },
   {
    "duration": 14,
    "start_time": "2022-11-19T20:47:04.796Z"
   },
   {
    "duration": 972,
    "start_time": "2022-11-19T20:47:10.431Z"
   },
   {
    "duration": 80,
    "start_time": "2022-11-19T20:47:11.404Z"
   },
   {
    "duration": 3,
    "start_time": "2022-11-19T20:47:11.486Z"
   },
   {
    "duration": 14,
    "start_time": "2022-11-19T20:47:11.491Z"
   },
   {
    "duration": 5,
    "start_time": "2022-11-19T20:47:11.506Z"
   },
   {
    "duration": 10,
    "start_time": "2022-11-19T20:47:11.513Z"
   },
   {
    "duration": 6,
    "start_time": "2022-11-19T20:47:11.524Z"
   },
   {
    "duration": 12,
    "start_time": "2022-11-19T20:47:11.532Z"
   },
   {
    "duration": 53,
    "start_time": "2022-11-19T20:47:11.546Z"
   },
   {
    "duration": 11,
    "start_time": "2022-11-19T20:47:11.601Z"
   },
   {
    "duration": 13,
    "start_time": "2022-11-19T20:47:11.614Z"
   },
   {
    "duration": 12,
    "start_time": "2022-11-19T20:47:11.628Z"
   },
   {
    "duration": 5,
    "start_time": "2022-11-19T20:47:11.641Z"
   },
   {
    "duration": 10,
    "start_time": "2022-11-19T20:47:11.648Z"
   },
   {
    "duration": 14,
    "start_time": "2022-11-19T20:47:11.659Z"
   },
   {
    "duration": 34,
    "start_time": "2022-11-19T20:47:11.675Z"
   },
   {
    "duration": 309,
    "start_time": "2022-11-19T20:47:11.710Z"
   },
   {
    "duration": 266,
    "start_time": "2022-11-19T20:47:12.020Z"
   },
   {
    "duration": 178,
    "start_time": "2022-11-19T20:47:12.288Z"
   },
   {
    "duration": 291,
    "start_time": "2022-11-19T20:47:12.468Z"
   },
   {
    "duration": 202,
    "start_time": "2022-11-19T20:47:12.761Z"
   },
   {
    "duration": 335,
    "start_time": "2022-11-19T20:47:12.965Z"
   },
   {
    "duration": 115,
    "start_time": "2022-11-19T20:47:13.301Z"
   },
   {
    "duration": 4,
    "start_time": "2022-11-19T20:47:13.418Z"
   },
   {
    "duration": 131,
    "start_time": "2022-11-19T20:47:13.423Z"
   },
   {
    "duration": 129,
    "start_time": "2022-11-19T20:47:13.556Z"
   },
   {
    "duration": 4,
    "start_time": "2022-11-19T20:47:13.687Z"
   },
   {
    "duration": 46,
    "start_time": "2022-11-19T20:47:13.695Z"
   },
   {
    "duration": 67,
    "start_time": "2022-11-19T20:47:13.743Z"
   },
   {
    "duration": 57,
    "start_time": "2022-11-19T20:47:13.811Z"
   },
   {
    "duration": 76,
    "start_time": "2022-11-19T20:47:13.870Z"
   },
   {
    "duration": 24,
    "start_time": "2022-11-19T20:47:13.948Z"
   },
   {
    "duration": 132,
    "start_time": "2022-11-19T20:47:13.974Z"
   },
   {
    "duration": 25,
    "start_time": "2022-11-19T20:47:14.108Z"
   },
   {
    "duration": 9,
    "start_time": "2022-11-19T20:47:14.135Z"
   },
   {
    "duration": 10,
    "start_time": "2022-11-19T20:47:14.146Z"
   },
   {
    "duration": 47,
    "start_time": "2022-11-19T20:47:14.157Z"
   },
   {
    "duration": 12,
    "start_time": "2022-11-19T20:47:14.206Z"
   },
   {
    "duration": 117,
    "start_time": "2022-11-19T20:47:45.932Z"
   },
   {
    "duration": 940,
    "start_time": "2022-11-19T20:49:10.060Z"
   },
   {
    "duration": 78,
    "start_time": "2022-11-19T20:49:11.002Z"
   },
   {
    "duration": 2,
    "start_time": "2022-11-19T20:49:11.082Z"
   },
   {
    "duration": 14,
    "start_time": "2022-11-19T20:49:11.085Z"
   },
   {
    "duration": 5,
    "start_time": "2022-11-19T20:49:11.101Z"
   },
   {
    "duration": 11,
    "start_time": "2022-11-19T20:49:11.108Z"
   },
   {
    "duration": 11,
    "start_time": "2022-11-19T20:49:11.120Z"
   },
   {
    "duration": 23,
    "start_time": "2022-11-19T20:49:11.132Z"
   },
   {
    "duration": 59,
    "start_time": "2022-11-19T20:49:11.157Z"
   },
   {
    "duration": 12,
    "start_time": "2022-11-19T20:49:11.217Z"
   },
   {
    "duration": 14,
    "start_time": "2022-11-19T20:49:11.231Z"
   },
   {
    "duration": 12,
    "start_time": "2022-11-19T20:49:11.247Z"
   },
   {
    "duration": 6,
    "start_time": "2022-11-19T20:49:11.260Z"
   },
   {
    "duration": 8,
    "start_time": "2022-11-19T20:49:11.269Z"
   },
   {
    "duration": 13,
    "start_time": "2022-11-19T20:49:11.278Z"
   },
   {
    "duration": 11,
    "start_time": "2022-11-19T20:49:11.295Z"
   },
   {
    "duration": 299,
    "start_time": "2022-11-19T20:49:11.307Z"
   },
   {
    "duration": 256,
    "start_time": "2022-11-19T20:49:11.608Z"
   },
   {
    "duration": 180,
    "start_time": "2022-11-19T20:49:11.865Z"
   },
   {
    "duration": 256,
    "start_time": "2022-11-19T20:49:12.047Z"
   },
   {
    "duration": 192,
    "start_time": "2022-11-19T20:49:12.304Z"
   },
   {
    "duration": 300,
    "start_time": "2022-11-19T20:49:12.498Z"
   },
   {
    "duration": 107,
    "start_time": "2022-11-19T20:49:12.800Z"
   },
   {
    "duration": 4,
    "start_time": "2022-11-19T20:49:12.909Z"
   },
   {
    "duration": 135,
    "start_time": "2022-11-19T20:49:12.914Z"
   },
   {
    "duration": 139,
    "start_time": "2022-11-19T20:49:13.050Z"
   },
   {
    "duration": 8,
    "start_time": "2022-11-19T20:49:13.190Z"
   },
   {
    "duration": 49,
    "start_time": "2022-11-19T20:49:13.199Z"
   },
   {
    "duration": 58,
    "start_time": "2022-11-19T20:49:13.249Z"
   },
   {
    "duration": 56,
    "start_time": "2022-11-19T20:49:13.309Z"
   },
   {
    "duration": 67,
    "start_time": "2022-11-19T20:49:13.367Z"
   },
   {
    "duration": 24,
    "start_time": "2022-11-19T20:49:13.435Z"
   },
   {
    "duration": 143,
    "start_time": "2022-11-19T20:49:13.460Z"
   },
   {
    "duration": 24,
    "start_time": "2022-11-19T20:49:13.605Z"
   },
   {
    "duration": 11,
    "start_time": "2022-11-19T20:49:13.630Z"
   },
   {
    "duration": 9,
    "start_time": "2022-11-19T20:49:13.643Z"
   },
   {
    "duration": 49,
    "start_time": "2022-11-19T20:49:13.653Z"
   },
   {
    "duration": 14,
    "start_time": "2022-11-19T20:49:13.704Z"
   },
   {
    "duration": 1348,
    "start_time": "2022-11-20T22:44:28.625Z"
   },
   {
    "duration": 139,
    "start_time": "2022-11-20T22:44:29.975Z"
   },
   {
    "duration": 4,
    "start_time": "2022-11-20T22:44:30.116Z"
   },
   {
    "duration": 35,
    "start_time": "2022-11-20T22:44:30.122Z"
   },
   {
    "duration": 8,
    "start_time": "2022-11-20T22:44:30.158Z"
   },
   {
    "duration": 21,
    "start_time": "2022-11-20T22:44:30.168Z"
   },
   {
    "duration": 16,
    "start_time": "2022-11-20T22:44:30.191Z"
   },
   {
    "duration": 19,
    "start_time": "2022-11-20T22:44:30.209Z"
   },
   {
    "duration": 144,
    "start_time": "2022-11-20T22:44:30.230Z"
   },
   {
    "duration": 16,
    "start_time": "2022-11-20T22:44:30.377Z"
   },
   {
    "duration": 41,
    "start_time": "2022-11-20T22:44:30.395Z"
   },
   {
    "duration": 25,
    "start_time": "2022-11-20T22:44:30.438Z"
   },
   {
    "duration": 31,
    "start_time": "2022-11-20T22:44:30.465Z"
   },
   {
    "duration": 37,
    "start_time": "2022-11-20T22:44:30.498Z"
   },
   {
    "duration": 39,
    "start_time": "2022-11-20T22:44:30.537Z"
   },
   {
    "duration": 37,
    "start_time": "2022-11-20T22:44:30.578Z"
   },
   {
    "duration": 376,
    "start_time": "2022-11-20T22:44:30.616Z"
   },
   {
    "duration": 286,
    "start_time": "2022-11-20T22:44:30.994Z"
   },
   {
    "duration": 187,
    "start_time": "2022-11-20T22:44:31.282Z"
   },
   {
    "duration": 307,
    "start_time": "2022-11-20T22:44:31.471Z"
   },
   {
    "duration": 218,
    "start_time": "2022-11-20T22:44:31.780Z"
   },
   {
    "duration": 344,
    "start_time": "2022-11-20T22:44:32.000Z"
   },
   {
    "duration": 128,
    "start_time": "2022-11-20T22:44:32.346Z"
   },
   {
    "duration": 5,
    "start_time": "2022-11-20T22:44:32.476Z"
   },
   {
    "duration": 142,
    "start_time": "2022-11-20T22:44:32.482Z"
   },
   {
    "duration": 152,
    "start_time": "2022-11-20T22:44:32.626Z"
   },
   {
    "duration": 4,
    "start_time": "2022-11-20T22:44:32.780Z"
   },
   {
    "duration": 64,
    "start_time": "2022-11-20T22:44:32.787Z"
   },
   {
    "duration": 48,
    "start_time": "2022-11-20T22:44:32.853Z"
   },
   {
    "duration": 80,
    "start_time": "2022-11-20T22:44:32.903Z"
   },
   {
    "duration": 56,
    "start_time": "2022-11-20T22:44:32.985Z"
   },
   {
    "duration": 27,
    "start_time": "2022-11-20T22:44:33.050Z"
   },
   {
    "duration": 179,
    "start_time": "2022-11-20T22:44:33.079Z"
   },
   {
    "duration": 30,
    "start_time": "2022-11-20T22:44:33.260Z"
   },
   {
    "duration": 12,
    "start_time": "2022-11-20T22:44:33.291Z"
   },
   {
    "duration": 13,
    "start_time": "2022-11-20T22:44:33.305Z"
   },
   {
    "duration": 52,
    "start_time": "2022-11-20T22:44:33.319Z"
   },
   {
    "duration": 14,
    "start_time": "2022-11-20T22:44:33.373Z"
   },
   {
    "duration": 179,
    "start_time": "2022-11-20T22:44:52.713Z"
   },
   {
    "duration": 277,
    "start_time": "2022-11-20T22:45:18.473Z"
   },
   {
    "duration": 3,
    "start_time": "2022-11-20T23:05:33.709Z"
   },
   {
    "duration": 3,
    "start_time": "2022-11-20T23:07:02.127Z"
   },
   {
    "duration": 26,
    "start_time": "2022-11-20T23:07:03.535Z"
   },
   {
    "duration": 2,
    "start_time": "2022-11-20T23:07:04.374Z"
   },
   {
    "duration": 9,
    "start_time": "2022-11-20T23:07:05.287Z"
   },
   {
    "duration": 5,
    "start_time": "2022-11-20T23:07:07.304Z"
   },
   {
    "duration": 12,
    "start_time": "2022-11-20T23:07:08.663Z"
   },
   {
    "duration": 12,
    "start_time": "2022-11-20T23:07:25.313Z"
   },
   {
    "duration": 12,
    "start_time": "2022-11-20T23:07:37.696Z"
   },
   {
    "duration": 4,
    "start_time": "2022-11-20T23:07:47.031Z"
   },
   {
    "duration": 10,
    "start_time": "2022-11-20T23:07:54.465Z"
   },
   {
    "duration": 12,
    "start_time": "2022-11-20T23:08:15.520Z"
   },
   {
    "duration": 13,
    "start_time": "2022-11-20T23:08:19.705Z"
   },
   {
    "duration": 4,
    "start_time": "2022-11-20T23:08:23.113Z"
   },
   {
    "duration": 11,
    "start_time": "2022-11-20T23:08:25.072Z"
   },
   {
    "duration": 6,
    "start_time": "2022-11-20T23:08:49.784Z"
   },
   {
    "duration": 14,
    "start_time": "2022-11-20T23:08:50.552Z"
   },
   {
    "duration": 6,
    "start_time": "2022-11-20T23:15:33.388Z"
   },
   {
    "duration": 4,
    "start_time": "2022-11-20T23:15:42.141Z"
   }
  ],
  "kernelspec": {
   "display_name": "Python 3 (ipykernel)",
   "language": "python",
   "name": "python3"
  },
  "language_info": {
   "codemirror_mode": {
    "name": "ipython",
    "version": 3
   },
   "file_extension": ".py",
   "mimetype": "text/x-python",
   "name": "python",
   "nbconvert_exporter": "python",
   "pygments_lexer": "ipython3",
   "version": "3.9.13"
  },
  "toc": {
   "base_numbering": 1,
   "nav_menu": {},
   "number_sections": true,
   "sideBar": true,
   "skip_h1_title": true,
   "title_cell": "Table of Contents",
   "title_sidebar": "Contents",
   "toc_cell": false,
   "toc_position": {
    "height": "calc(100% - 180px)",
    "left": "10px",
    "top": "150px",
    "width": "408.889px"
   },
   "toc_section_display": true,
   "toc_window_display": true
  }
 },
 "nbformat": 4,
 "nbformat_minor": 2
}
